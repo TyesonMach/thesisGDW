{
 "cells": [
  {
   "cell_type": "code",
   "execution_count": 1,
   "metadata": {},
   "outputs": [
    {
     "name": "stdout",
     "output_type": "stream",
     "text": [
      ":: loading settings :: url = jar:file:/usr/local/spark/jars/ivy-2.5.0.jar!/org/apache/ivy/core/settings/ivysettings.xml\n"
     ]
    },
    {
     "name": "stderr",
     "output_type": "stream",
     "text": [
      "Ivy Default Cache set to: /home/worker2/.ivy2/cache\n",
      "The jars for the packages stored in: /home/worker2/.ivy2/jars\n",
      "com.microsoft.sqlserver#mssql-jdbc added as a dependency\n",
      ":: resolving dependencies :: org.apache.spark#spark-submit-parent-e428b0d6-a60f-41f6-a75d-9e02bc1806c6;1.0\n",
      "\tconfs: [default]\n",
      "\tfound com.microsoft.sqlserver#mssql-jdbc;9.4.0.jre8 in central\n",
      ":: resolution report :: resolve 363ms :: artifacts dl 14ms\n",
      "\t:: modules in use:\n",
      "\tcom.microsoft.sqlserver#mssql-jdbc;9.4.0.jre8 from central in [default]\n",
      "\t---------------------------------------------------------------------\n",
      "\t|                  |            modules            ||   artifacts   |\n",
      "\t|       conf       | number| search|dwnlded|evicted|| number|dwnlded|\n",
      "\t---------------------------------------------------------------------\n",
      "\t|      default     |   1   |   0   |   0   |   0   ||   1   |   0   |\n",
      "\t---------------------------------------------------------------------\n",
      ":: retrieving :: org.apache.spark#spark-submit-parent-e428b0d6-a60f-41f6-a75d-9e02bc1806c6\n",
      "\tconfs: [default]\n",
      "\t0 artifacts copied, 1 already retrieved (0kB/15ms)\n"
     ]
    },
    {
     "name": "stdout",
     "output_type": "stream",
     "text": [
      "[ WARN] Unable to load native-hadoop library for your platform... using builtin-java classes where applicable\n",
      "[ WARN] Service 'SparkUI' could not bind on port 4040. Attempting port 4041.\n",
      "[ WARN] Service 'SparkUI' could not bind on port 4041. Attempting port 4042.\n"
     ]
    }
   ],
   "source": [
    "from pyspark.sql import SparkSession\n",
    "spark = SparkSession.builder \\\n",
    "    .appName(\"Spark NLP\")\\\n",
    "    .master(\"local[*]\")\\\n",
    "    .config(\"spark.driver.memory\",\"12g\") \\\n",
    "    .config(\"spark.serializer\", \"org.apache.spark.serializer.KryoSerializer\") \\\n",
    "    .config(\"spark.driver.maxResultSize\", \"0\") \\\n",
    "    .config(\"spark.kryoserializer.buffer.max\", \"2000M\")\\\n",
    "    .config(\"spark.jars.packages\", \"com.microsoft.sqlserver:mssql-jdbc:9.4.0.jre8\") \\\n",
    "    .getOrCreate()"
   ]
  },
  {
   "cell_type": "code",
   "execution_count": 2,
   "metadata": {},
   "outputs": [],
   "source": [
    "CONNECTOR_TYPE='com.microsoft.sqlserver.jdbc.SQLServerDriver'\n",
    "SQL_USERNAME='tyeson'\n",
    "SQL_PASSWORD='Canhtoan1509'\n",
    "SQL_SERVERNAME='tyeson.database.windows.net'\n",
    "SQL_DBNAME='DW'\n",
    "CONNECTION_STRING_SOURCE='jdbc:sqlserver://tyeson.database.windows.net:1433;databaseName=DW;'\n",
    "CONNECTION_STRING_TARGET='jdbc:sqlserver://tyeson.database.windows.net:1433;databaseName=DM_COURSE_COURSE;'"
   ]
  },
  {
   "cell_type": "code",
   "execution_count": 5,
   "metadata": {},
   "outputs": [],
   "source": [
    "fact_course = spark.read.format('jdbc')\\\n",
    "    .option(\"url\", CONNECTION_STRING_SOURCE)\\\n",
    "    .option('driver',CONNECTOR_TYPE) \\\n",
    "    .option('dbtable','fact_course')\\\n",
    "    .option(\"user\", SQL_USERNAME)\\\n",
    "    .option('password', SQL_PASSWORD)\\\n",
    "    .load()"
   ]
  },
  {
   "cell_type": "code",
   "execution_count": 6,
   "metadata": {},
   "outputs": [],
   "source": [
    "dim_competency = spark.read.format('jdbc')\\\n",
    "    .option(\"url\", CONNECTION_STRING_SOURCE)\\\n",
    "    .option('driver',CONNECTOR_TYPE) \\\n",
    "    .option('dbtable','dim_competency')\\\n",
    "    .option(\"user\", SQL_USERNAME)\\\n",
    "    .option('password', SQL_PASSWORD)\\\n",
    "    .load()"
   ]
  },
  {
   "cell_type": "code",
   "execution_count": 26,
   "metadata": {},
   "outputs": [],
   "source": [
    "from pyspark.sql.functions import col\n",
    "\n",
    "# Alias the fact_course dataframe for the self-join\n",
    "fc_source = fact_course.select('courseKey', col('competencyId').alias('requiredId'), 'is_require')\n",
    "\n",
    "# Join the fact_course and dim_competency dataframes to get the name of the required competency\n",
    "fc_required = fc_source.join(dim_competency, fc_source.requiredId == dim_competency.competencyId) \\\n",
    "                     .where(col('is_require') == 1) \\\n",
    "                     .select(col('courseKey').alias('course_source_key'), \n",
    "                             col('competencyName').alias('course_require_competency'))"
   ]
  },
  {
   "cell_type": "code",
   "execution_count": 19,
   "metadata": {},
   "outputs": [],
   "source": [
    "fc_teach = fact_course.alias('fc_teach') "
   ]
  },
  {
   "cell_type": "code",
   "execution_count": 30,
   "metadata": {},
   "outputs": [],
   "source": [
    "# Join the fact_course and dim_competency dataframes again to get the name of the competency taught by the course\n",
    "fc_teach = fact_course.select('courseKey', col('competencyId').alias('teachId'), 'is_require')\n",
    "fc_teach = fc_teach.join(dim_competency, fc_teach.teachId == dim_competency.competencyId, 'inner') \\\n",
    "                     .where(col('is_require') == 0) \\\n",
    "                     .select(col('courseKey').alias('course_key'), \n",
    "                             col('competencyName').alias('course_teach_competency'), \n",
    "                             col('competencyId'))"
   ]
  },
  {
   "cell_type": "code",
   "execution_count": 37,
   "metadata": {},
   "outputs": [],
   "source": [
    "# Join the two dataframes on the competencyId to get the final result\n",
    "result = fc_required.join(fc_teach, col('course_require_competency') == col('course_teach_competency')).select('*')"
   ]
  },
  {
   "cell_type": "code",
   "execution_count": 39,
   "metadata": {},
   "outputs": [],
   "source": [
    "result= result.select('course_source_key', col('course_key').alias('course_target_id')).orderBy('course_source_key')"
   ]
  },
  {
   "cell_type": "code",
   "execution_count": 47,
   "metadata": {},
   "outputs": [
    {
     "name": "stderr",
     "output_type": "stream",
     "text": [
      "                                                                                \r"
     ]
    }
   ],
   "source": [
    "result.write.format('jdbc')\\\n",
    "    .mode(\"Append\")\\\n",
    "    .option(\"url\", CONNECTION_STRING_TARGET)\\\n",
    "    .option('driver',CONNECTOR_TYPE) \\\n",
    "    .option('dbtable','course_to_course')\\\n",
    "    .option(\"user\", SQL_USERNAME)\\\n",
    "    .option('password', SQL_PASSWORD)\\\n",
    "    .save()"
   ]
  }
 ],
 "metadata": {
  "kernelspec": {
   "display_name": "Python 3",
   "language": "python",
   "name": "python3"
  },
  "language_info": {
   "codemirror_mode": {
    "name": "ipython",
    "version": 3
   },
   "file_extension": ".py",
   "mimetype": "text/x-python",
   "name": "python",
   "nbconvert_exporter": "python",
   "pygments_lexer": "ipython3",
   "version": "3.8.10"
  },
  "orig_nbformat": 4,
  "vscode": {
   "interpreter": {
    "hash": "916dbcbb3f70747c44a77c7bcd40155683ae19c65e1c03b4aa3499c5328201f1"
   }
  }
 },
 "nbformat": 4,
 "nbformat_minor": 2
}
