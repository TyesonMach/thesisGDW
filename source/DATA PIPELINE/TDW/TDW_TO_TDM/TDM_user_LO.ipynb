{
 "cells": [
  {
   "cell_type": "code",
   "execution_count": 1,
   "metadata": {},
   "outputs": [
    {
     "name": "stdout",
     "output_type": "stream",
     "text": [
      ":: loading settings :: url = jar:file:/usr/local/spark/jars/ivy-2.5.0.jar!/org/apache/ivy/core/settings/ivysettings.xml\n"
     ]
    },
    {
     "name": "stderr",
     "output_type": "stream",
     "text": [
      "Ivy Default Cache set to: /home/worker2/.ivy2/cache\n",
      "The jars for the packages stored in: /home/worker2/.ivy2/jars\n",
      "com.microsoft.sqlserver#mssql-jdbc added as a dependency\n",
      ":: resolving dependencies :: org.apache.spark#spark-submit-parent-a2870d1a-feae-4b86-aa4b-f3698069f78e;1.0\n",
      "\tconfs: [default]\n",
      "\tfound com.microsoft.sqlserver#mssql-jdbc;9.4.0.jre8 in central\n",
      ":: resolution report :: resolve 292ms :: artifacts dl 5ms\n",
      "\t:: modules in use:\n",
      "\tcom.microsoft.sqlserver#mssql-jdbc;9.4.0.jre8 from central in [default]\n",
      "\t---------------------------------------------------------------------\n",
      "\t|                  |            modules            ||   artifacts   |\n",
      "\t|       conf       | number| search|dwnlded|evicted|| number|dwnlded|\n",
      "\t---------------------------------------------------------------------\n",
      "\t|      default     |   1   |   0   |   0   |   0   ||   1   |   0   |\n",
      "\t---------------------------------------------------------------------\n",
      ":: retrieving :: org.apache.spark#spark-submit-parent-a2870d1a-feae-4b86-aa4b-f3698069f78e\n",
      "\tconfs: [default]\n",
      "\t0 artifacts copied, 1 already retrieved (0kB/11ms)\n"
     ]
    },
    {
     "name": "stdout",
     "output_type": "stream",
     "text": [
      "[ WARN] Unable to load native-hadoop library for your platform... using builtin-java classes where applicable\n",
      "[ WARN] Service 'SparkUI' could not bind on port 4040. Attempting port 4041.\n"
     ]
    }
   ],
   "source": [
    "from pyspark.sql import SparkSession\n",
    "spark = SparkSession.builder \\\n",
    "    .appName(\"Spark NLP\")\\\n",
    "    .master(\"local[*]\")\\\n",
    "    .config(\"spark.driver.memory\",\"12g\") \\\n",
    "    .config(\"spark.serializer\", \"org.apache.spark.serializer.KryoSerializer\") \\\n",
    "    .config(\"spark.driver.maxResultSize\", \"0\") \\\n",
    "    .config(\"spark.kryoserializer.buffer.max\", \"2000M\")\\\n",
    "    .config(\"spark.jars.packages\", \"com.microsoft.sqlserver:mssql-jdbc:9.4.0.jre8\") \\\n",
    "    .getOrCreate()"
   ]
  },
  {
   "cell_type": "code",
   "execution_count": 2,
   "metadata": {},
   "outputs": [],
   "source": [
    "CONNECTOR_TYPE='com.microsoft.sqlserver.jdbc.SQLServerDriver'\n",
    "SQL_USERNAME='tyeson'\n",
    "SQL_PASSWORD='Canhtoan1509'\n",
    "SQL_SERVERNAME='tyeson.database.windows.net'\n",
    "SQL_DBNAME='DW'\n",
    "CONNECTION_STRING_SOURCE='jdbc:sqlserver://tyeson.database.windows.net:1433;databaseName=DW;'\n",
    "CONNECTION_STRING_TARGET='jdbc:sqlserver://tyeson.database.windows.net:1433;databaseName=DM_USER_LO;'"
   ]
  },
  {
   "cell_type": "code",
   "execution_count": 3,
   "metadata": {},
   "outputs": [],
   "source": [
    "user = spark.read.format('jdbc')\\\n",
    "    .option(\"url\", CONNECTION_STRING_SOURCE)\\\n",
    "    .option('driver',CONNECTOR_TYPE) \\\n",
    "    .option('dbtable','dim_user')\\\n",
    "    .option(\"user\", SQL_USERNAME)\\\n",
    "    .option('password', SQL_PASSWORD)\\\n",
    "    .load()"
   ]
  },
  {
   "cell_type": "code",
   "execution_count": 4,
   "metadata": {},
   "outputs": [
    {
     "name": "stderr",
     "output_type": "stream",
     "text": [
      "                                                                                \r"
     ]
    }
   ],
   "source": [
    "user.write.format('jdbc')\\\n",
    "    .mode(\"Append\")\\\n",
    "    .option(\"url\", CONNECTION_STRING_TARGET)\\\n",
    "    .option('driver',CONNECTOR_TYPE) \\\n",
    "    .option('dbtable','dim_user')\\\n",
    "    .option(\"user\", SQL_USERNAME)\\\n",
    "    .option('password', SQL_PASSWORD)\\\n",
    "    .save()"
   ]
  },
  {
   "cell_type": "code",
   "execution_count": 5,
   "metadata": {},
   "outputs": [],
   "source": [
    "competency = spark.read.format('jdbc')\\\n",
    "    .option(\"url\", CONNECTION_STRING_SOURCE)\\\n",
    "    .option('driver',CONNECTOR_TYPE) \\\n",
    "    .option('dbtable','dim_competency')\\\n",
    "    .option(\"user\", SQL_USERNAME)\\\n",
    "    .option('password', SQL_PASSWORD)\\\n",
    "    .load()"
   ]
  },
  {
   "cell_type": "code",
   "execution_count": 6,
   "metadata": {},
   "outputs": [
    {
     "name": "stderr",
     "output_type": "stream",
     "text": [
      "                                                                                \r"
     ]
    }
   ],
   "source": [
    "competency.write.format('jdbc')\\\n",
    "    .mode(\"Append\")\\\n",
    "    .option(\"url\", CONNECTION_STRING_TARGET)\\\n",
    "    .option('driver',CONNECTOR_TYPE) \\\n",
    "    .option('dbtable','dim_competency')\\\n",
    "    .option(\"user\", SQL_USERNAME)\\\n",
    "    .option('password', SQL_PASSWORD)\\\n",
    "    .save()"
   ]
  },
  {
   "cell_type": "code",
   "execution_count": 7,
   "metadata": {},
   "outputs": [],
   "source": [
    "fact_user = spark.read.format('jdbc')\\\n",
    "    .option(\"url\", CONNECTION_STRING_SOURCE)\\\n",
    "    .option('driver',CONNECTOR_TYPE) \\\n",
    "    .option('dbtable','fact_user')\\\n",
    "    .option(\"user\", SQL_USERNAME)\\\n",
    "    .option('password', SQL_PASSWORD)\\\n",
    "    .load()"
   ]
  },
  {
   "cell_type": "code",
   "execution_count": 8,
   "metadata": {},
   "outputs": [
    {
     "name": "stderr",
     "output_type": "stream",
     "text": [
      "                                                                                \r"
     ]
    }
   ],
   "source": [
    "fact_user.write.format('jdbc')\\\n",
    "    .mode(\"Append\")\\\n",
    "    .option(\"url\", CONNECTION_STRING_TARGET)\\\n",
    "    .option('driver',CONNECTOR_TYPE) \\\n",
    "    .option('dbtable','fact_user')\\\n",
    "    .option(\"user\", SQL_USERNAME)\\\n",
    "    .option('password', SQL_PASSWORD)\\\n",
    "    .save()"
   ]
  }
 ],
 "metadata": {
  "kernelspec": {
   "display_name": "Python 3",
   "language": "python",
   "name": "python3"
  },
  "language_info": {
   "codemirror_mode": {
    "name": "ipython",
    "version": 3
   },
   "file_extension": ".py",
   "mimetype": "text/x-python",
   "name": "python",
   "nbconvert_exporter": "python",
   "pygments_lexer": "ipython3",
   "version": "3.8.10"
  },
  "orig_nbformat": 4,
  "vscode": {
   "interpreter": {
    "hash": "916dbcbb3f70747c44a77c7bcd40155683ae19c65e1c03b4aa3499c5328201f1"
   }
  }
 },
 "nbformat": 4,
 "nbformat_minor": 2
}
