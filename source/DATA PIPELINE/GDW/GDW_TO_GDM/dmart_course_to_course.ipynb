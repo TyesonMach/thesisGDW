{
 "cells": [
  {
   "cell_type": "code",
   "execution_count": 10,
   "metadata": {},
   "outputs": [],
   "source": [
    "from pyspark.sql import SparkSession\n",
    "spark = SparkSession.builder \\\n",
    "    .appName(\"Spark NLP\")\\\n",
    "    .master(\"local[*]\")\\\n",
    "    .config(\"spark.driver.memory\",\"8g\") \\\n",
    "    .config(\"spark.serializer\", \"org.apache.spark.serializer.KryoSerializer\") \\\n",
    "    .config(\"spark.driver.maxResultSize\", \"0\") \\\n",
    "    .config(\"spark.kryoserializer.buffer.max\", \"2000M\")\\\n",
    "    .getOrCreate()"
   ]
  },
  {
   "cell_type": "code",
   "execution_count": 11,
   "metadata": {},
   "outputs": [],
   "source": [
    "import time\n",
    "\n",
    "# get the start time\n",
    "st = time.time()\n",
    "\n",
    "surl = 'neo4j://localhost:7692'\n",
    "spassword = 'password'\n",
    "turl='neo4j+s://f16978a0.databases.neo4j.io'\n",
    "tpassword = 'oVt8aMnDVH52GXYMTUrm81vkx2xjphHW62F4ArtNXLI'"
   ]
  },
  {
   "cell_type": "code",
   "execution_count": 12,
   "metadata": {},
   "outputs": [],
   "source": [
    "df = spark.read.format(\"org.neo4j.spark.DataSource\") \\\n",
    "  .option(\"url\", surl)\\\n",
    "  .option(\"authentication.type\", \"basic\")\\\n",
    "  .option(\"authentication.basic.username\", \"neo4j\")\\\n",
    "  .option(\"authentication.basic.password\", spassword)\\\n",
    "  .option(\"query\", \"match (c:Course) return c.id as id\") \\\n",
    "  .load()"
   ]
  },
  {
   "cell_type": "code",
   "execution_count": 13,
   "metadata": {},
   "outputs": [
    {
     "name": "stderr",
     "output_type": "stream",
     "text": [
      "                                                                                \r"
     ]
    }
   ],
   "source": [
    "df.write.format(\"org.neo4j.spark.DataSource\")\\\n",
    "    .mode(\"Overwrite\")\\\n",
    "  .option(\"url\", turl)\\\n",
    "  .option(\"authentication.type\", \"basic\")\\\n",
    "  .option(\"authentication.basic.username\", \"neo4j\")\\\n",
    "  .option(\"authentication.basic.password\", tpassword)\\\n",
    "    .option(\"node.keys\", \"id\")\\\n",
    "    .option(\"labels\",\":Course\")\\\n",
    "    .save()"
   ]
  },
  {
   "cell_type": "code",
   "execution_count": 14,
   "metadata": {},
   "outputs": [],
   "source": [
    "df = spark.read.format(\"org.neo4j.spark.DataSource\") \\\n",
    "  .option(\"url\", surl)\\\n",
    "  .option(\"authentication.type\", \"basic\")\\\n",
    "  .option(\"authentication.basic.username\", \"neo4j\")\\\n",
    "  .option(\"authentication.basic.password\", spassword)\\\n",
    "  .option(\"query\", \"match (c1:Course)-[r1:REQUIRE_PL|REQUIRE_TOOL|REQUIRE_FRAM|REQUIRE_PLAT|REQUIRE_KNOW]->(d:Competency)<-[r2:TEACH_PL|REQUIRE_TOOL|REQUIRE_FRAM|REQUIRE_PLAT|REQUIRE_KNOW]-(c2:Course) WHERE id(c1) < id(c2) return c1.id as sourceid, c2.id as targetid\") \\\n",
    "  .load()"
   ]
  },
  {
   "cell_type": "code",
   "execution_count": 15,
   "metadata": {},
   "outputs": [
    {
     "name": "stderr",
     "output_type": "stream",
     "text": [
      "                                                                                \r"
     ]
    }
   ],
   "source": [
    "df.write.format(\"org.neo4j.spark.DataSource\")\\\n",
    "    .mode(\"Overwrite\")\\\n",
    "  .option(\"url\", turl)\\\n",
    "  .option(\"authentication.type\", \"basic\")\\\n",
    "  .option(\"authentication.basic.username\", \"neo4j\")\\\n",
    "  .option(\"authentication.basic.password\", tpassword)\\\n",
    "    .option(\"relationship\", 'TO')\\\n",
    "    .option('relationship.save.strategy','keys')\\\n",
    "    .option('relationship.source.labels',':Course')\\\n",
    "    .option('relationship.source.node.keys','sourceid:id')\\\n",
    "    .option('relationship.source.save.mode','Match')\\\n",
    "    .option('relationship.target.labels',':Course')\\\n",
    "    .option('relationship.target.node.keys','targetid:id')\\\n",
    "    .option('relationship.target.save.mode','Match')\\\n",
    "    .save()"
   ]
  },
  {
   "cell_type": "code",
   "execution_count": 16,
   "metadata": {},
   "outputs": [
    {
     "name": "stdout",
     "output_type": "stream",
     "text": [
      "Execution time: 10.617608308792114 seconds\n"
     ]
    }
   ],
   "source": [
    "et = time.time()\n",
    "elapsed_time = et - st\n",
    "print('Execution time:', elapsed_time, 'seconds')"
   ]
  },
  {
   "cell_type": "code",
   "execution_count": 17,
   "metadata": {},
   "outputs": [],
   "source": [
    "spark.stop()"
   ]
  }
 ],
 "metadata": {
  "kernelspec": {
   "display_name": "Python 3",
   "language": "python",
   "name": "python3"
  },
  "language_info": {
   "codemirror_mode": {
    "name": "ipython",
    "version": 3
   },
   "file_extension": ".py",
   "mimetype": "text/x-python",
   "name": "python",
   "nbconvert_exporter": "python",
   "pygments_lexer": "ipython3",
   "version": "3.8.10"
  },
  "orig_nbformat": 4,
  "vscode": {
   "interpreter": {
    "hash": "916dbcbb3f70747c44a77c7bcd40155683ae19c65e1c03b4aa3499c5328201f1"
   }
  }
 },
 "nbformat": 4,
 "nbformat_minor": 2
}
