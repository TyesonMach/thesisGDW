{
 "cells": [
  {
   "cell_type": "code",
   "execution_count": 1,
   "metadata": {},
   "outputs": [
    {
     "name": "stdout",
     "output_type": "stream",
     "text": [
      "[ WARN] Unable to load native-hadoop library for your platform... using builtin-java classes where applicable\n",
      "[ WARN] Service 'SparkUI' could not bind on port 4040. Attempting port 4041.\n"
     ]
    }
   ],
   "source": [
    "from pyspark.sql import SparkSession\n",
    "spark = SparkSession.builder \\\n",
    "    .appName(\"Spark NLP\")\\\n",
    "    .master(\"local[*]\")\\\n",
    "    .config(\"spark.driver.memory\",\"8g\") \\\n",
    "    .config(\"spark.serializer\", \"org.apache.spark.serializer.KryoSerializer\") \\\n",
    "    .config(\"spark.driver.maxResultSize\", \"0\") \\\n",
    "    .config(\"spark.kryoserializer.buffer.max\", \"2000M\")\\\n",
    "    .getOrCreate()"
   ]
  },
  {
   "cell_type": "code",
   "execution_count": 2,
   "metadata": {},
   "outputs": [],
   "source": [
    "import time\n",
    "\n",
    "# get the start time\n",
    "st = time.time()\n",
    "\n",
    "surl = 'neo4j://localhost:7692'\n",
    "spassword = 'password'\n",
    "turl='neo4j+s://5b2c1911.databases.neo4j.io'\n",
    "tpassword = 'yQF9RToGeogn06ONl4k9mEppEAHHmipmtX0Qk9x-UVQ'"
   ]
  },
  {
   "cell_type": "code",
   "execution_count": 3,
   "metadata": {},
   "outputs": [],
   "source": [
    "df = spark.read.format(\"org.neo4j.spark.DataSource\") \\\n",
    "  .option(\"url\", surl)\\\n",
    "  .option(\"authentication.type\", \"basic\")\\\n",
    "  .option(\"authentication.basic.username\", \"neo4j\")\\\n",
    "  .option(\"authentication.basic.password\", spassword)\\\n",
    "  .option(\"query\", \"match (c:Career)<-[r]-(j:JobPosting) return c.name as name, j.id as jobid\") \\\n",
    "  .load()"
   ]
  },
  {
   "cell_type": "code",
   "execution_count": 4,
   "metadata": {},
   "outputs": [],
   "source": [
    "career = df.select('name').groupBy(df.name).count()"
   ]
  },
  {
   "cell_type": "code",
   "execution_count": 5,
   "metadata": {},
   "outputs": [],
   "source": [
    "import pyspark.sql.functions as f\n",
    "career = career.select(f.col('name'), f.col('count').alias('numpost'))"
   ]
  },
  {
   "cell_type": "code",
   "execution_count": 6,
   "metadata": {},
   "outputs": [],
   "source": [
    "career = career.withColumn(\"timestamp\", f.current_timestamp()).alias(\"timestamp\")"
   ]
  },
  {
   "cell_type": "code",
   "execution_count": 7,
   "metadata": {},
   "outputs": [
    {
     "name": "stderr",
     "output_type": "stream",
     "text": [
      "                                                                                \r"
     ]
    }
   ],
   "source": [
    "career.write.format(\"org.neo4j.spark.DataSource\")\\\n",
    "    .mode(\"Overwrite\")\\\n",
    "  .option(\"url\", turl)\\\n",
    "  .option(\"authentication.type\", \"basic\")\\\n",
    "  .option(\"authentication.basic.username\", \"neo4j\")\\\n",
    "  .option(\"authentication.basic.password\", tpassword)\\\n",
    "    .option(\"node.keys\", \"name\")\\\n",
    "    .option(\"labels\",\":Career\")\\\n",
    "    .save()"
   ]
  },
  {
   "cell_type": "code",
   "execution_count": 8,
   "metadata": {},
   "outputs": [],
   "source": [
    "df = spark.read.format(\"org.neo4j.spark.DataSource\") \\\n",
    "  .option(\"url\", surl)\\\n",
    "  .option(\"authentication.type\", \"basic\")\\\n",
    "  .option(\"authentication.basic.username\", \"neo4j\")\\\n",
    "  .option(\"authentication.basic.password\", spassword)\\\n",
    "  .option(\"query\", \"match (c:Career)<-[r1]-(j:JobPosting)-[r2]->(pl:ProgrammingLanguage) return c.name as careername, pl.name as name \") \\\n",
    "  .load()"
   ]
  },
  {
   "cell_type": "code",
   "execution_count": 9,
   "metadata": {},
   "outputs": [
    {
     "name": "stderr",
     "output_type": "stream",
     "text": [
      "                                                                                \r"
     ]
    }
   ],
   "source": [
    "pl = df.dropDuplicates([\"name\"]).select(df.name)\n",
    "pl.write.format(\"org.neo4j.spark.DataSource\")\\\n",
    "    .mode(\"Overwrite\")\\\n",
    "  .option(\"url\", turl)\\\n",
    "  .option(\"authentication.type\", \"basic\")\\\n",
    "  .option(\"authentication.basic.username\", \"neo4j\")\\\n",
    "  .option(\"authentication.basic.password\", tpassword)\\\n",
    "    .option(\"node.keys\", \"name\")\\\n",
    "    .option(\"labels\",\":ProgrammingLanguage\")\\\n",
    "    .save()"
   ]
  },
  {
   "cell_type": "code",
   "execution_count": 10,
   "metadata": {},
   "outputs": [],
   "source": [
    "career_pl = df.dropDuplicates(['careername','name'])"
   ]
  },
  {
   "cell_type": "code",
   "execution_count": 11,
   "metadata": {},
   "outputs": [],
   "source": [
    "career_pl = df.groupBy('careername','name').count()"
   ]
  },
  {
   "cell_type": "code",
   "execution_count": 12,
   "metadata": {},
   "outputs": [],
   "source": [
    "career_pl = career_pl.select(f.col('careername'), f.col('name'), f.col('count').alias('numPl'))"
   ]
  },
  {
   "cell_type": "code",
   "execution_count": 13,
   "metadata": {},
   "outputs": [
    {
     "name": "stderr",
     "output_type": "stream",
     "text": [
      "                                                                                \r"
     ]
    }
   ],
   "source": [
    "career_pl.write.format(\"org.neo4j.spark.DataSource\")\\\n",
    "    .mode(\"Overwrite\")\\\n",
    "  .option(\"url\", turl)\\\n",
    "  .option(\"authentication.type\", \"basic\")\\\n",
    "  .option(\"authentication.basic.username\", \"neo4j\")\\\n",
    "  .option(\"authentication.basic.password\", tpassword)\\\n",
    "    .option(\"relationship\", 'NEED_PL')\\\n",
    "    .option(\"relationship.properties\",'numPl') \\\n",
    "    .option('relationship.save.strategy','keys')\\\n",
    "    .option('relationship.source.labels',':Career')\\\n",
    "    .option('relationship.source.node.keys','careername:name')\\\n",
    "    .option('relationship.source.save.mode','Match')\\\n",
    "    .option('relationship.target.labels',':ProgrammingLanguage')\\\n",
    "    .option('relationship.target.node.keys','name:name')\\\n",
    "    .option('relationship.target.save.mode','Match')\\\n",
    "    .save()"
   ]
  },
  {
   "cell_type": "code",
   "execution_count": 14,
   "metadata": {},
   "outputs": [],
   "source": [
    "df = spark.read.format(\"org.neo4j.spark.DataSource\") \\\n",
    "  .option(\"url\", surl)\\\n",
    "  .option(\"authentication.type\", \"basic\")\\\n",
    "  .option(\"authentication.basic.username\", \"neo4j\")\\\n",
    "  .option(\"authentication.basic.password\", spassword)\\\n",
    "  .option(\"query\", \"match (c:Career)<-[r1]-(j:JobPosting)-[r2]->(t:Tool) return c.name as careername, t.name as name\") \\\n",
    "  .load()"
   ]
  },
  {
   "cell_type": "code",
   "execution_count": 15,
   "metadata": {},
   "outputs": [
    {
     "name": "stderr",
     "output_type": "stream",
     "text": [
      "                                                                                \r"
     ]
    }
   ],
   "source": [
    "tool = df.dropDuplicates([\"name\"]).select(df.name)\n",
    "tool.write.format(\"org.neo4j.spark.DataSource\")\\\n",
    "    .mode(\"Overwrite\")\\\n",
    "  .option(\"url\", turl)\\\n",
    "  .option(\"authentication.type\", \"basic\")\\\n",
    "  .option(\"authentication.basic.username\", \"neo4j\")\\\n",
    "  .option(\"authentication.basic.password\", tpassword)\\\n",
    "    .option(\"node.keys\", \"name\")\\\n",
    "    .option(\"labels\",\":Tool\")\\\n",
    "    .save()"
   ]
  },
  {
   "cell_type": "code",
   "execution_count": 16,
   "metadata": {},
   "outputs": [],
   "source": [
    "career_tool = df.dropDuplicates(['careername','name'])\n",
    "career_tool = df.groupBy('careername','name').count()\n",
    "career_tool = career_tool.select(f.col('careername'), f.col('name'), f.col('count').alias('numTool'))"
   ]
  },
  {
   "cell_type": "code",
   "execution_count": 17,
   "metadata": {},
   "outputs": [
    {
     "name": "stderr",
     "output_type": "stream",
     "text": [
      "                                                                                \r"
     ]
    }
   ],
   "source": [
    "career_tool.write.format(\"org.neo4j.spark.DataSource\")\\\n",
    "    .mode(\"Overwrite\")\\\n",
    "  .option(\"url\", turl)\\\n",
    "  .option(\"authentication.type\", \"basic\")\\\n",
    "  .option(\"authentication.basic.username\", \"neo4j\")\\\n",
    "  .option(\"authentication.basic.password\", tpassword)\\\n",
    "    .option(\"relationship\", 'NEED_TOOL')\\\n",
    "    .option(\"relationship.properties\",'numTool') \\\n",
    "    .option('relationship.save.strategy','keys')\\\n",
    "    .option('relationship.source.labels',':Career')\\\n",
    "    .option('relationship.source.node.keys','careername:name')\\\n",
    "    .option('relationship.source.save.mode','Match')\\\n",
    "    .option('relationship.target.labels',':Tool')\\\n",
    "    .option('relationship.target.node.keys','name:name')\\\n",
    "    .option('relationship.target.save.mode','Match')\\\n",
    "    .save()"
   ]
  },
  {
   "cell_type": "code",
   "execution_count": 18,
   "metadata": {},
   "outputs": [],
   "source": [
    "df = spark.read.format(\"org.neo4j.spark.DataSource\") \\\n",
    "  .option(\"url\", surl)\\\n",
    "  .option(\"authentication.type\", \"basic\")\\\n",
    "  .option(\"authentication.basic.username\", \"neo4j\")\\\n",
    "  .option(\"authentication.basic.password\", spassword)\\\n",
    "  .option(\"query\", \"match (c:Career)<-[r1]-(j:JobPosting)-[r2]->(t:Framework) return c.name as careername, t.name as name\") \\\n",
    "  .load()"
   ]
  },
  {
   "cell_type": "code",
   "execution_count": 19,
   "metadata": {},
   "outputs": [
    {
     "name": "stderr",
     "output_type": "stream",
     "text": [
      "                                                                                \r"
     ]
    }
   ],
   "source": [
    "fram = df.dropDuplicates([\"name\"]).select(df.name)\n",
    "fram.write.format(\"org.neo4j.spark.DataSource\")\\\n",
    "    .mode(\"Overwrite\")\\\n",
    "  .option(\"url\", turl)\\\n",
    "  .option(\"authentication.type\", \"basic\")\\\n",
    "  .option(\"authentication.basic.username\", \"neo4j\")\\\n",
    "  .option(\"authentication.basic.password\", tpassword)\\\n",
    "    .option(\"node.keys\", \"name\")\\\n",
    "    .option(\"labels\",\":Framework\")\\\n",
    "    .save()"
   ]
  },
  {
   "cell_type": "code",
   "execution_count": 20,
   "metadata": {},
   "outputs": [
    {
     "name": "stderr",
     "output_type": "stream",
     "text": [
      "                                                                                \r"
     ]
    }
   ],
   "source": [
    "career_fram = df.dropDuplicates(['careername','name'])\n",
    "career_fram = df.groupBy('careername','name').count()\n",
    "career_fram = career_fram.select(f.col('careername'), f.col('name'), f.col('count').alias('numFw'))\n",
    "\n",
    "career_fram.write.format(\"org.neo4j.spark.DataSource\")\\\n",
    "    .mode(\"Overwrite\")\\\n",
    "  .option(\"url\", turl)\\\n",
    "  .option(\"authentication.type\", \"basic\")\\\n",
    "  .option(\"authentication.basic.username\", \"neo4j\")\\\n",
    "  .option(\"authentication.basic.password\", tpassword)\\\n",
    "    .option(\"relationship\", 'NEED_FW')\\\n",
    "    .option(\"relationship.properties\",'numFw') \\\n",
    "    .option('relationship.save.strategy','keys')\\\n",
    "    .option('relationship.source.labels',':Career')\\\n",
    "    .option('relationship.source.node.keys','careername:name')\\\n",
    "    .option('relationship.source.save.mode','Match')\\\n",
    "    .option('relationship.target.labels',':Framework')\\\n",
    "    .option('relationship.target.node.keys','name:name')\\\n",
    "    .option('relationship.target.save.mode','Match')\\\n",
    "    .save()"
   ]
  },
  {
   "cell_type": "code",
   "execution_count": 21,
   "metadata": {},
   "outputs": [],
   "source": [
    "df = spark.read.format(\"org.neo4j.spark.DataSource\") \\\n",
    "  .option(\"url\", surl)\\\n",
    "  .option(\"authentication.type\", \"basic\")\\\n",
    "  .option(\"authentication.basic.username\", \"neo4j\")\\\n",
    "  .option(\"authentication.basic.password\", spassword)\\\n",
    "  .option(\"query\", \"match (c:Career)<-[r1]-(j:JobPosting)-[r2]->(t:Platform) return c.name as careername, t.name as name\") \\\n",
    "  .load()"
   ]
  },
  {
   "cell_type": "code",
   "execution_count": 22,
   "metadata": {},
   "outputs": [
    {
     "name": "stderr",
     "output_type": "stream",
     "text": [
      "                                                                                \r"
     ]
    }
   ],
   "source": [
    "plat = df.dropDuplicates([\"name\"]).select(df.name)\n",
    "plat.write.format(\"org.neo4j.spark.DataSource\")\\\n",
    "    .mode(\"Overwrite\")\\\n",
    "  .option(\"url\", turl)\\\n",
    "  .option(\"authentication.type\", \"basic\")\\\n",
    "  .option(\"authentication.basic.username\", \"neo4j\")\\\n",
    "  .option(\"authentication.basic.password\", tpassword)\\\n",
    "    .option(\"node.keys\", \"name\")\\\n",
    "    .option(\"labels\",\":Platform\")\\\n",
    "    .save()"
   ]
  },
  {
   "cell_type": "code",
   "execution_count": 23,
   "metadata": {},
   "outputs": [
    {
     "name": "stderr",
     "output_type": "stream",
     "text": [
      "                                                                                \r"
     ]
    }
   ],
   "source": [
    "career_plat= df.dropDuplicates(['careername','name'])\n",
    "career_plat = df.groupBy('careername','name').count()\n",
    "career_plat = career_plat.select(f.col('careername'), f.col('name'), f.col('count').alias('numPf'))\n",
    "\n",
    "career_plat.write.format(\"org.neo4j.spark.DataSource\")\\\n",
    "    .mode(\"Overwrite\")\\\n",
    "  .option(\"url\", turl)\\\n",
    "  .option(\"authentication.type\", \"basic\")\\\n",
    "  .option(\"authentication.basic.username\", \"neo4j\")\\\n",
    "  .option(\"authentication.basic.password\", tpassword)\\\n",
    "    .option(\"relationship\", 'NEED_PF')\\\n",
    "    .option(\"relationship.properties\",'numPf') \\\n",
    "    .option('relationship.save.strategy','keys')\\\n",
    "    .option('relationship.source.labels',':Career')\\\n",
    "    .option('relationship.source.node.keys','careername:name')\\\n",
    "    .option('relationship.source.save.mode','Match')\\\n",
    "    .option('relationship.target.labels',':Platform')\\\n",
    "    .option('relationship.target.node.keys','name:name')\\\n",
    "    .option('relationship.target.save.mode','Match')\\\n",
    "    .save()"
   ]
  },
  {
   "cell_type": "code",
   "execution_count": 24,
   "metadata": {},
   "outputs": [],
   "source": [
    "df = spark.read.format(\"org.neo4j.spark.DataSource\") \\\n",
    "  .option(\"url\", surl)\\\n",
    "  .option(\"authentication.type\", \"basic\")\\\n",
    "  .option(\"authentication.basic.username\", \"neo4j\")\\\n",
    "  .option(\"authentication.basic.password\", spassword)\\\n",
    "  .option(\"query\", \"match (c:Career)<-[r1]-(j:JobPosting)-[r2]->(t:Knowledge) return c.name as careername, t.name as name\") \\\n",
    "  .load()"
   ]
  },
  {
   "cell_type": "code",
   "execution_count": 25,
   "metadata": {},
   "outputs": [
    {
     "name": "stderr",
     "output_type": "stream",
     "text": [
      "                                                                                \r"
     ]
    }
   ],
   "source": [
    "know = df.dropDuplicates([\"name\"]).select(df.name)\n",
    "know.write.format(\"org.neo4j.spark.DataSource\")\\\n",
    "    .mode(\"Overwrite\")\\\n",
    "  .option(\"url\", turl)\\\n",
    "  .option(\"authentication.type\", \"basic\")\\\n",
    "  .option(\"authentication.basic.username\", \"neo4j\")\\\n",
    "  .option(\"authentication.basic.password\", tpassword)\\\n",
    "    .option(\"node.keys\", \"name\")\\\n",
    "    .option(\"labels\",\":Knowledge\")\\\n",
    "    .save()"
   ]
  },
  {
   "cell_type": "code",
   "execution_count": 26,
   "metadata": {},
   "outputs": [
    {
     "name": "stderr",
     "output_type": "stream",
     "text": [
      "                                                                                \r"
     ]
    }
   ],
   "source": [
    "career_know= df.dropDuplicates(['careername','name'])\n",
    "career_know = df.groupBy('careername','name').count()\n",
    "career_know = career_know.select(f.col('careername'), f.col('name'), f.col('count').alias('numKl'))\n",
    "\n",
    "career_know.write.format(\"org.neo4j.spark.DataSource\")\\\n",
    "    .mode(\"Overwrite\")\\\n",
    "  .option(\"url\", turl)\\\n",
    "  .option(\"authentication.type\", \"basic\")\\\n",
    "  .option(\"authentication.basic.username\", \"neo4j\")\\\n",
    "  .option(\"authentication.basic.password\", tpassword)\\\n",
    "    .option(\"relationship\", 'NEED_KL')\\\n",
    "    .option(\"relationship.properties\",'numKl') \\\n",
    "    .option('relationship.save.strategy','keys')\\\n",
    "    .option('relationship.source.labels',':Career')\\\n",
    "    .option('relationship.source.node.keys','careername:name')\\\n",
    "    .option('relationship.source.save.mode','Match')\\\n",
    "    .option('relationship.target.labels',':Knowledge')\\\n",
    "    .option('relationship.target.node.keys','name:name')\\\n",
    "    .option('relationship.target.save.mode','Match')\\\n",
    "    .save()"
   ]
  },
  {
   "cell_type": "code",
   "execution_count": 27,
   "metadata": {},
   "outputs": [
    {
     "name": "stdout",
     "output_type": "stream",
     "text": [
      "Execution time: 47.776694536209106 seconds\n"
     ]
    }
   ],
   "source": [
    "et = time.time()\n",
    "elapsed_time = et - st\n",
    "print('Execution time:', elapsed_time, 'seconds')"
   ]
  }
 ],
 "metadata": {
  "kernelspec": {
   "display_name": "Python 3",
   "language": "python",
   "name": "python3"
  },
  "language_info": {
   "codemirror_mode": {
    "name": "ipython",
    "version": 3
   },
   "file_extension": ".py",
   "mimetype": "text/x-python",
   "name": "python",
   "nbconvert_exporter": "python",
   "pygments_lexer": "ipython3",
   "version": "3.8.10"
  },
  "orig_nbformat": 4,
  "vscode": {
   "interpreter": {
    "hash": "916dbcbb3f70747c44a77c7bcd40155683ae19c65e1c03b4aa3499c5328201f1"
   }
  }
 },
 "nbformat": 4,
 "nbformat_minor": 2
}
