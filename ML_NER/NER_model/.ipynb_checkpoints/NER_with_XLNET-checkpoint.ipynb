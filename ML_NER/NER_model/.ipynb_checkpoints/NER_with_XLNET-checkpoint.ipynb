{
 "cells": [
  {
   "cell_type": "code",
   "execution_count": 1,
   "metadata": {
    "executionInfo": {
     "elapsed": 3,
     "status": "ok",
     "timestamp": 1645451756337,
     "user": {
      "displayName": "Yến Ngọc Vũ",
      "photoUrl": "https://lh3.googleusercontent.com/a-/AOh14Gi4wfCuo_NJT2C0JTe2p3mU-XITI80n8F0YvaxHpNI=s64",
      "userId": "00577626419227892200"
     },
     "user_tz": -420
    },
    "id": "hu4ugoWUJpKB"
   },
   "outputs": [],
   "source": [
    "%reload_ext autoreload\n",
    "%autoreload 2\n",
    "%matplotlib inline"
   ]
  },
  {
   "cell_type": "code",
   "execution_count": 2,
   "metadata": {
    "colab": {
     "base_uri": "https://localhost:8080/"
    },
    "executionInfo": {
     "elapsed": 29691,
     "status": "ok",
     "timestamp": 1645451786025,
     "user": {
      "displayName": "Yến Ngọc Vũ",
      "photoUrl": "https://lh3.googleusercontent.com/a-/AOh14Gi4wfCuo_NJT2C0JTe2p3mU-XITI80n8F0YvaxHpNI=s64",
      "userId": "00577626419227892200"
     },
     "user_tz": -420
    },
    "id": "8WnhFbWUKJKR",
    "outputId": "b2389dcd-951c-4254-d435-73c17ff0b5f2"
   },
   "outputs": [
    {
     "name": "stdout",
     "output_type": "stream",
     "text": [
      "Collecting seqeval\n",
      "  Downloading seqeval-1.2.2.tar.gz (43 kB)\n",
      "\u001b[?25l\r",
      "\u001b[K     |███████▌                        | 10 kB 17.9 MB/s eta 0:00:01\r",
      "\u001b[K     |███████████████                 | 20 kB 19.9 MB/s eta 0:00:01\r",
      "\u001b[K     |██████████████████████▌         | 30 kB 22.9 MB/s eta 0:00:01\r",
      "\u001b[K     |██████████████████████████████  | 40 kB 13.5 MB/s eta 0:00:01\r",
      "\u001b[K     |████████████████████████████████| 43 kB 1.9 MB/s \n",
      "\u001b[?25hRequirement already satisfied: numpy>=1.14.0 in /usr/local/lib/python3.7/dist-packages (from seqeval) (1.21.5)\n",
      "Requirement already satisfied: scikit-learn>=0.21.3 in /usr/local/lib/python3.7/dist-packages (from seqeval) (1.0.2)\n",
      "Requirement already satisfied: scipy>=1.1.0 in /usr/local/lib/python3.7/dist-packages (from scikit-learn>=0.21.3->seqeval) (1.4.1)\n",
      "Requirement already satisfied: threadpoolctl>=2.0.0 in /usr/local/lib/python3.7/dist-packages (from scikit-learn>=0.21.3->seqeval) (3.1.0)\n",
      "Requirement already satisfied: joblib>=0.11 in /usr/local/lib/python3.7/dist-packages (from scikit-learn>=0.21.3->seqeval) (1.1.0)\n",
      "Building wheels for collected packages: seqeval\n",
      "  Building wheel for seqeval (setup.py) ... \u001b[?25l\u001b[?25hdone\n",
      "  Created wheel for seqeval: filename=seqeval-1.2.2-py3-none-any.whl size=16180 sha256=107f239d0086753d53f3f407446572c48cb0777e765abe67ca3c42bed1f23152\n",
      "  Stored in directory: /root/.cache/pip/wheels/05/96/ee/7cac4e74f3b19e3158dce26a20a1c86b3533c43ec72a549fd7\n",
      "Successfully built seqeval\n",
      "Installing collected packages: seqeval\n",
      "Successfully installed seqeval-1.2.2\n",
      "Collecting transformers\n",
      "  Downloading transformers-4.16.2-py3-none-any.whl (3.5 MB)\n",
      "\u001b[K     |████████████████████████████████| 3.5 MB 10.1 MB/s \n",
      "\u001b[?25hRequirement already satisfied: requests in /usr/local/lib/python3.7/dist-packages (from transformers) (2.23.0)\n",
      "Requirement already satisfied: importlib-metadata in /usr/local/lib/python3.7/dist-packages (from transformers) (4.11.0)\n",
      "Requirement already satisfied: regex!=2019.12.17 in /usr/local/lib/python3.7/dist-packages (from transformers) (2019.12.20)\n",
      "Collecting pyyaml>=5.1\n",
      "  Downloading PyYAML-6.0-cp37-cp37m-manylinux_2_5_x86_64.manylinux1_x86_64.manylinux_2_12_x86_64.manylinux2010_x86_64.whl (596 kB)\n",
      "\u001b[K     |████████████████████████████████| 596 kB 21.2 MB/s \n",
      "\u001b[?25hRequirement already satisfied: filelock in /usr/local/lib/python3.7/dist-packages (from transformers) (3.4.2)\n",
      "Requirement already satisfied: packaging>=20.0 in /usr/local/lib/python3.7/dist-packages (from transformers) (21.3)\n",
      "Collecting huggingface-hub<1.0,>=0.1.0\n",
      "  Downloading huggingface_hub-0.4.0-py3-none-any.whl (67 kB)\n",
      "\u001b[K     |████████████████████████████████| 67 kB 4.4 MB/s \n",
      "\u001b[?25hRequirement already satisfied: tqdm>=4.27 in /usr/local/lib/python3.7/dist-packages (from transformers) (4.62.3)\n",
      "Collecting tokenizers!=0.11.3,>=0.10.1\n",
      "  Downloading tokenizers-0.11.5-cp37-cp37m-manylinux_2_12_x86_64.manylinux2010_x86_64.whl (6.8 MB)\n",
      "\u001b[K     |████████████████████████████████| 6.8 MB 31.8 MB/s \n",
      "\u001b[?25hRequirement already satisfied: numpy>=1.17 in /usr/local/lib/python3.7/dist-packages (from transformers) (1.21.5)\n",
      "Collecting sacremoses\n",
      "  Downloading sacremoses-0.0.47-py2.py3-none-any.whl (895 kB)\n",
      "\u001b[K     |████████████████████████████████| 895 kB 13.0 MB/s \n",
      "\u001b[?25hRequirement already satisfied: typing-extensions>=3.7.4.3 in /usr/local/lib/python3.7/dist-packages (from huggingface-hub<1.0,>=0.1.0->transformers) (3.10.0.2)\n",
      "Requirement already satisfied: pyparsing!=3.0.5,>=2.0.2 in /usr/local/lib/python3.7/dist-packages (from packaging>=20.0->transformers) (3.0.7)\n",
      "Requirement already satisfied: zipp>=0.5 in /usr/local/lib/python3.7/dist-packages (from importlib-metadata->transformers) (3.7.0)\n",
      "Requirement already satisfied: urllib3!=1.25.0,!=1.25.1,<1.26,>=1.21.1 in /usr/local/lib/python3.7/dist-packages (from requests->transformers) (1.24.3)\n",
      "Requirement already satisfied: idna<3,>=2.5 in /usr/local/lib/python3.7/dist-packages (from requests->transformers) (2.10)\n",
      "Requirement already satisfied: certifi>=2017.4.17 in /usr/local/lib/python3.7/dist-packages (from requests->transformers) (2021.10.8)\n",
      "Requirement already satisfied: chardet<4,>=3.0.2 in /usr/local/lib/python3.7/dist-packages (from requests->transformers) (3.0.4)\n",
      "Requirement already satisfied: click in /usr/local/lib/python3.7/dist-packages (from sacremoses->transformers) (7.1.2)\n",
      "Requirement already satisfied: joblib in /usr/local/lib/python3.7/dist-packages (from sacremoses->transformers) (1.1.0)\n",
      "Requirement already satisfied: six in /usr/local/lib/python3.7/dist-packages (from sacremoses->transformers) (1.15.0)\n",
      "Installing collected packages: pyyaml, tokenizers, sacremoses, huggingface-hub, transformers\n",
      "  Attempting uninstall: pyyaml\n",
      "    Found existing installation: PyYAML 3.13\n",
      "    Uninstalling PyYAML-3.13:\n",
      "      Successfully uninstalled PyYAML-3.13\n",
      "Successfully installed huggingface-hub-0.4.0 pyyaml-6.0 sacremoses-0.0.47 tokenizers-0.11.5 transformers-4.16.2\n"
     ]
    }
   ],
   "source": [
    "!pip install seqeval\n",
    "!pip install transformers"
   ]
  },
  {
   "cell_type": "code",
   "execution_count": 3,
   "metadata": {
    "colab": {
     "base_uri": "https://localhost:8080/",
     "height": 1000
    },
    "executionInfo": {
     "elapsed": 91419,
     "status": "ok",
     "timestamp": 1645451877433,
     "user": {
      "displayName": "Yến Ngọc Vũ",
      "photoUrl": "https://lh3.googleusercontent.com/a-/AOh14Gi4wfCuo_NJT2C0JTe2p3mU-XITI80n8F0YvaxHpNI=s64",
      "userId": "00577626419227892200"
     },
     "user_tz": -420
    },
    "id": "2Zg8mxTKKofD",
    "outputId": "f4fe1f99-95cb-4fbb-c48e-abecaaa70c09"
   },
   "outputs": [
    {
     "name": "stdout",
     "output_type": "stream",
     "text": [
      "Collecting tensorflow==2.2.1\n",
      "  Downloading tensorflow-2.2.1-cp37-cp37m-manylinux2010_x86_64.whl (516.2 MB)\n",
      "\u001b[K     |████████████████████████████████| 516.2 MB 31 kB/s \n",
      "\u001b[?25hRequirement already satisfied: google-pasta>=0.1.8 in /usr/local/lib/python3.7/dist-packages (from tensorflow==2.2.1) (0.2.0)\n",
      "Requirement already satisfied: keras-preprocessing>=1.1.0 in /usr/local/lib/python3.7/dist-packages (from tensorflow==2.2.1) (1.1.2)\n",
      "Requirement already satisfied: protobuf>=3.8.0 in /usr/local/lib/python3.7/dist-packages (from tensorflow==2.2.1) (3.17.3)\n",
      "Requirement already satisfied: astunparse==1.6.3 in /usr/local/lib/python3.7/dist-packages (from tensorflow==2.2.1) (1.6.3)\n",
      "Requirement already satisfied: wrapt>=1.11.1 in /usr/local/lib/python3.7/dist-packages (from tensorflow==2.2.1) (1.13.3)\n",
      "Requirement already satisfied: wheel>=0.26 in /usr/local/lib/python3.7/dist-packages (from tensorflow==2.2.1) (0.37.1)\n",
      "Requirement already satisfied: opt-einsum>=2.3.2 in /usr/local/lib/python3.7/dist-packages (from tensorflow==2.2.1) (3.3.0)\n",
      "Collecting tensorflow-estimator<2.3.0,>=2.2.0\n",
      "  Downloading tensorflow_estimator-2.2.0-py2.py3-none-any.whl (454 kB)\n",
      "\u001b[K     |████████████████████████████████| 454 kB 45.7 MB/s \n",
      "\u001b[?25hCollecting h5py<2.11.0,>=2.10.0\n",
      "  Downloading h5py-2.10.0-cp37-cp37m-manylinux1_x86_64.whl (2.9 MB)\n",
      "\u001b[K     |████████████████████████████████| 2.9 MB 34.8 MB/s \n",
      "\u001b[?25hRequirement already satisfied: absl-py>=0.7.0 in /usr/local/lib/python3.7/dist-packages (from tensorflow==2.2.1) (1.0.0)\n",
      "Requirement already satisfied: termcolor>=1.1.0 in /usr/local/lib/python3.7/dist-packages (from tensorflow==2.2.1) (1.1.0)\n",
      "Requirement already satisfied: six>=1.12.0 in /usr/local/lib/python3.7/dist-packages (from tensorflow==2.2.1) (1.15.0)\n",
      "Requirement already satisfied: grpcio>=1.8.6 in /usr/local/lib/python3.7/dist-packages (from tensorflow==2.2.1) (1.43.0)\n",
      "Collecting tensorboard<2.3.0,>=2.2.0\n",
      "  Downloading tensorboard-2.2.2-py3-none-any.whl (3.0 MB)\n",
      "\u001b[K     |████████████████████████████████| 3.0 MB 20.3 MB/s \n",
      "\u001b[?25hCollecting numpy<1.19.0,>=1.16.0\n",
      "  Downloading numpy-1.18.5-cp37-cp37m-manylinux1_x86_64.whl (20.1 MB)\n",
      "\u001b[K     |████████████████████████████████| 20.1 MB 11.7 MB/s \n",
      "\u001b[?25hCollecting gast==0.3.3\n",
      "  Downloading gast-0.3.3-py2.py3-none-any.whl (9.7 kB)\n",
      "Requirement already satisfied: google-auth-oauthlib<0.5,>=0.4.1 in /usr/local/lib/python3.7/dist-packages (from tensorboard<2.3.0,>=2.2.0->tensorflow==2.2.1) (0.4.6)\n",
      "Requirement already satisfied: werkzeug>=0.11.15 in /usr/local/lib/python3.7/dist-packages (from tensorboard<2.3.0,>=2.2.0->tensorflow==2.2.1) (1.0.1)\n",
      "Requirement already satisfied: requests<3,>=2.21.0 in /usr/local/lib/python3.7/dist-packages (from tensorboard<2.3.0,>=2.2.0->tensorflow==2.2.1) (2.23.0)\n",
      "Requirement already satisfied: tensorboard-plugin-wit>=1.6.0 in /usr/local/lib/python3.7/dist-packages (from tensorboard<2.3.0,>=2.2.0->tensorflow==2.2.1) (1.8.1)\n",
      "Requirement already satisfied: google-auth<2,>=1.6.3 in /usr/local/lib/python3.7/dist-packages (from tensorboard<2.3.0,>=2.2.0->tensorflow==2.2.1) (1.35.0)\n",
      "Requirement already satisfied: setuptools>=41.0.0 in /usr/local/lib/python3.7/dist-packages (from tensorboard<2.3.0,>=2.2.0->tensorflow==2.2.1) (57.4.0)\n",
      "Requirement already satisfied: markdown>=2.6.8 in /usr/local/lib/python3.7/dist-packages (from tensorboard<2.3.0,>=2.2.0->tensorflow==2.2.1) (3.3.6)\n",
      "Requirement already satisfied: cachetools<5.0,>=2.0.0 in /usr/local/lib/python3.7/dist-packages (from google-auth<2,>=1.6.3->tensorboard<2.3.0,>=2.2.0->tensorflow==2.2.1) (4.2.4)\n",
      "Requirement already satisfied: pyasn1-modules>=0.2.1 in /usr/local/lib/python3.7/dist-packages (from google-auth<2,>=1.6.3->tensorboard<2.3.0,>=2.2.0->tensorflow==2.2.1) (0.2.8)\n",
      "Requirement already satisfied: rsa<5,>=3.1.4 in /usr/local/lib/python3.7/dist-packages (from google-auth<2,>=1.6.3->tensorboard<2.3.0,>=2.2.0->tensorflow==2.2.1) (4.8)\n",
      "Requirement already satisfied: requests-oauthlib>=0.7.0 in /usr/local/lib/python3.7/dist-packages (from google-auth-oauthlib<0.5,>=0.4.1->tensorboard<2.3.0,>=2.2.0->tensorflow==2.2.1) (1.3.1)\n",
      "Requirement already satisfied: importlib-metadata>=4.4 in /usr/local/lib/python3.7/dist-packages (from markdown>=2.6.8->tensorboard<2.3.0,>=2.2.0->tensorflow==2.2.1) (4.11.0)\n",
      "Requirement already satisfied: typing-extensions>=3.6.4 in /usr/local/lib/python3.7/dist-packages (from importlib-metadata>=4.4->markdown>=2.6.8->tensorboard<2.3.0,>=2.2.0->tensorflow==2.2.1) (3.10.0.2)\n",
      "Requirement already satisfied: zipp>=0.5 in /usr/local/lib/python3.7/dist-packages (from importlib-metadata>=4.4->markdown>=2.6.8->tensorboard<2.3.0,>=2.2.0->tensorflow==2.2.1) (3.7.0)\n",
      "Requirement already satisfied: pyasn1<0.5.0,>=0.4.6 in /usr/local/lib/python3.7/dist-packages (from pyasn1-modules>=0.2.1->google-auth<2,>=1.6.3->tensorboard<2.3.0,>=2.2.0->tensorflow==2.2.1) (0.4.8)\n",
      "Requirement already satisfied: chardet<4,>=3.0.2 in /usr/local/lib/python3.7/dist-packages (from requests<3,>=2.21.0->tensorboard<2.3.0,>=2.2.0->tensorflow==2.2.1) (3.0.4)\n",
      "Requirement already satisfied: idna<3,>=2.5 in /usr/local/lib/python3.7/dist-packages (from requests<3,>=2.21.0->tensorboard<2.3.0,>=2.2.0->tensorflow==2.2.1) (2.10)\n",
      "Requirement already satisfied: urllib3!=1.25.0,!=1.25.1,<1.26,>=1.21.1 in /usr/local/lib/python3.7/dist-packages (from requests<3,>=2.21.0->tensorboard<2.3.0,>=2.2.0->tensorflow==2.2.1) (1.24.3)\n",
      "Requirement already satisfied: certifi>=2017.4.17 in /usr/local/lib/python3.7/dist-packages (from requests<3,>=2.21.0->tensorboard<2.3.0,>=2.2.0->tensorflow==2.2.1) (2021.10.8)\n",
      "Requirement already satisfied: oauthlib>=3.0.0 in /usr/local/lib/python3.7/dist-packages (from requests-oauthlib>=0.7.0->google-auth-oauthlib<0.5,>=0.4.1->tensorboard<2.3.0,>=2.2.0->tensorflow==2.2.1) (3.2.0)\n",
      "Installing collected packages: numpy, tensorflow-estimator, tensorboard, h5py, gast, tensorflow\n",
      "  Attempting uninstall: numpy\n",
      "    Found existing installation: numpy 1.21.5\n",
      "    Uninstalling numpy-1.21.5:\n",
      "      Successfully uninstalled numpy-1.21.5\n",
      "  Attempting uninstall: tensorflow-estimator\n",
      "    Found existing installation: tensorflow-estimator 2.8.0\n",
      "    Uninstalling tensorflow-estimator-2.8.0:\n",
      "      Successfully uninstalled tensorflow-estimator-2.8.0\n",
      "  Attempting uninstall: tensorboard\n",
      "    Found existing installation: tensorboard 2.8.0\n",
      "    Uninstalling tensorboard-2.8.0:\n",
      "      Successfully uninstalled tensorboard-2.8.0\n",
      "  Attempting uninstall: h5py\n",
      "    Found existing installation: h5py 3.1.0\n",
      "    Uninstalling h5py-3.1.0:\n",
      "      Successfully uninstalled h5py-3.1.0\n",
      "  Attempting uninstall: gast\n",
      "    Found existing installation: gast 0.5.3\n",
      "    Uninstalling gast-0.5.3:\n",
      "      Successfully uninstalled gast-0.5.3\n",
      "  Attempting uninstall: tensorflow\n",
      "    Found existing installation: tensorflow 2.8.0\n",
      "    Uninstalling tensorflow-2.8.0:\n",
      "      Successfully uninstalled tensorflow-2.8.0\n",
      "\u001b[31mERROR: pip's dependency resolver does not currently take into account all the packages that are installed. This behaviour is the source of the following dependency conflicts.\n",
      "tables 3.7.0 requires numpy>=1.19.0, but you have numpy 1.18.5 which is incompatible.\n",
      "datascience 0.10.6 requires folium==0.2.1, but you have folium 0.8.3 which is incompatible.\n",
      "albumentations 0.1.12 requires imgaug<0.2.7,>=0.2.5, but you have imgaug 0.2.9 which is incompatible.\u001b[0m\n",
      "Successfully installed gast-0.3.3 h5py-2.10.0 numpy-1.18.5 tensorboard-2.2.2 tensorflow-2.2.1 tensorflow-estimator-2.2.0\n"
     ]
    },
    {
     "data": {
      "application/vnd.colab-display-data+json": {
       "pip_warning": {
        "packages": [
         "numpy"
        ]
       }
      }
     },
     "metadata": {},
     "output_type": "display_data"
    },
    {
     "name": "stdout",
     "output_type": "stream",
     "text": [
      "Collecting keras==2.3.1\n",
      "  Downloading Keras-2.3.1-py2.py3-none-any.whl (377 kB)\n",
      "\u001b[K     |████████████████████████████████| 377 kB 12.5 MB/s \n",
      "\u001b[?25hCollecting keras-applications>=1.0.6\n",
      "  Downloading Keras_Applications-1.0.8-py3-none-any.whl (50 kB)\n",
      "\u001b[K     |████████████████████████████████| 50 kB 5.5 MB/s \n",
      "\u001b[?25hRequirement already satisfied: six>=1.9.0 in /usr/local/lib/python3.7/dist-packages (from keras==2.3.1) (1.15.0)\n",
      "Requirement already satisfied: numpy>=1.9.1 in /usr/local/lib/python3.7/dist-packages (from keras==2.3.1) (1.18.5)\n",
      "Requirement already satisfied: h5py in /usr/local/lib/python3.7/dist-packages (from keras==2.3.1) (2.10.0)\n",
      "Requirement already satisfied: pyyaml in /usr/local/lib/python3.7/dist-packages (from keras==2.3.1) (6.0)\n",
      "Requirement already satisfied: keras-preprocessing>=1.0.5 in /usr/local/lib/python3.7/dist-packages (from keras==2.3.1) (1.1.2)\n",
      "Requirement already satisfied: scipy>=0.14 in /usr/local/lib/python3.7/dist-packages (from keras==2.3.1) (1.4.1)\n",
      "Installing collected packages: keras-applications, keras\n",
      "  Attempting uninstall: keras\n",
      "    Found existing installation: keras 2.8.0\n",
      "    Uninstalling keras-2.8.0:\n",
      "      Successfully uninstalled keras-2.8.0\n",
      "Successfully installed keras-2.3.1 keras-applications-1.0.8\n"
     ]
    }
   ],
   "source": [
    "!pip install tensorflow==2.2.1\n",
    "!pip install keras==2.3.1"
   ]
  },
  {
   "cell_type": "code",
   "execution_count": 4,
   "metadata": {
    "colab": {
     "base_uri": "https://localhost:8080/"
    },
    "executionInfo": {
     "elapsed": 579,
     "status": "ok",
     "timestamp": 1645451877992,
     "user": {
      "displayName": "Yến Ngọc Vũ",
      "photoUrl": "https://lh3.googleusercontent.com/a-/AOh14Gi4wfCuo_NJT2C0JTe2p3mU-XITI80n8F0YvaxHpNI=s64",
      "userId": "00577626419227892200"
     },
     "user_tz": -420
    },
    "id": "52rQme34JpKH",
    "outputId": "f4579fa6-83cd-499f-ecac-cc105be53b25"
   },
   "outputs": [
    {
     "name": "stderr",
     "output_type": "stream",
     "text": [
      "[autoreload of numpy.core.multiarray failed: Traceback (most recent call last):\n",
      "  File \"/usr/local/lib/python3.7/dist-packages/IPython/extensions/autoreload.py\", line 247, in check\n",
      "    superreload(m, reload, self.old_objects)\n",
      "RuntimeError: empty_like method already has a different docstring\n",
      "]\n",
      "[autoreload of numpy.core.overrides failed: Traceback (most recent call last):\n",
      "  File \"/usr/local/lib/python3.7/dist-packages/IPython/extensions/autoreload.py\", line 247, in check\n",
      "    superreload(m, reload, self.old_objects)\n",
      "RuntimeError: implement_array_function method already has a different docstring\n",
      "]\n",
      "[autoreload of numpy.core.numerictypes failed: Traceback (most recent call last):\n",
      "  File \"/usr/local/lib/python3.7/dist-packages/IPython/extensions/autoreload.py\", line 247, in check\n",
      "    superreload(m, reload, self.old_objects)\n",
      "ImportError: cannot import name 'sctypeNA' from 'numpy.core._type_aliases' (/usr/local/lib/python3.7/dist-packages/numpy/core/_type_aliases.py)\n",
      "]\n",
      "[autoreload of numpy.core.numeric failed: Traceback (most recent call last):\n",
      "  File \"/usr/local/lib/python3.7/dist-packages/IPython/extensions/autoreload.py\", line 247, in check\n",
      "    superreload(m, reload, self.old_objects)\n",
      "ImportError: cannot import name 'int_asbuffer' from 'numpy.core.multiarray' (/usr/local/lib/python3.7/dist-packages/numpy/core/multiarray.py)\n",
      "]\n",
      "[autoreload of numpy.core.fromnumeric failed: Traceback (most recent call last):\n",
      "  File \"/usr/local/lib/python3.7/dist-packages/IPython/extensions/autoreload.py\", line 247, in check\n",
      "    superreload(m, reload, self.old_objects)\n",
      "ImportError: cannot import name 'asarray' from 'numpy.core._asarray' (/usr/local/lib/python3.7/dist-packages/numpy/core/_asarray.py)\n",
      "]\n",
      "[autoreload of numpy.lib failed: Traceback (most recent call last):\n",
      "  File \"/usr/local/lib/python3.7/dist-packages/IPython/extensions/autoreload.py\", line 247, in check\n",
      "    superreload(m, reload, self.old_objects)\n",
      "NameError: name 'type_check' is not defined\n",
      "]\n",
      "[autoreload of numpy.matrixlib failed: Traceback (most recent call last):\n",
      "  File \"/usr/local/lib/python3.7/dist-packages/IPython/extensions/autoreload.py\", line 247, in check\n",
      "    superreload(m, reload, self.old_objects)\n",
      "NameError: name 'defmatrix' is not defined\n",
      "]\n",
      "[autoreload of numpy.linalg.linalg failed: Traceback (most recent call last):\n",
      "  File \"/usr/local/lib/python3.7/dist-packages/IPython/extensions/autoreload.py\", line 247, in check\n",
      "    superreload(m, reload, self.old_objects)\n",
      "ValueError: Only callable can be used as callback\n",
      "]\n"
     ]
    },
    {
     "name": "stdout",
     "output_type": "stream",
     "text": [
      "Keras                         2.3.1\n",
      "Keras-Applications            1.0.8\n",
      "Keras-Preprocessing           1.1.2\n",
      "torch                         1.10.0+cu111\n",
      "torchaudio                    0.10.0+cu111\n",
      "torchsummary                  1.5.1\n",
      "torchtext                     0.11.0\n",
      "torchvision                   0.11.1+cu111\n",
      "transformers                  4.16.2\n"
     ]
    }
   ],
   "source": [
    "# Check library version\n",
    "!pip list | grep -E 'transformers|torch|Keras'"
   ]
  },
  {
   "cell_type": "code",
   "execution_count": 1,
   "metadata": {
    "executionInfo": {
     "elapsed": 6620,
     "status": "ok",
     "timestamp": 1645451939293,
     "user": {
      "displayName": "Yến Ngọc Vũ",
      "photoUrl": "https://lh3.googleusercontent.com/a-/AOh14Gi4wfCuo_NJT2C0JTe2p3mU-XITI80n8F0YvaxHpNI=s64",
      "userId": "00577626419227892200"
     },
     "user_tz": -420
    },
    "id": "9oHUvRU_JpKF"
   },
   "outputs": [],
   "source": [
    "import pandas as pd\n",
    "import math\n",
    "import numpy as np\n",
    "from seqeval.metrics import f1_score\n",
    "from seqeval.metrics import classification_report,accuracy_score,f1_score\n",
    "import torch.nn.functional as F"
   ]
  },
  {
   "cell_type": "code",
   "execution_count": 2,
   "metadata": {
    "executionInfo": {
     "elapsed": 2651,
     "status": "ok",
     "timestamp": 1645451946255,
     "user": {
      "displayName": "Yến Ngọc Vũ",
      "photoUrl": "https://lh3.googleusercontent.com/a-/AOh14Gi4wfCuo_NJT2C0JTe2p3mU-XITI80n8F0YvaxHpNI=s64",
      "userId": "00577626419227892200"
     },
     "user_tz": -420
    },
    "id": "DHR_PTA6JpKG"
   },
   "outputs": [],
   "source": [
    "import torch\n",
    "import os\n",
    "from tqdm import tqdm,trange\n",
    "from torch.optim import Adam\n",
    "from torch.utils.data import TensorDataset, DataLoader, RandomSampler, SequentialSampler\n",
    "from tensorflow.keras.preprocessing.sequence import pad_sequences\n",
    "from sklearn.model_selection import train_test_split\n",
    "from transformers import BertTokenizer, BertConfig\n",
    "from transformers import BertForTokenClassification, AdamW"
   ]
  },
  {
   "cell_type": "markdown",
   "metadata": {
    "id": "xiApfB2aJpKH"
   },
   "source": [
    "This notebook work with env:"
   ]
  },
  {
   "cell_type": "markdown",
   "metadata": {
    "id": "DBOlhGAzJpKJ"
   },
   "source": [
    "- Keras                2.3.1                 \n",
    "- torch                1.1.0                 \n",
    "- transformers         2.5.1      "
   ]
  },
  {
   "cell_type": "markdown",
   "metadata": {
    "id": "0OGI72nhJpKJ"
   },
   "source": [
    "# Introduction"
   ]
  },
  {
   "cell_type": "markdown",
   "metadata": {
    "id": "t0BqLNaMJpKK"
   },
   "source": [
    "In this notebook, will introduce how to do NER with BERT, including:"
   ]
  },
  {
   "cell_type": "markdown",
   "metadata": {
    "id": "PAYT2ZkYJpKK"
   },
   "source": [
    "- Load and preprocess data\n",
    "- Parser data\n",
    "- Make training data\n",
    "- Train model\n",
    "- Evaluate result\n",
    "- **Inference**"
   ]
  },
  {
   "cell_type": "code",
   "execution_count": null,
   "metadata": {
    "executionInfo": {
     "elapsed": 594,
     "status": "aborted",
     "timestamp": 1645451879137,
     "user": {
      "displayName": "Yến Ngọc Vũ",
      "photoUrl": "https://lh3.googleusercontent.com/a-/AOh14Gi4wfCuo_NJT2C0JTe2p3mU-XITI80n8F0YvaxHpNI=s64",
      "userId": "00577626419227892200"
     },
     "user_tz": -420
    },
    "id": "EIwnXzXYJpKM"
   },
   "outputs": [],
   "source": []
  },
  {
   "cell_type": "markdown",
   "metadata": {
    "id": "x8TgfbopJpKM"
   },
   "source": [
    "## Load data"
   ]
  },
  {
   "cell_type": "code",
   "execution_count": null,
   "metadata": {
    "executionInfo": {
     "elapsed": 593,
     "status": "aborted",
     "timestamp": 1645451879137,
     "user": {
      "displayName": "Yến Ngọc Vũ",
      "photoUrl": "https://lh3.googleusercontent.com/a-/AOh14Gi4wfCuo_NJT2C0JTe2p3mU-XITI80n8F0YvaxHpNI=s64",
      "userId": "00577626419227892200"
     },
     "user_tz": -420
    },
    "id": "3KCICFVlhsqD"
   },
   "outputs": [],
   "source": [
    "# connect ggdrive\n",
    "from google.colab import drive\n",
    "drive.mount('/content/drive')"
   ]
  },
  {
   "cell_type": "code",
   "execution_count": null,
   "metadata": {
    "executionInfo": {
     "elapsed": 593,
     "status": "aborted",
     "timestamp": 1645451879137,
     "user": {
      "displayName": "Yến Ngọc Vũ",
      "photoUrl": "https://lh3.googleusercontent.com/a-/AOh14Gi4wfCuo_NJT2C0JTe2p3mU-XITI80n8F0YvaxHpNI=s64",
      "userId": "00577626419227892200"
     },
     "user_tz": -420
    },
    "id": "M7SxiW1hJpKN"
   },
   "outputs": [],
   "source": [
    "#path=\"/content/drive/MyDrive/LUẬN VĂN-K18_CQ/02. Bình-Ngọc/Data/Dataset/conll/simple/\"\n",
    "path= '/home/tyeson/Desktop/ML_NER/Train_Dataset/'"
   ]
  },
  {
   "cell_type": "code",
   "execution_count": null,
   "metadata": {
    "executionInfo": {
     "elapsed": 595,
     "status": "aborted",
     "timestamp": 1645451879139,
     "user": {
      "displayName": "Yến Ngọc Vũ",
      "photoUrl": "https://lh3.googleusercontent.com/a-/AOh14Gi4wfCuo_NJT2C0JTe2p3mU-XITI80n8F0YvaxHpNI=s64",
      "userId": "00577626419227892200"
     },
     "user_tz": -420
    },
    "id": "z-un8ZU3JpKN"
   },
   "outputs": [],
   "source": [
    "# add dataset\n",
    "sentences = []\n",
    "count=0\n",
    "\n",
    "f1 = open(path+'csr.conll', 'r', encoding=\"utf-8\")\n",
    "for i in f1:\n",
    "    l = i.split(' ')\n",
    "    #print(l)\n",
    "    if (i == '\\n'):\n",
    "        count+=1\n",
    "        continue\n",
    "    if l[0] == '-DOCSTART-':\n",
    "        continue\n",
    "    sentences.append((count,l[0], l[3].strip('\\n')))\n",
    "f1.close()\n",
    "print(len(sentences))\n",
    "\n",
    "f1 = open(path+'udemy_data.conll', 'r', encoding=\"utf-8\")\n",
    "for i in f1:\n",
    "    l = i.split(' ')\n",
    "    if (i == '\\n'):\n",
    "        count+=1\n",
    "        continue\n",
    "    if l[0] == '-DOCSTART-':\n",
    "        continue\n",
    "    sentences.append((count,l[0], l[3].strip('\\n')))\n",
    "f1.close()\n",
    "print(len(sentences));\n",
    "\n",
    "f1 = open(path+'udemy1.conll', 'r', encoding=\"utf-8\")\n",
    "for i in f1:\n",
    "    l = i.split(' ')\n",
    "    #print(l)\n",
    "    if (i == '\\n'):\n",
    "        count+=1\n",
    "        continue\n",
    "    if l[0] == '-DOCSTART-':\n",
    "        continue\n",
    "    sentences.append((count,l[0], l[3].strip('\\n')))\n",
    "print(len(sentences))\n",
    "'''\n",
    "f1 = open(path+'udemy2.conll', 'r', encoding=\"utf-8\")\n",
    "for i in f1:\n",
    "    l = i.split(' ')\n",
    "    #print(l)\n",
    "    if (i == '\\n'):\n",
    "        count+=1\n",
    "        continue\n",
    "    if l[0] == '-DOCSTART-':\n",
    "        continue\n",
    "    sentences.append((count,l[0], l[3].strip('\\n')))\n",
    "print(len(sentences))\n",
    "'''\n",
    "\n",
    "f1 = open(path+'pro7.conll', 'r', encoding=\"utf-8\")\n",
    "for i in f1:\n",
    "    l = i.split(' ')\n",
    "    #print(l)\n",
    "    if (i == '\\n'):\n",
    "        count+=1\n",
    "        continue\n",
    "    if l[0] == '-DOCSTART-':\n",
    "        continue\n",
    "    sentences.append((count,l[0], l[3].strip('\\n')))\n",
    "print(len(sentences))"
   ]
  },
  {
   "cell_type": "code",
   "execution_count": null,
   "metadata": {
    "executionInfo": {
     "elapsed": 597,
     "status": "aborted",
     "timestamp": 1645451879142,
     "user": {
      "displayName": "Yến Ngọc Vũ",
      "photoUrl": "https://lh3.googleusercontent.com/a-/AOh14Gi4wfCuo_NJT2C0JTe2p3mU-XITI80n8F0YvaxHpNI=s64",
      "userId": "00577626419227892200"
     },
     "user_tz": -420
    },
    "id": "QcZAddwtJpKO"
   },
   "outputs": [],
   "source": [
    "df_data = pd.DataFrame(sentences, columns=['Sentence #', 'Word', 'Tag'])"
   ]
  },
  {
   "cell_type": "code",
   "execution_count": null,
   "metadata": {
    "executionInfo": {
     "elapsed": 599,
     "status": "aborted",
     "timestamp": 1645451879144,
     "user": {
      "displayName": "Yến Ngọc Vũ",
      "photoUrl": "https://lh3.googleusercontent.com/a-/AOh14Gi4wfCuo_NJT2C0JTe2p3mU-XITI80n8F0YvaxHpNI=s64",
      "userId": "00577626419227892200"
     },
     "user_tz": -420
    },
    "id": "I9pJJdPpJpKO"
   },
   "outputs": [],
   "source": [
    "df_data.head(n=20)"
   ]
  },
  {
   "cell_type": "markdown",
   "metadata": {
    "id": "Oy9SdCUKJpKP"
   },
   "source": [
    "**Have a look TAG cat**"
   ]
  },
  {
   "cell_type": "code",
   "execution_count": null,
   "metadata": {
    "executionInfo": {
     "elapsed": 601,
     "status": "aborted",
     "timestamp": 1645451879146,
     "user": {
      "displayName": "Yến Ngọc Vũ",
      "photoUrl": "https://lh3.googleusercontent.com/a-/AOh14Gi4wfCuo_NJT2C0JTe2p3mU-XITI80n8F0YvaxHpNI=s64",
      "userId": "00577626419227892200"
     },
     "user_tz": -420
    },
    "id": "PiFhpHWyJpKP"
   },
   "outputs": [],
   "source": [
    "df_data.Tag.unique()"
   ]
  },
  {
   "cell_type": "code",
   "execution_count": null,
   "metadata": {
    "executionInfo": {
     "elapsed": 602,
     "status": "aborted",
     "timestamp": 1645451879148,
     "user": {
      "displayName": "Yến Ngọc Vũ",
      "photoUrl": "https://lh3.googleusercontent.com/a-/AOh14Gi4wfCuo_NJT2C0JTe2p3mU-XITI80n8F0YvaxHpNI=s64",
      "userId": "00577626419227892200"
     },
     "user_tz": -420
    },
    "id": "jr9nR8EnJpKP"
   },
   "outputs": [],
   "source": [
    "# Analyse summary of data\n",
    "df_data['Sentence #'].nunique(), df_data.Word.nunique(), df_data.Tag.nunique()"
   ]
  },
  {
   "cell_type": "code",
   "execution_count": null,
   "metadata": {
    "executionInfo": {
     "elapsed": 603,
     "status": "aborted",
     "timestamp": 1645451879149,
     "user": {
      "displayName": "Yến Ngọc Vũ",
      "photoUrl": "https://lh3.googleusercontent.com/a-/AOh14Gi4wfCuo_NJT2C0JTe2p3mU-XITI80n8F0YvaxHpNI=s64",
      "userId": "00577626419227892200"
     },
     "user_tz": -420
    },
    "id": "D9b-DLJFh8jl"
   },
   "outputs": [],
   "source": [
    "word_counts = df_data.groupby(\"Sentence #\")[\"Word\"].agg([\"count\"])\n",
    "word_counts = word_counts.rename(columns={\"count\": \"Word count\"})\n",
    "word_counts.hist(bins=50, figsize=(8,6));"
   ]
  },
  {
   "cell_type": "code",
   "execution_count": null,
   "metadata": {
    "executionInfo": {
     "elapsed": 603,
     "status": "aborted",
     "timestamp": 1645451879150,
     "user": {
      "displayName": "Yến Ngọc Vũ",
      "photoUrl": "https://lh3.googleusercontent.com/a-/AOh14Gi4wfCuo_NJT2C0JTe2p3mU-XITI80n8F0YvaxHpNI=s64",
      "userId": "00577626419227892200"
     },
     "user_tz": -420
    },
    "id": "kaQp2Xw3h28I"
   },
   "outputs": [],
   "source": [
    "MAX_SENTENCE = word_counts.max()[0]\n",
    "print(\"Longest sentence in the corpus contains {} words.\".format(MAX_SENTENCE))"
   ]
  },
  {
   "cell_type": "code",
   "execution_count": null,
   "metadata": {
    "executionInfo": {
     "elapsed": 604,
     "status": "aborted",
     "timestamp": 1645451879151,
     "user": {
      "displayName": "Yến Ngọc Vũ",
      "photoUrl": "https://lh3.googleusercontent.com/a-/AOh14Gi4wfCuo_NJT2C0JTe2p3mU-XITI80n8F0YvaxHpNI=s64",
      "userId": "00577626419227892200"
     },
     "user_tz": -420
    },
    "id": "7uZWj7sMJpKQ"
   },
   "outputs": [],
   "source": [
    "# Analyse the Tag distribution\n",
    "df_data.Tag.value_counts()"
   ]
  },
  {
   "cell_type": "code",
   "execution_count": null,
   "metadata": {
    "executionInfo": {
     "elapsed": 605,
     "status": "aborted",
     "timestamp": 1645451879152,
     "user": {
      "displayName": "Yến Ngọc Vũ",
      "photoUrl": "https://lh3.googleusercontent.com/a-/AOh14Gi4wfCuo_NJT2C0JTe2p3mU-XITI80n8F0YvaxHpNI=s64",
      "userId": "00577626419227892200"
     },
     "user_tz": -420
    },
    "id": "kbQ89nwGJpKQ"
   },
   "outputs": [],
   "source": []
  },
  {
   "cell_type": "markdown",
   "metadata": {
    "id": "YpGhCd1eJpKQ"
   },
   "source": [
    "## Parser data"
   ]
  },
  {
   "cell_type": "markdown",
   "metadata": {
    "id": "FCqlp-YJJpKQ"
   },
   "source": [
    "**Parser data into document structure**"
   ]
  },
  {
   "cell_type": "code",
   "execution_count": null,
   "metadata": {
    "executionInfo": {
     "elapsed": 605,
     "status": "aborted",
     "timestamp": 1645451879153,
     "user": {
      "displayName": "Yến Ngọc Vũ",
      "photoUrl": "https://lh3.googleusercontent.com/a-/AOh14Gi4wfCuo_NJT2C0JTe2p3mU-XITI80n8F0YvaxHpNI=s64",
      "userId": "00577626419227892200"
     },
     "user_tz": -420
    },
    "id": "PNR_EucCJpKR"
   },
   "outputs": [],
   "source": [
    "class SentenceGetter(object):\n",
    "    \n",
    "    def __init__(self, data):\n",
    "        self.n_sent = 1\n",
    "        self.data = data\n",
    "        self.empty = False\n",
    "        agg_func = lambda s: [(w, t) for w, t in zip(s[\"Word\"].values.tolist(),\n",
    "                                                           #s[\"POS\"].values.tolist(),\n",
    "                                                           s[\"Tag\"].values.tolist())]\n",
    "        self.grouped = self.data.groupby(\"Sentence #\").apply(agg_func)\n",
    "        self.sentences = [s for s in self.grouped]\n",
    "    \n",
    "    def get_next(self):\n",
    "        try:\n",
    "            s = self.grouped[\"Sentence: {}\".format(self.n_sent)]\n",
    "            self.n_sent += 1\n",
    "            return s\n",
    "        except:\n",
    "            return None"
   ]
  },
  {
   "cell_type": "code",
   "execution_count": null,
   "metadata": {
    "executionInfo": {
     "elapsed": 606,
     "status": "aborted",
     "timestamp": 1645451879154,
     "user": {
      "displayName": "Yến Ngọc Vũ",
      "photoUrl": "https://lh3.googleusercontent.com/a-/AOh14Gi4wfCuo_NJT2C0JTe2p3mU-XITI80n8F0YvaxHpNI=s64",
      "userId": "00577626419227892200"
     },
     "user_tz": -420
    },
    "id": "9ac1gdynJpKR"
   },
   "outputs": [],
   "source": [
    "# Get full document data struce\n",
    "getter = SentenceGetter(df_data)"
   ]
  },
  {
   "cell_type": "code",
   "execution_count": null,
   "metadata": {
    "executionInfo": {
     "elapsed": 607,
     "status": "aborted",
     "timestamp": 1645451879155,
     "user": {
      "displayName": "Yến Ngọc Vũ",
      "photoUrl": "https://lh3.googleusercontent.com/a-/AOh14Gi4wfCuo_NJT2C0JTe2p3mU-XITI80n8F0YvaxHpNI=s64",
      "userId": "00577626419227892200"
     },
     "user_tz": -420
    },
    "id": "Xehyd9wtJpKR"
   },
   "outputs": [],
   "source": [
    "# Get sentence data\n",
    "sentences = [[s[0] for s in sent] for sent in getter.sentences]\n",
    "sentences[0]"
   ]
  },
  {
   "cell_type": "code",
   "execution_count": null,
   "metadata": {
    "executionInfo": {
     "elapsed": 607,
     "status": "aborted",
     "timestamp": 1645451879156,
     "user": {
      "displayName": "Yến Ngọc Vũ",
      "photoUrl": "https://lh3.googleusercontent.com/a-/AOh14Gi4wfCuo_NJT2C0JTe2p3mU-XITI80n8F0YvaxHpNI=s64",
      "userId": "00577626419227892200"
     },
     "user_tz": -420
    },
    "id": "KrBcPsRVJpKR"
   },
   "outputs": [],
   "source": [
    "# Get pos data\n",
    "poses = [[s[1] for s in sent] for sent in getter.sentences]\n",
    "print(poses[0])"
   ]
  },
  {
   "cell_type": "code",
   "execution_count": null,
   "metadata": {
    "executionInfo": {
     "elapsed": 608,
     "status": "aborted",
     "timestamp": 1645451879157,
     "user": {
      "displayName": "Yến Ngọc Vũ",
      "photoUrl": "https://lh3.googleusercontent.com/a-/AOh14Gi4wfCuo_NJT2C0JTe2p3mU-XITI80n8F0YvaxHpNI=s64",
      "userId": "00577626419227892200"
     },
     "user_tz": -420
    },
    "id": "xvy3AQKtJpKS"
   },
   "outputs": [],
   "source": [
    "# Get tag labels data\n",
    "labels = [[s[1] for s in sent] for sent in getter.sentences]\n",
    "print(labels[0])"
   ]
  },
  {
   "cell_type": "code",
   "execution_count": null,
   "metadata": {
    "executionInfo": {
     "elapsed": 608,
     "status": "aborted",
     "timestamp": 1645451879157,
     "user": {
      "displayName": "Yến Ngọc Vũ",
      "photoUrl": "https://lh3.googleusercontent.com/a-/AOh14Gi4wfCuo_NJT2C0JTe2p3mU-XITI80n8F0YvaxHpNI=s64",
      "userId": "00577626419227892200"
     },
     "user_tz": -420
    },
    "id": "1HvggxTJJpKS"
   },
   "outputs": [],
   "source": []
  },
  {
   "cell_type": "markdown",
   "metadata": {
    "id": "l9gJnT9qJpKS"
   },
   "source": [
    "**Make TAG name into index for training**"
   ]
  },
  {
   "cell_type": "code",
   "execution_count": null,
   "metadata": {
    "executionInfo": {
     "elapsed": 608,
     "status": "aborted",
     "timestamp": 1645451879158,
     "user": {
      "displayName": "Yến Ngọc Vũ",
      "photoUrl": "https://lh3.googleusercontent.com/a-/AOh14Gi4wfCuo_NJT2C0JTe2p3mU-XITI80n8F0YvaxHpNI=s64",
      "userId": "00577626419227892200"
     },
     "user_tz": -420
    },
    "id": "WdswQ4SxJpKS"
   },
   "outputs": [],
   "source": [
    "tags_vals = list(set(df_data[\"Tag\"].values))"
   ]
  },
  {
   "cell_type": "code",
   "execution_count": null,
   "metadata": {
    "executionInfo": {
     "elapsed": 611,
     "status": "aborted",
     "timestamp": 1645451879161,
     "user": {
      "displayName": "Yến Ngọc Vũ",
      "photoUrl": "https://lh3.googleusercontent.com/a-/AOh14Gi4wfCuo_NJT2C0JTe2p3mU-XITI80n8F0YvaxHpNI=s64",
      "userId": "00577626419227892200"
     },
     "user_tz": -420
    },
    "id": "xT5H0F3pJpKS"
   },
   "outputs": [],
   "source": [
    "# Add X  label for word piece support\n",
    "# Add [CLS] and [SEP] as BERT need\n",
    "#tags_vals.append('X')\n",
    "tags_vals.append('[CLS]')\n",
    "tags_vals.append('[SEP]')"
   ]
  },
  {
   "cell_type": "code",
   "execution_count": null,
   "metadata": {
    "executionInfo": {
     "elapsed": 611,
     "status": "aborted",
     "timestamp": 1645451879161,
     "user": {
      "displayName": "Yến Ngọc Vũ",
      "photoUrl": "https://lh3.googleusercontent.com/a-/AOh14Gi4wfCuo_NJT2C0JTe2p3mU-XITI80n8F0YvaxHpNI=s64",
      "userId": "00577626419227892200"
     },
     "user_tz": -420
    },
    "id": "ElgSCMqkJpKT"
   },
   "outputs": [],
   "source": [
    "tags_vals = set(tags_vals)"
   ]
  },
  {
   "cell_type": "code",
   "execution_count": null,
   "metadata": {
    "executionInfo": {
     "elapsed": 612,
     "status": "aborted",
     "timestamp": 1645451879162,
     "user": {
      "displayName": "Yến Ngọc Vũ",
      "photoUrl": "https://lh3.googleusercontent.com/a-/AOh14Gi4wfCuo_NJT2C0JTe2p3mU-XITI80n8F0YvaxHpNI=s64",
      "userId": "00577626419227892200"
     },
     "user_tz": -420
    },
    "id": "0V2G2kqVJpKT"
   },
   "outputs": [],
   "source": [
    "tags_vals"
   ]
  },
  {
   "cell_type": "code",
   "execution_count": null,
   "metadata": {
    "executionInfo": {
     "elapsed": 612,
     "status": "aborted",
     "timestamp": 1645451879163,
     "user": {
      "displayName": "Yến Ngọc Vũ",
      "photoUrl": "https://lh3.googleusercontent.com/a-/AOh14Gi4wfCuo_NJT2C0JTe2p3mU-XITI80n8F0YvaxHpNI=s64",
      "userId": "00577626419227892200"
     },
     "user_tz": -420
    },
    "id": "bsHrn-xEJpKT"
   },
   "outputs": [],
   "source": [
    "# Set a dict for mapping id to tag name\n",
    "#tag2idx = {t: i for i, t in enumerate(tags_vals)}\n",
    "tag2idx= {#'B-CERTIFICATION': 14,\n",
    " 'B-FRAM': 1,\n",
    " 'B-KNOW': 2,\n",
    " 'B-LANG': 3,\n",
    " 'B-PLAT': 4,\n",
    " 'B-TOOL': 5,\n",
    " #'I-CERTIFICATION': 4,\n",
    " 'I-FRAM': 6,\n",
    " 'I-KNOW': 7,\n",
    " 'I-LANG': 8,\n",
    " 'I-PLAT': 9,\n",
    " 'I-TOOL': 10,\n",
    " 'O': 11,\n",
    " #'X': 6,\n",
    " '[CLS]': 12,\n",
    " '[SEP]': 0}"
   ]
  },
  {
   "cell_type": "code",
   "execution_count": null,
   "metadata": {
    "executionInfo": {
     "elapsed": 612,
     "status": "aborted",
     "timestamp": 1645451879163,
     "user": {
      "displayName": "Yến Ngọc Vũ",
      "photoUrl": "https://lh3.googleusercontent.com/a-/AOh14Gi4wfCuo_NJT2C0JTe2p3mU-XITI80n8F0YvaxHpNI=s64",
      "userId": "00577626419227892200"
     },
     "user_tz": -420
    },
    "id": "Ai-3v9cFJpKT"
   },
   "outputs": [],
   "source": [
    "tag2idx"
   ]
  },
  {
   "cell_type": "code",
   "execution_count": null,
   "metadata": {
    "executionInfo": {
     "elapsed": 611,
     "status": "aborted",
     "timestamp": 1645451879164,
     "user": {
      "displayName": "Yến Ngọc Vũ",
      "photoUrl": "https://lh3.googleusercontent.com/a-/AOh14Gi4wfCuo_NJT2C0JTe2p3mU-XITI80n8F0YvaxHpNI=s64",
      "userId": "00577626419227892200"
     },
     "user_tz": -420
    },
    "id": "O7-67wElJpKT"
   },
   "outputs": [],
   "source": [
    "# Mapping index to name\n",
    "tag2name={tag2idx[key] : key for key in tag2idx.keys()}"
   ]
  },
  {
   "cell_type": "code",
   "execution_count": null,
   "metadata": {
    "executionInfo": {
     "elapsed": 611,
     "status": "aborted",
     "timestamp": 1645451879164,
     "user": {
      "displayName": "Yến Ngọc Vũ",
      "photoUrl": "https://lh3.googleusercontent.com/a-/AOh14Gi4wfCuo_NJT2C0JTe2p3mU-XITI80n8F0YvaxHpNI=s64",
      "userId": "00577626419227892200"
     },
     "user_tz": -420
    },
    "id": "MMAvxw_eJpKU"
   },
   "outputs": [],
   "source": []
  },
  {
   "cell_type": "markdown",
   "metadata": {
    "id": "sUkNb-oXJpKU"
   },
   "source": [
    "## Make training data"
   ]
  },
  {
   "cell_type": "markdown",
   "metadata": {
    "id": "NYCFPfT0JpKU"
   },
   "source": [
    "- Set gpu environment\n",
    "- Load tokenizer and tokenize\n",
    "- Set 3 embedding, token embedding, mask word embedding, segmentation embedding\n",
    "- Split data set into train and validate, then send them to dataloader"
   ]
  },
  {
   "cell_type": "code",
   "execution_count": null,
   "metadata": {
    "executionInfo": {
     "elapsed": 611,
     "status": "aborted",
     "timestamp": 1645451879165,
     "user": {
      "displayName": "Yến Ngọc Vũ",
      "photoUrl": "https://lh3.googleusercontent.com/a-/AOh14Gi4wfCuo_NJT2C0JTe2p3mU-XITI80n8F0YvaxHpNI=s64",
      "userId": "00577626419227892200"
     },
     "user_tz": -420
    },
    "id": "veYGcE-bJpKU"
   },
   "outputs": [],
   "source": []
  },
  {
   "cell_type": "markdown",
   "metadata": {
    "id": "W_3yiivtJpKU"
   },
   "source": [
    "**Set up gpu environment**"
   ]
  },
  {
   "cell_type": "code",
   "execution_count": null,
   "metadata": {
    "executionInfo": {
     "elapsed": 611,
     "status": "aborted",
     "timestamp": 1645451879165,
     "user": {
      "displayName": "Yến Ngọc Vũ",
      "photoUrl": "https://lh3.googleusercontent.com/a-/AOh14Gi4wfCuo_NJT2C0JTe2p3mU-XITI80n8F0YvaxHpNI=s64",
      "userId": "00577626419227892200"
     },
     "user_tz": -420
    },
    "id": "2Wqae_tXJpKU"
   },
   "outputs": [],
   "source": [
    "device = torch.device(\"cuda\" if torch.cuda.is_available() else \"cpu\")\n",
    "n_gpu = torch.cuda.device_count()"
   ]
  },
  {
   "cell_type": "code",
   "execution_count": null,
   "metadata": {
    "executionInfo": {
     "elapsed": 611,
     "status": "aborted",
     "timestamp": 1645451879165,
     "user": {
      "displayName": "Yến Ngọc Vũ",
      "photoUrl": "https://lh3.googleusercontent.com/a-/AOh14Gi4wfCuo_NJT2C0JTe2p3mU-XITI80n8F0YvaxHpNI=s64",
      "userId": "00577626419227892200"
     },
     "user_tz": -420
    },
    "id": "VT8CKJyBJpKV"
   },
   "outputs": [],
   "source": [
    "n_gpu"
   ]
  },
  {
   "cell_type": "markdown",
   "metadata": {
    "id": "C1hImXMGJpKV"
   },
   "source": [
    "### Load tokenizer"
   ]
  },
  {
   "cell_type": "code",
   "execution_count": null,
   "metadata": {
    "executionInfo": {
     "elapsed": 612,
     "status": "aborted",
     "timestamp": 1645451879166,
     "user": {
      "displayName": "Yến Ngọc Vũ",
      "photoUrl": "https://lh3.googleusercontent.com/a-/AOh14Gi4wfCuo_NJT2C0JTe2p3mU-XITI80n8F0YvaxHpNI=s64",
      "userId": "00577626419227892200"
     },
     "user_tz": -420
    },
    "id": "Bs1QgqWsJpKV"
   },
   "outputs": [],
   "source": [
    "# Len of the sentence must be not bigger than the training model\n",
    "# See model's 'max_position_embeddings' = 512\n",
    "max_len  = 256"
   ]
  },
  {
   "cell_type": "code",
   "execution_count": null,
   "metadata": {
    "executionInfo": {
     "elapsed": 611,
     "status": "aborted",
     "timestamp": 1645451879166,
     "user": {
      "displayName": "Yến Ngọc Vũ",
      "photoUrl": "https://lh3.googleusercontent.com/a-/AOh14Gi4wfCuo_NJT2C0JTe2p3mU-XITI80n8F0YvaxHpNI=s64",
      "userId": "00577626419227892200"
     },
     "user_tz": -420
    },
    "id": "mRteqfdYMrpn"
   },
   "outputs": [],
   "source": [
    "model_cp=\"bert-base-uncased\""
   ]
  },
  {
   "cell_type": "code",
   "execution_count": null,
   "metadata": {
    "executionInfo": {
     "elapsed": 612,
     "status": "aborted",
     "timestamp": 1645451879167,
     "user": {
      "displayName": "Yến Ngọc Vũ",
      "photoUrl": "https://lh3.googleusercontent.com/a-/AOh14Gi4wfCuo_NJT2C0JTe2p3mU-XITI80n8F0YvaxHpNI=s64",
      "userId": "00577626419227892200"
     },
     "user_tz": -420
    },
    "id": "yuzvAXUSJpKV"
   },
   "outputs": [],
   "source": [
    "# load tokenizer\n",
    "tokenizer=BertTokenizer.from_pretrained(model_cp)"
   ]
  },
  {
   "cell_type": "code",
   "execution_count": null,
   "metadata": {
    "executionInfo": {
     "elapsed": 614,
     "status": "aborted",
     "timestamp": 1645451879169,
     "user": {
      "displayName": "Yến Ngọc Vũ",
      "photoUrl": "https://lh3.googleusercontent.com/a-/AOh14Gi4wfCuo_NJT2C0JTe2p3mU-XITI80n8F0YvaxHpNI=s64",
      "userId": "00577626419227892200"
     },
     "user_tz": -420
    },
    "id": "KbHH_asUJpKW"
   },
   "outputs": [],
   "source": []
  },
  {
   "cell_type": "code",
   "execution_count": null,
   "metadata": {
    "executionInfo": {
     "elapsed": 615,
     "status": "aborted",
     "timestamp": 1645451879170,
     "user": {
      "displayName": "Yến Ngọc Vũ",
      "photoUrl": "https://lh3.googleusercontent.com/a-/AOh14Gi4wfCuo_NJT2C0JTe2p3mU-XITI80n8F0YvaxHpNI=s64",
      "userId": "00577626419227892200"
     },
     "user_tz": -420
    },
    "id": "aDkXS4YdJpKW"
   },
   "outputs": [],
   "source": []
  },
  {
   "cell_type": "markdown",
   "metadata": {
    "id": "kfDdusRSJpKW"
   },
   "source": [
    "**Tokenizer text**"
   ]
  },
  {
   "cell_type": "code",
   "execution_count": null,
   "metadata": {
    "executionInfo": {
     "elapsed": 615,
     "status": "aborted",
     "timestamp": 1645451879170,
     "user": {
      "displayName": "Yến Ngọc Vũ",
      "photoUrl": "https://lh3.googleusercontent.com/a-/AOh14Gi4wfCuo_NJT2C0JTe2p3mU-XITI80n8F0YvaxHpNI=s64",
      "userId": "00577626419227892200"
     },
     "user_tz": -420
    },
    "id": "GCYQ6sMwJpKW"
   },
   "outputs": [],
   "source": [
    "tokenized_texts = []\n",
    "word_piece_labels = []\n",
    "i_inc = 0\n",
    "for word_list,label in (zip(sentences,labels)):\n",
    "    temp_lable = []\n",
    "    temp_token = []\n",
    "    \n",
    "    # Add [CLS] at the front \n",
    "    temp_lable.append('[CLS]')\n",
    "    temp_token.append('[CLS]')\n",
    "    \n",
    "    for word,lab in zip(word_list,label):\n",
    "        token_list = tokenizer.tokenize(word)\n",
    "        for m,token in enumerate(token_list):\n",
    "            temp_token.append(token)\n",
    "            if m==0:\n",
    "                temp_lable.append(lab)\n",
    "            else:\n",
    "                if lab != 'O':\n",
    "                  temp_lable.append('I-'+lab[2:])\n",
    "                else:\n",
    "                  temp_lable.append('O') \n",
    "                \n",
    "    # Add [SEP] at the end\n",
    "    temp_lable.append('[SEP]')\n",
    "    temp_token.append('[SEP]')\n",
    "    \n",
    "    tokenized_texts.append(temp_token)\n",
    "    word_piece_labels.append(temp_lable)\n",
    "    \n",
    "    if 5 > i_inc:\n",
    "        print(\"No.%d,len:%d\"%(i_inc,len(temp_token)))\n",
    "        print(\"texts:%s\"%(\" \".join(temp_token)))\n",
    "        print(\"No.%d,len:%d\"%(i_inc,len(temp_lable)))\n",
    "        print(\"lables:%s\"%(\" \".join(temp_lable)))\n",
    "    i_inc +=1\n",
    "    \n",
    "    \n",
    "    "
   ]
  },
  {
   "cell_type": "code",
   "execution_count": null,
   "metadata": {
    "executionInfo": {
     "elapsed": 616,
     "status": "aborted",
     "timestamp": 1645451879171,
     "user": {
      "displayName": "Yến Ngọc Vũ",
      "photoUrl": "https://lh3.googleusercontent.com/a-/AOh14Gi4wfCuo_NJT2C0JTe2p3mU-XITI80n8F0YvaxHpNI=s64",
      "userId": "00577626419227892200"
     },
     "user_tz": -420
    },
    "id": "3kIh4aNBJpKW"
   },
   "outputs": [],
   "source": []
  },
  {
   "cell_type": "code",
   "execution_count": null,
   "metadata": {
    "executionInfo": {
     "elapsed": 619,
     "status": "aborted",
     "timestamp": 1645451879175,
     "user": {
      "displayName": "Yến Ngọc Vũ",
      "photoUrl": "https://lh3.googleusercontent.com/a-/AOh14Gi4wfCuo_NJT2C0JTe2p3mU-XITI80n8F0YvaxHpNI=s64",
      "userId": "00577626419227892200"
     },
     "user_tz": -420
    },
    "id": "lpiXQQDiJpKW"
   },
   "outputs": [],
   "source": []
  },
  {
   "cell_type": "code",
   "execution_count": null,
   "metadata": {
    "executionInfo": {
     "elapsed": 621,
     "status": "aborted",
     "timestamp": 1645451879177,
     "user": {
      "displayName": "Yến Ngọc Vũ",
      "photoUrl": "https://lh3.googleusercontent.com/a-/AOh14Gi4wfCuo_NJT2C0JTe2p3mU-XITI80n8F0YvaxHpNI=s64",
      "userId": "00577626419227892200"
     },
     "user_tz": -420
    },
    "id": "fXuJaW5FJpKW"
   },
   "outputs": [],
   "source": []
  },
  {
   "cell_type": "markdown",
   "metadata": {
    "id": "qGzYe6KTJpKX"
   },
   "source": [
    "### Set token embedding"
   ]
  },
  {
   "cell_type": "code",
   "execution_count": null,
   "metadata": {
    "executionInfo": {
     "elapsed": 621,
     "status": "aborted",
     "timestamp": 1645451879177,
     "user": {
      "displayName": "Yến Ngọc Vũ",
      "photoUrl": "https://lh3.googleusercontent.com/a-/AOh14Gi4wfCuo_NJT2C0JTe2p3mU-XITI80n8F0YvaxHpNI=s64",
      "userId": "00577626419227892200"
     },
     "user_tz": -420
    },
    "id": "6rmg3GeRJpKX"
   },
   "outputs": [],
   "source": [
    "# Make text token into id\n",
    "input_ids = pad_sequences([tokenizer.convert_tokens_to_ids(txt) for txt in tokenized_texts],\n",
    "                          maxlen=max_len, dtype=\"long\", truncating=\"post\", padding=\"post\")\n",
    "print(input_ids[0])"
   ]
  },
  {
   "cell_type": "code",
   "execution_count": null,
   "metadata": {
    "executionInfo": {
     "elapsed": 621,
     "status": "aborted",
     "timestamp": 1645451879177,
     "user": {
      "displayName": "Yến Ngọc Vũ",
      "photoUrl": "https://lh3.googleusercontent.com/a-/AOh14Gi4wfCuo_NJT2C0JTe2p3mU-XITI80n8F0YvaxHpNI=s64",
      "userId": "00577626419227892200"
     },
     "user_tz": -420
    },
    "id": "nPaJeTPDJpKX"
   },
   "outputs": [],
   "source": [
    "# Make label into id, pad with \"O\" meaning others\n",
    "tags = pad_sequences([[tag2idx.get(l) for l in lab] for lab in word_piece_labels],\n",
    "                     maxlen=max_len, value=tag2idx[\"O\"], padding=\"post\",\n",
    "                     dtype=\"long\", truncating=\"post\")\n",
    "print(tags[0])"
   ]
  },
  {
   "cell_type": "code",
   "execution_count": null,
   "metadata": {
    "executionInfo": {
     "elapsed": 622,
     "status": "aborted",
     "timestamp": 1645451879178,
     "user": {
      "displayName": "Yến Ngọc Vũ",
      "photoUrl": "https://lh3.googleusercontent.com/a-/AOh14Gi4wfCuo_NJT2C0JTe2p3mU-XITI80n8F0YvaxHpNI=s64",
      "userId": "00577626419227892200"
     },
     "user_tz": -420
    },
    "id": "wcV3vh6PJpKX"
   },
   "outputs": [],
   "source": []
  },
  {
   "cell_type": "markdown",
   "metadata": {
    "id": "aDsu60zfJpKX"
   },
   "source": [
    "### Set mask word embedding"
   ]
  },
  {
   "cell_type": "code",
   "execution_count": null,
   "metadata": {
    "executionInfo": {
     "elapsed": 625,
     "status": "aborted",
     "timestamp": 1645451879181,
     "user": {
      "displayName": "Yến Ngọc Vũ",
      "photoUrl": "https://lh3.googleusercontent.com/a-/AOh14Gi4wfCuo_NJT2C0JTe2p3mU-XITI80n8F0YvaxHpNI=s64",
      "userId": "00577626419227892200"
     },
     "user_tz": -420
    },
    "id": "ZpQBpkDtJpKX"
   },
   "outputs": [],
   "source": [
    "# For fine tune of predict, with token mask is 1,pad token is 0\n",
    "attention_masks = [[int(i>0) for i in ii] for ii in input_ids]\n",
    "attention_masks[0];"
   ]
  },
  {
   "cell_type": "markdown",
   "metadata": {
    "id": "pV7nwQzuJpKY"
   },
   "source": [
    "### Set segment embedding(Seem like for sequance tagging task, it's not necessary to make this embedding)"
   ]
  },
  {
   "cell_type": "code",
   "execution_count": null,
   "metadata": {
    "executionInfo": {
     "elapsed": 625,
     "status": "aborted",
     "timestamp": 1645451879182,
     "user": {
      "displayName": "Yến Ngọc Vũ",
      "photoUrl": "https://lh3.googleusercontent.com/a-/AOh14Gi4wfCuo_NJT2C0JTe2p3mU-XITI80n8F0YvaxHpNI=s64",
      "userId": "00577626419227892200"
     },
     "user_tz": -420
    },
    "id": "NxpjL7DmJpKY"
   },
   "outputs": [],
   "source": [
    "# Since only one sentence, all the segment set to 0\n",
    "segment_ids = [[0] * len(input_id) for input_id in input_ids]\n",
    "segment_ids[0];"
   ]
  },
  {
   "cell_type": "code",
   "execution_count": null,
   "metadata": {
    "executionInfo": {
     "elapsed": 626,
     "status": "aborted",
     "timestamp": 1645451879183,
     "user": {
      "displayName": "Yến Ngọc Vũ",
      "photoUrl": "https://lh3.googleusercontent.com/a-/AOh14Gi4wfCuo_NJT2C0JTe2p3mU-XITI80n8F0YvaxHpNI=s64",
      "userId": "00577626419227892200"
     },
     "user_tz": -420
    },
    "id": "ZAcqQ0N2JpKY"
   },
   "outputs": [],
   "source": []
  },
  {
   "cell_type": "markdown",
   "metadata": {
    "id": "33sG-g5FJpKY"
   },
   "source": [
    "## Split data into train and validate"
   ]
  },
  {
   "cell_type": "markdown",
   "metadata": {
    "id": "VzeSqtV-JpKY"
   },
   "source": [
    "70% for training, 30% for validation"
   ]
  },
  {
   "cell_type": "markdown",
   "metadata": {
    "id": "VtULjdiBJpKY"
   },
   "source": [
    "**Split all data**"
   ]
  },
  {
   "cell_type": "code",
   "execution_count": null,
   "metadata": {
    "executionInfo": {
     "elapsed": 626,
     "status": "aborted",
     "timestamp": 1645451879183,
     "user": {
      "displayName": "Yến Ngọc Vũ",
      "photoUrl": "https://lh3.googleusercontent.com/a-/AOh14Gi4wfCuo_NJT2C0JTe2p3mU-XITI80n8F0YvaxHpNI=s64",
      "userId": "00577626419227892200"
     },
     "user_tz": -420
    },
    "id": "4Ne2dSpkJpKY"
   },
   "outputs": [],
   "source": [
    "tr_inputs, val_inputs, tr_tags, val_tags,tr_masks, val_masks,tr_segs, val_segs = train_test_split(input_ids, tags,attention_masks,segment_ids, \n",
    "                                                            random_state=4, test_size=0.2)"
   ]
  },
  {
   "cell_type": "code",
   "execution_count": null,
   "metadata": {
    "executionInfo": {
     "elapsed": 627,
     "status": "aborted",
     "timestamp": 1645451879184,
     "user": {
      "displayName": "Yến Ngọc Vũ",
      "photoUrl": "https://lh3.googleusercontent.com/a-/AOh14Gi4wfCuo_NJT2C0JTe2p3mU-XITI80n8F0YvaxHpNI=s64",
      "userId": "00577626419227892200"
     },
     "user_tz": -420
    },
    "id": "cavo976sJpKY"
   },
   "outputs": [],
   "source": [
    "len(tr_inputs),len(val_inputs),len(tr_segs),len(val_segs)"
   ]
  },
  {
   "cell_type": "code",
   "execution_count": null,
   "metadata": {
    "executionInfo": {
     "elapsed": 628,
     "status": "aborted",
     "timestamp": 1645451879185,
     "user": {
      "displayName": "Yến Ngọc Vũ",
      "photoUrl": "https://lh3.googleusercontent.com/a-/AOh14Gi4wfCuo_NJT2C0JTe2p3mU-XITI80n8F0YvaxHpNI=s64",
      "userId": "00577626419227892200"
     },
     "user_tz": -420
    },
    "id": "_UoKmCBdJpKZ"
   },
   "outputs": [],
   "source": []
  },
  {
   "cell_type": "markdown",
   "metadata": {
    "id": "IM1zBWtNJpKZ"
   },
   "source": [
    "**Set data into tensor**"
   ]
  },
  {
   "cell_type": "markdown",
   "metadata": {
    "id": "r2SL18tvJpKZ"
   },
   "source": [
    "Not recommend tensor.to(device) at this process, since it will run out of GPU memory"
   ]
  },
  {
   "cell_type": "code",
   "execution_count": null,
   "metadata": {
    "executionInfo": {
     "elapsed": 629,
     "status": "aborted",
     "timestamp": 1645451879186,
     "user": {
      "displayName": "Yến Ngọc Vũ",
      "photoUrl": "https://lh3.googleusercontent.com/a-/AOh14Gi4wfCuo_NJT2C0JTe2p3mU-XITI80n8F0YvaxHpNI=s64",
      "userId": "00577626419227892200"
     },
     "user_tz": -420
    },
    "id": "YVpBiATZJpKZ"
   },
   "outputs": [],
   "source": [
    "tr_inputs = torch.tensor(tr_inputs)\n",
    "val_inputs = torch.tensor(val_inputs)\n",
    "tr_tags = torch.tensor(tr_tags)\n",
    "val_tags = torch.tensor(val_tags)\n",
    "tr_masks = torch.tensor(tr_masks)\n",
    "val_masks = torch.tensor(val_masks)\n",
    "tr_segs = torch.tensor(tr_segs)\n",
    "val_segs = torch.tensor(val_segs)"
   ]
  },
  {
   "cell_type": "code",
   "execution_count": null,
   "metadata": {
    "executionInfo": {
     "elapsed": 79,
     "status": "aborted",
     "timestamp": 1645451879191,
     "user": {
      "displayName": "Yến Ngọc Vũ",
      "photoUrl": "https://lh3.googleusercontent.com/a-/AOh14Gi4wfCuo_NJT2C0JTe2p3mU-XITI80n8F0YvaxHpNI=s64",
      "userId": "00577626419227892200"
     },
     "user_tz": -420
    },
    "id": "xDyJ7OQWJpKZ"
   },
   "outputs": [],
   "source": []
  },
  {
   "cell_type": "markdown",
   "metadata": {
    "id": "r7mIVlfbJpKZ"
   },
   "source": [
    "**Put data into data loader**"
   ]
  },
  {
   "cell_type": "code",
   "execution_count": null,
   "metadata": {
    "executionInfo": {
     "elapsed": 80,
     "status": "aborted",
     "timestamp": 1645451879192,
     "user": {
      "displayName": "Yến Ngọc Vũ",
      "photoUrl": "https://lh3.googleusercontent.com/a-/AOh14Gi4wfCuo_NJT2C0JTe2p3mU-XITI80n8F0YvaxHpNI=s64",
      "userId": "00577626419227892200"
     },
     "user_tz": -420
    },
    "id": "_UCiNRiLJpKZ"
   },
   "outputs": [],
   "source": [
    "# Set batch num\n",
    "batch_num = 32"
   ]
  },
  {
   "cell_type": "code",
   "execution_count": null,
   "metadata": {
    "executionInfo": {
     "elapsed": 80,
     "status": "aborted",
     "timestamp": 1645451879192,
     "user": {
      "displayName": "Yến Ngọc Vũ",
      "photoUrl": "https://lh3.googleusercontent.com/a-/AOh14Gi4wfCuo_NJT2C0JTe2p3mU-XITI80n8F0YvaxHpNI=s64",
      "userId": "00577626419227892200"
     },
     "user_tz": -420
    },
    "id": "Va_PtvrzJpKZ"
   },
   "outputs": [],
   "source": [
    "# Only set token embedding, attention embedding, no segment embedding\n",
    "train_data = TensorDataset(tr_inputs, tr_masks, tr_tags)\n",
    "train_sampler = RandomSampler(train_data)\n",
    "# Drop last can make batch training better for the last one\n",
    "train_dataloader = DataLoader(train_data, sampler=train_sampler, batch_size=batch_num,drop_last=True)\n",
    "\n",
    "valid_data = TensorDataset(val_inputs, val_masks, val_tags)\n",
    "valid_sampler = SequentialSampler(valid_data)\n",
    "valid_dataloader = DataLoader(valid_data, sampler=valid_sampler, batch_size=batch_num)"
   ]
  },
  {
   "cell_type": "code",
   "execution_count": null,
   "metadata": {
    "executionInfo": {
     "elapsed": 81,
     "status": "aborted",
     "timestamp": 1645451879193,
     "user": {
      "displayName": "Yến Ngọc Vũ",
      "photoUrl": "https://lh3.googleusercontent.com/a-/AOh14Gi4wfCuo_NJT2C0JTe2p3mU-XITI80n8F0YvaxHpNI=s64",
      "userId": "00577626419227892200"
     },
     "user_tz": -420
    },
    "id": "vDvfzampJpKa"
   },
   "outputs": [],
   "source": []
  },
  {
   "cell_type": "markdown",
   "metadata": {
    "id": "4vPC3alLJpKa"
   },
   "source": [
    "## Train model"
   ]
  },
  {
   "cell_type": "markdown",
   "metadata": {
    "id": "iugiI5aCJpKa"
   },
   "source": [
    "**Load BERT model**"
   ]
  },
  {
   "cell_type": "code",
   "execution_count": null,
   "metadata": {
    "executionInfo": {
     "elapsed": 80,
     "status": "aborted",
     "timestamp": 1645451879193,
     "user": {
      "displayName": "Yến Ngọc Vũ",
      "photoUrl": "https://lh3.googleusercontent.com/a-/AOh14Gi4wfCuo_NJT2C0JTe2p3mU-XITI80n8F0YvaxHpNI=s64",
      "userId": "00577626419227892200"
     },
     "user_tz": -420
    },
    "id": "C9gCG-enifoI"
   },
   "outputs": [],
   "source": [
    "from transformers import XLNetTokenizer, XLNetForTokenClassification"
   ]
  },
  {
   "cell_type": "code",
   "execution_count": null,
   "metadata": {
    "executionInfo": {
     "elapsed": 81,
     "status": "aborted",
     "timestamp": 1645451879194,
     "user": {
      "displayName": "Yến Ngọc Vũ",
      "photoUrl": "https://lh3.googleusercontent.com/a-/AOh14Gi4wfCuo_NJT2C0JTe2p3mU-XITI80n8F0YvaxHpNI=s64",
      "userId": "00577626419227892200"
     },
     "user_tz": -420
    },
    "id": "_Z4BP-roJpKa"
   },
   "outputs": [],
   "source": [
    "# In this folder, contain model confg(json) and model weight(bin) files\n",
    "model_file_address = 'xlnet-base-cased'"
   ]
  },
  {
   "cell_type": "code",
   "execution_count": null,
   "metadata": {
    "executionInfo": {
     "elapsed": 82,
     "status": "aborted",
     "timestamp": 1645451879195,
     "user": {
      "displayName": "Yến Ngọc Vũ",
      "photoUrl": "https://lh3.googleusercontent.com/a-/AOh14Gi4wfCuo_NJT2C0JTe2p3mU-XITI80n8F0YvaxHpNI=s64",
      "userId": "00577626419227892200"
     },
     "user_tz": -420
    },
    "id": "8Z-UCUucJpKa"
   },
   "outputs": [],
   "source": [
    "# Will load config and weight with from_pretrained()\n",
    "model = XLNetForTokenClassification.from_pretrained(model_file_address,num_labels=len(tag2idx))"
   ]
  },
  {
   "cell_type": "code",
   "execution_count": null,
   "metadata": {
    "executionInfo": {
     "elapsed": 82,
     "status": "aborted",
     "timestamp": 1645451879195,
     "user": {
      "displayName": "Yến Ngọc Vũ",
      "photoUrl": "https://lh3.googleusercontent.com/a-/AOh14Gi4wfCuo_NJT2C0JTe2p3mU-XITI80n8F0YvaxHpNI=s64",
      "userId": "00577626419227892200"
     },
     "user_tz": -420
    },
    "id": "jvYvC9XIJpKa"
   },
   "outputs": [],
   "source": [
    "model;"
   ]
  },
  {
   "cell_type": "code",
   "execution_count": null,
   "metadata": {
    "executionInfo": {
     "elapsed": 83,
     "status": "aborted",
     "timestamp": 1645451879196,
     "user": {
      "displayName": "Yến Ngọc Vũ",
      "photoUrl": "https://lh3.googleusercontent.com/a-/AOh14Gi4wfCuo_NJT2C0JTe2p3mU-XITI80n8F0YvaxHpNI=s64",
      "userId": "00577626419227892200"
     },
     "user_tz": -420
    },
    "id": "Y2fAvY-8JpKa"
   },
   "outputs": [],
   "source": [
    "# Set model to GPU,if you are using GPU machine\n",
    "model.cuda();"
   ]
  },
  {
   "cell_type": "code",
   "execution_count": null,
   "metadata": {
    "executionInfo": {
     "elapsed": 83,
     "status": "aborted",
     "timestamp": 1645451879196,
     "user": {
      "displayName": "Yến Ngọc Vũ",
      "photoUrl": "https://lh3.googleusercontent.com/a-/AOh14Gi4wfCuo_NJT2C0JTe2p3mU-XITI80n8F0YvaxHpNI=s64",
      "userId": "00577626419227892200"
     },
     "user_tz": -420
    },
    "id": "lQxjOsx5JpKb"
   },
   "outputs": [],
   "source": [
    "# Add multi GPU support\n",
    "if n_gpu >1:\n",
    "    model = torch.nn.DataParallel(model)"
   ]
  },
  {
   "cell_type": "code",
   "execution_count": null,
   "metadata": {
    "executionInfo": {
     "elapsed": 84,
     "status": "aborted",
     "timestamp": 1645451879197,
     "user": {
      "displayName": "Yến Ngọc Vũ",
      "photoUrl": "https://lh3.googleusercontent.com/a-/AOh14Gi4wfCuo_NJT2C0JTe2p3mU-XITI80n8F0YvaxHpNI=s64",
      "userId": "00577626419227892200"
     },
     "user_tz": -420
    },
    "id": "vLnAw02eJpKb"
   },
   "outputs": [],
   "source": [
    "# Set epoch and grad max num\n",
    "epochs = 5\n",
    "max_grad_norm = 1.0"
   ]
  },
  {
   "cell_type": "code",
   "execution_count": null,
   "metadata": {
    "executionInfo": {
     "elapsed": 84,
     "status": "aborted",
     "timestamp": 1645451879197,
     "user": {
      "displayName": "Yến Ngọc Vũ",
      "photoUrl": "https://lh3.googleusercontent.com/a-/AOh14Gi4wfCuo_NJT2C0JTe2p3mU-XITI80n8F0YvaxHpNI=s64",
      "userId": "00577626419227892200"
     },
     "user_tz": -420
    },
    "id": "2sGskkGzJpKb"
   },
   "outputs": [],
   "source": [
    "# Cacluate train optimiazaion num\n",
    "num_train_optimization_steps = int( math.ceil(len(tr_inputs) / batch_num) / 1) * epochs"
   ]
  },
  {
   "cell_type": "code",
   "execution_count": null,
   "metadata": {
    "executionInfo": {
     "elapsed": 85,
     "status": "aborted",
     "timestamp": 1645451879198,
     "user": {
      "displayName": "Yến Ngọc Vũ",
      "photoUrl": "https://lh3.googleusercontent.com/a-/AOh14Gi4wfCuo_NJT2C0JTe2p3mU-XITI80n8F0YvaxHpNI=s64",
      "userId": "00577626419227892200"
     },
     "user_tz": -420
    },
    "id": "IXFYtnrLJpKb"
   },
   "outputs": [],
   "source": []
  },
  {
   "cell_type": "markdown",
   "metadata": {
    "id": "wpPd1d8rJpKb"
   },
   "source": [
    "### Set fine tuning method"
   ]
  },
  {
   "cell_type": "markdown",
   "metadata": {
    "id": "M_4YeLLvJpKb"
   },
   "source": [
    "**Manual optimizer**"
   ]
  },
  {
   "cell_type": "code",
   "execution_count": null,
   "metadata": {
    "executionInfo": {
     "elapsed": 85,
     "status": "aborted",
     "timestamp": 1645451879198,
     "user": {
      "displayName": "Yến Ngọc Vũ",
      "photoUrl": "https://lh3.googleusercontent.com/a-/AOh14Gi4wfCuo_NJT2C0JTe2p3mU-XITI80n8F0YvaxHpNI=s64",
      "userId": "00577626419227892200"
     },
     "user_tz": -420
    },
    "id": "z18Sx3T9JpKb"
   },
   "outputs": [],
   "source": [
    "# True: fine tuning all the layers \n",
    "# False: only fine tuning the classifier layers\n",
    "FULL_FINETUNING = True"
   ]
  },
  {
   "cell_type": "code",
   "execution_count": null,
   "metadata": {
    "executionInfo": {
     "elapsed": 86,
     "status": "aborted",
     "timestamp": 1645451879199,
     "user": {
      "displayName": "Yến Ngọc Vũ",
      "photoUrl": "https://lh3.googleusercontent.com/a-/AOh14Gi4wfCuo_NJT2C0JTe2p3mU-XITI80n8F0YvaxHpNI=s64",
      "userId": "00577626419227892200"
     },
     "user_tz": -420
    },
    "id": "DOVfyub1JpKb"
   },
   "outputs": [],
   "source": [
    "if FULL_FINETUNING:\n",
    "    # Fine tune model all layer parameters\n",
    "    param_optimizer = list(model.named_parameters())\n",
    "    no_decay = ['bias', 'gamma', 'beta']\n",
    "    optimizer_grouped_parameters = [\n",
    "        {'params': [p for n, p in param_optimizer if not any(nd in n for nd in no_decay)],\n",
    "         'weight_decay_rate': 0.01},\n",
    "        {'params': [p for n, p in param_optimizer if any(nd in n for nd in no_decay)],\n",
    "         'weight_decay_rate': 0.0}\n",
    "    ]\n",
    "else:\n",
    "    # Only fine tune classifier parameters\n",
    "    param_optimizer = list(model.classifier.named_parameters()) \n",
    "    optimizer_grouped_parameters = [{\"params\": [p for n, p in param_optimizer]}]\n",
    "optimizer = AdamW(optimizer_grouped_parameters, lr=5e-5)"
   ]
  },
  {
   "cell_type": "code",
   "execution_count": null,
   "metadata": {
    "executionInfo": {
     "elapsed": 86,
     "status": "aborted",
     "timestamp": 1645451879199,
     "user": {
      "displayName": "Yến Ngọc Vũ",
      "photoUrl": "https://lh3.googleusercontent.com/a-/AOh14Gi4wfCuo_NJT2C0JTe2p3mU-XITI80n8F0YvaxHpNI=s64",
      "userId": "00577626419227892200"
     },
     "user_tz": -420
    },
    "id": "JL7eh8OmJpKc"
   },
   "outputs": [],
   "source": []
  },
  {
   "cell_type": "code",
   "execution_count": null,
   "metadata": {
    "executionInfo": {
     "elapsed": 85,
     "status": "aborted",
     "timestamp": 1645451879200,
     "user": {
      "displayName": "Yến Ngọc Vũ",
      "photoUrl": "https://lh3.googleusercontent.com/a-/AOh14Gi4wfCuo_NJT2C0JTe2p3mU-XITI80n8F0YvaxHpNI=s64",
      "userId": "00577626419227892200"
     },
     "user_tz": -420
    },
    "id": "1zAwUiP-JpKc"
   },
   "outputs": [],
   "source": []
  },
  {
   "cell_type": "markdown",
   "metadata": {
    "id": "mZE5uCSrJpKc"
   },
   "source": [
    "### Fine-tuning model"
   ]
  },
  {
   "cell_type": "code",
   "execution_count": null,
   "metadata": {
    "executionInfo": {
     "elapsed": 87,
     "status": "aborted",
     "timestamp": 1645451879202,
     "user": {
      "displayName": "Yến Ngọc Vũ",
      "photoUrl": "https://lh3.googleusercontent.com/a-/AOh14Gi4wfCuo_NJT2C0JTe2p3mU-XITI80n8F0YvaxHpNI=s64",
      "userId": "00577626419227892200"
     },
     "user_tz": -420
    },
    "id": "N2ZIJnm3JpKc",
    "scrolled": false
   },
   "outputs": [],
   "source": [
    "print(\"***** Running training *****\")\n",
    "print(\"  Num examples = %d\"%(len(tr_inputs)))\n",
    "print(\"  Batch size = %d\"%(batch_num))\n",
    "print(\"  Num steps = %d\"%(num_train_optimization_steps))\n",
    "loss_values = []\n",
    "model.train();\n",
    "#validation_loss_values = []\n",
    "\n",
    "for _ in trange(epochs,desc=\"Epoch\"):\n",
    "    # ========================================\n",
    "    #               Training\n",
    "    # ========================================\n",
    "    \n",
    "    tr_loss = 0\n",
    "    nb_tr_examples, nb_tr_steps = 0, 0\n",
    "    for step, batch in enumerate(train_dataloader):\n",
    "        # add batch to gpu\n",
    "        batch = tuple(t.to(device) for t in batch)\n",
    "        b_input_ids, b_input_mask, b_labels = batch\n",
    "        \n",
    "        # forward pass\n",
    "        outputs = model(b_input_ids, token_type_ids=None,\n",
    "        attention_mask=b_input_mask, labels=b_labels)\n",
    "        loss, scores = outputs[:2]\n",
    "        if n_gpu>1:\n",
    "            # When multi gpu, average it\n",
    "            loss = loss.mean()\n",
    "        \n",
    "        # backward pass\n",
    "        loss.backward()\n",
    "        \n",
    "        # track train loss\n",
    "        tr_loss += loss.item()\n",
    "        nb_tr_examples += b_input_ids.size(0)\n",
    "        nb_tr_steps += 1\n",
    "        \n",
    "        # gradient clipping\n",
    "        torch.nn.utils.clip_grad_norm_(parameters=model.parameters(), max_norm=max_grad_norm)\n",
    "        \n",
    "        # update parameters\n",
    "        optimizer.step()\n",
    "        optimizer.zero_grad()\n",
    "        \n",
    "    # print train loss per epoch\n",
    "    avg_train_loss= tr_loss/nb_tr_steps \n",
    "    print(\"Train loss: {}\".format(avg_train_loss))\n",
    "     \n",
    "    # Store the loss value for plotting the learning curve.\n",
    "    loss_values.append(avg_train_loss)"
   ]
  },
  {
   "cell_type": "code",
   "execution_count": null,
   "metadata": {
    "executionInfo": {
     "elapsed": 88,
     "status": "aborted",
     "timestamp": 1645451879203,
     "user": {
      "displayName": "Yến Ngọc Vũ",
      "photoUrl": "https://lh3.googleusercontent.com/a-/AOh14Gi4wfCuo_NJT2C0JTe2p3mU-XITI80n8F0YvaxHpNI=s64",
      "userId": "00577626419227892200"
     },
     "user_tz": -420
    },
    "id": "rZoSQ2CDJpKc"
   },
   "outputs": [],
   "source": [
    "import matplotlib.pyplot as plt\n",
    "%matplotlib inline\n",
    "# Plot the learning curve.\n",
    "plt.plot(loss_values, 'b-o', label=\"training loss\")\n",
    "#plt.plot(validation_loss_values, 'r-o', label=\"validation loss\")\n",
    "\n",
    "# Label the plot.\n",
    "plt.title(\"Learning curve\")\n",
    "plt.xlabel(\"Epoch\")\n",
    "plt.ylabel(\"Loss\")\n",
    "plt.legend() \n",
    "\n",
    "plt.show()"
   ]
  },
  {
   "cell_type": "markdown",
   "metadata": {
    "id": "nQGPCcBxJpKd"
   },
   "source": [
    "## Save model "
   ]
  },
  {
   "cell_type": "code",
   "execution_count": null,
   "metadata": {
    "executionInfo": {
     "elapsed": 89,
     "status": "aborted",
     "timestamp": 1645451879204,
     "user": {
      "displayName": "Yến Ngọc Vũ",
      "photoUrl": "https://lh3.googleusercontent.com/a-/AOh14Gi4wfCuo_NJT2C0JTe2p3mU-XITI80n8F0YvaxHpNI=s64",
      "userId": "00577626419227892200"
     },
     "user_tz": -420
    },
    "id": "g5p6NSuqJpKd"
   },
   "outputs": [],
   "source": [
    "#bert_out_address = '/content/models/bert_out_model/en09'\n",
    "#bert_out_address =\"/content/drive/MyDrive/LUẬN VĂN-K18_CQ/02. Bình-Ngọc/Data/Dataset/conll/b_simp\"\n",
    "bert_out_address = '/home/tyeson/Desktop/ML_NER/Test_Train_Dataset/'"
   ]
  },
  {
   "cell_type": "code",
   "execution_count": null,
   "metadata": {
    "executionInfo": {
     "elapsed": 89,
     "status": "aborted",
     "timestamp": 1645451879204,
     "user": {
      "displayName": "Yến Ngọc Vũ",
      "photoUrl": "https://lh3.googleusercontent.com/a-/AOh14Gi4wfCuo_NJT2C0JTe2p3mU-XITI80n8F0YvaxHpNI=s64",
      "userId": "00577626419227892200"
     },
     "user_tz": -420
    },
    "id": "tyuK5q98JpKd"
   },
   "outputs": [],
   "source": [
    "# Make dir if not exits\n",
    "if not os.path.exists(bert_out_address):\n",
    "        os.makedirs(bert_out_address)"
   ]
  },
  {
   "cell_type": "code",
   "execution_count": null,
   "metadata": {
    "executionInfo": {
     "elapsed": 89,
     "status": "aborted",
     "timestamp": 1645451879204,
     "user": {
      "displayName": "Yến Ngọc Vũ",
      "photoUrl": "https://lh3.googleusercontent.com/a-/AOh14Gi4wfCuo_NJT2C0JTe2p3mU-XITI80n8F0YvaxHpNI=s64",
      "userId": "00577626419227892200"
     },
     "user_tz": -420
    },
    "id": "UqDNnBBEJpKd"
   },
   "outputs": [],
   "source": [
    "# Save a trained model, configuration and tokenizer\n",
    "model_to_save = model.module if hasattr(model, 'module') else model  # Only save the model it-self"
   ]
  },
  {
   "cell_type": "code",
   "execution_count": null,
   "metadata": {
    "executionInfo": {
     "elapsed": 90,
     "status": "aborted",
     "timestamp": 1645451879205,
     "user": {
      "displayName": "Yến Ngọc Vũ",
      "photoUrl": "https://lh3.googleusercontent.com/a-/AOh14Gi4wfCuo_NJT2C0JTe2p3mU-XITI80n8F0YvaxHpNI=s64",
      "userId": "00577626419227892200"
     },
     "user_tz": -420
    },
    "id": "dfSuKWfpJpKd"
   },
   "outputs": [],
   "source": [
    "# If we save using the predefined names, we can load using `from_pretrained`\n",
    "output_model_file = os.path.join(bert_out_address, \"pytorch_model.bin\")\n",
    "output_config_file = os.path.join(bert_out_address, \"config.json\")"
   ]
  },
  {
   "cell_type": "code",
   "execution_count": null,
   "metadata": {
    "executionInfo": {
     "elapsed": 89,
     "status": "aborted",
     "timestamp": 1645451879205,
     "user": {
      "displayName": "Yến Ngọc Vũ",
      "photoUrl": "https://lh3.googleusercontent.com/a-/AOh14Gi4wfCuo_NJT2C0JTe2p3mU-XITI80n8F0YvaxHpNI=s64",
      "userId": "00577626419227892200"
     },
     "user_tz": -420
    },
    "id": "Zt5fT8SzJpKd",
    "scrolled": false
   },
   "outputs": [],
   "source": [
    "# Save model into file\n",
    "torch.save(model_to_save.state_dict(), output_model_file)\n",
    "model_to_save.config.to_json_file(output_config_file)\n",
    "tokenizer.save_vocabulary(bert_out_address)"
   ]
  },
  {
   "cell_type": "code",
   "execution_count": null,
   "metadata": {
    "executionInfo": {
     "elapsed": 90,
     "status": "aborted",
     "timestamp": 1645451879206,
     "user": {
      "displayName": "Yến Ngọc Vũ",
      "photoUrl": "https://lh3.googleusercontent.com/a-/AOh14Gi4wfCuo_NJT2C0JTe2p3mU-XITI80n8F0YvaxHpNI=s64",
      "userId": "00577626419227892200"
     },
     "user_tz": -420
    },
    "id": "M9EUHfMJJpKe"
   },
   "outputs": [],
   "source": []
  },
  {
   "cell_type": "code",
   "execution_count": null,
   "metadata": {
    "executionInfo": {
     "elapsed": 90,
     "status": "aborted",
     "timestamp": 1645451879206,
     "user": {
      "displayName": "Yến Ngọc Vũ",
      "photoUrl": "https://lh3.googleusercontent.com/a-/AOh14Gi4wfCuo_NJT2C0JTe2p3mU-XITI80n8F0YvaxHpNI=s64",
      "userId": "00577626419227892200"
     },
     "user_tz": -420
    },
    "id": "m1voUUkYJpKe"
   },
   "outputs": [],
   "source": []
  },
  {
   "cell_type": "markdown",
   "metadata": {
    "id": "TquWjwNMJpKe"
   },
   "source": [
    "## Load model"
   ]
  },
  {
   "cell_type": "code",
   "execution_count": null,
   "metadata": {
    "executionInfo": {
     "elapsed": 91,
     "status": "aborted",
     "timestamp": 1645451879207,
     "user": {
      "displayName": "Yến Ngọc Vũ",
      "photoUrl": "https://lh3.googleusercontent.com/a-/AOh14Gi4wfCuo_NJT2C0JTe2p3mU-XITI80n8F0YvaxHpNI=s64",
      "userId": "00577626419227892200"
     },
     "user_tz": -420
    },
    "id": "W8qol3OnJpKe"
   },
   "outputs": [],
   "source": [
    "model = XLNetForTokenClassification.from_pretrained(bert_out_address,num_labels=len(tag2idx))"
   ]
  },
  {
   "cell_type": "code",
   "execution_count": null,
   "metadata": {
    "executionInfo": {
     "elapsed": 91,
     "status": "aborted",
     "timestamp": 1645451879207,
     "user": {
      "displayName": "Yến Ngọc Vũ",
      "photoUrl": "https://lh3.googleusercontent.com/a-/AOh14Gi4wfCuo_NJT2C0JTe2p3mU-XITI80n8F0YvaxHpNI=s64",
      "userId": "00577626419227892200"
     },
     "user_tz": -420
    },
    "id": "76G2GFk8JpKe"
   },
   "outputs": [],
   "source": [
    "# Set model to GPU\n",
    "model.cuda();"
   ]
  },
  {
   "cell_type": "code",
   "execution_count": null,
   "metadata": {
    "executionInfo": {
     "elapsed": 92,
     "status": "aborted",
     "timestamp": 1645451879208,
     "user": {
      "displayName": "Yến Ngọc Vũ",
      "photoUrl": "https://lh3.googleusercontent.com/a-/AOh14Gi4wfCuo_NJT2C0JTe2p3mU-XITI80n8F0YvaxHpNI=s64",
      "userId": "00577626419227892200"
     },
     "user_tz": -420
    },
    "id": "7ZhLRoGCJpKe"
   },
   "outputs": [],
   "source": [
    "if n_gpu >1:\n",
    "    model = torch.nn.DataParallel(model)"
   ]
  },
  {
   "cell_type": "code",
   "execution_count": null,
   "metadata": {
    "executionInfo": {
     "elapsed": 92,
     "status": "aborted",
     "timestamp": 1645451879208,
     "user": {
      "displayName": "Yến Ngọc Vũ",
      "photoUrl": "https://lh3.googleusercontent.com/a-/AOh14Gi4wfCuo_NJT2C0JTe2p3mU-XITI80n8F0YvaxHpNI=s64",
      "userId": "00577626419227892200"
     },
     "user_tz": -420
    },
    "id": "q7RSndkRJpKe"
   },
   "outputs": [],
   "source": []
  },
  {
   "cell_type": "code",
   "execution_count": null,
   "metadata": {
    "executionInfo": {
     "elapsed": 91,
     "status": "aborted",
     "timestamp": 1645451879208,
     "user": {
      "displayName": "Yến Ngọc Vũ",
      "photoUrl": "https://lh3.googleusercontent.com/a-/AOh14Gi4wfCuo_NJT2C0JTe2p3mU-XITI80n8F0YvaxHpNI=s64",
      "userId": "00577626419227892200"
     },
     "user_tz": -420
    },
    "id": "A-3MIqz8JpKe"
   },
   "outputs": [],
   "source": []
  },
  {
   "cell_type": "markdown",
   "metadata": {
    "id": "PUzTb2aGJpKf"
   },
   "source": [
    "## Eval model"
   ]
  },
  {
   "cell_type": "code",
   "execution_count": null,
   "metadata": {
    "executionInfo": {
     "elapsed": 92,
     "status": "aborted",
     "timestamp": 1645451879209,
     "user": {
      "displayName": "Yến Ngọc Vũ",
      "photoUrl": "https://lh3.googleusercontent.com/a-/AOh14Gi4wfCuo_NJT2C0JTe2p3mU-XITI80n8F0YvaxHpNI=s64",
      "userId": "00577626419227892200"
     },
     "user_tz": -420
    },
    "id": "aMfD5FYpJpKf"
   },
   "outputs": [],
   "source": [
    "# Evalue loop\n",
    "model.eval();"
   ]
  },
  {
   "cell_type": "code",
   "execution_count": null,
   "metadata": {
    "executionInfo": {
     "elapsed": 92,
     "status": "aborted",
     "timestamp": 1645451879209,
     "user": {
      "displayName": "Yến Ngọc Vũ",
      "photoUrl": "https://lh3.googleusercontent.com/a-/AOh14Gi4wfCuo_NJT2C0JTe2p3mU-XITI80n8F0YvaxHpNI=s64",
      "userId": "00577626419227892200"
     },
     "user_tz": -420
    },
    "id": "y1ttH9fOJpKf"
   },
   "outputs": [],
   "source": [
    "eval_loss, eval_accuracy = 0, 0\n",
    "nb_eval_steps, nb_eval_examples = 0, 0\n",
    "y_true = []\n",
    "y_pred = []\n",
    "\n",
    "print(\"***** Running evaluation *****\")\n",
    "print(\"  Num examples ={}\".format(len(val_inputs)))\n",
    "print(\"  Batch size = {}\".format(batch_num))\n",
    "for step, batch in enumerate(valid_dataloader):\n",
    "    batch = tuple(t.to(device) for t in batch)\n",
    "    input_ids, input_mask, label_ids = batch\n",
    "    \n",
    "#     if step > 2:\n",
    "#         break\n",
    "    \n",
    "    with torch.no_grad():\n",
    "        outputs = model(input_ids, token_type_ids=None,\n",
    "        attention_mask=input_mask,)\n",
    "        # For eval mode, the first result of outputs is logits\n",
    "        logits = outputs[0] \n",
    "    \n",
    "    # Get NER predict result\n",
    "    logits = torch.argmax(F.log_softmax(logits,dim=2),dim=2)\n",
    "    logits = logits.detach().cpu().numpy()\n",
    "    \n",
    "    \n",
    "    # Get NER true result\n",
    "    label_ids = label_ids.to('cpu').numpy()\n",
    "    \n",
    "    \n",
    "    # Only predict the real word, mark=0, will not calculate\n",
    "    input_mask = input_mask.to('cpu').numpy()\n",
    "    \n",
    "    # Compare the valuable predict result\n",
    "    for i,mask in enumerate(input_mask):\n",
    "        # Real one\n",
    "        temp_1 = []\n",
    "        # Predict one\n",
    "        temp_2 = []\n",
    "        \n",
    "        for j, m in enumerate(mask):\n",
    "            # Mark=0, meaning its a pad word, dont compare\n",
    "            if m:\n",
    "                if tag2name[label_ids[i][j]] != \"\" and tag2name[label_ids[i][j]] != \"X\" and tag2name[label_ids[i][j]] != \"[CLS]\" and tag2name[label_ids[i][j]] != \"[SEP]\" : # Exclude the X label\n",
    "                    temp_1.append(tag2name[label_ids[i][j]])\n",
    "                    temp_2.append(tag2name[logits[i][j]])\n",
    "            else:\n",
    "                break\n",
    "        \n",
    "        y_true.append(temp_1)\n",
    "        y_pred.append(temp_2)\n",
    "print(len(y_true))\n",
    "print(len(y_pred))\n",
    "        \n",
    "print(\"f1 socre: %f\"%(f1_score(y_true, y_pred)))\n",
    "print(\"Accuracy score: %f\"%(accuracy_score(y_true, y_pred)))\n",
    "\n",
    "# Get acc , recall, F1 result report\n",
    "report = classification_report(y_true, y_pred,digits=4)\n",
    "print(report)\n"
   ]
  },
  {
   "cell_type": "code",
   "execution_count": null,
   "metadata": {
    "executionInfo": {
     "elapsed": 93,
     "status": "aborted",
     "timestamp": 1645451879210,
     "user": {
      "displayName": "Yến Ngọc Vũ",
      "photoUrl": "https://lh3.googleusercontent.com/a-/AOh14Gi4wfCuo_NJT2C0JTe2p3mU-XITI80n8F0YvaxHpNI=s64",
      "userId": "00577626419227892200"
     },
     "user_tz": -420
    },
    "id": "myi3emKvgAMf"
   },
   "outputs": [],
   "source": [
    "print(\"f1 socre: %f\"%(f1_score(y_true, y_pred)))"
   ]
  },
  {
   "cell_type": "code",
   "execution_count": null,
   "metadata": {
    "executionInfo": {
     "elapsed": 93,
     "status": "aborted",
     "timestamp": 1645451879210,
     "user": {
      "displayName": "Yến Ngọc Vũ",
      "photoUrl": "https://lh3.googleusercontent.com/a-/AOh14Gi4wfCuo_NJT2C0JTe2p3mU-XITI80n8F0YvaxHpNI=s64",
      "userId": "00577626419227892200"
     },
     "user_tz": -420
    },
    "id": "CNP2Oc4qJpKf"
   },
   "outputs": [],
   "source": [
    "# Debug =))\n",
    "ele= [j for i in y_true for j in i]\n",
    "myset = set(ele)\n",
    "print(myset)\n"
   ]
  },
  {
   "cell_type": "code",
   "execution_count": null,
   "metadata": {
    "executionInfo": {
     "elapsed": 95,
     "status": "aborted",
     "timestamp": 1645451879212,
     "user": {
      "displayName": "Yến Ngọc Vũ",
      "photoUrl": "https://lh3.googleusercontent.com/a-/AOh14Gi4wfCuo_NJT2C0JTe2p3mU-XITI80n8F0YvaxHpNI=s64",
      "userId": "00577626419227892200"
     },
     "user_tz": -420
    },
    "id": "RVGMyaCBJpKf"
   },
   "outputs": [],
   "source": [
    "# Save the report into file\n",
    "output_eval_file = os.path.join(bert_out_address, \"eval_results.txt\")\n",
    "with open(output_eval_file, \"w\") as writer:\n",
    "    print(\"***** Eval results *****\")\n",
    "    print(\"\\n%s\"%(report))\n",
    "    print(\"f1 socre: %f\"%(f1_score(y_true, y_pred)))\n",
    "    print(\"Accuracy score: %f\"%(accuracy_score(y_true, y_pred)))\n",
    "    \n",
    "    writer.write(\"f1 socre:\\n\")\n",
    "    writer.write(str(f1_score(y_true, y_pred)))\n",
    "    writer.write(\"\\n\\nAccuracy score:\\n\")\n",
    "    writer.write(str(accuracy_score(y_true, y_pred)))\n",
    "    writer.write(\"\\n\\n\")  \n",
    "    writer.write(report)"
   ]
  },
  {
   "cell_type": "markdown",
   "metadata": {
    "id": "Of40o5lAJpKf"
   },
   "source": [
    "## Inference"
   ]
  },
  {
   "cell_type": "markdown",
   "metadata": {
    "id": "7MblRvlHJpKf"
   },
   "source": [
    "After we trained a model, we can make it into service ---- sending a new sentence to the model,then get the prediction."
   ]
  },
  {
   "cell_type": "markdown",
   "metadata": {
    "id": "sj_XFJPkJpKg"
   },
   "source": [
    "The process contains:"
   ]
  },
  {
   "cell_type": "markdown",
   "metadata": {
    "id": "XqGmttSRJpKg"
   },
   "source": [
    "- Load model\n",
    "- Load tokenizer\n",
    "- Set test query\n",
    "- Make query into embedding\n",
    "- Predict with model\n",
    "- Parser result"
   ]
  },
  {
   "cell_type": "code",
   "execution_count": null,
   "metadata": {
    "executionInfo": {
     "elapsed": 95,
     "status": "aborted",
     "timestamp": 1645451879213,
     "user": {
      "displayName": "Yến Ngọc Vũ",
      "photoUrl": "https://lh3.googleusercontent.com/a-/AOh14Gi4wfCuo_NJT2C0JTe2p3mU-XITI80n8F0YvaxHpNI=s64",
      "userId": "00577626419227892200"
     },
     "user_tz": -420
    },
    "id": "qBWewODCJpKg"
   },
   "outputs": [],
   "source": []
  },
  {
   "cell_type": "markdown",
   "metadata": {
    "id": "emMs8sSnJpKg"
   },
   "source": [
    "### Set tag index"
   ]
  },
  {
   "cell_type": "code",
   "execution_count": null,
   "metadata": {
    "executionInfo": {
     "elapsed": 95,
     "status": "aborted",
     "timestamp": 1645451879213,
     "user": {
      "displayName": "Yến Ngọc Vũ",
      "photoUrl": "https://lh3.googleusercontent.com/a-/AOh14Gi4wfCuo_NJT2C0JTe2p3mU-XITI80n8F0YvaxHpNI=s64",
      "userId": "00577626419227892200"
     },
     "user_tz": -420
    },
    "id": "YbIas1tkJpKg"
   },
   "outputs": [],
   "source": [
    "# Tag to index, must be the same as we training\n",
    "#tag2idx={}"
   ]
  },
  {
   "cell_type": "code",
   "execution_count": null,
   "metadata": {
    "executionInfo": {
     "elapsed": 96,
     "status": "aborted",
     "timestamp": 1645451879214,
     "user": {
      "displayName": "Yến Ngọc Vũ",
      "photoUrl": "https://lh3.googleusercontent.com/a-/AOh14Gi4wfCuo_NJT2C0JTe2p3mU-XITI80n8F0YvaxHpNI=s64",
      "userId": "00577626419227892200"
     },
     "user_tz": -420
    },
    "id": "2YCHbkLgJpKg"
   },
   "outputs": [],
   "source": [
    "# Mapping index to name\n",
    "#tag2name={tag2idx[key] : key for key in tag2idx.keys()}"
   ]
  },
  {
   "cell_type": "code",
   "execution_count": null,
   "metadata": {
    "executionInfo": {
     "elapsed": 96,
     "status": "aborted",
     "timestamp": 1645451879214,
     "user": {
      "displayName": "Yến Ngọc Vũ",
      "photoUrl": "https://lh3.googleusercontent.com/a-/AOh14Gi4wfCuo_NJT2C0JTe2p3mU-XITI80n8F0YvaxHpNI=s64",
      "userId": "00577626419227892200"
     },
     "user_tz": -420
    },
    "id": "fGOIht46JpKh"
   },
   "outputs": [],
   "source": []
  },
  {
   "cell_type": "markdown",
   "metadata": {
    "id": "rB98rTqDJpKh"
   },
   "source": [
    "### Load model"
   ]
  },
  {
   "cell_type": "code",
   "execution_count": null,
   "metadata": {
    "executionInfo": {
     "elapsed": 97,
     "status": "aborted",
     "timestamp": 1645451879215,
     "user": {
      "displayName": "Yến Ngọc Vũ",
      "photoUrl": "https://lh3.googleusercontent.com/a-/AOh14Gi4wfCuo_NJT2C0JTe2p3mU-XITI80n8F0YvaxHpNI=s64",
      "userId": "00577626419227892200"
     },
     "user_tz": -420
    },
    "id": "ZdeGVRsJJpKh"
   },
   "outputs": [],
   "source": [
    "# Model we trained before, the dir containing pytorch_model.bin and vocab.txt\n",
    "#save_model_address = 'models/bert_out_model/en09'\n",
    "#save_model_address =\"/content/drive/MyDrive/LUẬN VĂN-K18_CQ/02. Bình-Ngọc/Data/Dataset/conll/b_simp\"\n",
    "save_model_address = '/home/tyeson/Desktop/ML_NER/Test_Train_Dataset/'"
   ]
  },
  {
   "cell_type": "code",
   "execution_count": null,
   "metadata": {
    "executionInfo": {
     "elapsed": 96,
     "status": "aborted",
     "timestamp": 1645451879215,
     "user": {
      "displayName": "Yến Ngọc Vũ",
      "photoUrl": "https://lh3.googleusercontent.com/a-/AOh14Gi4wfCuo_NJT2C0JTe2p3mU-XITI80n8F0YvaxHpNI=s64",
      "userId": "00577626419227892200"
     },
     "user_tz": -420
    },
    "id": "nYHWmBDGpAbv"
   },
   "outputs": [],
   "source": [
    "tag2idx"
   ]
  },
  {
   "cell_type": "code",
   "execution_count": null,
   "metadata": {
    "executionInfo": {
     "elapsed": 97,
     "status": "aborted",
     "timestamp": 1645451879216,
     "user": {
      "displayName": "Yến Ngọc Vũ",
      "photoUrl": "https://lh3.googleusercontent.com/a-/AOh14Gi4wfCuo_NJT2C0JTe2p3mU-XITI80n8F0YvaxHpNI=s64",
      "userId": "00577626419227892200"
     },
     "user_tz": -420
    },
    "id": "UesWl_3YJpKh"
   },
   "outputs": [],
   "source": [
    "save_model = BertForTokenClassification.from_pretrained(save_model_address,num_labels=len(tag2idx))"
   ]
  },
  {
   "cell_type": "code",
   "execution_count": null,
   "metadata": {
    "executionInfo": {
     "elapsed": 97,
     "status": "aborted",
     "timestamp": 1645451879216,
     "user": {
      "displayName": "Yến Ngọc Vũ",
      "photoUrl": "https://lh3.googleusercontent.com/a-/AOh14Gi4wfCuo_NJT2C0JTe2p3mU-XITI80n8F0YvaxHpNI=s64",
      "userId": "00577626419227892200"
     },
     "user_tz": -420
    },
    "id": "oA79BM_9JpKh"
   },
   "outputs": [],
   "source": []
  },
  {
   "cell_type": "markdown",
   "metadata": {
    "id": "t4k2UKwSJpKh"
   },
   "source": [
    "### Load Tokenizer"
   ]
  },
  {
   "cell_type": "code",
   "execution_count": null,
   "metadata": {
    "executionInfo": {
     "elapsed": 97,
     "status": "aborted",
     "timestamp": 1645451879216,
     "user": {
      "displayName": "Yến Ngọc Vũ",
      "photoUrl": "https://lh3.googleusercontent.com/a-/AOh14Gi4wfCuo_NJT2C0JTe2p3mU-XITI80n8F0YvaxHpNI=s64",
      "userId": "00577626419227892200"
     },
     "user_tz": -420
    },
    "id": "1kOEfyHpJpKh"
   },
   "outputs": [],
   "source": [
    "# Here, our save model address containing pytorch_model.bin and vocab.txt\n",
    "# So, we can load the tokenzier from the same dir as the save model address\n",
    "tokenizer = BertTokenizer.from_pretrained(save_model_address,do_lower_case=True)"
   ]
  },
  {
   "cell_type": "code",
   "execution_count": null,
   "metadata": {
    "executionInfo": {
     "elapsed": 96,
     "status": "aborted",
     "timestamp": 1645451879216,
     "user": {
      "displayName": "Yến Ngọc Vũ",
      "photoUrl": "https://lh3.googleusercontent.com/a-/AOh14Gi4wfCuo_NJT2C0JTe2p3mU-XITI80n8F0YvaxHpNI=s64",
      "userId": "00577626419227892200"
     },
     "user_tz": -420
    },
    "id": "s7qvPBVwJpKh"
   },
   "outputs": [],
   "source": [
    "# Set max sentence length, must be the same as our training process\n",
    "max_len  = 256"
   ]
  },
  {
   "cell_type": "code",
   "execution_count": null,
   "metadata": {
    "executionInfo": {
     "elapsed": 97,
     "status": "aborted",
     "timestamp": 1645451879217,
     "user": {
      "displayName": "Yến Ngọc Vũ",
      "photoUrl": "https://lh3.googleusercontent.com/a-/AOh14Gi4wfCuo_NJT2C0JTe2p3mU-XITI80n8F0YvaxHpNI=s64",
      "userId": "00577626419227892200"
     },
     "user_tz": -420
    },
    "id": "hyh5YhhxJpKi"
   },
   "outputs": [],
   "source": []
  },
  {
   "cell_type": "markdown",
   "metadata": {
    "id": "MJsonOCeJpKi"
   },
   "source": [
    "### Set test query"
   ]
  },
  {
   "cell_type": "code",
   "execution_count": null,
   "metadata": {
    "executionInfo": {
     "elapsed": 97,
     "status": "aborted",
     "timestamp": 1645451879217,
     "user": {
      "displayName": "Yến Ngọc Vũ",
      "photoUrl": "https://lh3.googleusercontent.com/a-/AOh14Gi4wfCuo_NJT2C0JTe2p3mU-XITI80n8F0YvaxHpNI=s64",
      "userId": "00577626419227892200"
     },
     "user_tz": -420
    },
    "id": "xvxKCwXFJpKi"
   },
   "outputs": [],
   "source": [
    "test_query = 'You can start creating your own data science projects and collaborating with other data scientists using IBM Watson Studio. When you sign up, you will receive free access to Watson Studio. Start now and take advantage of this platform and learn the basics of programming, machine learning, and data visualization with this introductory course.'"
   ]
  },
  {
   "cell_type": "code",
   "execution_count": null,
   "metadata": {
    "executionInfo": {
     "elapsed": 96,
     "status": "aborted",
     "timestamp": 1645451879217,
     "user": {
      "displayName": "Yến Ngọc Vũ",
      "photoUrl": "https://lh3.googleusercontent.com/a-/AOh14Gi4wfCuo_NJT2C0JTe2p3mU-XITI80n8F0YvaxHpNI=s64",
      "userId": "00577626419227892200"
     },
     "user_tz": -420
    },
    "id": "wnjUi1QqJpKi"
   },
   "outputs": [],
   "source": []
  },
  {
   "cell_type": "markdown",
   "metadata": {
    "id": "bdiW7AblJpKi"
   },
   "source": [
    "### Make query into embeddings"
   ]
  },
  {
   "cell_type": "markdown",
   "metadata": {
    "id": "g_bF5F2eJpKi"
   },
   "source": [
    "- token id embedding, need to tokenize first\n",
    "- mask word embedding\n",
    "- segmentation embedding"
   ]
  },
  {
   "cell_type": "code",
   "execution_count": null,
   "metadata": {
    "executionInfo": {
     "elapsed": 96,
     "status": "aborted",
     "timestamp": 1645451879217,
     "user": {
      "displayName": "Yến Ngọc Vũ",
      "photoUrl": "https://lh3.googleusercontent.com/a-/AOh14Gi4wfCuo_NJT2C0JTe2p3mU-XITI80n8F0YvaxHpNI=s64",
      "userId": "00577626419227892200"
     },
     "user_tz": -420
    },
    "id": "DFiqEfu3JpKi"
   },
   "outputs": [],
   "source": [
    "tokenized_texts = []"
   ]
  },
  {
   "cell_type": "code",
   "execution_count": null,
   "metadata": {
    "executionInfo": {
     "elapsed": 95,
     "status": "aborted",
     "timestamp": 1645451879218,
     "user": {
      "displayName": "Yến Ngọc Vũ",
      "photoUrl": "https://lh3.googleusercontent.com/a-/AOh14Gi4wfCuo_NJT2C0JTe2p3mU-XITI80n8F0YvaxHpNI=s64",
      "userId": "00577626419227892200"
     },
     "user_tz": -420
    },
    "id": "ZgbTcaa_JpKi"
   },
   "outputs": [],
   "source": [
    "temp_token = []"
   ]
  },
  {
   "cell_type": "code",
   "execution_count": null,
   "metadata": {
    "executionInfo": {
     "elapsed": 95,
     "status": "aborted",
     "timestamp": 1645451879218,
     "user": {
      "displayName": "Yến Ngọc Vũ",
      "photoUrl": "https://lh3.googleusercontent.com/a-/AOh14Gi4wfCuo_NJT2C0JTe2p3mU-XITI80n8F0YvaxHpNI=s64",
      "userId": "00577626419227892200"
     },
     "user_tz": -420
    },
    "id": "cR7nbWIHJpKj"
   },
   "outputs": [],
   "source": [
    "# Add [CLS] at the front \n",
    "temp_token.append('[CLS]')"
   ]
  },
  {
   "cell_type": "code",
   "execution_count": null,
   "metadata": {
    "executionInfo": {
     "elapsed": 95,
     "status": "aborted",
     "timestamp": 1645451879218,
     "user": {
      "displayName": "Yến Ngọc Vũ",
      "photoUrl": "https://lh3.googleusercontent.com/a-/AOh14Gi4wfCuo_NJT2C0JTe2p3mU-XITI80n8F0YvaxHpNI=s64",
      "userId": "00577626419227892200"
     },
     "user_tz": -420
    },
    "id": "hQrz3_d_JpKj"
   },
   "outputs": [],
   "source": [
    "token_list = tokenizer.tokenize(test_query)"
   ]
  },
  {
   "cell_type": "code",
   "execution_count": null,
   "metadata": {
    "executionInfo": {
     "elapsed": 95,
     "status": "aborted",
     "timestamp": 1645451879219,
     "user": {
      "displayName": "Yến Ngọc Vũ",
      "photoUrl": "https://lh3.googleusercontent.com/a-/AOh14Gi4wfCuo_NJT2C0JTe2p3mU-XITI80n8F0YvaxHpNI=s64",
      "userId": "00577626419227892200"
     },
     "user_tz": -420
    },
    "id": "cl-Y5g1WJpKj"
   },
   "outputs": [],
   "source": [
    "token_list"
   ]
  },
  {
   "cell_type": "code",
   "execution_count": null,
   "metadata": {
    "executionInfo": {
     "elapsed": 95,
     "status": "aborted",
     "timestamp": 1645451879219,
     "user": {
      "displayName": "Yến Ngọc Vũ",
      "photoUrl": "https://lh3.googleusercontent.com/a-/AOh14Gi4wfCuo_NJT2C0JTe2p3mU-XITI80n8F0YvaxHpNI=s64",
      "userId": "00577626419227892200"
     },
     "user_tz": -420
    },
    "id": "XzjQROv7JpKj"
   },
   "outputs": [],
   "source": [
    "for m,token in enumerate(token_list):\n",
    "    temp_token.append(token)"
   ]
  },
  {
   "cell_type": "code",
   "execution_count": null,
   "metadata": {
    "executionInfo": {
     "elapsed": 95,
     "status": "aborted",
     "timestamp": 1645451879219,
     "user": {
      "displayName": "Yến Ngọc Vũ",
      "photoUrl": "https://lh3.googleusercontent.com/a-/AOh14Gi4wfCuo_NJT2C0JTe2p3mU-XITI80n8F0YvaxHpNI=s64",
      "userId": "00577626419227892200"
     },
     "user_tz": -420
    },
    "id": "30aQ6wkbJpKj"
   },
   "outputs": [],
   "source": [
    "# Trim the token to fit the length requirement\n",
    "if len(temp_token) > max_len-1:\n",
    "    temp_token= temp_token[:max_len-1]"
   ]
  },
  {
   "cell_type": "code",
   "execution_count": null,
   "metadata": {
    "executionInfo": {
     "elapsed": 95,
     "status": "aborted",
     "timestamp": 1645451879219,
     "user": {
      "displayName": "Yến Ngọc Vũ",
      "photoUrl": "https://lh3.googleusercontent.com/a-/AOh14Gi4wfCuo_NJT2C0JTe2p3mU-XITI80n8F0YvaxHpNI=s64",
      "userId": "00577626419227892200"
     },
     "user_tz": -420
    },
    "id": "Pzwgg0JjJpKj"
   },
   "outputs": [],
   "source": [
    "# Add [SEP] at the end\n",
    "temp_token.append('[SEP]')"
   ]
  },
  {
   "cell_type": "code",
   "execution_count": null,
   "metadata": {
    "executionInfo": {
     "elapsed": 96,
     "status": "aborted",
     "timestamp": 1645451879220,
     "user": {
      "displayName": "Yến Ngọc Vũ",
      "photoUrl": "https://lh3.googleusercontent.com/a-/AOh14Gi4wfCuo_NJT2C0JTe2p3mU-XITI80n8F0YvaxHpNI=s64",
      "userId": "00577626419227892200"
     },
     "user_tz": -420
    },
    "id": "m8VUoNARJpKj"
   },
   "outputs": [],
   "source": [
    "temp_token"
   ]
  },
  {
   "cell_type": "code",
   "execution_count": null,
   "metadata": {
    "executionInfo": {
     "elapsed": 125165,
     "status": "aborted",
     "timestamp": 1645451879220,
     "user": {
      "displayName": "Yến Ngọc Vũ",
      "photoUrl": "https://lh3.googleusercontent.com/a-/AOh14Gi4wfCuo_NJT2C0JTe2p3mU-XITI80n8F0YvaxHpNI=s64",
      "userId": "00577626419227892200"
     },
     "user_tz": -420
    },
    "id": "ef9Fe0foJpKk"
   },
   "outputs": [],
   "source": [
    "tokenized_texts.append(temp_token)"
   ]
  },
  {
   "cell_type": "code",
   "execution_count": null,
   "metadata": {
    "executionInfo": {
     "elapsed": 125161,
     "status": "aborted",
     "timestamp": 1645451879221,
     "user": {
      "displayName": "Yến Ngọc Vũ",
      "photoUrl": "https://lh3.googleusercontent.com/a-/AOh14Gi4wfCuo_NJT2C0JTe2p3mU-XITI80n8F0YvaxHpNI=s64",
      "userId": "00577626419227892200"
     },
     "user_tz": -420
    },
    "id": "s1HgI0CPJpKk"
   },
   "outputs": [],
   "source": []
  },
  {
   "cell_type": "markdown",
   "metadata": {
    "id": "V1lgcWHjJpKk"
   },
   "source": [
    "**Make id embedding**"
   ]
  },
  {
   "cell_type": "code",
   "execution_count": null,
   "metadata": {
    "executionInfo": {
     "elapsed": 125156,
     "status": "aborted",
     "timestamp": 1645451879221,
     "user": {
      "displayName": "Yến Ngọc Vũ",
      "photoUrl": "https://lh3.googleusercontent.com/a-/AOh14Gi4wfCuo_NJT2C0JTe2p3mU-XITI80n8F0YvaxHpNI=s64",
      "userId": "00577626419227892200"
     },
     "user_tz": -420
    },
    "id": "WuB6qWH4JpKk"
   },
   "outputs": [],
   "source": [
    "# Make text token into id\n",
    "input_ids = pad_sequences([tokenizer.convert_tokens_to_ids(txt) for txt in tokenized_texts],\n",
    "                          maxlen=max_len, dtype=\"long\", truncating=\"post\", padding=\"post\")\n",
    "print(input_ids[0])"
   ]
  },
  {
   "cell_type": "code",
   "execution_count": null,
   "metadata": {
    "executionInfo": {
     "elapsed": 125151,
     "status": "aborted",
     "timestamp": 1645451879221,
     "user": {
      "displayName": "Yến Ngọc Vũ",
      "photoUrl": "https://lh3.googleusercontent.com/a-/AOh14Gi4wfCuo_NJT2C0JTe2p3mU-XITI80n8F0YvaxHpNI=s64",
      "userId": "00577626419227892200"
     },
     "user_tz": -420
    },
    "id": "5JvaOobPJpKk"
   },
   "outputs": [],
   "source": []
  },
  {
   "cell_type": "markdown",
   "metadata": {
    "id": "uezsJzg8JpKk"
   },
   "source": [
    "**Make mask embedding**"
   ]
  },
  {
   "cell_type": "code",
   "execution_count": null,
   "metadata": {
    "executionInfo": {
     "elapsed": 125147,
     "status": "aborted",
     "timestamp": 1645451879222,
     "user": {
      "displayName": "Yến Ngọc Vũ",
      "photoUrl": "https://lh3.googleusercontent.com/a-/AOh14Gi4wfCuo_NJT2C0JTe2p3mU-XITI80n8F0YvaxHpNI=s64",
      "userId": "00577626419227892200"
     },
     "user_tz": -420
    },
    "id": "rI6C23AAJpKl"
   },
   "outputs": [],
   "source": [
    "# For fine tune of predict, with token mask is 1,pad token is 0\n",
    "attention_masks = [[int(i>0) for i in ii] for ii in input_ids]\n",
    "attention_masks[0];"
   ]
  },
  {
   "cell_type": "code",
   "execution_count": null,
   "metadata": {
    "executionInfo": {
     "elapsed": 125142,
     "status": "aborted",
     "timestamp": 1645451879222,
     "user": {
      "displayName": "Yến Ngọc Vũ",
      "photoUrl": "https://lh3.googleusercontent.com/a-/AOh14Gi4wfCuo_NJT2C0JTe2p3mU-XITI80n8F0YvaxHpNI=s64",
      "userId": "00577626419227892200"
     },
     "user_tz": -420
    },
    "id": "To1EzX_uJpKl"
   },
   "outputs": [],
   "source": []
  },
  {
   "cell_type": "markdown",
   "metadata": {
    "id": "PIcaCjx2JpKl"
   },
   "source": [
    "**Make segmention type embedding**"
   ]
  },
  {
   "cell_type": "code",
   "execution_count": null,
   "metadata": {
    "executionInfo": {
     "elapsed": 125134,
     "status": "aborted",
     "timestamp": 1645451879222,
     "user": {
      "displayName": "Yến Ngọc Vũ",
      "photoUrl": "https://lh3.googleusercontent.com/a-/AOh14Gi4wfCuo_NJT2C0JTe2p3mU-XITI80n8F0YvaxHpNI=s64",
      "userId": "00577626419227892200"
     },
     "user_tz": -420
    },
    "id": "Zz0JisiDJpKl"
   },
   "outputs": [],
   "source": [
    "segment_ids = [[0] * len(input_id) for input_id in input_ids]\n",
    "segment_ids[0];"
   ]
  },
  {
   "cell_type": "code",
   "execution_count": null,
   "metadata": {
    "executionInfo": {
     "elapsed": 125130,
     "status": "aborted",
     "timestamp": 1645451879223,
     "user": {
      "displayName": "Yến Ngọc Vũ",
      "photoUrl": "https://lh3.googleusercontent.com/a-/AOh14Gi4wfCuo_NJT2C0JTe2p3mU-XITI80n8F0YvaxHpNI=s64",
      "userId": "00577626419227892200"
     },
     "user_tz": -420
    },
    "id": "x2JgftCCJpKl"
   },
   "outputs": [],
   "source": []
  },
  {
   "cell_type": "markdown",
   "metadata": {
    "id": "qttfvmGMJpKl"
   },
   "source": [
    "**Make embeddings into torch tensor**"
   ]
  },
  {
   "cell_type": "code",
   "execution_count": null,
   "metadata": {
    "executionInfo": {
     "elapsed": 125126,
     "status": "aborted",
     "timestamp": 1645451879224,
     "user": {
      "displayName": "Yến Ngọc Vũ",
      "photoUrl": "https://lh3.googleusercontent.com/a-/AOh14Gi4wfCuo_NJT2C0JTe2p3mU-XITI80n8F0YvaxHpNI=s64",
      "userId": "00577626419227892200"
     },
     "user_tz": -420
    },
    "id": "Q21Dwg--JpKl"
   },
   "outputs": [],
   "source": [
    "input_ids = torch.tensor(input_ids)\n",
    "attention_masks = torch.tensor(attention_masks)\n",
    "segment_ids = torch.tensor(segment_ids)"
   ]
  },
  {
   "cell_type": "code",
   "execution_count": null,
   "metadata": {
    "executionInfo": {
     "elapsed": 125122,
     "status": "aborted",
     "timestamp": 1645451879225,
     "user": {
      "displayName": "Yến Ngọc Vũ",
      "photoUrl": "https://lh3.googleusercontent.com/a-/AOh14Gi4wfCuo_NJT2C0JTe2p3mU-XITI80n8F0YvaxHpNI=s64",
      "userId": "00577626419227892200"
     },
     "user_tz": -420
    },
    "id": "tt2HEzisJpKl"
   },
   "outputs": [],
   "source": []
  },
  {
   "cell_type": "code",
   "execution_count": null,
   "metadata": {
    "executionInfo": {
     "elapsed": 125118,
     "status": "aborted",
     "timestamp": 1645451879226,
     "user": {
      "displayName": "Yến Ngọc Vũ",
      "photoUrl": "https://lh3.googleusercontent.com/a-/AOh14Gi4wfCuo_NJT2C0JTe2p3mU-XITI80n8F0YvaxHpNI=s64",
      "userId": "00577626419227892200"
     },
     "user_tz": -420
    },
    "id": "8quHx9TRJpKm"
   },
   "outputs": [],
   "source": []
  },
  {
   "cell_type": "markdown",
   "metadata": {
    "id": "z93WXkRIJpKm"
   },
   "source": [
    "### Predict with model"
   ]
  },
  {
   "cell_type": "markdown",
   "metadata": {
    "id": "PcmCngNyJpKm"
   },
   "source": [
    "We only send input_ids embedding to model"
   ]
  },
  {
   "cell_type": "code",
   "execution_count": null,
   "metadata": {
    "executionInfo": {
     "elapsed": 125113,
     "status": "aborted",
     "timestamp": 1645451879226,
     "user": {
      "displayName": "Yến Ngọc Vũ",
      "photoUrl": "https://lh3.googleusercontent.com/a-/AOh14Gi4wfCuo_NJT2C0JTe2p3mU-XITI80n8F0YvaxHpNI=s64",
      "userId": "00577626419227892200"
     },
     "user_tz": -420
    },
    "id": "-SQKIwShJpKm"
   },
   "outputs": [],
   "source": [
    "# Set save model to Evalue loop\n",
    "save_model.eval();"
   ]
  },
  {
   "cell_type": "code",
   "execution_count": null,
   "metadata": {
    "executionInfo": {
     "elapsed": 125109,
     "status": "aborted",
     "timestamp": 1645451879227,
     "user": {
      "displayName": "Yến Ngọc Vũ",
      "photoUrl": "https://lh3.googleusercontent.com/a-/AOh14Gi4wfCuo_NJT2C0JTe2p3mU-XITI80n8F0YvaxHpNI=s64",
      "userId": "00577626419227892200"
     },
     "user_tz": -420
    },
    "id": "xwZMKGppJpKm"
   },
   "outputs": [],
   "source": [
    "# Get model predict result\n",
    "with torch.no_grad():\n",
    "        outputs = save_model(input_ids, token_type_ids=None,\n",
    "        attention_mask=None,)\n",
    "        # For eval mode, the first result of outputs is logits\n",
    "        logits = outputs[0] "
   ]
  },
  {
   "cell_type": "code",
   "execution_count": null,
   "metadata": {
    "executionInfo": {
     "elapsed": 125104,
     "status": "aborted",
     "timestamp": 1645451879227,
     "user": {
      "displayName": "Yến Ngọc Vũ",
      "photoUrl": "https://lh3.googleusercontent.com/a-/AOh14Gi4wfCuo_NJT2C0JTe2p3mU-XITI80n8F0YvaxHpNI=s64",
      "userId": "00577626419227892200"
     },
     "user_tz": -420
    },
    "id": "bNyt-5OiJpKm"
   },
   "outputs": [],
   "source": [
    "# Make logits into numpy type predict result\n",
    "# The predict result contain each token's all tags predict result\n",
    "predict_results = logits.detach().cpu().numpy()"
   ]
  },
  {
   "cell_type": "code",
   "execution_count": null,
   "metadata": {
    "executionInfo": {
     "elapsed": 125100,
     "status": "aborted",
     "timestamp": 1645451879228,
     "user": {
      "displayName": "Yến Ngọc Vũ",
      "photoUrl": "https://lh3.googleusercontent.com/a-/AOh14Gi4wfCuo_NJT2C0JTe2p3mU-XITI80n8F0YvaxHpNI=s64",
      "userId": "00577626419227892200"
     },
     "user_tz": -420
    },
    "id": "1JXgTod5JpKm"
   },
   "outputs": [],
   "source": [
    "predict_results.shape"
   ]
  },
  {
   "cell_type": "code",
   "execution_count": null,
   "metadata": {
    "executionInfo": {
     "elapsed": 125095,
     "status": "aborted",
     "timestamp": 1645451879228,
     "user": {
      "displayName": "Yến Ngọc Vũ",
      "photoUrl": "https://lh3.googleusercontent.com/a-/AOh14Gi4wfCuo_NJT2C0JTe2p3mU-XITI80n8F0YvaxHpNI=s64",
      "userId": "00577626419227892200"
     },
     "user_tz": -420
    },
    "id": "-7t-vGbKJpKm"
   },
   "outputs": [],
   "source": []
  },
  {
   "cell_type": "markdown",
   "metadata": {
    "id": "CgTgU3eFJpKn"
   },
   "source": [
    "**Make each token predict result into softmax mode**"
   ]
  },
  {
   "cell_type": "code",
   "execution_count": null,
   "metadata": {
    "executionInfo": {
     "elapsed": 125090,
     "status": "aborted",
     "timestamp": 1645451879228,
     "user": {
      "displayName": "Yến Ngọc Vũ",
      "photoUrl": "https://lh3.googleusercontent.com/a-/AOh14Gi4wfCuo_NJT2C0JTe2p3mU-XITI80n8F0YvaxHpNI=s64",
      "userId": "00577626419227892200"
     },
     "user_tz": -420
    },
    "id": "J4KaV4WVJpKn"
   },
   "outputs": [],
   "source": [
    "from scipy.special import softmax"
   ]
  },
  {
   "cell_type": "code",
   "execution_count": null,
   "metadata": {
    "executionInfo": {
     "elapsed": 125087,
     "status": "aborted",
     "timestamp": 1645451879229,
     "user": {
      "displayName": "Yến Ngọc Vũ",
      "photoUrl": "https://lh3.googleusercontent.com/a-/AOh14Gi4wfCuo_NJT2C0JTe2p3mU-XITI80n8F0YvaxHpNI=s64",
      "userId": "00577626419227892200"
     },
     "user_tz": -420
    },
    "id": "-njH5cNOJpKn"
   },
   "outputs": [],
   "source": [
    "result_arrays_soft = softmax(predict_results[0])"
   ]
  },
  {
   "cell_type": "code",
   "execution_count": null,
   "metadata": {
    "executionInfo": {
     "elapsed": 125083,
     "status": "aborted",
     "timestamp": 1645451879230,
     "user": {
      "displayName": "Yến Ngọc Vũ",
      "photoUrl": "https://lh3.googleusercontent.com/a-/AOh14Gi4wfCuo_NJT2C0JTe2p3mU-XITI80n8F0YvaxHpNI=s64",
      "userId": "00577626419227892200"
     },
     "user_tz": -420
    },
    "id": "mYpBWvbSJpKn"
   },
   "outputs": [],
   "source": [
    "result_arrays_soft[0]"
   ]
  },
  {
   "cell_type": "code",
   "execution_count": null,
   "metadata": {
    "executionInfo": {
     "elapsed": 125078,
     "status": "aborted",
     "timestamp": 1645451879230,
     "user": {
      "displayName": "Yến Ngọc Vũ",
      "photoUrl": "https://lh3.googleusercontent.com/a-/AOh14Gi4wfCuo_NJT2C0JTe2p3mU-XITI80n8F0YvaxHpNI=s64",
      "userId": "00577626419227892200"
     },
     "user_tz": -420
    },
    "id": "_JUgzHboJpKn"
   },
   "outputs": [],
   "source": [
    "result_array = result_arrays_soft"
   ]
  },
  {
   "cell_type": "code",
   "execution_count": null,
   "metadata": {
    "executionInfo": {
     "elapsed": 125074,
     "status": "aborted",
     "timestamp": 1645451879231,
     "user": {
      "displayName": "Yến Ngọc Vũ",
      "photoUrl": "https://lh3.googleusercontent.com/a-/AOh14Gi4wfCuo_NJT2C0JTe2p3mU-XITI80n8F0YvaxHpNI=s64",
      "userId": "00577626419227892200"
     },
     "user_tz": -420
    },
    "id": "AXYhlMHlJpKn"
   },
   "outputs": [],
   "source": [
    "len(result_array),len(result_array[0])"
   ]
  },
  {
   "cell_type": "code",
   "execution_count": null,
   "metadata": {
    "executionInfo": {
     "elapsed": 125069,
     "status": "aborted",
     "timestamp": 1645451879231,
     "user": {
      "displayName": "Yến Ngọc Vũ",
      "photoUrl": "https://lh3.googleusercontent.com/a-/AOh14Gi4wfCuo_NJT2C0JTe2p3mU-XITI80n8F0YvaxHpNI=s64",
      "userId": "00577626419227892200"
     },
     "user_tz": -420
    },
    "id": "h9bgbc04JpKn"
   },
   "outputs": [],
   "source": []
  },
  {
   "cell_type": "markdown",
   "metadata": {
    "id": "Iwg4Vx4CJpKn"
   },
   "source": [
    "### Parser result"
   ]
  },
  {
   "cell_type": "markdown",
   "metadata": {
    "id": "ch52_-jsJpKn"
   },
   "source": [
    "Make the predict array into readable result "
   ]
  },
  {
   "cell_type": "code",
   "execution_count": null,
   "metadata": {
    "executionInfo": {
     "elapsed": 125064,
     "status": "aborted",
     "timestamp": 1645451879232,
     "user": {
      "displayName": "Yến Ngọc Vũ",
      "photoUrl": "https://lh3.googleusercontent.com/a-/AOh14Gi4wfCuo_NJT2C0JTe2p3mU-XITI80n8F0YvaxHpNI=s64",
      "userId": "00577626419227892200"
     },
     "user_tz": -420
    },
    "id": "vjmSwn3yJpKo"
   },
   "outputs": [],
   "source": [
    "# Get each token final predict tag index result\n",
    "result_list = np.argmax(result_array,axis=-1)"
   ]
  },
  {
   "cell_type": "code",
   "execution_count": null,
   "metadata": {
    "executionInfo": {
     "elapsed": 125060,
     "status": "aborted",
     "timestamp": 1645451879232,
     "user": {
      "displayName": "Yến Ngọc Vũ",
      "photoUrl": "https://lh3.googleusercontent.com/a-/AOh14Gi4wfCuo_NJT2C0JTe2p3mU-XITI80n8F0YvaxHpNI=s64",
      "userId": "00577626419227892200"
     },
     "user_tz": -420
    },
    "id": "OWOfQaa-JpKo"
   },
   "outputs": [],
   "source": [
    "result_list"
   ]
  },
  {
   "cell_type": "code",
   "execution_count": null,
   "metadata": {
    "executionInfo": {
     "elapsed": 125056,
     "status": "aborted",
     "timestamp": 1645451879233,
     "user": {
      "displayName": "Yến Ngọc Vũ",
      "photoUrl": "https://lh3.googleusercontent.com/a-/AOh14Gi4wfCuo_NJT2C0JTe2p3mU-XITI80n8F0YvaxHpNI=s64",
      "userId": "00577626419227892200"
     },
     "user_tz": -420
    },
    "id": "zgQeGjb7JpKo"
   },
   "outputs": [],
   "source": []
  },
  {
   "cell_type": "markdown",
   "metadata": {
    "id": "iUafsICpJpKo"
   },
   "source": [
    "**Get token predict tag**"
   ]
  },
  {
   "cell_type": "code",
   "execution_count": null,
   "metadata": {
    "executionInfo": {
     "elapsed": 125051,
     "status": "aborted",
     "timestamp": 1645451879233,
     "user": {
      "displayName": "Yến Ngọc Vũ",
      "photoUrl": "https://lh3.googleusercontent.com/a-/AOh14Gi4wfCuo_NJT2C0JTe2p3mU-XITI80n8F0YvaxHpNI=s64",
      "userId": "00577626419227892200"
     },
     "user_tz": -420
    },
    "id": "lTONbKcOJpKo"
   },
   "outputs": [],
   "source": [
    "for i, mark in enumerate(attention_masks[0]):\n",
    "    if mark>0:\n",
    "        print(\"Token:%s\"%(temp_token[i]))\n",
    "#         print(\"Tag:%s\"%(result_list[i]))\n",
    "        print(\"Predict_Tag:%s\"%(tag2name[result_list[i]]))\n",
    "        #print(\"Posibility:%f\"%(result_array[i][result_list[i]]))\n",
    "        print()"
   ]
  },
  {
   "cell_type": "code",
   "execution_count": null,
   "metadata": {
    "executionInfo": {
     "elapsed": 125046,
     "status": "aborted",
     "timestamp": 1645451879233,
     "user": {
      "displayName": "Yến Ngọc Vũ",
      "photoUrl": "https://lh3.googleusercontent.com/a-/AOh14Gi4wfCuo_NJT2C0JTe2p3mU-XITI80n8F0YvaxHpNI=s64",
      "userId": "00577626419227892200"
     },
     "user_tz": -420
    },
    "id": "PS-aH0NAJpKo"
   },
   "outputs": [],
   "source": []
  }
 ],
 "metadata": {
  "accelerator": "GPU",
  "colab": {
   "collapsed_sections": [],
   "name": "NER_with_XLNET.ipynb",
   "provenance": [
    {
     "file_id": "1-7SDMI6VJYLf3_dWC7wnJyWHqp32jPFo",
     "timestamp": 1642945196834
    }
   ]
  },
  "kernelspec": {
   "display_name": "Python 3 (ipykernel)",
   "language": "python",
   "name": "python3"
  },
  "language_info": {
   "codemirror_mode": {
    "name": "ipython",
    "version": 3
   },
   "file_extension": ".py",
   "mimetype": "text/x-python",
   "name": "python",
   "nbconvert_exporter": "python",
   "pygments_lexer": "ipython3",
   "version": "3.9.12"
  }
 },
 "nbformat": 4,
 "nbformat_minor": 1
}
