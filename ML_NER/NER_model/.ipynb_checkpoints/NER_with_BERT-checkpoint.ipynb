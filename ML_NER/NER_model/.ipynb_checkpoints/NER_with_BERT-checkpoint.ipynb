{
 "cells": [
  {
   "cell_type": "code",
   "execution_count": 1,
   "metadata": {
    "executionInfo": {
     "elapsed": 523,
     "status": "ok",
     "timestamp": 1645453146559,
     "user": {
      "displayName": "Yến Ngọc Vũ",
      "photoUrl": "https://lh3.googleusercontent.com/a-/AOh14Gi4wfCuo_NJT2C0JTe2p3mU-XITI80n8F0YvaxHpNI=s64",
      "userId": "00577626419227892200"
     },
     "user_tz": -420
    },
    "id": "hu4ugoWUJpKB"
   },
   "outputs": [],
   "source": [
    "%reload_ext autoreload\n",
    "%autoreload 2\n",
    "%matplotlib inline"
   ]
  },
  {
   "cell_type": "code",
   "execution_count": 2,
   "metadata": {
    "colab": {
     "base_uri": "https://localhost:8080/"
    },
    "executionInfo": {
     "elapsed": 14150,
     "status": "ok",
     "timestamp": 1645453161206,
     "user": {
      "displayName": "Yến Ngọc Vũ",
      "photoUrl": "https://lh3.googleusercontent.com/a-/AOh14Gi4wfCuo_NJT2C0JTe2p3mU-XITI80n8F0YvaxHpNI=s64",
      "userId": "00577626419227892200"
     },
     "user_tz": -420
    },
    "id": "8WnhFbWUKJKR",
    "outputId": "88fedb08-c874-4bb4-f33f-2f95d28467ba"
   },
   "outputs": [
    {
     "name": "stdout",
     "output_type": "stream",
     "text": [
      "Requirement already satisfied: seqeval in /usr/local/lib/python3.7/dist-packages (1.2.2)\n",
      "Requirement already satisfied: scikit-learn>=0.21.3 in /usr/local/lib/python3.7/dist-packages (from seqeval) (1.0.2)\n",
      "Requirement already satisfied: numpy>=1.14.0 in /usr/local/lib/python3.7/dist-packages (from seqeval) (1.18.5)\n",
      "Requirement already satisfied: scipy>=1.1.0 in /usr/local/lib/python3.7/dist-packages (from scikit-learn>=0.21.3->seqeval) (1.4.1)\n",
      "Requirement already satisfied: threadpoolctl>=2.0.0 in /usr/local/lib/python3.7/dist-packages (from scikit-learn>=0.21.3->seqeval) (3.1.0)\n",
      "Requirement already satisfied: joblib>=0.11 in /usr/local/lib/python3.7/dist-packages (from scikit-learn>=0.21.3->seqeval) (1.1.0)\n",
      "Requirement already satisfied: transformers in /usr/local/lib/python3.7/dist-packages (4.16.2)\n",
      "Requirement already satisfied: pyyaml>=5.1 in /usr/local/lib/python3.7/dist-packages (from transformers) (6.0)\n",
      "Requirement already satisfied: numpy>=1.17 in /usr/local/lib/python3.7/dist-packages (from transformers) (1.18.5)\n",
      "Requirement already satisfied: tqdm>=4.27 in /usr/local/lib/python3.7/dist-packages (from transformers) (4.62.3)\n",
      "Requirement already satisfied: filelock in /usr/local/lib/python3.7/dist-packages (from transformers) (3.4.2)\n",
      "Requirement already satisfied: regex!=2019.12.17 in /usr/local/lib/python3.7/dist-packages (from transformers) (2019.12.20)\n",
      "Requirement already satisfied: sacremoses in /usr/local/lib/python3.7/dist-packages (from transformers) (0.0.47)\n",
      "Requirement already satisfied: packaging>=20.0 in /usr/local/lib/python3.7/dist-packages (from transformers) (21.3)\n",
      "Requirement already satisfied: tokenizers!=0.11.3,>=0.10.1 in /usr/local/lib/python3.7/dist-packages (from transformers) (0.11.5)\n",
      "Requirement already satisfied: importlib-metadata in /usr/local/lib/python3.7/dist-packages (from transformers) (4.11.0)\n",
      "Requirement already satisfied: huggingface-hub<1.0,>=0.1.0 in /usr/local/lib/python3.7/dist-packages (from transformers) (0.4.0)\n",
      "Requirement already satisfied: requests in /usr/local/lib/python3.7/dist-packages (from transformers) (2.23.0)\n",
      "Requirement already satisfied: typing-extensions>=3.7.4.3 in /usr/local/lib/python3.7/dist-packages (from huggingface-hub<1.0,>=0.1.0->transformers) (3.10.0.2)\n",
      "Requirement already satisfied: pyparsing!=3.0.5,>=2.0.2 in /usr/local/lib/python3.7/dist-packages (from packaging>=20.0->transformers) (3.0.7)\n",
      "Requirement already satisfied: zipp>=0.5 in /usr/local/lib/python3.7/dist-packages (from importlib-metadata->transformers) (3.7.0)\n",
      "Requirement already satisfied: urllib3!=1.25.0,!=1.25.1,<1.26,>=1.21.1 in /usr/local/lib/python3.7/dist-packages (from requests->transformers) (1.24.3)\n",
      "Requirement already satisfied: certifi>=2017.4.17 in /usr/local/lib/python3.7/dist-packages (from requests->transformers) (2021.10.8)\n",
      "Requirement already satisfied: chardet<4,>=3.0.2 in /usr/local/lib/python3.7/dist-packages (from requests->transformers) (3.0.4)\n",
      "Requirement already satisfied: idna<3,>=2.5 in /usr/local/lib/python3.7/dist-packages (from requests->transformers) (2.10)\n",
      "Requirement already satisfied: joblib in /usr/local/lib/python3.7/dist-packages (from sacremoses->transformers) (1.1.0)\n",
      "Requirement already satisfied: six in /usr/local/lib/python3.7/dist-packages (from sacremoses->transformers) (1.15.0)\n",
      "Requirement already satisfied: click in /usr/local/lib/python3.7/dist-packages (from sacremoses->transformers) (7.1.2)\n"
     ]
    }
   ],
   "source": [
    "!pip install seqeval\n",
    "!pip install transformers"
   ]
  },
  {
   "cell_type": "code",
   "execution_count": 3,
   "metadata": {
    "colab": {
     "base_uri": "https://localhost:8080/"
    },
    "executionInfo": {
     "elapsed": 13368,
     "status": "ok",
     "timestamp": 1645453174567,
     "user": {
      "displayName": "Yến Ngọc Vũ",
      "photoUrl": "https://lh3.googleusercontent.com/a-/AOh14Gi4wfCuo_NJT2C0JTe2p3mU-XITI80n8F0YvaxHpNI=s64",
      "userId": "00577626419227892200"
     },
     "user_tz": -420
    },
    "id": "2Zg8mxTKKofD",
    "outputId": "dcb85195-741c-4db1-ae7a-4b8d2127cdf4"
   },
   "outputs": [
    {
     "name": "stdout",
     "output_type": "stream",
     "text": [
      "Requirement already satisfied: tensorflow==2.2.1 in /usr/local/lib/python3.7/dist-packages (2.2.1)\n",
      "Requirement already satisfied: astunparse==1.6.3 in /usr/local/lib/python3.7/dist-packages (from tensorflow==2.2.1) (1.6.3)\n",
      "Requirement already satisfied: numpy<1.19.0,>=1.16.0 in /usr/local/lib/python3.7/dist-packages (from tensorflow==2.2.1) (1.18.5)\n",
      "Requirement already satisfied: h5py<2.11.0,>=2.10.0 in /usr/local/lib/python3.7/dist-packages (from tensorflow==2.2.1) (2.10.0)\n",
      "Requirement already satisfied: gast==0.3.3 in /usr/local/lib/python3.7/dist-packages (from tensorflow==2.2.1) (0.3.3)\n",
      "Requirement already satisfied: tensorflow-estimator<2.3.0,>=2.2.0 in /usr/local/lib/python3.7/dist-packages (from tensorflow==2.2.1) (2.2.0)\n",
      "Requirement already satisfied: tensorboard<2.3.0,>=2.2.0 in /usr/local/lib/python3.7/dist-packages (from tensorflow==2.2.1) (2.2.2)\n",
      "Requirement already satisfied: protobuf>=3.8.0 in /usr/local/lib/python3.7/dist-packages (from tensorflow==2.2.1) (3.17.3)\n",
      "Requirement already satisfied: termcolor>=1.1.0 in /usr/local/lib/python3.7/dist-packages (from tensorflow==2.2.1) (1.1.0)\n",
      "Requirement already satisfied: google-pasta>=0.1.8 in /usr/local/lib/python3.7/dist-packages (from tensorflow==2.2.1) (0.2.0)\n",
      "Requirement already satisfied: absl-py>=0.7.0 in /usr/local/lib/python3.7/dist-packages (from tensorflow==2.2.1) (1.0.0)\n",
      "Requirement already satisfied: opt-einsum>=2.3.2 in /usr/local/lib/python3.7/dist-packages (from tensorflow==2.2.1) (3.3.0)\n",
      "Requirement already satisfied: wheel>=0.26 in /usr/local/lib/python3.7/dist-packages (from tensorflow==2.2.1) (0.37.1)\n",
      "Requirement already satisfied: six>=1.12.0 in /usr/local/lib/python3.7/dist-packages (from tensorflow==2.2.1) (1.15.0)\n",
      "Requirement already satisfied: keras-preprocessing>=1.1.0 in /usr/local/lib/python3.7/dist-packages (from tensorflow==2.2.1) (1.1.2)\n",
      "Requirement already satisfied: wrapt>=1.11.1 in /usr/local/lib/python3.7/dist-packages (from tensorflow==2.2.1) (1.13.3)\n",
      "Requirement already satisfied: grpcio>=1.8.6 in /usr/local/lib/python3.7/dist-packages (from tensorflow==2.2.1) (1.43.0)\n",
      "Requirement already satisfied: setuptools>=41.0.0 in /usr/local/lib/python3.7/dist-packages (from tensorboard<2.3.0,>=2.2.0->tensorflow==2.2.1) (57.4.0)\n",
      "Requirement already satisfied: tensorboard-plugin-wit>=1.6.0 in /usr/local/lib/python3.7/dist-packages (from tensorboard<2.3.0,>=2.2.0->tensorflow==2.2.1) (1.8.1)\n",
      "Requirement already satisfied: markdown>=2.6.8 in /usr/local/lib/python3.7/dist-packages (from tensorboard<2.3.0,>=2.2.0->tensorflow==2.2.1) (3.3.6)\n",
      "Requirement already satisfied: google-auth<2,>=1.6.3 in /usr/local/lib/python3.7/dist-packages (from tensorboard<2.3.0,>=2.2.0->tensorflow==2.2.1) (1.35.0)\n",
      "Requirement already satisfied: werkzeug>=0.11.15 in /usr/local/lib/python3.7/dist-packages (from tensorboard<2.3.0,>=2.2.0->tensorflow==2.2.1) (1.0.1)\n",
      "Requirement already satisfied: requests<3,>=2.21.0 in /usr/local/lib/python3.7/dist-packages (from tensorboard<2.3.0,>=2.2.0->tensorflow==2.2.1) (2.23.0)\n",
      "Requirement already satisfied: google-auth-oauthlib<0.5,>=0.4.1 in /usr/local/lib/python3.7/dist-packages (from tensorboard<2.3.0,>=2.2.0->tensorflow==2.2.1) (0.4.6)\n",
      "Requirement already satisfied: cachetools<5.0,>=2.0.0 in /usr/local/lib/python3.7/dist-packages (from google-auth<2,>=1.6.3->tensorboard<2.3.0,>=2.2.0->tensorflow==2.2.1) (4.2.4)\n",
      "Requirement already satisfied: rsa<5,>=3.1.4 in /usr/local/lib/python3.7/dist-packages (from google-auth<2,>=1.6.3->tensorboard<2.3.0,>=2.2.0->tensorflow==2.2.1) (4.8)\n",
      "Requirement already satisfied: pyasn1-modules>=0.2.1 in /usr/local/lib/python3.7/dist-packages (from google-auth<2,>=1.6.3->tensorboard<2.3.0,>=2.2.0->tensorflow==2.2.1) (0.2.8)\n",
      "Requirement already satisfied: requests-oauthlib>=0.7.0 in /usr/local/lib/python3.7/dist-packages (from google-auth-oauthlib<0.5,>=0.4.1->tensorboard<2.3.0,>=2.2.0->tensorflow==2.2.1) (1.3.1)\n",
      "Requirement already satisfied: importlib-metadata>=4.4 in /usr/local/lib/python3.7/dist-packages (from markdown>=2.6.8->tensorboard<2.3.0,>=2.2.0->tensorflow==2.2.1) (4.11.0)\n",
      "Requirement already satisfied: zipp>=0.5 in /usr/local/lib/python3.7/dist-packages (from importlib-metadata>=4.4->markdown>=2.6.8->tensorboard<2.3.0,>=2.2.0->tensorflow==2.2.1) (3.7.0)\n",
      "Requirement already satisfied: typing-extensions>=3.6.4 in /usr/local/lib/python3.7/dist-packages (from importlib-metadata>=4.4->markdown>=2.6.8->tensorboard<2.3.0,>=2.2.0->tensorflow==2.2.1) (3.10.0.2)\n",
      "Requirement already satisfied: pyasn1<0.5.0,>=0.4.6 in /usr/local/lib/python3.7/dist-packages (from pyasn1-modules>=0.2.1->google-auth<2,>=1.6.3->tensorboard<2.3.0,>=2.2.0->tensorflow==2.2.1) (0.4.8)\n",
      "Requirement already satisfied: chardet<4,>=3.0.2 in /usr/local/lib/python3.7/dist-packages (from requests<3,>=2.21.0->tensorboard<2.3.0,>=2.2.0->tensorflow==2.2.1) (3.0.4)\n",
      "Requirement already satisfied: idna<3,>=2.5 in /usr/local/lib/python3.7/dist-packages (from requests<3,>=2.21.0->tensorboard<2.3.0,>=2.2.0->tensorflow==2.2.1) (2.10)\n",
      "Requirement already satisfied: certifi>=2017.4.17 in /usr/local/lib/python3.7/dist-packages (from requests<3,>=2.21.0->tensorboard<2.3.0,>=2.2.0->tensorflow==2.2.1) (2021.10.8)\n",
      "Requirement already satisfied: urllib3!=1.25.0,!=1.25.1,<1.26,>=1.21.1 in /usr/local/lib/python3.7/dist-packages (from requests<3,>=2.21.0->tensorboard<2.3.0,>=2.2.0->tensorflow==2.2.1) (1.24.3)\n",
      "Requirement already satisfied: oauthlib>=3.0.0 in /usr/local/lib/python3.7/dist-packages (from requests-oauthlib>=0.7.0->google-auth-oauthlib<0.5,>=0.4.1->tensorboard<2.3.0,>=2.2.0->tensorflow==2.2.1) (3.2.0)\n",
      "Requirement already satisfied: keras==2.3.1 in /usr/local/lib/python3.7/dist-packages (2.3.1)\n",
      "Requirement already satisfied: keras-applications>=1.0.6 in /usr/local/lib/python3.7/dist-packages (from keras==2.3.1) (1.0.8)\n",
      "Requirement already satisfied: scipy>=0.14 in /usr/local/lib/python3.7/dist-packages (from keras==2.3.1) (1.4.1)\n",
      "Requirement already satisfied: pyyaml in /usr/local/lib/python3.7/dist-packages (from keras==2.3.1) (6.0)\n",
      "Requirement already satisfied: keras-preprocessing>=1.0.5 in /usr/local/lib/python3.7/dist-packages (from keras==2.3.1) (1.1.2)\n",
      "Requirement already satisfied: numpy>=1.9.1 in /usr/local/lib/python3.7/dist-packages (from keras==2.3.1) (1.18.5)\n",
      "Requirement already satisfied: six>=1.9.0 in /usr/local/lib/python3.7/dist-packages (from keras==2.3.1) (1.15.0)\n",
      "Requirement already satisfied: h5py in /usr/local/lib/python3.7/dist-packages (from keras==2.3.1) (2.10.0)\n"
     ]
    }
   ],
   "source": [
    "!pip install tensorflow==2.2.1\n",
    "!pip install keras==2.3.1"
   ]
  },
  {
   "cell_type": "code",
   "execution_count": 4,
   "metadata": {
    "colab": {
     "base_uri": "https://localhost:8080/"
    },
    "executionInfo": {
     "elapsed": 1771,
     "status": "ok",
     "timestamp": 1645453176335,
     "user": {
      "displayName": "Yến Ngọc Vũ",
      "photoUrl": "https://lh3.googleusercontent.com/a-/AOh14Gi4wfCuo_NJT2C0JTe2p3mU-XITI80n8F0YvaxHpNI=s64",
      "userId": "00577626419227892200"
     },
     "user_tz": -420
    },
    "id": "52rQme34JpKH",
    "outputId": "e22960ea-1a32-4c2c-eb71-2fd95a0ec813"
   },
   "outputs": [
    {
     "name": "stdout",
     "output_type": "stream",
     "text": [
      "Keras                         2.3.1\n",
      "Keras-Applications            1.0.8\n",
      "Keras-Preprocessing           1.1.2\n",
      "torch                         1.10.0+cu111\n",
      "torchaudio                    0.10.0+cu111\n",
      "torchsummary                  1.5.1\n",
      "torchtext                     0.11.0\n",
      "torchvision                   0.11.1+cu111\n",
      "transformers                  4.16.2\n"
     ]
    }
   ],
   "source": [
    "# Check library version\n",
    "!pip list | grep -E 'transformers|torch|Keras'"
   ]
  },
  {
   "cell_type": "code",
   "execution_count": 5,
   "metadata": {
    "executionInfo": {
     "elapsed": 7199,
     "status": "ok",
     "timestamp": 1645453183531,
     "user": {
      "displayName": "Yến Ngọc Vũ",
      "photoUrl": "https://lh3.googleusercontent.com/a-/AOh14Gi4wfCuo_NJT2C0JTe2p3mU-XITI80n8F0YvaxHpNI=s64",
      "userId": "00577626419227892200"
     },
     "user_tz": -420
    },
    "id": "9oHUvRU_JpKF"
   },
   "outputs": [],
   "source": [
    "import pandas as pd\n",
    "import math\n",
    "import numpy as np\n",
    "from seqeval.metrics import f1_score\n",
    "from seqeval.metrics import classification_report,accuracy_score,f1_score\n",
    "import torch.nn.functional as F"
   ]
  },
  {
   "cell_type": "code",
   "execution_count": 6,
   "metadata": {
    "executionInfo": {
     "elapsed": 3213,
     "status": "ok",
     "timestamp": 1645453186736,
     "user": {
      "displayName": "Yến Ngọc Vũ",
      "photoUrl": "https://lh3.googleusercontent.com/a-/AOh14Gi4wfCuo_NJT2C0JTe2p3mU-XITI80n8F0YvaxHpNI=s64",
      "userId": "00577626419227892200"
     },
     "user_tz": -420
    },
    "id": "DHR_PTA6JpKG"
   },
   "outputs": [],
   "source": [
    "import torch\n",
    "import os\n",
    "from tqdm import tqdm,trange\n",
    "from torch.optim import Adam\n",
    "from torch.utils.data import TensorDataset, DataLoader, RandomSampler, SequentialSampler\n",
    "from tensorflow.keras.preprocessing.sequence import pad_sequences\n",
    "from sklearn.model_selection import train_test_split\n",
    "from transformers import BertTokenizer, BertConfig\n",
    "from transformers import BertForTokenClassification, AdamW"
   ]
  },
  {
   "cell_type": "markdown",
   "metadata": {
    "id": "xiApfB2aJpKH"
   },
   "source": [
    "This notebook work with env:"
   ]
  },
  {
   "cell_type": "markdown",
   "metadata": {
    "id": "DBOlhGAzJpKJ"
   },
   "source": [
    "- Keras                2.3.1                 \n",
    "- torch                1.1.0                 \n",
    "- transformers         2.5.1      "
   ]
  },
  {
   "cell_type": "markdown",
   "metadata": {
    "id": "0OGI72nhJpKJ"
   },
   "source": [
    "# Introduction"
   ]
  },
  {
   "cell_type": "markdown",
   "metadata": {
    "id": "t0BqLNaMJpKK"
   },
   "source": [
    "In this notebook, will introduce how to do NER with BERT, including:"
   ]
  },
  {
   "cell_type": "markdown",
   "metadata": {
    "id": "PAYT2ZkYJpKK"
   },
   "source": [
    "- Load and preprocess data\n",
    "- Parser data\n",
    "- Make training data\n",
    "- Train model\n",
    "- Evaluate result\n",
    "- **Inference**"
   ]
  },
  {
   "cell_type": "code",
   "execution_count": 6,
   "metadata": {
    "executionInfo": {
     "elapsed": 6,
     "status": "ok",
     "timestamp": 1645453186737,
     "user": {
      "displayName": "Yến Ngọc Vũ",
      "photoUrl": "https://lh3.googleusercontent.com/a-/AOh14Gi4wfCuo_NJT2C0JTe2p3mU-XITI80n8F0YvaxHpNI=s64",
      "userId": "00577626419227892200"
     },
     "user_tz": -420
    },
    "id": "EIwnXzXYJpKM"
   },
   "outputs": [],
   "source": []
  },
  {
   "cell_type": "markdown",
   "metadata": {
    "id": "x8TgfbopJpKM"
   },
   "source": [
    "## Load data"
   ]
  },
  {
   "cell_type": "code",
   "execution_count": 7,
   "metadata": {
    "colab": {
     "base_uri": "https://localhost:8080/"
    },
    "executionInfo": {
     "elapsed": 20200,
     "status": "ok",
     "timestamp": 1645453206932,
     "user": {
      "displayName": "Yến Ngọc Vũ",
      "photoUrl": "https://lh3.googleusercontent.com/a-/AOh14Gi4wfCuo_NJT2C0JTe2p3mU-XITI80n8F0YvaxHpNI=s64",
      "userId": "00577626419227892200"
     },
     "user_tz": -420
    },
    "id": "3KCICFVlhsqD",
    "outputId": "08f720e4-a281-4195-a81c-c453709d52ad"
   },
   "outputs": [
    {
     "name": "stdout",
     "output_type": "stream",
     "text": [
      "Mounted at /content/drive\n"
     ]
    }
   ],
   "source": [
    "# connect ggdrive\n",
    "from google.colab import drive\n",
    "drive.mount('/content/drive')"
   ]
  },
  {
   "cell_type": "code",
   "execution_count": 8,
   "metadata": {
    "executionInfo": {
     "elapsed": 4,
     "status": "ok",
     "timestamp": 1645453206932,
     "user": {
      "displayName": "Yến Ngọc Vũ",
      "photoUrl": "https://lh3.googleusercontent.com/a-/AOh14Gi4wfCuo_NJT2C0JTe2p3mU-XITI80n8F0YvaxHpNI=s64",
      "userId": "00577626419227892200"
     },
     "user_tz": -420
    },
    "id": "M7SxiW1hJpKN"
   },
   "outputs": [],
   "source": [
    "path=\"/content/drive/MyDrive/LUẬN VĂN-K18_CQ/02. Bình-Ngọc/Data/Dataset/conll/simple/\""
   ]
  },
  {
   "cell_type": "code",
   "execution_count": 9,
   "metadata": {
    "colab": {
     "base_uri": "https://localhost:8080/"
    },
    "executionInfo": {
     "elapsed": 3481,
     "status": "ok",
     "timestamp": 1645453210410,
     "user": {
      "displayName": "Yến Ngọc Vũ",
      "photoUrl": "https://lh3.googleusercontent.com/a-/AOh14Gi4wfCuo_NJT2C0JTe2p3mU-XITI80n8F0YvaxHpNI=s64",
      "userId": "00577626419227892200"
     },
     "user_tz": -420
    },
    "id": "z-un8ZU3JpKN",
    "outputId": "f85957fb-f60d-461b-f298-fb22e233c44b"
   },
   "outputs": [
    {
     "name": "stdout",
     "output_type": "stream",
     "text": [
      "35011\n",
      "70281\n",
      "171141\n",
      "207499\n"
     ]
    }
   ],
   "source": [
    "# add dataset\n",
    "sentences = []\n",
    "count=0\n",
    "\n",
    "f1 = open(path+'csr.conll', 'r', encoding=\"utf-8\")\n",
    "for i in f1:\n",
    "    l = i.split(' ')\n",
    "    #print(l)\n",
    "    if (i == '\\n'):\n",
    "        count+=1\n",
    "        continue\n",
    "    if l[0] == '-DOCSTART-':\n",
    "        continue\n",
    "    sentences.append((count,l[0], l[3].strip('\\n')))\n",
    "f1.close()\n",
    "print(len(sentences))\n",
    "\n",
    "f1 = open(path+'udemy_data.conll', 'r', encoding=\"utf-8\")\n",
    "for i in f1:\n",
    "    l = i.split(' ')\n",
    "    if (i == '\\n'):\n",
    "        count+=1\n",
    "        continue\n",
    "    if l[0] == '-DOCSTART-':\n",
    "        continue\n",
    "    sentences.append((count,l[0], l[3].strip('\\n')))\n",
    "f1.close()\n",
    "print(len(sentences));\n",
    "\n",
    "f1 = open(path+'udemy1.conll', 'r', encoding=\"utf-8\")\n",
    "for i in f1:\n",
    "    l = i.split(' ')\n",
    "    #print(l)\n",
    "    if (i == '\\n'):\n",
    "        count+=1\n",
    "        continue\n",
    "    if l[0] == '-DOCSTART-':\n",
    "        continue\n",
    "    sentences.append((count,l[0], l[3].strip('\\n')))\n",
    "print(len(sentences))\n",
    "'''\n",
    "f1 = open(path+'udemy2.conll', 'r', encoding=\"utf-8\")\n",
    "for i in f1:\n",
    "    l = i.split(' ')\n",
    "    #print(l)\n",
    "    if (i == '\\n'):\n",
    "        count+=1\n",
    "        continue\n",
    "    if l[0] == '-DOCSTART-':\n",
    "        continue\n",
    "    sentences.append((count,l[0], l[3].strip('\\n')))\n",
    "print(len(sentences))\n",
    "'''\n",
    "\n",
    "f1 = open(path+'pro7.conll', 'r', encoding=\"utf-8\")\n",
    "for i in f1:\n",
    "    l = i.split(' ')\n",
    "    #print(l)\n",
    "    if (i == '\\n'):\n",
    "        count+=1\n",
    "        continue\n",
    "    if l[0] == '-DOCSTART-':\n",
    "        continue\n",
    "    sentences.append((count,l[0], l[3].strip('\\n')))\n",
    "print(len(sentences))"
   ]
  },
  {
   "cell_type": "code",
   "execution_count": 10,
   "metadata": {
    "executionInfo": {
     "elapsed": 9,
     "status": "ok",
     "timestamp": 1645453210411,
     "user": {
      "displayName": "Yến Ngọc Vũ",
      "photoUrl": "https://lh3.googleusercontent.com/a-/AOh14Gi4wfCuo_NJT2C0JTe2p3mU-XITI80n8F0YvaxHpNI=s64",
      "userId": "00577626419227892200"
     },
     "user_tz": -420
    },
    "id": "QcZAddwtJpKO"
   },
   "outputs": [],
   "source": [
    "df_data = pd.DataFrame(sentences, columns=['Sentence #', 'Word', 'Tag'])"
   ]
  },
  {
   "cell_type": "code",
   "execution_count": 11,
   "metadata": {
    "colab": {
     "base_uri": "https://localhost:8080/",
     "height": 677
    },
    "executionInfo": {
     "elapsed": 7,
     "status": "ok",
     "timestamp": 1645453210411,
     "user": {
      "displayName": "Yến Ngọc Vũ",
      "photoUrl": "https://lh3.googleusercontent.com/a-/AOh14Gi4wfCuo_NJT2C0JTe2p3mU-XITI80n8F0YvaxHpNI=s64",
      "userId": "00577626419227892200"
     },
     "user_tz": -420
    },
    "id": "I9pJJdPpJpKO",
    "outputId": "c0d4264f-ec90-4521-963d-f70d6e36b623"
   },
   "outputs": [
    {
     "data": {
      "text/html": [
       "\n",
       "  <div id=\"df-317bf3bf-b934-4a17-91ea-caaf4093c1c3\">\n",
       "    <div class=\"colab-df-container\">\n",
       "      <div>\n",
       "<style scoped>\n",
       "    .dataframe tbody tr th:only-of-type {\n",
       "        vertical-align: middle;\n",
       "    }\n",
       "\n",
       "    .dataframe tbody tr th {\n",
       "        vertical-align: top;\n",
       "    }\n",
       "\n",
       "    .dataframe thead th {\n",
       "        text-align: right;\n",
       "    }\n",
       "</style>\n",
       "<table border=\"1\" class=\"dataframe\">\n",
       "  <thead>\n",
       "    <tr style=\"text-align: right;\">\n",
       "      <th></th>\n",
       "      <th>Sentence #</th>\n",
       "      <th>Word</th>\n",
       "      <th>Tag</th>\n",
       "    </tr>\n",
       "  </thead>\n",
       "  <tbody>\n",
       "    <tr>\n",
       "      <th>0</th>\n",
       "      <td>0</td>\n",
       "      <td>Data</td>\n",
       "      <td>B-KNOW</td>\n",
       "    </tr>\n",
       "    <tr>\n",
       "      <th>1</th>\n",
       "      <td>0</td>\n",
       "      <td>pipelines</td>\n",
       "      <td>I-KNOW</td>\n",
       "    </tr>\n",
       "    <tr>\n",
       "      <th>2</th>\n",
       "      <td>0</td>\n",
       "      <td>typically</td>\n",
       "      <td>O</td>\n",
       "    </tr>\n",
       "    <tr>\n",
       "      <th>3</th>\n",
       "      <td>0</td>\n",
       "      <td>fall</td>\n",
       "      <td>O</td>\n",
       "    </tr>\n",
       "    <tr>\n",
       "      <th>4</th>\n",
       "      <td>0</td>\n",
       "      <td>under</td>\n",
       "      <td>O</td>\n",
       "    </tr>\n",
       "    <tr>\n",
       "      <th>5</th>\n",
       "      <td>0</td>\n",
       "      <td>one</td>\n",
       "      <td>O</td>\n",
       "    </tr>\n",
       "    <tr>\n",
       "      <th>6</th>\n",
       "      <td>0</td>\n",
       "      <td>of</td>\n",
       "      <td>O</td>\n",
       "    </tr>\n",
       "    <tr>\n",
       "      <th>7</th>\n",
       "      <td>0</td>\n",
       "      <td>the</td>\n",
       "      <td>O</td>\n",
       "    </tr>\n",
       "    <tr>\n",
       "      <th>8</th>\n",
       "      <td>0</td>\n",
       "      <td>Extra-Load</td>\n",
       "      <td>B-KNOW</td>\n",
       "    </tr>\n",
       "    <tr>\n",
       "      <th>9</th>\n",
       "      <td>0</td>\n",
       "      <td>,</td>\n",
       "      <td>O</td>\n",
       "    </tr>\n",
       "    <tr>\n",
       "      <th>10</th>\n",
       "      <td>0</td>\n",
       "      <td>Extract-Load-Transform</td>\n",
       "      <td>B-KNOW</td>\n",
       "    </tr>\n",
       "    <tr>\n",
       "      <th>11</th>\n",
       "      <td>0</td>\n",
       "      <td>or</td>\n",
       "      <td>O</td>\n",
       "    </tr>\n",
       "    <tr>\n",
       "      <th>12</th>\n",
       "      <td>0</td>\n",
       "      <td>Extract-Transform-Load</td>\n",
       "      <td>B-KNOW</td>\n",
       "    </tr>\n",
       "    <tr>\n",
       "      <th>13</th>\n",
       "      <td>0</td>\n",
       "      <td>paradigms</td>\n",
       "      <td>O</td>\n",
       "    </tr>\n",
       "    <tr>\n",
       "      <th>14</th>\n",
       "      <td>0</td>\n",
       "      <td>.</td>\n",
       "      <td>O</td>\n",
       "    </tr>\n",
       "    <tr>\n",
       "      <th>15</th>\n",
       "      <td>1</td>\n",
       "      <td>This</td>\n",
       "      <td>O</td>\n",
       "    </tr>\n",
       "    <tr>\n",
       "      <th>16</th>\n",
       "      <td>1</td>\n",
       "      <td>course</td>\n",
       "      <td>O</td>\n",
       "    </tr>\n",
       "    <tr>\n",
       "      <th>17</th>\n",
       "      <td>1</td>\n",
       "      <td>describes</td>\n",
       "      <td>O</td>\n",
       "    </tr>\n",
       "    <tr>\n",
       "      <th>18</th>\n",
       "      <td>1</td>\n",
       "      <td>which</td>\n",
       "      <td>O</td>\n",
       "    </tr>\n",
       "    <tr>\n",
       "      <th>19</th>\n",
       "      <td>1</td>\n",
       "      <td>paradigm</td>\n",
       "      <td>O</td>\n",
       "    </tr>\n",
       "  </tbody>\n",
       "</table>\n",
       "</div>\n",
       "      <button class=\"colab-df-convert\" onclick=\"convertToInteractive('df-317bf3bf-b934-4a17-91ea-caaf4093c1c3')\"\n",
       "              title=\"Convert this dataframe to an interactive table.\"\n",
       "              style=\"display:none;\">\n",
       "        \n",
       "  <svg xmlns=\"http://www.w3.org/2000/svg\" height=\"24px\"viewBox=\"0 0 24 24\"\n",
       "       width=\"24px\">\n",
       "    <path d=\"M0 0h24v24H0V0z\" fill=\"none\"/>\n",
       "    <path d=\"M18.56 5.44l.94 2.06.94-2.06 2.06-.94-2.06-.94-.94-2.06-.94 2.06-2.06.94zm-11 1L8.5 8.5l.94-2.06 2.06-.94-2.06-.94L8.5 2.5l-.94 2.06-2.06.94zm10 10l.94 2.06.94-2.06 2.06-.94-2.06-.94-.94-2.06-.94 2.06-2.06.94z\"/><path d=\"M17.41 7.96l-1.37-1.37c-.4-.4-.92-.59-1.43-.59-.52 0-1.04.2-1.43.59L10.3 9.45l-7.72 7.72c-.78.78-.78 2.05 0 2.83L4 21.41c.39.39.9.59 1.41.59.51 0 1.02-.2 1.41-.59l7.78-7.78 2.81-2.81c.8-.78.8-2.07 0-2.86zM5.41 20L4 18.59l7.72-7.72 1.47 1.35L5.41 20z\"/>\n",
       "  </svg>\n",
       "      </button>\n",
       "      \n",
       "  <style>\n",
       "    .colab-df-container {\n",
       "      display:flex;\n",
       "      flex-wrap:wrap;\n",
       "      gap: 12px;\n",
       "    }\n",
       "\n",
       "    .colab-df-convert {\n",
       "      background-color: #E8F0FE;\n",
       "      border: none;\n",
       "      border-radius: 50%;\n",
       "      cursor: pointer;\n",
       "      display: none;\n",
       "      fill: #1967D2;\n",
       "      height: 32px;\n",
       "      padding: 0 0 0 0;\n",
       "      width: 32px;\n",
       "    }\n",
       "\n",
       "    .colab-df-convert:hover {\n",
       "      background-color: #E2EBFA;\n",
       "      box-shadow: 0px 1px 2px rgba(60, 64, 67, 0.3), 0px 1px 3px 1px rgba(60, 64, 67, 0.15);\n",
       "      fill: #174EA6;\n",
       "    }\n",
       "\n",
       "    [theme=dark] .colab-df-convert {\n",
       "      background-color: #3B4455;\n",
       "      fill: #D2E3FC;\n",
       "    }\n",
       "\n",
       "    [theme=dark] .colab-df-convert:hover {\n",
       "      background-color: #434B5C;\n",
       "      box-shadow: 0px 1px 3px 1px rgba(0, 0, 0, 0.15);\n",
       "      filter: drop-shadow(0px 1px 2px rgba(0, 0, 0, 0.3));\n",
       "      fill: #FFFFFF;\n",
       "    }\n",
       "  </style>\n",
       "\n",
       "      <script>\n",
       "        const buttonEl =\n",
       "          document.querySelector('#df-317bf3bf-b934-4a17-91ea-caaf4093c1c3 button.colab-df-convert');\n",
       "        buttonEl.style.display =\n",
       "          google.colab.kernel.accessAllowed ? 'block' : 'none';\n",
       "\n",
       "        async function convertToInteractive(key) {\n",
       "          const element = document.querySelector('#df-317bf3bf-b934-4a17-91ea-caaf4093c1c3');\n",
       "          const dataTable =\n",
       "            await google.colab.kernel.invokeFunction('convertToInteractive',\n",
       "                                                     [key], {});\n",
       "          if (!dataTable) return;\n",
       "\n",
       "          const docLinkHtml = 'Like what you see? Visit the ' +\n",
       "            '<a target=\"_blank\" href=https://colab.research.google.com/notebooks/data_table.ipynb>data table notebook</a>'\n",
       "            + ' to learn more about interactive tables.';\n",
       "          element.innerHTML = '';\n",
       "          dataTable['output_type'] = 'display_data';\n",
       "          await google.colab.output.renderOutput(dataTable, element);\n",
       "          const docLink = document.createElement('div');\n",
       "          docLink.innerHTML = docLinkHtml;\n",
       "          element.appendChild(docLink);\n",
       "        }\n",
       "      </script>\n",
       "    </div>\n",
       "  </div>\n",
       "  "
      ],
      "text/plain": [
       "    Sentence #                    Word     Tag\n",
       "0            0                    Data  B-KNOW\n",
       "1            0               pipelines  I-KNOW\n",
       "2            0               typically       O\n",
       "3            0                    fall       O\n",
       "4            0                   under       O\n",
       "5            0                     one       O\n",
       "6            0                      of       O\n",
       "7            0                     the       O\n",
       "8            0              Extra-Load  B-KNOW\n",
       "9            0                       ,       O\n",
       "10           0  Extract-Load-Transform  B-KNOW\n",
       "11           0                      or       O\n",
       "12           0  Extract-Transform-Load  B-KNOW\n",
       "13           0               paradigms       O\n",
       "14           0                       .       O\n",
       "15           1                    This       O\n",
       "16           1                  course       O\n",
       "17           1               describes       O\n",
       "18           1                   which       O\n",
       "19           1                paradigm       O"
      ]
     },
     "execution_count": 11,
     "metadata": {},
     "output_type": "execute_result"
    }
   ],
   "source": [
    "df_data.head(n=20)"
   ]
  },
  {
   "cell_type": "markdown",
   "metadata": {
    "id": "Oy9SdCUKJpKP"
   },
   "source": [
    "**Have a look TAG cat**"
   ]
  },
  {
   "cell_type": "code",
   "execution_count": 12,
   "metadata": {
    "colab": {
     "base_uri": "https://localhost:8080/"
    },
    "executionInfo": {
     "elapsed": 476,
     "status": "ok",
     "timestamp": 1645453210882,
     "user": {
      "displayName": "Yến Ngọc Vũ",
      "photoUrl": "https://lh3.googleusercontent.com/a-/AOh14Gi4wfCuo_NJT2C0JTe2p3mU-XITI80n8F0YvaxHpNI=s64",
      "userId": "00577626419227892200"
     },
     "user_tz": -420
    },
    "id": "PiFhpHWyJpKP",
    "outputId": "4e8a86ae-952d-4020-bd7d-13a520b593c7"
   },
   "outputs": [
    {
     "data": {
      "text/plain": [
       "array(['B-KNOW', 'I-KNOW', 'O', 'B-PLAT', 'I-PLAT', 'B-FRAM', 'B-LANG',\n",
       "       'B-TOOL', 'I-TOOL', 'I-LANG', 'I-FRAM'], dtype=object)"
      ]
     },
     "execution_count": 12,
     "metadata": {},
     "output_type": "execute_result"
    }
   ],
   "source": [
    "df_data.Tag.unique()"
   ]
  },
  {
   "cell_type": "code",
   "execution_count": 13,
   "metadata": {
    "colab": {
     "base_uri": "https://localhost:8080/"
    },
    "executionInfo": {
     "elapsed": 7,
     "status": "ok",
     "timestamp": 1645453210883,
     "user": {
      "displayName": "Yến Ngọc Vũ",
      "photoUrl": "https://lh3.googleusercontent.com/a-/AOh14Gi4wfCuo_NJT2C0JTe2p3mU-XITI80n8F0YvaxHpNI=s64",
      "userId": "00577626419227892200"
     },
     "user_tz": -420
    },
    "id": "jr9nR8EnJpKP",
    "outputId": "51b39ac2-5634-4020-96f4-fd1364f78418"
   },
   "outputs": [
    {
     "data": {
      "text/plain": [
       "(12215, 15126, 11)"
      ]
     },
     "execution_count": 13,
     "metadata": {},
     "output_type": "execute_result"
    }
   ],
   "source": [
    "# Analyse summary of data\n",
    "df_data['Sentence #'].nunique(), df_data.Word.nunique(), df_data.Tag.nunique()"
   ]
  },
  {
   "cell_type": "code",
   "execution_count": 14,
   "metadata": {
    "colab": {
     "base_uri": "https://localhost:8080/",
     "height": 390
    },
    "executionInfo": {
     "elapsed": 503,
     "status": "ok",
     "timestamp": 1645453211383,
     "user": {
      "displayName": "Yến Ngọc Vũ",
      "photoUrl": "https://lh3.googleusercontent.com/a-/AOh14Gi4wfCuo_NJT2C0JTe2p3mU-XITI80n8F0YvaxHpNI=s64",
      "userId": "00577626419227892200"
     },
     "user_tz": -420
    },
    "id": "D9b-DLJFh8jl",
    "outputId": "9ca3191a-de8a-4e62-fc24-fedfa13c32f5"
   },
   "outputs": [
    {
     "data": {
      "image/png": "[encoded data removed]",
      "text/plain": [
       "<Figure size 576x432 with 1 Axes>"
      ]
     },
     "metadata": {
      "needs_background": "light"
     },
     "output_type": "display_data"
    }
   ],
   "source": [
    "word_counts = df_data.groupby(\"Sentence #\")[\"Word\"].agg([\"count\"])\n",
    "word_counts = word_counts.rename(columns={\"count\": \"Word count\"})\n",
    "word_counts.hist(bins=50, figsize=(8,6));"
   ]
  },
  {
   "cell_type": "code",
   "execution_count": 15,
   "metadata": {
    "colab": {
     "base_uri": "https://localhost:8080/"
    },
    "executionInfo": {
     "elapsed": 21,
     "status": "ok",
     "timestamp": 1645453211384,
     "user": {
      "displayName": "Yến Ngọc Vũ",
      "photoUrl": "https://lh3.googleusercontent.com/a-/AOh14Gi4wfCuo_NJT2C0JTe2p3mU-XITI80n8F0YvaxHpNI=s64",
      "userId": "00577626419227892200"
     },
     "user_tz": -420
    },
    "id": "kaQp2Xw3h28I",
    "outputId": "3409e3f7-d7a9-4088-89a6-1ad67d8b98b8"
   },
   "outputs": [
    {
     "name": "stdout",
     "output_type": "stream",
     "text": [
      "Longest sentence in the corpus contains 157 words.\n"
     ]
    }
   ],
   "source": [
    "MAX_SENTENCE = word_counts.max()[0]\n",
    "print(\"Longest sentence in the corpus contains {} words.\".format(MAX_SENTENCE))"
   ]
  },
  {
   "cell_type": "code",
   "execution_count": 16,
   "metadata": {
    "colab": {
     "base_uri": "https://localhost:8080/"
    },
    "executionInfo": {
     "elapsed": 318,
     "status": "ok",
     "timestamp": 1645453211696,
     "user": {
      "displayName": "Yến Ngọc Vũ",
      "photoUrl": "https://lh3.googleusercontent.com/a-/AOh14Gi4wfCuo_NJT2C0JTe2p3mU-XITI80n8F0YvaxHpNI=s64",
      "userId": "00577626419227892200"
     },
     "user_tz": -420
    },
    "id": "7uZWj7sMJpKQ",
    "outputId": "9bdbf58c-2e56-47fd-d879-bb66859c0972"
   },
   "outputs": [
    {
     "data": {
      "text/plain": [
       "O         186308\n",
       "B-KNOW      7577\n",
       "I-KNOW      6561\n",
       "B-LANG      1815\n",
       "B-TOOL      1703\n",
       "B-FRAM      1109\n",
       "B-PLAT      1032\n",
       "I-TOOL       649\n",
       "I-PLAT       439\n",
       "I-FRAM       258\n",
       "I-LANG        48\n",
       "Name: Tag, dtype: int64"
      ]
     },
     "execution_count": 16,
     "metadata": {},
     "output_type": "execute_result"
    }
   ],
   "source": [
    "# Analyse the Tag distribution\n",
    "df_data.Tag.value_counts()"
   ]
  },
  {
   "cell_type": "code",
   "execution_count": 16,
   "metadata": {
    "executionInfo": {
     "elapsed": 6,
     "status": "ok",
     "timestamp": 1645453211697,
     "user": {
      "displayName": "Yến Ngọc Vũ",
      "photoUrl": "https://lh3.googleusercontent.com/a-/AOh14Gi4wfCuo_NJT2C0JTe2p3mU-XITI80n8F0YvaxHpNI=s64",
      "userId": "00577626419227892200"
     },
     "user_tz": -420
    },
    "id": "kbQ89nwGJpKQ"
   },
   "outputs": [],
   "source": []
  },
  {
   "cell_type": "markdown",
   "metadata": {
    "id": "YpGhCd1eJpKQ"
   },
   "source": [
    "## Parser data"
   ]
  },
  {
   "cell_type": "markdown",
   "metadata": {
    "id": "FCqlp-YJJpKQ"
   },
   "source": [
    "**Parser data into document structure**"
   ]
  },
  {
   "cell_type": "code",
   "execution_count": 17,
   "metadata": {
    "executionInfo": {
     "elapsed": 6,
     "status": "ok",
     "timestamp": 1645453211697,
     "user": {
      "displayName": "Yến Ngọc Vũ",
      "photoUrl": "https://lh3.googleusercontent.com/a-/AOh14Gi4wfCuo_NJT2C0JTe2p3mU-XITI80n8F0YvaxHpNI=s64",
      "userId": "00577626419227892200"
     },
     "user_tz": -420
    },
    "id": "PNR_EucCJpKR"
   },
   "outputs": [],
   "source": [
    "class SentenceGetter(object):\n",
    "    \n",
    "    def __init__(self, data):\n",
    "        self.n_sent = 1\n",
    "        self.data = data\n",
    "        self.empty = False\n",
    "        agg_func = lambda s: [(w, t) for w, t in zip(s[\"Word\"].values.tolist(),\n",
    "                                                           #s[\"POS\"].values.tolist(),\n",
    "                                                           s[\"Tag\"].values.tolist())]\n",
    "        self.grouped = self.data.groupby(\"Sentence #\").apply(agg_func)\n",
    "        self.sentences = [s for s in self.grouped]\n",
    "    \n",
    "    def get_next(self):\n",
    "        try:\n",
    "            s = self.grouped[\"Sentence: {}\".format(self.n_sent)]\n",
    "            self.n_sent += 1\n",
    "            return s\n",
    "        except:\n",
    "            return None"
   ]
  },
  {
   "cell_type": "code",
   "execution_count": 18,
   "metadata": {
    "executionInfo": {
     "elapsed": 2008,
     "status": "ok",
     "timestamp": 1645453213700,
     "user": {
      "displayName": "Yến Ngọc Vũ",
      "photoUrl": "https://lh3.googleusercontent.com/a-/AOh14Gi4wfCuo_NJT2C0JTe2p3mU-XITI80n8F0YvaxHpNI=s64",
      "userId": "00577626419227892200"
     },
     "user_tz": -420
    },
    "id": "9ac1gdynJpKR"
   },
   "outputs": [],
   "source": [
    "# Get full document data struce\n",
    "getter = SentenceGetter(df_data)"
   ]
  },
  {
   "cell_type": "code",
   "execution_count": 19,
   "metadata": {
    "colab": {
     "base_uri": "https://localhost:8080/"
    },
    "executionInfo": {
     "elapsed": 31,
     "status": "ok",
     "timestamp": 1645453213701,
     "user": {
      "displayName": "Yến Ngọc Vũ",
      "photoUrl": "https://lh3.googleusercontent.com/a-/AOh14Gi4wfCuo_NJT2C0JTe2p3mU-XITI80n8F0YvaxHpNI=s64",
      "userId": "00577626419227892200"
     },
     "user_tz": -420
    },
    "id": "Xehyd9wtJpKR",
    "outputId": "9174fc05-d5d1-4260-e3c2-610356d28b45"
   },
   "outputs": [
    {
     "data": {
      "text/plain": [
       "['Data',\n",
       " 'pipelines',\n",
       " 'typically',\n",
       " 'fall',\n",
       " 'under',\n",
       " 'one',\n",
       " 'of',\n",
       " 'the',\n",
       " 'Extra-Load',\n",
       " ',',\n",
       " 'Extract-Load-Transform',\n",
       " 'or',\n",
       " 'Extract-Transform-Load',\n",
       " 'paradigms',\n",
       " '.']"
      ]
     },
     "execution_count": 19,
     "metadata": {},
     "output_type": "execute_result"
    }
   ],
   "source": [
    "# Get sentence data\n",
    "sentences = [[s[0] for s in sent] for sent in getter.sentences]\n",
    "sentences[0]"
   ]
  },
  {
   "cell_type": "code",
   "execution_count": 20,
   "metadata": {
    "colab": {
     "base_uri": "https://localhost:8080/"
    },
    "executionInfo": {
     "elapsed": 18,
     "status": "ok",
     "timestamp": 1645453213701,
     "user": {
      "displayName": "Yến Ngọc Vũ",
      "photoUrl": "https://lh3.googleusercontent.com/a-/AOh14Gi4wfCuo_NJT2C0JTe2p3mU-XITI80n8F0YvaxHpNI=s64",
      "userId": "00577626419227892200"
     },
     "user_tz": -420
    },
    "id": "KrBcPsRVJpKR",
    "outputId": "7ca83ede-49e4-4e20-ee36-d258e3a15a07"
   },
   "outputs": [
    {
     "name": "stdout",
     "output_type": "stream",
     "text": [
      "['B-KNOW', 'I-KNOW', 'O', 'O', 'O', 'O', 'O', 'O', 'B-KNOW', 'O', 'B-KNOW', 'O', 'B-KNOW', 'O', 'O']\n"
     ]
    }
   ],
   "source": [
    "# Get pos data\n",
    "poses = [[s[1] for s in sent] for sent in getter.sentences]\n",
    "print(poses[0])"
   ]
  },
  {
   "cell_type": "code",
   "execution_count": 21,
   "metadata": {
    "colab": {
     "base_uri": "https://localhost:8080/"
    },
    "executionInfo": {
     "elapsed": 13,
     "status": "ok",
     "timestamp": 1645453213702,
     "user": {
      "displayName": "Yến Ngọc Vũ",
      "photoUrl": "https://lh3.googleusercontent.com/a-/AOh14Gi4wfCuo_NJT2C0JTe2p3mU-XITI80n8F0YvaxHpNI=s64",
      "userId": "00577626419227892200"
     },
     "user_tz": -420
    },
    "id": "xvy3AQKtJpKS",
    "outputId": "193b9e61-f22f-40e4-e73b-9eb6b3c82a6b"
   },
   "outputs": [
    {
     "name": "stdout",
     "output_type": "stream",
     "text": [
      "['B-KNOW', 'I-KNOW', 'O', 'O', 'O', 'O', 'O', 'O', 'B-KNOW', 'O', 'B-KNOW', 'O', 'B-KNOW', 'O', 'O']\n"
     ]
    }
   ],
   "source": [
    "# Get tag labels data\n",
    "labels = [[s[1] for s in sent] for sent in getter.sentences]\n",
    "print(labels[0])"
   ]
  },
  {
   "cell_type": "code",
   "execution_count": 21,
   "metadata": {
    "executionInfo": {
     "elapsed": 6,
     "status": "ok",
     "timestamp": 1645453213702,
     "user": {
      "displayName": "Yến Ngọc Vũ",
      "photoUrl": "https://lh3.googleusercontent.com/a-/AOh14Gi4wfCuo_NJT2C0JTe2p3mU-XITI80n8F0YvaxHpNI=s64",
      "userId": "00577626419227892200"
     },
     "user_tz": -420
    },
    "id": "1HvggxTJJpKS"
   },
   "outputs": [],
   "source": []
  },
  {
   "cell_type": "markdown",
   "metadata": {
    "id": "l9gJnT9qJpKS"
   },
   "source": [
    "**Make TAG name into index for training**"
   ]
  },
  {
   "cell_type": "code",
   "execution_count": 22,
   "metadata": {
    "executionInfo": {
     "elapsed": 7,
     "status": "ok",
     "timestamp": 1645453213703,
     "user": {
      "displayName": "Yến Ngọc Vũ",
      "photoUrl": "https://lh3.googleusercontent.com/a-/AOh14Gi4wfCuo_NJT2C0JTe2p3mU-XITI80n8F0YvaxHpNI=s64",
      "userId": "00577626419227892200"
     },
     "user_tz": -420
    },
    "id": "WdswQ4SxJpKS"
   },
   "outputs": [],
   "source": [
    "tags_vals = list(set(df_data[\"Tag\"].values))"
   ]
  },
  {
   "cell_type": "code",
   "execution_count": 23,
   "metadata": {
    "executionInfo": {
     "elapsed": 321,
     "status": "ok",
     "timestamp": 1645453214017,
     "user": {
      "displayName": "Yến Ngọc Vũ",
      "photoUrl": "https://lh3.googleusercontent.com/a-/AOh14Gi4wfCuo_NJT2C0JTe2p3mU-XITI80n8F0YvaxHpNI=s64",
      "userId": "00577626419227892200"
     },
     "user_tz": -420
    },
    "id": "xT5H0F3pJpKS"
   },
   "outputs": [],
   "source": [
    "# Add X  label for word piece support\n",
    "# Add [CLS] and [SEP] as BERT need\n",
    "#tags_vals.append('X')\n",
    "tags_vals.append('[CLS]')\n",
    "tags_vals.append('[SEP]')"
   ]
  },
  {
   "cell_type": "code",
   "execution_count": 24,
   "metadata": {
    "executionInfo": {
     "elapsed": 24,
     "status": "ok",
     "timestamp": 1645453214017,
     "user": {
      "displayName": "Yến Ngọc Vũ",
      "photoUrl": "https://lh3.googleusercontent.com/a-/AOh14Gi4wfCuo_NJT2C0JTe2p3mU-XITI80n8F0YvaxHpNI=s64",
      "userId": "00577626419227892200"
     },
     "user_tz": -420
    },
    "id": "ElgSCMqkJpKT"
   },
   "outputs": [],
   "source": [
    "tags_vals = set(tags_vals)"
   ]
  },
  {
   "cell_type": "code",
   "execution_count": 25,
   "metadata": {
    "colab": {
     "base_uri": "https://localhost:8080/"
    },
    "executionInfo": {
     "elapsed": 24,
     "status": "ok",
     "timestamp": 1645453214017,
     "user": {
      "displayName": "Yến Ngọc Vũ",
      "photoUrl": "https://lh3.googleusercontent.com/a-/AOh14Gi4wfCuo_NJT2C0JTe2p3mU-XITI80n8F0YvaxHpNI=s64",
      "userId": "00577626419227892200"
     },
     "user_tz": -420
    },
    "id": "0V2G2kqVJpKT",
    "outputId": "f9910027-716f-49e0-a57d-8fc60a47c67f"
   },
   "outputs": [
    {
     "data": {
      "text/plain": [
       "{'B-FRAM',\n",
       " 'B-KNOW',\n",
       " 'B-LANG',\n",
       " 'B-PLAT',\n",
       " 'B-TOOL',\n",
       " 'I-FRAM',\n",
       " 'I-KNOW',\n",
       " 'I-LANG',\n",
       " 'I-PLAT',\n",
       " 'I-TOOL',\n",
       " 'O',\n",
       " '[CLS]',\n",
       " '[SEP]'}"
      ]
     },
     "execution_count": 25,
     "metadata": {},
     "output_type": "execute_result"
    }
   ],
   "source": [
    "tags_vals"
   ]
  },
  {
   "cell_type": "code",
   "execution_count": 26,
   "metadata": {
    "executionInfo": {
     "elapsed": 12,
     "status": "ok",
     "timestamp": 1645453214018,
     "user": {
      "displayName": "Yến Ngọc Vũ",
      "photoUrl": "https://lh3.googleusercontent.com/a-/AOh14Gi4wfCuo_NJT2C0JTe2p3mU-XITI80n8F0YvaxHpNI=s64",
      "userId": "00577626419227892200"
     },
     "user_tz": -420
    },
    "id": "bsHrn-xEJpKT"
   },
   "outputs": [],
   "source": [
    "# Set a dict for mapping id to tag name\n",
    "#tag2idx = {t: i for i, t in enumerate(tags_vals)}\n",
    "tag2idx= {#'B-CERTIFICATION': 14,\n",
    " 'B-FRAM': 1,\n",
    " 'B-KNOW': 2,\n",
    " 'B-LANG': 3,\n",
    " 'B-PLAT': 4,\n",
    " 'B-TOOL': 5,\n",
    " #'I-CERTIFICATION': 4,\n",
    " 'I-FRAM': 6,\n",
    " 'I-KNOW': 7,\n",
    " 'I-LANG': 8,\n",
    " 'I-PLAT': 9,\n",
    " 'I-TOOL': 10,\n",
    " 'O': 11,\n",
    " #'X': 6,\n",
    " '[CLS]': 12,\n",
    " '[SEP]': 0}"
   ]
  },
  {
   "cell_type": "code",
   "execution_count": 27,
   "metadata": {
    "colab": {
     "base_uri": "https://localhost:8080/"
    },
    "executionInfo": {
     "elapsed": 12,
     "status": "ok",
     "timestamp": 1645453214018,
     "user": {
      "displayName": "Yến Ngọc Vũ",
      "photoUrl": "https://lh3.googleusercontent.com/a-/AOh14Gi4wfCuo_NJT2C0JTe2p3mU-XITI80n8F0YvaxHpNI=s64",
      "userId": "00577626419227892200"
     },
     "user_tz": -420
    },
    "id": "Ai-3v9cFJpKT",
    "outputId": "4f2ef07a-2471-4b80-ceaa-d71d7bfa0506"
   },
   "outputs": [
    {
     "data": {
      "text/plain": [
       "{'B-FRAM': 1,\n",
       " 'B-KNOW': 2,\n",
       " 'B-LANG': 3,\n",
       " 'B-PLAT': 4,\n",
       " 'B-TOOL': 5,\n",
       " 'I-FRAM': 6,\n",
       " 'I-KNOW': 7,\n",
       " 'I-LANG': 8,\n",
       " 'I-PLAT': 9,\n",
       " 'I-TOOL': 10,\n",
       " 'O': 11,\n",
       " '[CLS]': 12,\n",
       " '[SEP]': 0}"
      ]
     },
     "execution_count": 27,
     "metadata": {},
     "output_type": "execute_result"
    }
   ],
   "source": [
    "tag2idx"
   ]
  },
  {
   "cell_type": "code",
   "execution_count": 28,
   "metadata": {
    "executionInfo": {
     "elapsed": 9,
     "status": "ok",
     "timestamp": 1645453214018,
     "user": {
      "displayName": "Yến Ngọc Vũ",
      "photoUrl": "https://lh3.googleusercontent.com/a-/AOh14Gi4wfCuo_NJT2C0JTe2p3mU-XITI80n8F0YvaxHpNI=s64",
      "userId": "00577626419227892200"
     },
     "user_tz": -420
    },
    "id": "O7-67wElJpKT"
   },
   "outputs": [],
   "source": [
    "# Mapping index to name\n",
    "tag2name={tag2idx[key] : key for key in tag2idx.keys()}"
   ]
  },
  {
   "cell_type": "code",
   "execution_count": 28,
   "metadata": {
    "executionInfo": {
     "elapsed": 10,
     "status": "ok",
     "timestamp": 1645453214019,
     "user": {
      "displayName": "Yến Ngọc Vũ",
      "photoUrl": "https://lh3.googleusercontent.com/a-/AOh14Gi4wfCuo_NJT2C0JTe2p3mU-XITI80n8F0YvaxHpNI=s64",
      "userId": "00577626419227892200"
     },
     "user_tz": -420
    },
    "id": "MMAvxw_eJpKU"
   },
   "outputs": [],
   "source": []
  },
  {
   "cell_type": "markdown",
   "metadata": {
    "id": "sUkNb-oXJpKU"
   },
   "source": [
    "## Make training data"
   ]
  },
  {
   "cell_type": "markdown",
   "metadata": {
    "id": "NYCFPfT0JpKU"
   },
   "source": [
    "- Set gpu environment\n",
    "- Load tokenizer and tokenize\n",
    "- Set 3 embedding, token embedding, mask word embedding, segmentation embedding\n",
    "- Split data set into train and validate, then send them to dataloader"
   ]
  },
  {
   "cell_type": "code",
   "execution_count": 28,
   "metadata": {
    "executionInfo": {
     "elapsed": 11,
     "status": "ok",
     "timestamp": 1645453214020,
     "user": {
      "displayName": "Yến Ngọc Vũ",
      "photoUrl": "https://lh3.googleusercontent.com/a-/AOh14Gi4wfCuo_NJT2C0JTe2p3mU-XITI80n8F0YvaxHpNI=s64",
      "userId": "00577626419227892200"
     },
     "user_tz": -420
    },
    "id": "veYGcE-bJpKU"
   },
   "outputs": [],
   "source": []
  },
  {
   "cell_type": "markdown",
   "metadata": {
    "id": "W_3yiivtJpKU"
   },
   "source": [
    "**Set up gpu environment**"
   ]
  },
  {
   "cell_type": "code",
   "execution_count": 29,
   "metadata": {
    "executionInfo": {
     "elapsed": 10,
     "status": "ok",
     "timestamp": 1645453214020,
     "user": {
      "displayName": "Yến Ngọc Vũ",
      "photoUrl": "https://lh3.googleusercontent.com/a-/AOh14Gi4wfCuo_NJT2C0JTe2p3mU-XITI80n8F0YvaxHpNI=s64",
      "userId": "00577626419227892200"
     },
     "user_tz": -420
    },
    "id": "2Wqae_tXJpKU"
   },
   "outputs": [],
   "source": [
    "device = torch.device(\"cuda\" if torch.cuda.is_available() else \"cpu\")\n",
    "n_gpu = torch.cuda.device_count()"
   ]
  },
  {
   "cell_type": "code",
   "execution_count": 30,
   "metadata": {
    "colab": {
     "base_uri": "https://localhost:8080/"
    },
    "executionInfo": {
     "elapsed": 10,
     "status": "ok",
     "timestamp": 1645453214020,
     "user": {
      "displayName": "Yến Ngọc Vũ",
      "photoUrl": "https://lh3.googleusercontent.com/a-/AOh14Gi4wfCuo_NJT2C0JTe2p3mU-XITI80n8F0YvaxHpNI=s64",
      "userId": "00577626419227892200"
     },
     "user_tz": -420
    },
    "id": "VT8CKJyBJpKV",
    "outputId": "a1aa640a-7b94-4d1d-dcc5-3285dc258cca"
   },
   "outputs": [
    {
     "data": {
      "text/plain": [
       "1"
      ]
     },
     "execution_count": 30,
     "metadata": {},
     "output_type": "execute_result"
    }
   ],
   "source": [
    "n_gpu"
   ]
  },
  {
   "cell_type": "markdown",
   "metadata": {
    "id": "C1hImXMGJpKV"
   },
   "source": [
    "### Load tokenizer"
   ]
  },
  {
   "cell_type": "code",
   "execution_count": 31,
   "metadata": {
    "executionInfo": {
     "elapsed": 7,
     "status": "ok",
     "timestamp": 1645453214020,
     "user": {
      "displayName": "Yến Ngọc Vũ",
      "photoUrl": "https://lh3.googleusercontent.com/a-/AOh14Gi4wfCuo_NJT2C0JTe2p3mU-XITI80n8F0YvaxHpNI=s64",
      "userId": "00577626419227892200"
     },
     "user_tz": -420
    },
    "id": "Bs1QgqWsJpKV"
   },
   "outputs": [],
   "source": [
    "# Len of the sentence must be not bigger than the training model\n",
    "# See model's 'max_position_embeddings' = 512\n",
    "max_len  = 256"
   ]
  },
  {
   "cell_type": "code",
   "execution_count": 32,
   "metadata": {
    "executionInfo": {
     "elapsed": 8,
     "status": "ok",
     "timestamp": 1645453214021,
     "user": {
      "displayName": "Yến Ngọc Vũ",
      "photoUrl": "https://lh3.googleusercontent.com/a-/AOh14Gi4wfCuo_NJT2C0JTe2p3mU-XITI80n8F0YvaxHpNI=s64",
      "userId": "00577626419227892200"
     },
     "user_tz": -420
    },
    "id": "mRteqfdYMrpn"
   },
   "outputs": [],
   "source": [
    "model_cp=\"bert-base-uncased\""
   ]
  },
  {
   "cell_type": "code",
   "execution_count": 33,
   "metadata": {
    "colab": {
     "base_uri": "https://localhost:8080/",
     "height": 145,
     "referenced_widgets": [
      "5d4e1e61a2da4607a1e9485be34ea786",
      "40330176b9054101b9eb328c2792d4fb",
      "bf4a8a1aa1424e4fa97b4c4749a62c30",
      "52b51373de8c47f9bb2bd5fdbe5a35f9",
      "ab2f04bd2e0743baa4b0eb7247c03cc7",
      "ae3be1c3155447b2a27999b99c66b672",
      "258f6a653fb04160ab4f1a42049d21ca",
      "3deff3116bab45e19d10096f7f4527f9",
      "186e82afec9c4f699d4bb9f9af6d0bcd",
      "3f04e93f8dd34afd8b4110bec1989065",
      "ffbc9d43999248ffb9ef3bf94bae01da",
      "77f260e9c60e4e84b7244259839925d9",
      "e2125f13f0b747e59e591b5ce7a7c95f",
      "ca65b267f64045d18495ca03e98d4d91",
      "7a278ae1f8874bcb861759d92dba8a22",
      "a210b5c4e6d54290b2a30e18bad23fce",
      "756f5170f5b94d6090a831a623e3ff14",
      "44484c530546490a8d7cb7003eab675f",
      "d6c7579cf26046b2b13e78b43142cb52",
      "58f64cd56a8745b89a2cb9255cf9361a",
      "db51ad9a7711429294c1ec85565f99ca",
      "7b899fd968894c6baf2217940db866cf",
      "b2b38f4ae765485891b12dc2a2859d6f",
      "a50ce1fafd984738bf2f033a788014f1",
      "26bda47c2228448b949d235a49b9eb6d",
      "7935a7b9e6ed4b90b6deb47421aecf9b",
      "727490b7c3364e9c85bc3f222f99d2e0",
      "387be6384104460e97dc6a39a69ae52c",
      "1a2093ddd3f7427590f93cc7fb7f1870",
      "4f4e03d33214404ba2cc7bc85cf7550e",
      "46366b764ee5485bb6c7f4a49c3197e1",
      "a04c386a88da41ffada570fe53ca85c5",
      "2dd9f62e815f4ef79c6a2ba5e4a1a14a",
      "2b589bdd5fb54dd197f1b6e7f9db1ade",
      "5b25f3628f034086bcc25bc29c92dc6d",
      "576015cb14f64edaaed186fd45c3182f",
      "1ebf58895106414197068a2ae92b1924",
      "803d7fedce284de3a558d71f3d9b2503",
      "110b09e0cfaf4a1fa85cbde19d2d61a1",
      "029eeacf28434aa0907faef7dd26ab2d",
      "f24421806b464e96bd9a2d49dc9ae5fe",
      "ce85e3f39e5f48b1bbe2c09128e4acb9",
      "f1825940a8ee47c09798c2e9ea3cfa1f",
      "b1e96629699340d695c1bace0919965e"
     ]
    },
    "executionInfo": {
     "elapsed": 2232,
     "status": "ok",
     "timestamp": 1645453216245,
     "user": {
      "displayName": "Yến Ngọc Vũ",
      "photoUrl": "https://lh3.googleusercontent.com/a-/AOh14Gi4wfCuo_NJT2C0JTe2p3mU-XITI80n8F0YvaxHpNI=s64",
      "userId": "00577626419227892200"
     },
     "user_tz": -420
    },
    "id": "yuzvAXUSJpKV",
    "outputId": "ca68fc96-a55c-4375-d36d-49655494b5a1"
   },
   "outputs": [
    {
     "data": {
      "application/vnd.jupyter.widget-view+json": {
       "model_id": "5d4e1e61a2da4607a1e9485be34ea786",
       "version_major": 2,
       "version_minor": 0
      },
      "text/plain": [
       "Downloading:   0%|          | 0.00/28.0 [00:00<?, ?B/s]"
      ]
     },
     "metadata": {},
     "output_type": "display_data"
    },
    {
     "data": {
      "application/vnd.jupyter.widget-view+json": {
       "model_id": "77f260e9c60e4e84b7244259839925d9",
       "version_major": 2,
       "version_minor": 0
      },
      "text/plain": [
       "Downloading:   0%|          | 0.00/226k [00:00<?, ?B/s]"
      ]
     },
     "metadata": {},
     "output_type": "display_data"
    },
    {
     "data": {
      "application/vnd.jupyter.widget-view+json": {
       "model_id": "b2b38f4ae765485891b12dc2a2859d6f",
       "version_major": 2,
       "version_minor": 0
      },
      "text/plain": [
       "Downloading:   0%|          | 0.00/455k [00:00<?, ?B/s]"
      ]
     },
     "metadata": {},
     "output_type": "display_data"
    },
    {
     "data": {
      "application/vnd.jupyter.widget-view+json": {
       "model_id": "2b589bdd5fb54dd197f1b6e7f9db1ade",
       "version_major": 2,
       "version_minor": 0
      },
      "text/plain": [
       "Downloading:   0%|          | 0.00/570 [00:00<?, ?B/s]"
      ]
     },
     "metadata": {},
     "output_type": "display_data"
    }
   ],
   "source": [
    "# load tokenizer\n",
    "tokenizer=BertTokenizer.from_pretrained(model_cp)"
   ]
  },
  {
   "cell_type": "code",
   "execution_count": 33,
   "metadata": {
    "executionInfo": {
     "elapsed": 8,
     "status": "ok",
     "timestamp": 1645453216246,
     "user": {
      "displayName": "Yến Ngọc Vũ",
      "photoUrl": "https://lh3.googleusercontent.com/a-/AOh14Gi4wfCuo_NJT2C0JTe2p3mU-XITI80n8F0YvaxHpNI=s64",
      "userId": "00577626419227892200"
     },
     "user_tz": -420
    },
    "id": "KbHH_asUJpKW"
   },
   "outputs": [],
   "source": []
  },
  {
   "cell_type": "code",
   "execution_count": 33,
   "metadata": {
    "executionInfo": {
     "elapsed": 5,
     "status": "ok",
     "timestamp": 1645453216246,
     "user": {
      "displayName": "Yến Ngọc Vũ",
      "photoUrl": "https://lh3.googleusercontent.com/a-/AOh14Gi4wfCuo_NJT2C0JTe2p3mU-XITI80n8F0YvaxHpNI=s64",
      "userId": "00577626419227892200"
     },
     "user_tz": -420
    },
    "id": "aDkXS4YdJpKW"
   },
   "outputs": [],
   "source": []
  },
  {
   "cell_type": "markdown",
   "metadata": {
    "id": "kfDdusRSJpKW"
   },
   "source": [
    "**Tokenizer text**"
   ]
  },
  {
   "cell_type": "code",
   "execution_count": 34,
   "metadata": {
    "colab": {
     "base_uri": "https://localhost:8080/"
    },
    "executionInfo": {
     "elapsed": 19076,
     "status": "ok",
     "timestamp": 1645453235317,
     "user": {
      "displayName": "Yến Ngọc Vũ",
      "photoUrl": "https://lh3.googleusercontent.com/a-/AOh14Gi4wfCuo_NJT2C0JTe2p3mU-XITI80n8F0YvaxHpNI=s64",
      "userId": "00577626419227892200"
     },
     "user_tz": -420
    },
    "id": "GCYQ6sMwJpKW",
    "outputId": "9a331116-b624-4b0c-a93b-3fcc40969053"
   },
   "outputs": [
    {
     "name": "stdout",
     "output_type": "stream",
     "text": [
      "No.0,len:29\n",
      "texts:[CLS] data pipeline ##s typically fall under one of the extra - load , extract - load - transform or extract - transform - load paradigm ##s . [SEP]\n",
      "No.0,len:29\n",
      "lables:[CLS] B-KNOW I-KNOW I-KNOW O O O O O O B-KNOW I-KNOW I-KNOW O B-KNOW I-KNOW I-KNOW I-KNOW I-KNOW O B-KNOW I-KNOW I-KNOW I-KNOW I-KNOW O O O [SEP]\n",
      "No.1,len:16\n",
      "texts:[CLS] this course describes which paradigm should be used and when for batch data . [SEP]\n",
      "No.1,len:16\n",
      "lables:[CLS] O O O O O O O O O O O B-KNOW I-KNOW O [SEP]\n",
      "No.2,len:45\n",
      "texts:[CLS] furthermore , this course covers several technologies on google cloud platform for data transformation including big ##que ##ry , executing spark on cloud data ##pro ##c , pipeline graphs in cloud data fusion and server ##less data processing with cloud data ##flow . [SEP]\n",
      "No.2,len:45\n",
      "lables:[CLS] O O O O O O O O B-PLAT I-PLAT I-PLAT O B-KNOW I-KNOW O B-PLAT I-PLAT I-PLAT O O B-FRAM O B-PLAT I-PLAT I-PLAT I-PLAT O O O O B-PLAT I-PLAT I-PLAT O B-KNOW I-KNOW B-KNOW I-KNOW O B-PLAT I-PLAT I-PLAT O [SEP]\n",
      "No.3,len:23\n",
      "texts:[CLS] learners will get hands - on experience building data pipeline components on google cloud platform using q ##wi ##kla ##bs . [SEP]\n",
      "No.3,len:23\n",
      "lables:[CLS] O O O O O O O O B-KNOW I-KNOW O O B-PLAT I-PLAT I-PLAT O B-PLAT I-PLAT I-PLAT I-PLAT O [SEP]\n",
      "No.4,len:20\n",
      "texts:[CLS] calculus through data and modeling : differentiation rules continues the study of different ##iable calculus by developing . [SEP]\n",
      "No.4,len:20\n",
      "lables:[CLS] B-KNOW O O O O O O O O O O O O O B-KNOW O O O [SEP]\n"
     ]
    }
   ],
   "source": [
    "tokenized_texts = []\n",
    "word_piece_labels = []\n",
    "i_inc = 0\n",
    "for word_list,label in (zip(sentences,labels)):\n",
    "    temp_lable = []\n",
    "    temp_token = []\n",
    "    \n",
    "    # Add [CLS] at the front \n",
    "    temp_lable.append('[CLS]')\n",
    "    temp_token.append('[CLS]')\n",
    "    \n",
    "    for word,lab in zip(word_list,label):\n",
    "        token_list = tokenizer.tokenize(word)\n",
    "        for m,token in enumerate(token_list):\n",
    "            temp_token.append(token)\n",
    "            if m==0:\n",
    "                temp_lable.append(lab)\n",
    "            else:\n",
    "                if lab != 'O':\n",
    "                  temp_lable.append('I-'+lab[2:])\n",
    "                else:\n",
    "                  temp_lable.append('O') \n",
    "                \n",
    "    # Add [SEP] at the end\n",
    "    temp_lable.append('[SEP]')\n",
    "    temp_token.append('[SEP]')\n",
    "    \n",
    "    tokenized_texts.append(temp_token)\n",
    "    word_piece_labels.append(temp_lable)\n",
    "    \n",
    "    if 5 > i_inc:\n",
    "        print(\"No.%d,len:%d\"%(i_inc,len(temp_token)))\n",
    "        print(\"texts:%s\"%(\" \".join(temp_token)))\n",
    "        print(\"No.%d,len:%d\"%(i_inc,len(temp_lable)))\n",
    "        print(\"lables:%s\"%(\" \".join(temp_lable)))\n",
    "    i_inc +=1\n",
    "    \n",
    "    \n",
    "    "
   ]
  },
  {
   "cell_type": "code",
   "execution_count": 34,
   "metadata": {
    "executionInfo": {
     "elapsed": 25,
     "status": "ok",
     "timestamp": 1645453235317,
     "user": {
      "displayName": "Yến Ngọc Vũ",
      "photoUrl": "https://lh3.googleusercontent.com/a-/AOh14Gi4wfCuo_NJT2C0JTe2p3mU-XITI80n8F0YvaxHpNI=s64",
      "userId": "00577626419227892200"
     },
     "user_tz": -420
    },
    "id": "3kIh4aNBJpKW"
   },
   "outputs": [],
   "source": []
  },
  {
   "cell_type": "code",
   "execution_count": 34,
   "metadata": {
    "executionInfo": {
     "elapsed": 24,
     "status": "ok",
     "timestamp": 1645453235318,
     "user": {
      "displayName": "Yến Ngọc Vũ",
      "photoUrl": "https://lh3.googleusercontent.com/a-/AOh14Gi4wfCuo_NJT2C0JTe2p3mU-XITI80n8F0YvaxHpNI=s64",
      "userId": "00577626419227892200"
     },
     "user_tz": -420
    },
    "id": "lpiXQQDiJpKW"
   },
   "outputs": [],
   "source": []
  },
  {
   "cell_type": "code",
   "execution_count": 34,
   "metadata": {
    "executionInfo": {
     "elapsed": 22,
     "status": "ok",
     "timestamp": 1645453235318,
     "user": {
      "displayName": "Yến Ngọc Vũ",
      "photoUrl": "https://lh3.googleusercontent.com/a-/AOh14Gi4wfCuo_NJT2C0JTe2p3mU-XITI80n8F0YvaxHpNI=s64",
      "userId": "00577626419227892200"
     },
     "user_tz": -420
    },
    "id": "fXuJaW5FJpKW"
   },
   "outputs": [],
   "source": []
  },
  {
   "cell_type": "markdown",
   "metadata": {
    "id": "qGzYe6KTJpKX"
   },
   "source": [
    "### Set token embedding"
   ]
  },
  {
   "cell_type": "code",
   "execution_count": 35,
   "metadata": {
    "colab": {
     "base_uri": "https://localhost:8080/"
    },
    "executionInfo": {
     "elapsed": 490,
     "status": "ok",
     "timestamp": 1645453235786,
     "user": {
      "displayName": "Yến Ngọc Vũ",
      "photoUrl": "https://lh3.googleusercontent.com/a-/AOh14Gi4wfCuo_NJT2C0JTe2p3mU-XITI80n8F0YvaxHpNI=s64",
      "userId": "00577626419227892200"
     },
     "user_tz": -420
    },
    "id": "6rmg3GeRJpKX",
    "outputId": "03be629e-05e9-4d15-e5c3-681ed3af2d2c"
   },
   "outputs": [
    {
     "name": "stdout",
     "output_type": "stream",
     "text": [
      "[  101  2951 13117  2015  4050  2991  2104  2028  1997  1996  4469  1011\n",
      "  7170  1010 14817  1011  7170  1011 10938  2030 14817  1011 10938  1011\n",
      "  7170 20680  2015  1012   102     0     0     0     0     0     0     0\n",
      "     0     0     0     0     0     0     0     0     0     0     0     0\n",
      "     0     0     0     0     0     0     0     0     0     0     0     0\n",
      "     0     0     0     0     0     0     0     0     0     0     0     0\n",
      "     0     0     0     0     0     0     0     0     0     0     0     0\n",
      "     0     0     0     0     0     0     0     0     0     0     0     0\n",
      "     0     0     0     0     0     0     0     0     0     0     0     0\n",
      "     0     0     0     0     0     0     0     0     0     0     0     0\n",
      "     0     0     0     0     0     0     0     0     0     0     0     0\n",
      "     0     0     0     0     0     0     0     0     0     0     0     0\n",
      "     0     0     0     0     0     0     0     0     0     0     0     0\n",
      "     0     0     0     0     0     0     0     0     0     0     0     0\n",
      "     0     0     0     0     0     0     0     0     0     0     0     0\n",
      "     0     0     0     0     0     0     0     0     0     0     0     0\n",
      "     0     0     0     0     0     0     0     0     0     0     0     0\n",
      "     0     0     0     0     0     0     0     0     0     0     0     0\n",
      "     0     0     0     0     0     0     0     0     0     0     0     0\n",
      "     0     0     0     0     0     0     0     0     0     0     0     0\n",
      "     0     0     0     0     0     0     0     0     0     0     0     0\n",
      "     0     0     0     0]\n"
     ]
    }
   ],
   "source": [
    "# Make text token into id\n",
    "input_ids = pad_sequences([tokenizer.convert_tokens_to_ids(txt) for txt in tokenized_texts],\n",
    "                          maxlen=max_len, dtype=\"long\", truncating=\"post\", padding=\"post\")\n",
    "print(input_ids[0])"
   ]
  },
  {
   "cell_type": "code",
   "execution_count": 36,
   "metadata": {
    "colab": {
     "base_uri": "https://localhost:8080/"
    },
    "executionInfo": {
     "elapsed": 5,
     "status": "ok",
     "timestamp": 1645453235786,
     "user": {
      "displayName": "Yến Ngọc Vũ",
      "photoUrl": "https://lh3.googleusercontent.com/a-/AOh14Gi4wfCuo_NJT2C0JTe2p3mU-XITI80n8F0YvaxHpNI=s64",
      "userId": "00577626419227892200"
     },
     "user_tz": -420
    },
    "id": "nPaJeTPDJpKX",
    "outputId": "5b641008-3dc7-4ad2-db2c-1293c4d096f9"
   },
   "outputs": [
    {
     "name": "stdout",
     "output_type": "stream",
     "text": [
      "[12  2  7  7 11 11 11 11 11 11  2  7  7 11  2  7  7  7  7 11  2  7  7  7\n",
      "  7 11 11 11  0 11 11 11 11 11 11 11 11 11 11 11 11 11 11 11 11 11 11 11\n",
      " 11 11 11 11 11 11 11 11 11 11 11 11 11 11 11 11 11 11 11 11 11 11 11 11\n",
      " 11 11 11 11 11 11 11 11 11 11 11 11 11 11 11 11 11 11 11 11 11 11 11 11\n",
      " 11 11 11 11 11 11 11 11 11 11 11 11 11 11 11 11 11 11 11 11 11 11 11 11\n",
      " 11 11 11 11 11 11 11 11 11 11 11 11 11 11 11 11 11 11 11 11 11 11 11 11\n",
      " 11 11 11 11 11 11 11 11 11 11 11 11 11 11 11 11 11 11 11 11 11 11 11 11\n",
      " 11 11 11 11 11 11 11 11 11 11 11 11 11 11 11 11 11 11 11 11 11 11 11 11\n",
      " 11 11 11 11 11 11 11 11 11 11 11 11 11 11 11 11 11 11 11 11 11 11 11 11\n",
      " 11 11 11 11 11 11 11 11 11 11 11 11 11 11 11 11 11 11 11 11 11 11 11 11\n",
      " 11 11 11 11 11 11 11 11 11 11 11 11 11 11 11 11]\n"
     ]
    }
   ],
   "source": [
    "# Make label into id, pad with \"O\" meaning others\n",
    "tags = pad_sequences([[tag2idx.get(l) for l in lab] for lab in word_piece_labels],\n",
    "                     maxlen=max_len, value=tag2idx[\"O\"], padding=\"post\",\n",
    "                     dtype=\"long\", truncating=\"post\")\n",
    "print(tags[0])"
   ]
  },
  {
   "cell_type": "code",
   "execution_count": 36,
   "metadata": {
    "executionInfo": {
     "elapsed": 2,
     "status": "ok",
     "timestamp": 1645453235786,
     "user": {
      "displayName": "Yến Ngọc Vũ",
      "photoUrl": "https://lh3.googleusercontent.com/a-/AOh14Gi4wfCuo_NJT2C0JTe2p3mU-XITI80n8F0YvaxHpNI=s64",
      "userId": "00577626419227892200"
     },
     "user_tz": -420
    },
    "id": "wcV3vh6PJpKX"
   },
   "outputs": [],
   "source": []
  },
  {
   "cell_type": "markdown",
   "metadata": {
    "id": "aDsu60zfJpKX"
   },
   "source": [
    "### Set mask word embedding"
   ]
  },
  {
   "cell_type": "code",
   "execution_count": 37,
   "metadata": {
    "executionInfo": {
     "elapsed": 2643,
     "status": "ok",
     "timestamp": 1645453238427,
     "user": {
      "displayName": "Yến Ngọc Vũ",
      "photoUrl": "https://lh3.googleusercontent.com/a-/AOh14Gi4wfCuo_NJT2C0JTe2p3mU-XITI80n8F0YvaxHpNI=s64",
      "userId": "00577626419227892200"
     },
     "user_tz": -420
    },
    "id": "ZpQBpkDtJpKX"
   },
   "outputs": [],
   "source": [
    "# For fine tune of predict, with token mask is 1,pad token is 0\n",
    "attention_masks = [[int(i>0) for i in ii] for ii in input_ids]\n",
    "attention_masks[0];"
   ]
  },
  {
   "cell_type": "markdown",
   "metadata": {
    "id": "pV7nwQzuJpKY"
   },
   "source": [
    "### Set segment embedding(Seem like for sequance tagging task, it's not necessary to make this embedding)"
   ]
  },
  {
   "cell_type": "code",
   "execution_count": 38,
   "metadata": {
    "executionInfo": {
     "elapsed": 8,
     "status": "ok",
     "timestamp": 1645453238428,
     "user": {
      "displayName": "Yến Ngọc Vũ",
      "photoUrl": "https://lh3.googleusercontent.com/a-/AOh14Gi4wfCuo_NJT2C0JTe2p3mU-XITI80n8F0YvaxHpNI=s64",
      "userId": "00577626419227892200"
     },
     "user_tz": -420
    },
    "id": "NxpjL7DmJpKY"
   },
   "outputs": [],
   "source": [
    "# Since only one sentence, all the segment set to 0\n",
    "segment_ids = [[0] * len(input_id) for input_id in input_ids]\n",
    "segment_ids[0];"
   ]
  },
  {
   "cell_type": "code",
   "execution_count": 38,
   "metadata": {
    "executionInfo": {
     "elapsed": 8,
     "status": "ok",
     "timestamp": 1645453238428,
     "user": {
      "displayName": "Yến Ngọc Vũ",
      "photoUrl": "https://lh3.googleusercontent.com/a-/AOh14Gi4wfCuo_NJT2C0JTe2p3mU-XITI80n8F0YvaxHpNI=s64",
      "userId": "00577626419227892200"
     },
     "user_tz": -420
    },
    "id": "ZAcqQ0N2JpKY"
   },
   "outputs": [],
   "source": []
  },
  {
   "cell_type": "markdown",
   "metadata": {
    "id": "33sG-g5FJpKY"
   },
   "source": [
    "## Split data into train and validate"
   ]
  },
  {
   "cell_type": "markdown",
   "metadata": {
    "id": "VzeSqtV-JpKY"
   },
   "source": [
    "70% for training, 30% for validation"
   ]
  },
  {
   "cell_type": "markdown",
   "metadata": {
    "id": "VtULjdiBJpKY"
   },
   "source": [
    "**Split all data**"
   ]
  },
  {
   "cell_type": "code",
   "execution_count": 39,
   "metadata": {
    "executionInfo": {
     "elapsed": 8,
     "status": "ok",
     "timestamp": 1645453238429,
     "user": {
      "displayName": "Yến Ngọc Vũ",
      "photoUrl": "https://lh3.googleusercontent.com/a-/AOh14Gi4wfCuo_NJT2C0JTe2p3mU-XITI80n8F0YvaxHpNI=s64",
      "userId": "00577626419227892200"
     },
     "user_tz": -420
    },
    "id": "4Ne2dSpkJpKY"
   },
   "outputs": [],
   "source": [
    "tr_inputs, val_inputs, tr_tags, val_tags,tr_masks, val_masks,tr_segs, val_segs = train_test_split(input_ids, tags,attention_masks,segment_ids, \n",
    "                                                            random_state=4, test_size=0.2)"
   ]
  },
  {
   "cell_type": "code",
   "execution_count": 40,
   "metadata": {
    "colab": {
     "base_uri": "https://localhost:8080/"
    },
    "executionInfo": {
     "elapsed": 472,
     "status": "ok",
     "timestamp": 1645453238893,
     "user": {
      "displayName": "Yến Ngọc Vũ",
      "photoUrl": "https://lh3.googleusercontent.com/a-/AOh14Gi4wfCuo_NJT2C0JTe2p3mU-XITI80n8F0YvaxHpNI=s64",
      "userId": "00577626419227892200"
     },
     "user_tz": -420
    },
    "id": "cavo976sJpKY",
    "outputId": "78387cf6-a904-44db-eff3-a113c6c688bc"
   },
   "outputs": [
    {
     "data": {
      "text/plain": [
       "(9772, 2443, 9772, 2443)"
      ]
     },
     "execution_count": 40,
     "metadata": {},
     "output_type": "execute_result"
    }
   ],
   "source": [
    "len(tr_inputs),len(val_inputs),len(tr_segs),len(val_segs)"
   ]
  },
  {
   "cell_type": "code",
   "execution_count": 40,
   "metadata": {
    "executionInfo": {
     "elapsed": 2,
     "status": "ok",
     "timestamp": 1645453238893,
     "user": {
      "displayName": "Yến Ngọc Vũ",
      "photoUrl": "https://lh3.googleusercontent.com/a-/AOh14Gi4wfCuo_NJT2C0JTe2p3mU-XITI80n8F0YvaxHpNI=s64",
      "userId": "00577626419227892200"
     },
     "user_tz": -420
    },
    "id": "_UoKmCBdJpKZ"
   },
   "outputs": [],
   "source": []
  },
  {
   "cell_type": "markdown",
   "metadata": {
    "id": "IM1zBWtNJpKZ"
   },
   "source": [
    "**Set data into tensor**"
   ]
  },
  {
   "cell_type": "markdown",
   "metadata": {
    "id": "r2SL18tvJpKZ"
   },
   "source": [
    "Not recommend tensor.to(device) at this process, since it will run out of GPU memory"
   ]
  },
  {
   "cell_type": "code",
   "execution_count": 41,
   "metadata": {
    "executionInfo": {
     "elapsed": 362,
     "status": "ok",
     "timestamp": 1645453239253,
     "user": {
      "displayName": "Yến Ngọc Vũ",
      "photoUrl": "https://lh3.googleusercontent.com/a-/AOh14Gi4wfCuo_NJT2C0JTe2p3mU-XITI80n8F0YvaxHpNI=s64",
      "userId": "00577626419227892200"
     },
     "user_tz": -420
    },
    "id": "YVpBiATZJpKZ"
   },
   "outputs": [],
   "source": [
    "tr_inputs = torch.tensor(tr_inputs)\n",
    "val_inputs = torch.tensor(val_inputs)\n",
    "tr_tags = torch.tensor(tr_tags)\n",
    "val_tags = torch.tensor(val_tags)\n",
    "tr_masks = torch.tensor(tr_masks)\n",
    "val_masks = torch.tensor(val_masks)\n",
    "tr_segs = torch.tensor(tr_segs)\n",
    "val_segs = torch.tensor(val_segs)"
   ]
  },
  {
   "cell_type": "code",
   "execution_count": 41,
   "metadata": {
    "executionInfo": {
     "elapsed": 8,
     "status": "ok",
     "timestamp": 1645453239254,
     "user": {
      "displayName": "Yến Ngọc Vũ",
      "photoUrl": "https://lh3.googleusercontent.com/a-/AOh14Gi4wfCuo_NJT2C0JTe2p3mU-XITI80n8F0YvaxHpNI=s64",
      "userId": "00577626419227892200"
     },
     "user_tz": -420
    },
    "id": "xDyJ7OQWJpKZ"
   },
   "outputs": [],
   "source": []
  },
  {
   "cell_type": "markdown",
   "metadata": {
    "id": "r7mIVlfbJpKZ"
   },
   "source": [
    "**Put data into data loader**"
   ]
  },
  {
   "cell_type": "code",
   "execution_count": 42,
   "metadata": {
    "executionInfo": {
     "elapsed": 8,
     "status": "ok",
     "timestamp": 1645453239254,
     "user": {
      "displayName": "Yến Ngọc Vũ",
      "photoUrl": "https://lh3.googleusercontent.com/a-/AOh14Gi4wfCuo_NJT2C0JTe2p3mU-XITI80n8F0YvaxHpNI=s64",
      "userId": "00577626419227892200"
     },
     "user_tz": -420
    },
    "id": "_UCiNRiLJpKZ"
   },
   "outputs": [],
   "source": [
    "# Set batch num\n",
    "batch_num = 32"
   ]
  },
  {
   "cell_type": "code",
   "execution_count": 43,
   "metadata": {
    "executionInfo": {
     "elapsed": 7,
     "status": "ok",
     "timestamp": 1645453239254,
     "user": {
      "displayName": "Yến Ngọc Vũ",
      "photoUrl": "https://lh3.googleusercontent.com/a-/AOh14Gi4wfCuo_NJT2C0JTe2p3mU-XITI80n8F0YvaxHpNI=s64",
      "userId": "00577626419227892200"
     },
     "user_tz": -420
    },
    "id": "Va_PtvrzJpKZ"
   },
   "outputs": [],
   "source": [
    "# Only set token embedding, attention embedding, no segment embedding\n",
    "train_data = TensorDataset(tr_inputs, tr_masks, tr_tags)\n",
    "train_sampler = RandomSampler(train_data)\n",
    "# Drop last can make batch training better for the last one\n",
    "train_dataloader = DataLoader(train_data, sampler=train_sampler, batch_size=batch_num,drop_last=True)\n",
    "\n",
    "valid_data = TensorDataset(val_inputs, val_masks, val_tags)\n",
    "valid_sampler = SequentialSampler(valid_data)\n",
    "valid_dataloader = DataLoader(valid_data, sampler=valid_sampler, batch_size=batch_num)"
   ]
  },
  {
   "cell_type": "code",
   "execution_count": 43,
   "metadata": {
    "executionInfo": {
     "elapsed": 7,
     "status": "ok",
     "timestamp": 1645453239255,
     "user": {
      "displayName": "Yến Ngọc Vũ",
      "photoUrl": "https://lh3.googleusercontent.com/a-/AOh14Gi4wfCuo_NJT2C0JTe2p3mU-XITI80n8F0YvaxHpNI=s64",
      "userId": "00577626419227892200"
     },
     "user_tz": -420
    },
    "id": "vDvfzampJpKa"
   },
   "outputs": [],
   "source": []
  },
  {
   "cell_type": "markdown",
   "metadata": {
    "id": "4vPC3alLJpKa"
   },
   "source": [
    "## Train model"
   ]
  },
  {
   "cell_type": "markdown",
   "metadata": {
    "id": "iugiI5aCJpKa"
   },
   "source": [
    "**Load BERT model**"
   ]
  },
  {
   "cell_type": "code",
   "execution_count": 44,
   "metadata": {
    "executionInfo": {
     "elapsed": 6,
     "status": "ok",
     "timestamp": 1645453239255,
     "user": {
      "displayName": "Yến Ngọc Vũ",
      "photoUrl": "https://lh3.googleusercontent.com/a-/AOh14Gi4wfCuo_NJT2C0JTe2p3mU-XITI80n8F0YvaxHpNI=s64",
      "userId": "00577626419227892200"
     },
     "user_tz": -420
    },
    "id": "_Z4BP-roJpKa"
   },
   "outputs": [],
   "source": [
    "# In this folder, contain model confg(json) and model weight(bin) files\n",
    "model_file_address = 'bert-base-uncased'"
   ]
  },
  {
   "cell_type": "code",
   "execution_count": 45,
   "metadata": {
    "colab": {
     "base_uri": "https://localhost:8080/",
     "height": 156,
     "referenced_widgets": [
      "d9c16678762c4ac3913b707dc6e6cdfe",
      "dac8bafdee2748f69f5e38c01486f19e",
      "7e4741b82a554e72a62d4d6420e610e5",
      "25fad6ac19444145aa3e5a0e19047ad4",
      "2c72765e66834863bd2697559e6d7559",
      "1b42549d4d6241cd84835b7b7925ba5e",
      "895bfcb698814ec7936093189d1c6eef",
      "bdb1eec8f01e402c9092a0cc0d3b5be6",
      "14549aee36ae45a4b6eb2c733bd52ad7",
      "e808681e41ec4001b00959ad5806856e",
      "2d2b6a470c114aeaa22a6ac0f397c1a6"
     ]
    },
    "executionInfo": {
     "elapsed": 17311,
     "status": "ok",
     "timestamp": 1645453256560,
     "user": {
      "displayName": "Yến Ngọc Vũ",
      "photoUrl": "https://lh3.googleusercontent.com/a-/AOh14Gi4wfCuo_NJT2C0JTe2p3mU-XITI80n8F0YvaxHpNI=s64",
      "userId": "00577626419227892200"
     },
     "user_tz": -420
    },
    "id": "8Z-UCUucJpKa",
    "outputId": "649876e5-6739-4ad9-f1b2-abf75e92db57"
   },
   "outputs": [
    {
     "data": {
      "application/vnd.jupyter.widget-view+json": {
       "model_id": "d9c16678762c4ac3913b707dc6e6cdfe",
       "version_major": 2,
       "version_minor": 0
      },
      "text/plain": [
       "Downloading:   0%|          | 0.00/420M [00:00<?, ?B/s]"
      ]
     },
     "metadata": {},
     "output_type": "display_data"
    },
    {
     "name": "stderr",
     "output_type": "stream",
     "text": [
      "Some weights of the model checkpoint at bert-base-uncased were not used when initializing BertForTokenClassification: ['cls.predictions.transform.dense.weight', 'cls.seq_relationship.weight', 'cls.seq_relationship.bias', 'cls.predictions.transform.dense.bias', 'cls.predictions.decoder.weight', 'cls.predictions.transform.LayerNorm.bias', 'cls.predictions.bias', 'cls.predictions.transform.LayerNorm.weight']\n",
      "- This IS expected if you are initializing BertForTokenClassification from the checkpoint of a model trained on another task or with another architecture (e.g. initializing a BertForSequenceClassification model from a BertForPreTraining model).\n",
      "- This IS NOT expected if you are initializing BertForTokenClassification from the checkpoint of a model that you expect to be exactly identical (initializing a BertForSequenceClassification model from a BertForSequenceClassification model).\n",
      "Some weights of BertForTokenClassification were not initialized from the model checkpoint at bert-base-uncased and are newly initialized: ['classifier.weight', 'classifier.bias']\n",
      "You should probably TRAIN this model on a down-stream task to be able to use it for predictions and inference.\n"
     ]
    }
   ],
   "source": [
    "# Will load config and weight with from_pretrained()\n",
    "model = BertForTokenClassification.from_pretrained(model_file_address,num_labels=len(tag2idx))"
   ]
  },
  {
   "cell_type": "code",
   "execution_count": 46,
   "metadata": {
    "executionInfo": {
     "elapsed": 7,
     "status": "ok",
     "timestamp": 1645453256561,
     "user": {
      "displayName": "Yến Ngọc Vũ",
      "photoUrl": "https://lh3.googleusercontent.com/a-/AOh14Gi4wfCuo_NJT2C0JTe2p3mU-XITI80n8F0YvaxHpNI=s64",
      "userId": "00577626419227892200"
     },
     "user_tz": -420
    },
    "id": "jvYvC9XIJpKa"
   },
   "outputs": [],
   "source": [
    "model;"
   ]
  },
  {
   "cell_type": "code",
   "execution_count": 47,
   "metadata": {
    "executionInfo": {
     "elapsed": 10146,
     "status": "ok",
     "timestamp": 1645453266702,
     "user": {
      "displayName": "Yến Ngọc Vũ",
      "photoUrl": "https://lh3.googleusercontent.com/a-/AOh14Gi4wfCuo_NJT2C0JTe2p3mU-XITI80n8F0YvaxHpNI=s64",
      "userId": "00577626419227892200"
     },
     "user_tz": -420
    },
    "id": "Y2fAvY-8JpKa"
   },
   "outputs": [],
   "source": [
    "# Set model to GPU,if you are using GPU machine\n",
    "model.cuda();"
   ]
  },
  {
   "cell_type": "code",
   "execution_count": 48,
   "metadata": {
    "executionInfo": {
     "elapsed": 57,
     "status": "ok",
     "timestamp": 1645453266703,
     "user": {
      "displayName": "Yến Ngọc Vũ",
      "photoUrl": "https://lh3.googleusercontent.com/a-/AOh14Gi4wfCuo_NJT2C0JTe2p3mU-XITI80n8F0YvaxHpNI=s64",
      "userId": "00577626419227892200"
     },
     "user_tz": -420
    },
    "id": "lQxjOsx5JpKb"
   },
   "outputs": [],
   "source": [
    "# Add multi GPU support\n",
    "if n_gpu >1:\n",
    "    model = torch.nn.DataParallel(model)"
   ]
  },
  {
   "cell_type": "code",
   "execution_count": 49,
   "metadata": {
    "executionInfo": {
     "elapsed": 54,
     "status": "ok",
     "timestamp": 1645453266704,
     "user": {
      "displayName": "Yến Ngọc Vũ",
      "photoUrl": "https://lh3.googleusercontent.com/a-/AOh14Gi4wfCuo_NJT2C0JTe2p3mU-XITI80n8F0YvaxHpNI=s64",
      "userId": "00577626419227892200"
     },
     "user_tz": -420
    },
    "id": "vLnAw02eJpKb"
   },
   "outputs": [],
   "source": [
    "# Set epoch and grad max num\n",
    "epochs = 5\n",
    "max_grad_norm = 1.0"
   ]
  },
  {
   "cell_type": "code",
   "execution_count": 50,
   "metadata": {
    "executionInfo": {
     "elapsed": 55,
     "status": "ok",
     "timestamp": 1645453266706,
     "user": {
      "displayName": "Yến Ngọc Vũ",
      "photoUrl": "https://lh3.googleusercontent.com/a-/AOh14Gi4wfCuo_NJT2C0JTe2p3mU-XITI80n8F0YvaxHpNI=s64",
      "userId": "00577626419227892200"
     },
     "user_tz": -420
    },
    "id": "2sGskkGzJpKb"
   },
   "outputs": [],
   "source": [
    "# Cacluate train optimiazaion num\n",
    "num_train_optimization_steps = int( math.ceil(len(tr_inputs) / batch_num) / 1) * epochs"
   ]
  },
  {
   "cell_type": "code",
   "execution_count": 50,
   "metadata": {
    "executionInfo": {
     "elapsed": 57,
     "status": "ok",
     "timestamp": 1645453266709,
     "user": {
      "displayName": "Yến Ngọc Vũ",
      "photoUrl": "https://lh3.googleusercontent.com/a-/AOh14Gi4wfCuo_NJT2C0JTe2p3mU-XITI80n8F0YvaxHpNI=s64",
      "userId": "00577626419227892200"
     },
     "user_tz": -420
    },
    "id": "IXFYtnrLJpKb"
   },
   "outputs": [],
   "source": []
  },
  {
   "cell_type": "markdown",
   "metadata": {
    "id": "wpPd1d8rJpKb"
   },
   "source": [
    "### Set fine tuning method"
   ]
  },
  {
   "cell_type": "markdown",
   "metadata": {
    "id": "M_4YeLLvJpKb"
   },
   "source": [
    "**Manual optimizer**"
   ]
  },
  {
   "cell_type": "code",
   "execution_count": 51,
   "metadata": {
    "executionInfo": {
     "elapsed": 61,
     "status": "ok",
     "timestamp": 1645453266714,
     "user": {
      "displayName": "Yến Ngọc Vũ",
      "photoUrl": "https://lh3.googleusercontent.com/a-/AOh14Gi4wfCuo_NJT2C0JTe2p3mU-XITI80n8F0YvaxHpNI=s64",
      "userId": "00577626419227892200"
     },
     "user_tz": -420
    },
    "id": "z18Sx3T9JpKb"
   },
   "outputs": [],
   "source": [
    "# True: fine tuning all the layers \n",
    "# False: only fine tuning the classifier layers\n",
    "FULL_FINETUNING = True"
   ]
  },
  {
   "cell_type": "code",
   "execution_count": 52,
   "metadata": {
    "colab": {
     "base_uri": "https://localhost:8080/"
    },
    "executionInfo": {
     "elapsed": 485,
     "status": "ok",
     "timestamp": 1645453267140,
     "user": {
      "displayName": "Yến Ngọc Vũ",
      "photoUrl": "https://lh3.googleusercontent.com/a-/AOh14Gi4wfCuo_NJT2C0JTe2p3mU-XITI80n8F0YvaxHpNI=s64",
      "userId": "00577626419227892200"
     },
     "user_tz": -420
    },
    "id": "DOVfyub1JpKb",
    "outputId": "2b5ebb82-aafe-40ad-f991-1e2fdf493e00"
   },
   "outputs": [
    {
     "name": "stderr",
     "output_type": "stream",
     "text": [
      "/usr/local/lib/python3.7/dist-packages/transformers/optimization.py:309: FutureWarning: This implementation of AdamW is deprecated and will be removed in a future version. Use thePyTorch implementation torch.optim.AdamW instead, or set `no_deprecation_warning=True` to disable this warning\n",
      "  FutureWarning,\n"
     ]
    }
   ],
   "source": [
    "if FULL_FINETUNING:\n",
    "    # Fine tune model all layer parameters\n",
    "    param_optimizer = list(model.named_parameters())\n",
    "    no_decay = ['bias', 'gamma', 'beta']\n",
    "    optimizer_grouped_parameters = [\n",
    "        {'params': [p for n, p in param_optimizer if not any(nd in n for nd in no_decay)],\n",
    "         'weight_decay_rate': 0.01},\n",
    "        {'params': [p for n, p in param_optimizer if any(nd in n for nd in no_decay)],\n",
    "         'weight_decay_rate': 0.0}\n",
    "    ]\n",
    "else:\n",
    "    # Only fine tune classifier parameters\n",
    "    param_optimizer = list(model.classifier.named_parameters()) \n",
    "    optimizer_grouped_parameters = [{\"params\": [p for n, p in param_optimizer]}]\n",
    "optimizer = AdamW(optimizer_grouped_parameters, lr=5e-5)"
   ]
  },
  {
   "cell_type": "code",
   "execution_count": 52,
   "metadata": {
    "executionInfo": {
     "elapsed": 14,
     "status": "ok",
     "timestamp": 1645453267141,
     "user": {
      "displayName": "Yến Ngọc Vũ",
      "photoUrl": "https://lh3.googleusercontent.com/a-/AOh14Gi4wfCuo_NJT2C0JTe2p3mU-XITI80n8F0YvaxHpNI=s64",
      "userId": "00577626419227892200"
     },
     "user_tz": -420
    },
    "id": "JL7eh8OmJpKc"
   },
   "outputs": [],
   "source": []
  },
  {
   "cell_type": "code",
   "execution_count": 52,
   "metadata": {
    "executionInfo": {
     "elapsed": 13,
     "status": "ok",
     "timestamp": 1645453267141,
     "user": {
      "displayName": "Yến Ngọc Vũ",
      "photoUrl": "https://lh3.googleusercontent.com/a-/AOh14Gi4wfCuo_NJT2C0JTe2p3mU-XITI80n8F0YvaxHpNI=s64",
      "userId": "00577626419227892200"
     },
     "user_tz": -420
    },
    "id": "1zAwUiP-JpKc"
   },
   "outputs": [],
   "source": []
  },
  {
   "cell_type": "markdown",
   "metadata": {
    "id": "mZE5uCSrJpKc"
   },
   "source": [
    "### Fine-tuning model"
   ]
  },
  {
   "cell_type": "code",
   "execution_count": 53,
   "metadata": {
    "colab": {
     "base_uri": "https://localhost:8080/"
    },
    "executionInfo": {
     "elapsed": 3749476,
     "status": "ok",
     "timestamp": 1645457016605,
     "user": {
      "displayName": "Yến Ngọc Vũ",
      "photoUrl": "https://lh3.googleusercontent.com/a-/AOh14Gi4wfCuo_NJT2C0JTe2p3mU-XITI80n8F0YvaxHpNI=s64",
      "userId": "00577626419227892200"
     },
     "user_tz": -420
    },
    "id": "N2ZIJnm3JpKc",
    "outputId": "e4989b60-ca3f-4556-dc6c-a028384cf401",
    "scrolled": false
   },
   "outputs": [
    {
     "name": "stdout",
     "output_type": "stream",
     "text": [
      "***** Running training *****\n",
      "  Num examples = 9772\n",
      "  Batch size = 32\n",
      "  Num steps = 1530\n"
     ]
    },
    {
     "name": "stderr",
     "output_type": "stream",
     "text": [
      "Epoch:  20%|██        | 1/5 [12:21<49:25, 741.46s/it]"
     ]
    },
    {
     "name": "stdout",
     "output_type": "stream",
     "text": [
      "Train loss: 0.2631682330467662\n"
     ]
    },
    {
     "name": "stderr",
     "output_type": "stream",
     "text": [
      "\r",
      "Epoch:  40%|████      | 2/5 [24:53<37:23, 747.76s/it]"
     ]
    },
    {
     "name": "stdout",
     "output_type": "stream",
     "text": [
      "Train loss: 0.11260387468777719\n"
     ]
    },
    {
     "name": "stderr",
     "output_type": "stream",
     "text": [
      "\r",
      "Epoch:  60%|██████    | 3/5 [37:25<24:59, 749.79s/it]"
     ]
    },
    {
     "name": "stdout",
     "output_type": "stream",
     "text": [
      "Train loss: 0.07683905101091158\n"
     ]
    },
    {
     "name": "stderr",
     "output_type": "stream",
     "text": [
      "\r",
      "Epoch:  80%|████████  | 4/5 [49:57<12:30, 750.62s/it]"
     ]
    },
    {
     "name": "stdout",
     "output_type": "stream",
     "text": [
      "Train loss: 0.05422918144002801\n"
     ]
    },
    {
     "name": "stderr",
     "output_type": "stream",
     "text": [
      "Epoch: 100%|██████████| 5/5 [1:02:29<00:00, 749.90s/it]"
     ]
    },
    {
     "name": "stdout",
     "output_type": "stream",
     "text": [
      "Train loss: 0.03842169236330712\n"
     ]
    },
    {
     "name": "stderr",
     "output_type": "stream",
     "text": [
      "\n"
     ]
    }
   ],
   "source": [
    "print(\"***** Running training *****\")\n",
    "print(\"  Num examples = %d\"%(len(tr_inputs)))\n",
    "print(\"  Batch size = %d\"%(batch_num))\n",
    "print(\"  Num steps = %d\"%(num_train_optimization_steps))\n",
    "loss_values = []\n",
    "model.train();\n",
    "#validation_loss_values = []\n",
    "\n",
    "for _ in trange(epochs,desc=\"Epoch\"):\n",
    "    # ========================================\n",
    "    #               Training\n",
    "    # ========================================\n",
    "    \n",
    "    tr_loss = 0\n",
    "    nb_tr_examples, nb_tr_steps = 0, 0\n",
    "    for step, batch in enumerate(train_dataloader):\n",
    "        # add batch to gpu\n",
    "        batch = tuple(t.to(device) for t in batch)\n",
    "        b_input_ids, b_input_mask, b_labels = batch\n",
    "        \n",
    "        # forward pass\n",
    "        outputs = model(b_input_ids, token_type_ids=None,\n",
    "        attention_mask=b_input_mask, labels=b_labels)\n",
    "        loss, scores = outputs[:2]\n",
    "        if n_gpu>1:\n",
    "            # When multi gpu, average it\n",
    "            loss = loss.mean()\n",
    "        \n",
    "        # backward pass\n",
    "        loss.backward()\n",
    "        \n",
    "        # track train loss\n",
    "        tr_loss += loss.item()\n",
    "        nb_tr_examples += b_input_ids.size(0)\n",
    "        nb_tr_steps += 1\n",
    "        \n",
    "        # gradient clipping\n",
    "        torch.nn.utils.clip_grad_norm_(parameters=model.parameters(), max_norm=max_grad_norm)\n",
    "        \n",
    "        # update parameters\n",
    "        optimizer.step()\n",
    "        optimizer.zero_grad()\n",
    "        \n",
    "    # print train loss per epoch\n",
    "    avg_train_loss= tr_loss/nb_tr_steps \n",
    "    print(\"Train loss: {}\".format(avg_train_loss))\n",
    "     \n",
    "    # Store the loss value for plotting the learning curve.\n",
    "    loss_values.append(avg_train_loss)"
   ]
  },
  {
   "cell_type": "code",
   "execution_count": 54,
   "metadata": {
    "colab": {
     "base_uri": "https://localhost:8080/",
     "height": 295
    },
    "executionInfo": {
     "elapsed": 487,
     "status": "ok",
     "timestamp": 1645457017059,
     "user": {
      "displayName": "Yến Ngọc Vũ",
      "photoUrl": "https://lh3.googleusercontent.com/a-/AOh14Gi4wfCuo_NJT2C0JTe2p3mU-XITI80n8F0YvaxHpNI=s64",
      "userId": "00577626419227892200"
     },
     "user_tz": -420
    },
    "id": "rZoSQ2CDJpKc",
    "outputId": "284473bc-4866-4a1f-e9af-91cd88cfe3c8"
   },
   "outputs": [
    {
     "data": {
      "image/png": "[encoded data removed]",
      "text/plain": [
       "<Figure size 432x288 with 1 Axes>"
      ]
     },
     "metadata": {
      "needs_background": "light"
     },
     "output_type": "display_data"
    }
   ],
   "source": [
    "import matplotlib.pyplot as plt\n",
    "%matplotlib inline\n",
    "# Plot the learning curve.\n",
    "plt.plot(loss_values, 'b-o', label=\"training loss\")\n",
    "#plt.plot(validation_loss_values, 'r-o', label=\"validation loss\")\n",
    "\n",
    "# Label the plot.\n",
    "plt.title(\"Learning curve\")\n",
    "plt.xlabel(\"Epoch\")\n",
    "plt.ylabel(\"Loss\")\n",
    "plt.legend() \n",
    "\n",
    "plt.show()"
   ]
  },
  {
   "cell_type": "markdown",
   "metadata": {
    "id": "nQGPCcBxJpKd"
   },
   "source": [
    "## Save model "
   ]
  },
  {
   "cell_type": "code",
   "execution_count": 55,
   "metadata": {
    "executionInfo": {
     "elapsed": 7,
     "status": "ok",
     "timestamp": 1645457017060,
     "user": {
      "displayName": "Yến Ngọc Vũ",
      "photoUrl": "https://lh3.googleusercontent.com/a-/AOh14Gi4wfCuo_NJT2C0JTe2p3mU-XITI80n8F0YvaxHpNI=s64",
      "userId": "00577626419227892200"
     },
     "user_tz": -420
    },
    "id": "g5p6NSuqJpKd"
   },
   "outputs": [],
   "source": [
    "#bert_out_address = '/content/models/bert_out_model/en09'\n",
    "bert_out_address =\"/content/drive/MyDrive/LUẬN VĂN-K18_CQ/02. Bình-Ngọc/Data/Dataset/conll/b_simp\""
   ]
  },
  {
   "cell_type": "code",
   "execution_count": 56,
   "metadata": {
    "executionInfo": {
     "elapsed": 6,
     "status": "ok",
     "timestamp": 1645457017060,
     "user": {
      "displayName": "Yến Ngọc Vũ",
      "photoUrl": "https://lh3.googleusercontent.com/a-/AOh14Gi4wfCuo_NJT2C0JTe2p3mU-XITI80n8F0YvaxHpNI=s64",
      "userId": "00577626419227892200"
     },
     "user_tz": -420
    },
    "id": "tyuK5q98JpKd"
   },
   "outputs": [],
   "source": [
    "# Make dir if not exits\n",
    "if not os.path.exists(bert_out_address):\n",
    "        os.makedirs(bert_out_address)"
   ]
  },
  {
   "cell_type": "code",
   "execution_count": 57,
   "metadata": {
    "executionInfo": {
     "elapsed": 7,
     "status": "ok",
     "timestamp": 1645457017061,
     "user": {
      "displayName": "Yến Ngọc Vũ",
      "photoUrl": "https://lh3.googleusercontent.com/a-/AOh14Gi4wfCuo_NJT2C0JTe2p3mU-XITI80n8F0YvaxHpNI=s64",
      "userId": "00577626419227892200"
     },
     "user_tz": -420
    },
    "id": "UqDNnBBEJpKd"
   },
   "outputs": [],
   "source": [
    "# Save a trained model, configuration and tokenizer\n",
    "model_to_save = model.module if hasattr(model, 'module') else model  # Only save the model it-self"
   ]
  },
  {
   "cell_type": "code",
   "execution_count": 58,
   "metadata": {
    "executionInfo": {
     "elapsed": 6,
     "status": "ok",
     "timestamp": 1645457017061,
     "user": {
      "displayName": "Yến Ngọc Vũ",
      "photoUrl": "https://lh3.googleusercontent.com/a-/AOh14Gi4wfCuo_NJT2C0JTe2p3mU-XITI80n8F0YvaxHpNI=s64",
      "userId": "00577626419227892200"
     },
     "user_tz": -420
    },
    "id": "dfSuKWfpJpKd"
   },
   "outputs": [],
   "source": [
    "# If we save using the predefined names, we can load using `from_pretrained`\n",
    "output_model_file = os.path.join(bert_out_address, \"pytorch_model.bin\")\n",
    "output_config_file = os.path.join(bert_out_address, \"config.json\")"
   ]
  },
  {
   "cell_type": "code",
   "execution_count": 59,
   "metadata": {
    "colab": {
     "base_uri": "https://localhost:8080/"
    },
    "executionInfo": {
     "elapsed": 10330,
     "status": "ok",
     "timestamp": 1645457027385,
     "user": {
      "displayName": "Yến Ngọc Vũ",
      "photoUrl": "https://lh3.googleusercontent.com/a-/AOh14Gi4wfCuo_NJT2C0JTe2p3mU-XITI80n8F0YvaxHpNI=s64",
      "userId": "00577626419227892200"
     },
     "user_tz": -420
    },
    "id": "Zt5fT8SzJpKd",
    "outputId": "eabb1810-6dc7-42be-8f8f-8c14ba636f45",
    "scrolled": false
   },
   "outputs": [
    {
     "data": {
      "text/plain": [
       "('/content/drive/MyDrive/LUẬN VĂN-K18_CQ/02. Bình-Ngọc/Data/Dataset/conll/b_simp/vocab.txt',)"
      ]
     },
     "execution_count": 59,
     "metadata": {},
     "output_type": "execute_result"
    }
   ],
   "source": [
    "# Save model into file\n",
    "torch.save(model_to_save.state_dict(), output_model_file)\n",
    "model_to_save.config.to_json_file(output_config_file)\n",
    "tokenizer.save_vocabulary(bert_out_address)"
   ]
  },
  {
   "cell_type": "code",
   "execution_count": 59,
   "metadata": {
    "executionInfo": {
     "elapsed": 13,
     "status": "ok",
     "timestamp": 1645457027386,
     "user": {
      "displayName": "Yến Ngọc Vũ",
      "photoUrl": "https://lh3.googleusercontent.com/a-/AOh14Gi4wfCuo_NJT2C0JTe2p3mU-XITI80n8F0YvaxHpNI=s64",
      "userId": "00577626419227892200"
     },
     "user_tz": -420
    },
    "id": "M9EUHfMJJpKe"
   },
   "outputs": [],
   "source": []
  },
  {
   "cell_type": "code",
   "execution_count": 59,
   "metadata": {
    "executionInfo": {
     "elapsed": 12,
     "status": "ok",
     "timestamp": 1645457027386,
     "user": {
      "displayName": "Yến Ngọc Vũ",
      "photoUrl": "https://lh3.googleusercontent.com/a-/AOh14Gi4wfCuo_NJT2C0JTe2p3mU-XITI80n8F0YvaxHpNI=s64",
      "userId": "00577626419227892200"
     },
     "user_tz": -420
    },
    "id": "m1voUUkYJpKe"
   },
   "outputs": [],
   "source": []
  },
  {
   "cell_type": "markdown",
   "metadata": {
    "id": "TquWjwNMJpKe"
   },
   "source": [
    "## Load model"
   ]
  },
  {
   "cell_type": "code",
   "execution_count": 60,
   "metadata": {
    "executionInfo": {
     "elapsed": 1833,
     "status": "ok",
     "timestamp": 1645457029208,
     "user": {
      "displayName": "Yến Ngọc Vũ",
      "photoUrl": "https://lh3.googleusercontent.com/a-/AOh14Gi4wfCuo_NJT2C0JTe2p3mU-XITI80n8F0YvaxHpNI=s64",
      "userId": "00577626419227892200"
     },
     "user_tz": -420
    },
    "id": "W8qol3OnJpKe"
   },
   "outputs": [],
   "source": [
    "model = BertForTokenClassification.from_pretrained(bert_out_address,num_labels=len(tag2idx))"
   ]
  },
  {
   "cell_type": "code",
   "execution_count": 61,
   "metadata": {
    "executionInfo": {
     "elapsed": 17,
     "status": "ok",
     "timestamp": 1645457029210,
     "user": {
      "displayName": "Yến Ngọc Vũ",
      "photoUrl": "https://lh3.googleusercontent.com/a-/AOh14Gi4wfCuo_NJT2C0JTe2p3mU-XITI80n8F0YvaxHpNI=s64",
      "userId": "00577626419227892200"
     },
     "user_tz": -420
    },
    "id": "76G2GFk8JpKe"
   },
   "outputs": [],
   "source": [
    "# Set model to GPU\n",
    "model.cuda();"
   ]
  },
  {
   "cell_type": "code",
   "execution_count": 62,
   "metadata": {
    "executionInfo": {
     "elapsed": 15,
     "status": "ok",
     "timestamp": 1645457029211,
     "user": {
      "displayName": "Yến Ngọc Vũ",
      "photoUrl": "https://lh3.googleusercontent.com/a-/AOh14Gi4wfCuo_NJT2C0JTe2p3mU-XITI80n8F0YvaxHpNI=s64",
      "userId": "00577626419227892200"
     },
     "user_tz": -420
    },
    "id": "7ZhLRoGCJpKe"
   },
   "outputs": [],
   "source": [
    "if n_gpu >1:\n",
    "    model = torch.nn.DataParallel(model)"
   ]
  },
  {
   "cell_type": "code",
   "execution_count": 62,
   "metadata": {
    "executionInfo": {
     "elapsed": 13,
     "status": "ok",
     "timestamp": 1645457029211,
     "user": {
      "displayName": "Yến Ngọc Vũ",
      "photoUrl": "https://lh3.googleusercontent.com/a-/AOh14Gi4wfCuo_NJT2C0JTe2p3mU-XITI80n8F0YvaxHpNI=s64",
      "userId": "00577626419227892200"
     },
     "user_tz": -420
    },
    "id": "q7RSndkRJpKe"
   },
   "outputs": [],
   "source": []
  },
  {
   "cell_type": "code",
   "execution_count": 62,
   "metadata": {
    "executionInfo": {
     "elapsed": 516,
     "status": "ok",
     "timestamp": 1645457029716,
     "user": {
      "displayName": "Yến Ngọc Vũ",
      "photoUrl": "https://lh3.googleusercontent.com/a-/AOh14Gi4wfCuo_NJT2C0JTe2p3mU-XITI80n8F0YvaxHpNI=s64",
      "userId": "00577626419227892200"
     },
     "user_tz": -420
    },
    "id": "A-3MIqz8JpKe"
   },
   "outputs": [],
   "source": []
  },
  {
   "cell_type": "markdown",
   "metadata": {
    "id": "PUzTb2aGJpKf"
   },
   "source": [
    "## Eval model"
   ]
  },
  {
   "cell_type": "code",
   "execution_count": 63,
   "metadata": {
    "executionInfo": {
     "elapsed": 29,
     "status": "ok",
     "timestamp": 1645457029717,
     "user": {
      "displayName": "Yến Ngọc Vũ",
      "photoUrl": "https://lh3.googleusercontent.com/a-/AOh14Gi4wfCuo_NJT2C0JTe2p3mU-XITI80n8F0YvaxHpNI=s64",
      "userId": "00577626419227892200"
     },
     "user_tz": -420
    },
    "id": "aMfD5FYpJpKf"
   },
   "outputs": [],
   "source": [
    "# Evalue loop\n",
    "model.eval();"
   ]
  },
  {
   "cell_type": "code",
   "execution_count": 64,
   "metadata": {
    "colab": {
     "base_uri": "https://localhost:8080/"
    },
    "executionInfo": {
     "elapsed": 74072,
     "status": "ok",
     "timestamp": 1645457103761,
     "user": {
      "displayName": "Yến Ngọc Vũ",
      "photoUrl": "https://lh3.googleusercontent.com/a-/AOh14Gi4wfCuo_NJT2C0JTe2p3mU-XITI80n8F0YvaxHpNI=s64",
      "userId": "00577626419227892200"
     },
     "user_tz": -420
    },
    "id": "y1ttH9fOJpKf",
    "outputId": "dfc93c76-54fa-488f-c24e-ac3c703e8de4"
   },
   "outputs": [
    {
     "name": "stdout",
     "output_type": "stream",
     "text": [
      "***** Running evaluation *****\n",
      "  Num examples =2443\n",
      "  Batch size = 32\n",
      "2443\n",
      "2443\n",
      "f1 socre: 0.730023\n",
      "Accuracy score: 0.954697\n",
      "              precision    recall  f1-score   support\n",
      "\n",
      "        FRAM     0.7639    0.8599    0.8091       207\n",
      "        KNOW     0.7145    0.6273    0.6681      1532\n",
      "        LANG     0.9511    0.9138    0.9321       383\n",
      "        PLAT     0.6590    0.6777    0.6682       211\n",
      "        TOOL     0.7375    0.7788    0.7576       321\n",
      "\n",
      "   micro avg     0.7522    0.7091    0.7300      2654\n",
      "   macro avg     0.7652    0.7715    0.7670      2654\n",
      "weighted avg     0.7509    0.7091    0.7280      2654\n",
      "\n"
     ]
    }
   ],
   "source": [
    "eval_loss, eval_accuracy = 0, 0\n",
    "nb_eval_steps, nb_eval_examples = 0, 0\n",
    "y_true = []\n",
    "y_pred = []\n",
    "\n",
    "print(\"***** Running evaluation *****\")\n",
    "print(\"  Num examples ={}\".format(len(val_inputs)))\n",
    "print(\"  Batch size = {}\".format(batch_num))\n",
    "for step, batch in enumerate(valid_dataloader):\n",
    "    batch = tuple(t.to(device) for t in batch)\n",
    "    input_ids, input_mask, label_ids = batch\n",
    "    \n",
    "#     if step > 2:\n",
    "#         break\n",
    "    \n",
    "    with torch.no_grad():\n",
    "        outputs = model(input_ids, token_type_ids=None,\n",
    "        attention_mask=input_mask,)\n",
    "        # For eval mode, the first result of outputs is logits\n",
    "        logits = outputs[0] \n",
    "    \n",
    "    # Get NER predict result\n",
    "    logits = torch.argmax(F.log_softmax(logits,dim=2),dim=2)\n",
    "    logits = logits.detach().cpu().numpy()\n",
    "    \n",
    "    \n",
    "    # Get NER true result\n",
    "    label_ids = label_ids.to('cpu').numpy()\n",
    "    \n",
    "    \n",
    "    # Only predict the real word, mark=0, will not calculate\n",
    "    input_mask = input_mask.to('cpu').numpy()\n",
    "    \n",
    "    # Compare the valuable predict result\n",
    "    for i,mask in enumerate(input_mask):\n",
    "        # Real one\n",
    "        temp_1 = []\n",
    "        # Predict one\n",
    "        temp_2 = []\n",
    "        \n",
    "        for j, m in enumerate(mask):\n",
    "            # Mark=0, meaning its a pad word, dont compare\n",
    "            if m:\n",
    "                if tag2name[label_ids[i][j]] != \"\" and tag2name[label_ids[i][j]] != \"X\" and tag2name[label_ids[i][j]] != \"[CLS]\" and tag2name[label_ids[i][j]] != \"[SEP]\" : # Exclude the X label\n",
    "                    temp_1.append(tag2name[label_ids[i][j]])\n",
    "                    temp_2.append(tag2name[logits[i][j]])\n",
    "            else:\n",
    "                break\n",
    "        \n",
    "        y_true.append(temp_1)\n",
    "        y_pred.append(temp_2)\n",
    "print(len(y_true))\n",
    "print(len(y_pred))\n",
    "        \n",
    "print(\"f1 socre: %f\"%(f1_score(y_true, y_pred)))\n",
    "print(\"Accuracy score: %f\"%(accuracy_score(y_true, y_pred)))\n",
    "\n",
    "# Get acc , recall, F1 result report\n",
    "report = classification_report(y_true, y_pred,digits=4)\n",
    "print(report)\n"
   ]
  },
  {
   "cell_type": "code",
   "execution_count": 65,
   "metadata": {
    "colab": {
     "base_uri": "https://localhost:8080/"
    },
    "executionInfo": {
     "elapsed": 10,
     "status": "ok",
     "timestamp": 1645457103762,
     "user": {
      "displayName": "Yến Ngọc Vũ",
      "photoUrl": "https://lh3.googleusercontent.com/a-/AOh14Gi4wfCuo_NJT2C0JTe2p3mU-XITI80n8F0YvaxHpNI=s64",
      "userId": "00577626419227892200"
     },
     "user_tz": -420
    },
    "id": "myi3emKvgAMf",
    "outputId": "4eeb50f9-92ba-4004-b66f-0d1fcae830a0"
   },
   "outputs": [
    {
     "name": "stdout",
     "output_type": "stream",
     "text": [
      "f1 socre: 0.730023\n"
     ]
    }
   ],
   "source": [
    "print(\"f1 socre: %f\"%(f1_score(y_true, y_pred)))"
   ]
  },
  {
   "cell_type": "code",
   "execution_count": 66,
   "metadata": {
    "colab": {
     "base_uri": "https://localhost:8080/"
    },
    "executionInfo": {
     "elapsed": 495,
     "status": "ok",
     "timestamp": 1645457104252,
     "user": {
      "displayName": "Yến Ngọc Vũ",
      "photoUrl": "https://lh3.googleusercontent.com/a-/AOh14Gi4wfCuo_NJT2C0JTe2p3mU-XITI80n8F0YvaxHpNI=s64",
      "userId": "00577626419227892200"
     },
     "user_tz": -420
    },
    "id": "CNP2Oc4qJpKf",
    "outputId": "b68cf0f2-a555-4f51-baf7-f93275c89364"
   },
   "outputs": [
    {
     "name": "stdout",
     "output_type": "stream",
     "text": [
      "{'I-TOOL', 'B-PLAT', 'O', 'B-LANG', 'B-TOOL', 'I-KNOW', 'I-FRAM', 'I-LANG', 'B-KNOW', 'B-FRAM', 'I-PLAT'}\n"
     ]
    }
   ],
   "source": [
    "# Debug =))\n",
    "ele= [j for i in y_true for j in i]\n",
    "myset = set(ele)\n",
    "print(myset)\n"
   ]
  },
  {
   "cell_type": "code",
   "execution_count": 67,
   "metadata": {
    "colab": {
     "base_uri": "https://localhost:8080/"
    },
    "executionInfo": {
     "elapsed": 484,
     "status": "ok",
     "timestamp": 1645457104735,
     "user": {
      "displayName": "Yến Ngọc Vũ",
      "photoUrl": "https://lh3.googleusercontent.com/a-/AOh14Gi4wfCuo_NJT2C0JTe2p3mU-XITI80n8F0YvaxHpNI=s64",
      "userId": "00577626419227892200"
     },
     "user_tz": -420
    },
    "id": "RVGMyaCBJpKf",
    "outputId": "51eed117-44af-4a7d-d49b-1ae29d5dd83c"
   },
   "outputs": [
    {
     "name": "stdout",
     "output_type": "stream",
     "text": [
      "***** Eval results *****\n",
      "\n",
      "              precision    recall  f1-score   support\n",
      "\n",
      "        FRAM     0.7639    0.8599    0.8091       207\n",
      "        KNOW     0.7145    0.6273    0.6681      1532\n",
      "        LANG     0.9511    0.9138    0.9321       383\n",
      "        PLAT     0.6590    0.6777    0.6682       211\n",
      "        TOOL     0.7375    0.7788    0.7576       321\n",
      "\n",
      "   micro avg     0.7522    0.7091    0.7300      2654\n",
      "   macro avg     0.7652    0.7715    0.7670      2654\n",
      "weighted avg     0.7509    0.7091    0.7280      2654\n",
      "\n",
      "f1 socre: 0.730023\n",
      "Accuracy score: 0.954697\n"
     ]
    }
   ],
   "source": [
    "# Save the report into file\n",
    "output_eval_file = os.path.join(bert_out_address, \"eval_results.txt\")\n",
    "with open(output_eval_file, \"w\") as writer:\n",
    "    print(\"***** Eval results *****\")\n",
    "    print(\"\\n%s\"%(report))\n",
    "    print(\"f1 socre: %f\"%(f1_score(y_true, y_pred)))\n",
    "    print(\"Accuracy score: %f\"%(accuracy_score(y_true, y_pred)))\n",
    "    \n",
    "    writer.write(\"f1 socre:\\n\")\n",
    "    writer.write(str(f1_score(y_true, y_pred)))\n",
    "    writer.write(\"\\n\\nAccuracy score:\\n\")\n",
    "    writer.write(str(accuracy_score(y_true, y_pred)))\n",
    "    writer.write(\"\\n\\n\")  \n",
    "    writer.write(report)"
   ]
  },
  {
   "cell_type": "markdown",
   "metadata": {
    "id": "Of40o5lAJpKf"
   },
   "source": [
    "## Inference"
   ]
  },
  {
   "cell_type": "markdown",
   "metadata": {
    "id": "7MblRvlHJpKf"
   },
   "source": [
    "After we trained a model, we can make it into service ---- sending a new sentence to the model,then get the prediction."
   ]
  },
  {
   "cell_type": "markdown",
   "metadata": {
    "id": "sj_XFJPkJpKg"
   },
   "source": [
    "The process contains:"
   ]
  },
  {
   "cell_type": "markdown",
   "metadata": {
    "id": "XqGmttSRJpKg"
   },
   "source": [
    "- Load model\n",
    "- Load tokenizer\n",
    "- Set test query\n",
    "- Make query into embedding\n",
    "- Predict with model\n",
    "- Parser result"
   ]
  },
  {
   "cell_type": "code",
   "execution_count": 67,
   "metadata": {
    "executionInfo": {
     "elapsed": 11,
     "status": "ok",
     "timestamp": 1645457104736,
     "user": {
      "displayName": "Yến Ngọc Vũ",
      "photoUrl": "https://lh3.googleusercontent.com/a-/AOh14Gi4wfCuo_NJT2C0JTe2p3mU-XITI80n8F0YvaxHpNI=s64",
      "userId": "00577626419227892200"
     },
     "user_tz": -420
    },
    "id": "qBWewODCJpKg"
   },
   "outputs": [],
   "source": []
  },
  {
   "cell_type": "markdown",
   "metadata": {
    "id": "emMs8sSnJpKg"
   },
   "source": [
    "### Set tag index"
   ]
  },
  {
   "cell_type": "code",
   "execution_count": 68,
   "metadata": {
    "executionInfo": {
     "elapsed": 10,
     "status": "ok",
     "timestamp": 1645457104736,
     "user": {
      "displayName": "Yến Ngọc Vũ",
      "photoUrl": "https://lh3.googleusercontent.com/a-/AOh14Gi4wfCuo_NJT2C0JTe2p3mU-XITI80n8F0YvaxHpNI=s64",
      "userId": "00577626419227892200"
     },
     "user_tz": -420
    },
    "id": "YbIas1tkJpKg"
   },
   "outputs": [],
   "source": [
    "# Tag to index, must be the same as we training\n",
    "#tag2idx={}"
   ]
  },
  {
   "cell_type": "code",
   "execution_count": 69,
   "metadata": {
    "executionInfo": {
     "elapsed": 11,
     "status": "ok",
     "timestamp": 1645457104737,
     "user": {
      "displayName": "Yến Ngọc Vũ",
      "photoUrl": "https://lh3.googleusercontent.com/a-/AOh14Gi4wfCuo_NJT2C0JTe2p3mU-XITI80n8F0YvaxHpNI=s64",
      "userId": "00577626419227892200"
     },
     "user_tz": -420
    },
    "id": "2YCHbkLgJpKg"
   },
   "outputs": [],
   "source": [
    "# Mapping index to name\n",
    "#tag2name={tag2idx[key] : key for key in tag2idx.keys()}"
   ]
  },
  {
   "cell_type": "code",
   "execution_count": 69,
   "metadata": {
    "executionInfo": {
     "elapsed": 11,
     "status": "ok",
     "timestamp": 1645457104737,
     "user": {
      "displayName": "Yến Ngọc Vũ",
      "photoUrl": "https://lh3.googleusercontent.com/a-/AOh14Gi4wfCuo_NJT2C0JTe2p3mU-XITI80n8F0YvaxHpNI=s64",
      "userId": "00577626419227892200"
     },
     "user_tz": -420
    },
    "id": "fGOIht46JpKh"
   },
   "outputs": [],
   "source": []
  },
  {
   "cell_type": "markdown",
   "metadata": {
    "id": "rB98rTqDJpKh"
   },
   "source": [
    "### Load model"
   ]
  },
  {
   "cell_type": "code",
   "execution_count": 70,
   "metadata": {
    "executionInfo": {
     "elapsed": 10,
     "status": "ok",
     "timestamp": 1645457104737,
     "user": {
      "displayName": "Yến Ngọc Vũ",
      "photoUrl": "https://lh3.googleusercontent.com/a-/AOh14Gi4wfCuo_NJT2C0JTe2p3mU-XITI80n8F0YvaxHpNI=s64",
      "userId": "00577626419227892200"
     },
     "user_tz": -420
    },
    "id": "ZdeGVRsJJpKh"
   },
   "outputs": [],
   "source": [
    "# Model we trained before, the dir containing pytorch_model.bin and vocab.txt\n",
    "#save_model_address = 'models/bert_out_model/en09'\n",
    "save_model_address =\"/content/drive/MyDrive/LUẬN VĂN-K18_CQ/02. Bình-Ngọc/Data/Dataset/conll/b_simp\""
   ]
  },
  {
   "cell_type": "code",
   "execution_count": 71,
   "metadata": {
    "colab": {
     "base_uri": "https://localhost:8080/"
    },
    "executionInfo": {
     "elapsed": 11,
     "status": "ok",
     "timestamp": 1645457104738,
     "user": {
      "displayName": "Yến Ngọc Vũ",
      "photoUrl": "https://lh3.googleusercontent.com/a-/AOh14Gi4wfCuo_NJT2C0JTe2p3mU-XITI80n8F0YvaxHpNI=s64",
      "userId": "00577626419227892200"
     },
     "user_tz": -420
    },
    "id": "nYHWmBDGpAbv",
    "outputId": "5632f208-7e41-475b-98ff-2e860ce7346f"
   },
   "outputs": [
    {
     "data": {
      "text/plain": [
       "{'B-FRAM': 1,\n",
       " 'B-KNOW': 2,\n",
       " 'B-LANG': 3,\n",
       " 'B-PLAT': 4,\n",
       " 'B-TOOL': 5,\n",
       " 'I-FRAM': 6,\n",
       " 'I-KNOW': 7,\n",
       " 'I-LANG': 8,\n",
       " 'I-PLAT': 9,\n",
       " 'I-TOOL': 10,\n",
       " 'O': 11,\n",
       " '[CLS]': 12,\n",
       " '[SEP]': 0}"
      ]
     },
     "execution_count": 71,
     "metadata": {},
     "output_type": "execute_result"
    }
   ],
   "source": [
    "tag2idx"
   ]
  },
  {
   "cell_type": "code",
   "execution_count": 72,
   "metadata": {
    "executionInfo": {
     "elapsed": 2152,
     "status": "ok",
     "timestamp": 1645457106884,
     "user": {
      "displayName": "Yến Ngọc Vũ",
      "photoUrl": "https://lh3.googleusercontent.com/a-/AOh14Gi4wfCuo_NJT2C0JTe2p3mU-XITI80n8F0YvaxHpNI=s64",
      "userId": "00577626419227892200"
     },
     "user_tz": -420
    },
    "id": "UesWl_3YJpKh"
   },
   "outputs": [],
   "source": [
    "save_model = BertForTokenClassification.from_pretrained(save_model_address,num_labels=len(tag2idx))"
   ]
  },
  {
   "cell_type": "code",
   "execution_count": 72,
   "metadata": {
    "executionInfo": {
     "elapsed": 4,
     "status": "ok",
     "timestamp": 1645457106884,
     "user": {
      "displayName": "Yến Ngọc Vũ",
      "photoUrl": "https://lh3.googleusercontent.com/a-/AOh14Gi4wfCuo_NJT2C0JTe2p3mU-XITI80n8F0YvaxHpNI=s64",
      "userId": "00577626419227892200"
     },
     "user_tz": -420
    },
    "id": "oA79BM_9JpKh"
   },
   "outputs": [],
   "source": []
  },
  {
   "cell_type": "markdown",
   "metadata": {
    "id": "t4k2UKwSJpKh"
   },
   "source": [
    "### Load Tokenizer"
   ]
  },
  {
   "cell_type": "code",
   "execution_count": 73,
   "metadata": {
    "executionInfo": {
     "elapsed": 4,
     "status": "ok",
     "timestamp": 1645457106885,
     "user": {
      "displayName": "Yến Ngọc Vũ",
      "photoUrl": "https://lh3.googleusercontent.com/a-/AOh14Gi4wfCuo_NJT2C0JTe2p3mU-XITI80n8F0YvaxHpNI=s64",
      "userId": "00577626419227892200"
     },
     "user_tz": -420
    },
    "id": "1kOEfyHpJpKh"
   },
   "outputs": [],
   "source": [
    "# Here, our save model address containing pytorch_model.bin and vocab.txt\n",
    "# So, we can load the tokenzier from the same dir as the save model address\n",
    "tokenizer = BertTokenizer.from_pretrained(save_model_address,do_lower_case=True)"
   ]
  },
  {
   "cell_type": "code",
   "execution_count": 74,
   "metadata": {
    "executionInfo": {
     "elapsed": 4,
     "status": "ok",
     "timestamp": 1645457106885,
     "user": {
      "displayName": "Yến Ngọc Vũ",
      "photoUrl": "https://lh3.googleusercontent.com/a-/AOh14Gi4wfCuo_NJT2C0JTe2p3mU-XITI80n8F0YvaxHpNI=s64",
      "userId": "00577626419227892200"
     },
     "user_tz": -420
    },
    "id": "s7qvPBVwJpKh"
   },
   "outputs": [],
   "source": [
    "# Set max sentence length, must be the same as our training process\n",
    "max_len  = 256"
   ]
  },
  {
   "cell_type": "code",
   "execution_count": 74,
   "metadata": {
    "executionInfo": {
     "elapsed": 5,
     "status": "ok",
     "timestamp": 1645457106886,
     "user": {
      "displayName": "Yến Ngọc Vũ",
      "photoUrl": "https://lh3.googleusercontent.com/a-/AOh14Gi4wfCuo_NJT2C0JTe2p3mU-XITI80n8F0YvaxHpNI=s64",
      "userId": "00577626419227892200"
     },
     "user_tz": -420
    },
    "id": "hyh5YhhxJpKi"
   },
   "outputs": [],
   "source": []
  },
  {
   "cell_type": "markdown",
   "metadata": {
    "id": "MJsonOCeJpKi"
   },
   "source": [
    "### Set test query"
   ]
  },
  {
   "cell_type": "code",
   "execution_count": 75,
   "metadata": {
    "executionInfo": {
     "elapsed": 483,
     "status": "ok",
     "timestamp": 1645457107365,
     "user": {
      "displayName": "Yến Ngọc Vũ",
      "photoUrl": "https://lh3.googleusercontent.com/a-/AOh14Gi4wfCuo_NJT2C0JTe2p3mU-XITI80n8F0YvaxHpNI=s64",
      "userId": "00577626419227892200"
     },
     "user_tz": -420
    },
    "id": "xvxKCwXFJpKi"
   },
   "outputs": [],
   "source": [
    "test_query = 'You can start creating your own data science projects and collaborating with other data scientists using IBM Watson Studio. When you sign up, you will receive free access to Watson Studio. Start now and take advantage of this platform and learn the basics of programming, machine learning, and data visualization with this introductory course.'"
   ]
  },
  {
   "cell_type": "code",
   "execution_count": 75,
   "metadata": {
    "executionInfo": {
     "elapsed": 24,
     "status": "ok",
     "timestamp": 1645457107365,
     "user": {
      "displayName": "Yến Ngọc Vũ",
      "photoUrl": "https://lh3.googleusercontent.com/a-/AOh14Gi4wfCuo_NJT2C0JTe2p3mU-XITI80n8F0YvaxHpNI=s64",
      "userId": "00577626419227892200"
     },
     "user_tz": -420
    },
    "id": "wnjUi1QqJpKi"
   },
   "outputs": [],
   "source": []
  },
  {
   "cell_type": "markdown",
   "metadata": {
    "id": "bdiW7AblJpKi"
   },
   "source": [
    "### Make query into embeddings"
   ]
  },
  {
   "cell_type": "markdown",
   "metadata": {
    "id": "g_bF5F2eJpKi"
   },
   "source": [
    "- token id embedding, need to tokenize first\n",
    "- mask word embedding\n",
    "- segmentation embedding"
   ]
  },
  {
   "cell_type": "code",
   "execution_count": 76,
   "metadata": {
    "executionInfo": {
     "elapsed": 26,
     "status": "ok",
     "timestamp": 1645457107368,
     "user": {
      "displayName": "Yến Ngọc Vũ",
      "photoUrl": "https://lh3.googleusercontent.com/a-/AOh14Gi4wfCuo_NJT2C0JTe2p3mU-XITI80n8F0YvaxHpNI=s64",
      "userId": "00577626419227892200"
     },
     "user_tz": -420
    },
    "id": "DFiqEfu3JpKi"
   },
   "outputs": [],
   "source": [
    "tokenized_texts = []"
   ]
  },
  {
   "cell_type": "code",
   "execution_count": 77,
   "metadata": {
    "executionInfo": {
     "elapsed": 25,
     "status": "ok",
     "timestamp": 1645457107368,
     "user": {
      "displayName": "Yến Ngọc Vũ",
      "photoUrl": "https://lh3.googleusercontent.com/a-/AOh14Gi4wfCuo_NJT2C0JTe2p3mU-XITI80n8F0YvaxHpNI=s64",
      "userId": "00577626419227892200"
     },
     "user_tz": -420
    },
    "id": "ZgbTcaa_JpKi"
   },
   "outputs": [],
   "source": [
    "temp_token = []"
   ]
  },
  {
   "cell_type": "code",
   "execution_count": 78,
   "metadata": {
    "executionInfo": {
     "elapsed": 26,
     "status": "ok",
     "timestamp": 1645457107369,
     "user": {
      "displayName": "Yến Ngọc Vũ",
      "photoUrl": "https://lh3.googleusercontent.com/a-/AOh14Gi4wfCuo_NJT2C0JTe2p3mU-XITI80n8F0YvaxHpNI=s64",
      "userId": "00577626419227892200"
     },
     "user_tz": -420
    },
    "id": "cR7nbWIHJpKj"
   },
   "outputs": [],
   "source": [
    "# Add [CLS] at the front \n",
    "temp_token.append('[CLS]')"
   ]
  },
  {
   "cell_type": "code",
   "execution_count": 79,
   "metadata": {
    "executionInfo": {
     "elapsed": 25,
     "status": "ok",
     "timestamp": 1645457107369,
     "user": {
      "displayName": "Yến Ngọc Vũ",
      "photoUrl": "https://lh3.googleusercontent.com/a-/AOh14Gi4wfCuo_NJT2C0JTe2p3mU-XITI80n8F0YvaxHpNI=s64",
      "userId": "00577626419227892200"
     },
     "user_tz": -420
    },
    "id": "hQrz3_d_JpKj"
   },
   "outputs": [],
   "source": [
    "token_list = tokenizer.tokenize(test_query)"
   ]
  },
  {
   "cell_type": "code",
   "execution_count": 80,
   "metadata": {
    "colab": {
     "base_uri": "https://localhost:8080/"
    },
    "executionInfo": {
     "elapsed": 26,
     "status": "ok",
     "timestamp": 1645457107370,
     "user": {
      "displayName": "Yến Ngọc Vũ",
      "photoUrl": "https://lh3.googleusercontent.com/a-/AOh14Gi4wfCuo_NJT2C0JTe2p3mU-XITI80n8F0YvaxHpNI=s64",
      "userId": "00577626419227892200"
     },
     "user_tz": -420
    },
    "id": "cl-Y5g1WJpKj",
    "outputId": "ee27526e-052f-48c2-d016-51e1b86484df"
   },
   "outputs": [
    {
     "data": {
      "text/plain": [
       "['you',\n",
       " 'can',\n",
       " 'start',\n",
       " 'creating',\n",
       " 'your',\n",
       " 'own',\n",
       " 'data',\n",
       " 'science',\n",
       " 'projects',\n",
       " 'and',\n",
       " 'collaborating',\n",
       " 'with',\n",
       " 'other',\n",
       " 'data',\n",
       " 'scientists',\n",
       " 'using',\n",
       " 'ibm',\n",
       " 'watson',\n",
       " 'studio',\n",
       " '.',\n",
       " 'when',\n",
       " 'you',\n",
       " 'sign',\n",
       " 'up',\n",
       " ',',\n",
       " 'you',\n",
       " 'will',\n",
       " 'receive',\n",
       " 'free',\n",
       " 'access',\n",
       " 'to',\n",
       " 'watson',\n",
       " 'studio',\n",
       " '.',\n",
       " 'start',\n",
       " 'now',\n",
       " 'and',\n",
       " 'take',\n",
       " 'advantage',\n",
       " 'of',\n",
       " 'this',\n",
       " 'platform',\n",
       " 'and',\n",
       " 'learn',\n",
       " 'the',\n",
       " 'basics',\n",
       " 'of',\n",
       " 'programming',\n",
       " ',',\n",
       " 'machine',\n",
       " 'learning',\n",
       " ',',\n",
       " 'and',\n",
       " 'data',\n",
       " 'visual',\n",
       " '##ization',\n",
       " 'with',\n",
       " 'this',\n",
       " 'introductory',\n",
       " 'course',\n",
       " '.']"
      ]
     },
     "execution_count": 80,
     "metadata": {},
     "output_type": "execute_result"
    }
   ],
   "source": [
    "token_list"
   ]
  },
  {
   "cell_type": "code",
   "execution_count": 81,
   "metadata": {
    "executionInfo": {
     "elapsed": 11,
     "status": "ok",
     "timestamp": 1645457107370,
     "user": {
      "displayName": "Yến Ngọc Vũ",
      "photoUrl": "https://lh3.googleusercontent.com/a-/AOh14Gi4wfCuo_NJT2C0JTe2p3mU-XITI80n8F0YvaxHpNI=s64",
      "userId": "00577626419227892200"
     },
     "user_tz": -420
    },
    "id": "XzjQROv7JpKj"
   },
   "outputs": [],
   "source": [
    "for m,token in enumerate(token_list):\n",
    "    temp_token.append(token)"
   ]
  },
  {
   "cell_type": "code",
   "execution_count": 82,
   "metadata": {
    "executionInfo": {
     "elapsed": 11,
     "status": "ok",
     "timestamp": 1645457107370,
     "user": {
      "displayName": "Yến Ngọc Vũ",
      "photoUrl": "https://lh3.googleusercontent.com/a-/AOh14Gi4wfCuo_NJT2C0JTe2p3mU-XITI80n8F0YvaxHpNI=s64",
      "userId": "00577626419227892200"
     },
     "user_tz": -420
    },
    "id": "30aQ6wkbJpKj"
   },
   "outputs": [],
   "source": [
    "# Trim the token to fit the length requirement\n",
    "if len(temp_token) > max_len-1:\n",
    "    temp_token= temp_token[:max_len-1]"
   ]
  },
  {
   "cell_type": "code",
   "execution_count": 83,
   "metadata": {
    "executionInfo": {
     "elapsed": 19,
     "status": "ok",
     "timestamp": 1645457107771,
     "user": {
      "displayName": "Yến Ngọc Vũ",
      "photoUrl": "https://lh3.googleusercontent.com/a-/AOh14Gi4wfCuo_NJT2C0JTe2p3mU-XITI80n8F0YvaxHpNI=s64",
      "userId": "00577626419227892200"
     },
     "user_tz": -420
    },
    "id": "Pzwgg0JjJpKj"
   },
   "outputs": [],
   "source": [
    "# Add [SEP] at the end\n",
    "temp_token.append('[SEP]')"
   ]
  },
  {
   "cell_type": "code",
   "execution_count": 84,
   "metadata": {
    "colab": {
     "base_uri": "https://localhost:8080/"
    },
    "executionInfo": {
     "elapsed": 18,
     "status": "ok",
     "timestamp": 1645457107771,
     "user": {
      "displayName": "Yến Ngọc Vũ",
      "photoUrl": "https://lh3.googleusercontent.com/a-/AOh14Gi4wfCuo_NJT2C0JTe2p3mU-XITI80n8F0YvaxHpNI=s64",
      "userId": "00577626419227892200"
     },
     "user_tz": -420
    },
    "id": "m8VUoNARJpKj",
    "outputId": "3c77b735-0425-49f8-b61c-58fe9aaddc5d"
   },
   "outputs": [
    {
     "data": {
      "text/plain": [
       "['[CLS]',\n",
       " 'you',\n",
       " 'can',\n",
       " 'start',\n",
       " 'creating',\n",
       " 'your',\n",
       " 'own',\n",
       " 'data',\n",
       " 'science',\n",
       " 'projects',\n",
       " 'and',\n",
       " 'collaborating',\n",
       " 'with',\n",
       " 'other',\n",
       " 'data',\n",
       " 'scientists',\n",
       " 'using',\n",
       " 'ibm',\n",
       " 'watson',\n",
       " 'studio',\n",
       " '.',\n",
       " 'when',\n",
       " 'you',\n",
       " 'sign',\n",
       " 'up',\n",
       " ',',\n",
       " 'you',\n",
       " 'will',\n",
       " 'receive',\n",
       " 'free',\n",
       " 'access',\n",
       " 'to',\n",
       " 'watson',\n",
       " 'studio',\n",
       " '.',\n",
       " 'start',\n",
       " 'now',\n",
       " 'and',\n",
       " 'take',\n",
       " 'advantage',\n",
       " 'of',\n",
       " 'this',\n",
       " 'platform',\n",
       " 'and',\n",
       " 'learn',\n",
       " 'the',\n",
       " 'basics',\n",
       " 'of',\n",
       " 'programming',\n",
       " ',',\n",
       " 'machine',\n",
       " 'learning',\n",
       " ',',\n",
       " 'and',\n",
       " 'data',\n",
       " 'visual',\n",
       " '##ization',\n",
       " 'with',\n",
       " 'this',\n",
       " 'introductory',\n",
       " 'course',\n",
       " '.',\n",
       " '[SEP]']"
      ]
     },
     "execution_count": 84,
     "metadata": {},
     "output_type": "execute_result"
    }
   ],
   "source": [
    "temp_token"
   ]
  },
  {
   "cell_type": "code",
   "execution_count": 85,
   "metadata": {
    "executionInfo": {
     "elapsed": 8,
     "status": "ok",
     "timestamp": 1645457107771,
     "user": {
      "displayName": "Yến Ngọc Vũ",
      "photoUrl": "https://lh3.googleusercontent.com/a-/AOh14Gi4wfCuo_NJT2C0JTe2p3mU-XITI80n8F0YvaxHpNI=s64",
      "userId": "00577626419227892200"
     },
     "user_tz": -420
    },
    "id": "ef9Fe0foJpKk"
   },
   "outputs": [],
   "source": [
    "tokenized_texts.append(temp_token)"
   ]
  },
  {
   "cell_type": "code",
   "execution_count": 85,
   "metadata": {
    "executionInfo": {
     "elapsed": 8,
     "status": "ok",
     "timestamp": 1645457107772,
     "user": {
      "displayName": "Yến Ngọc Vũ",
      "photoUrl": "https://lh3.googleusercontent.com/a-/AOh14Gi4wfCuo_NJT2C0JTe2p3mU-XITI80n8F0YvaxHpNI=s64",
      "userId": "00577626419227892200"
     },
     "user_tz": -420
    },
    "id": "s1HgI0CPJpKk"
   },
   "outputs": [],
   "source": []
  },
  {
   "cell_type": "markdown",
   "metadata": {
    "id": "V1lgcWHjJpKk"
   },
   "source": [
    "**Make id embedding**"
   ]
  },
  {
   "cell_type": "code",
   "execution_count": 86,
   "metadata": {
    "colab": {
     "base_uri": "https://localhost:8080/"
    },
    "executionInfo": {
     "elapsed": 8,
     "status": "ok",
     "timestamp": 1645457107772,
     "user": {
      "displayName": "Yến Ngọc Vũ",
      "photoUrl": "https://lh3.googleusercontent.com/a-/AOh14Gi4wfCuo_NJT2C0JTe2p3mU-XITI80n8F0YvaxHpNI=s64",
      "userId": "00577626419227892200"
     },
     "user_tz": -420
    },
    "id": "WuB6qWH4JpKk",
    "outputId": "c3985a79-c6f2-424e-ac91-aeb689974f92"
   },
   "outputs": [
    {
     "name": "stdout",
     "output_type": "stream",
     "text": [
      "[  101  2017  2064  2707  4526  2115  2219  2951  2671  3934  1998 20295\n",
      "  2007  2060  2951  6529  2478  9980  7908  2996  1012  2043  2017  3696\n",
      "  2039  1010  2017  2097  4374  2489  3229  2000  7908  2996  1012  2707\n",
      "  2085  1998  2202  5056  1997  2023  4132  1998  4553  1996 24078  1997\n",
      "  4730  1010  3698  4083  1010  1998  2951  5107  3989  2007  2023 23889\n",
      "  2607  1012   102     0     0     0     0     0     0     0     0     0\n",
      "     0     0     0     0     0     0     0     0     0     0     0     0\n",
      "     0     0     0     0     0     0     0     0     0     0     0     0\n",
      "     0     0     0     0     0     0     0     0     0     0     0     0\n",
      "     0     0     0     0     0     0     0     0     0     0     0     0\n",
      "     0     0     0     0     0     0     0     0     0     0     0     0\n",
      "     0     0     0     0     0     0     0     0     0     0     0     0\n",
      "     0     0     0     0     0     0     0     0     0     0     0     0\n",
      "     0     0     0     0     0     0     0     0     0     0     0     0\n",
      "     0     0     0     0     0     0     0     0     0     0     0     0\n",
      "     0     0     0     0     0     0     0     0     0     0     0     0\n",
      "     0     0     0     0     0     0     0     0     0     0     0     0\n",
      "     0     0     0     0     0     0     0     0     0     0     0     0\n",
      "     0     0     0     0     0     0     0     0     0     0     0     0\n",
      "     0     0     0     0     0     0     0     0     0     0     0     0\n",
      "     0     0     0     0     0     0     0     0     0     0     0     0\n",
      "     0     0     0     0]\n"
     ]
    }
   ],
   "source": [
    "# Make text token into id\n",
    "input_ids = pad_sequences([tokenizer.convert_tokens_to_ids(txt) for txt in tokenized_texts],\n",
    "                          maxlen=max_len, dtype=\"long\", truncating=\"post\", padding=\"post\")\n",
    "print(input_ids[0])"
   ]
  },
  {
   "cell_type": "code",
   "execution_count": 86,
   "metadata": {
    "executionInfo": {
     "elapsed": 5,
     "status": "ok",
     "timestamp": 1645457107772,
     "user": {
      "displayName": "Yến Ngọc Vũ",
      "photoUrl": "https://lh3.googleusercontent.com/a-/AOh14Gi4wfCuo_NJT2C0JTe2p3mU-XITI80n8F0YvaxHpNI=s64",
      "userId": "00577626419227892200"
     },
     "user_tz": -420
    },
    "id": "5JvaOobPJpKk"
   },
   "outputs": [],
   "source": []
  },
  {
   "cell_type": "markdown",
   "metadata": {
    "id": "uezsJzg8JpKk"
   },
   "source": [
    "**Make mask embedding**"
   ]
  },
  {
   "cell_type": "code",
   "execution_count": 87,
   "metadata": {
    "executionInfo": {
     "elapsed": 5,
     "status": "ok",
     "timestamp": 1645457107772,
     "user": {
      "displayName": "Yến Ngọc Vũ",
      "photoUrl": "https://lh3.googleusercontent.com/a-/AOh14Gi4wfCuo_NJT2C0JTe2p3mU-XITI80n8F0YvaxHpNI=s64",
      "userId": "00577626419227892200"
     },
     "user_tz": -420
    },
    "id": "rI6C23AAJpKl"
   },
   "outputs": [],
   "source": [
    "# For fine tune of predict, with token mask is 1,pad token is 0\n",
    "attention_masks = [[int(i>0) for i in ii] for ii in input_ids]\n",
    "attention_masks[0];"
   ]
  },
  {
   "cell_type": "code",
   "execution_count": 87,
   "metadata": {
    "executionInfo": {
     "elapsed": 6,
     "status": "ok",
     "timestamp": 1645457107774,
     "user": {
      "displayName": "Yến Ngọc Vũ",
      "photoUrl": "https://lh3.googleusercontent.com/a-/AOh14Gi4wfCuo_NJT2C0JTe2p3mU-XITI80n8F0YvaxHpNI=s64",
      "userId": "00577626419227892200"
     },
     "user_tz": -420
    },
    "id": "To1EzX_uJpKl"
   },
   "outputs": [],
   "source": []
  },
  {
   "cell_type": "markdown",
   "metadata": {
    "id": "PIcaCjx2JpKl"
   },
   "source": [
    "**Make segmention type embedding**"
   ]
  },
  {
   "cell_type": "code",
   "execution_count": 88,
   "metadata": {
    "executionInfo": {
     "elapsed": 303,
     "status": "ok",
     "timestamp": 1645457108071,
     "user": {
      "displayName": "Yến Ngọc Vũ",
      "photoUrl": "https://lh3.googleusercontent.com/a-/AOh14Gi4wfCuo_NJT2C0JTe2p3mU-XITI80n8F0YvaxHpNI=s64",
      "userId": "00577626419227892200"
     },
     "user_tz": -420
    },
    "id": "Zz0JisiDJpKl"
   },
   "outputs": [],
   "source": [
    "segment_ids = [[0] * len(input_id) for input_id in input_ids]\n",
    "segment_ids[0];"
   ]
  },
  {
   "cell_type": "code",
   "execution_count": 88,
   "metadata": {
    "executionInfo": {
     "elapsed": 3,
     "status": "ok",
     "timestamp": 1645457108071,
     "user": {
      "displayName": "Yến Ngọc Vũ",
      "photoUrl": "https://lh3.googleusercontent.com/a-/AOh14Gi4wfCuo_NJT2C0JTe2p3mU-XITI80n8F0YvaxHpNI=s64",
      "userId": "00577626419227892200"
     },
     "user_tz": -420
    },
    "id": "x2JgftCCJpKl"
   },
   "outputs": [],
   "source": []
  },
  {
   "cell_type": "markdown",
   "metadata": {
    "id": "qttfvmGMJpKl"
   },
   "source": [
    "**Make embeddings into torch tensor**"
   ]
  },
  {
   "cell_type": "code",
   "execution_count": 89,
   "metadata": {
    "executionInfo": {
     "elapsed": 4,
     "status": "ok",
     "timestamp": 1645457108072,
     "user": {
      "displayName": "Yến Ngọc Vũ",
      "photoUrl": "https://lh3.googleusercontent.com/a-/AOh14Gi4wfCuo_NJT2C0JTe2p3mU-XITI80n8F0YvaxHpNI=s64",
      "userId": "00577626419227892200"
     },
     "user_tz": -420
    },
    "id": "Q21Dwg--JpKl"
   },
   "outputs": [],
   "source": [
    "input_ids = torch.tensor(input_ids)\n",
    "attention_masks = torch.tensor(attention_masks)\n",
    "segment_ids = torch.tensor(segment_ids)"
   ]
  },
  {
   "cell_type": "code",
   "execution_count": 89,
   "metadata": {
    "executionInfo": {
     "elapsed": 3,
     "status": "ok",
     "timestamp": 1645457108072,
     "user": {
      "displayName": "Yến Ngọc Vũ",
      "photoUrl": "https://lh3.googleusercontent.com/a-/AOh14Gi4wfCuo_NJT2C0JTe2p3mU-XITI80n8F0YvaxHpNI=s64",
      "userId": "00577626419227892200"
     },
     "user_tz": -420
    },
    "id": "tt2HEzisJpKl"
   },
   "outputs": [],
   "source": []
  },
  {
   "cell_type": "code",
   "execution_count": 89,
   "metadata": {
    "executionInfo": {
     "elapsed": 3,
     "status": "ok",
     "timestamp": 1645457108072,
     "user": {
      "displayName": "Yến Ngọc Vũ",
      "photoUrl": "https://lh3.googleusercontent.com/a-/AOh14Gi4wfCuo_NJT2C0JTe2p3mU-XITI80n8F0YvaxHpNI=s64",
      "userId": "00577626419227892200"
     },
     "user_tz": -420
    },
    "id": "8quHx9TRJpKm"
   },
   "outputs": [],
   "source": []
  },
  {
   "cell_type": "markdown",
   "metadata": {
    "id": "z93WXkRIJpKm"
   },
   "source": [
    "### Predict with model"
   ]
  },
  {
   "cell_type": "markdown",
   "metadata": {
    "id": "PcmCngNyJpKm"
   },
   "source": [
    "We only send input_ids embedding to model"
   ]
  },
  {
   "cell_type": "code",
   "execution_count": 90,
   "metadata": {
    "executionInfo": {
     "elapsed": 4,
     "status": "ok",
     "timestamp": 1645457108073,
     "user": {
      "displayName": "Yến Ngọc Vũ",
      "photoUrl": "https://lh3.googleusercontent.com/a-/AOh14Gi4wfCuo_NJT2C0JTe2p3mU-XITI80n8F0YvaxHpNI=s64",
      "userId": "00577626419227892200"
     },
     "user_tz": -420
    },
    "id": "-SQKIwShJpKm"
   },
   "outputs": [],
   "source": [
    "# Set save model to Evalue loop\n",
    "save_model.eval();"
   ]
  },
  {
   "cell_type": "code",
   "execution_count": 91,
   "metadata": {
    "executionInfo": {
     "elapsed": 1473,
     "status": "ok",
     "timestamp": 1645457109542,
     "user": {
      "displayName": "Yến Ngọc Vũ",
      "photoUrl": "https://lh3.googleusercontent.com/a-/AOh14Gi4wfCuo_NJT2C0JTe2p3mU-XITI80n8F0YvaxHpNI=s64",
      "userId": "00577626419227892200"
     },
     "user_tz": -420
    },
    "id": "xwZMKGppJpKm"
   },
   "outputs": [],
   "source": [
    "# Get model predict result\n",
    "with torch.no_grad():\n",
    "        outputs = save_model(input_ids, token_type_ids=None,\n",
    "        attention_mask=None,)\n",
    "        # For eval mode, the first result of outputs is logits\n",
    "        logits = outputs[0] "
   ]
  },
  {
   "cell_type": "code",
   "execution_count": 92,
   "metadata": {
    "executionInfo": {
     "elapsed": 27,
     "status": "ok",
     "timestamp": 1645457109542,
     "user": {
      "displayName": "Yến Ngọc Vũ",
      "photoUrl": "https://lh3.googleusercontent.com/a-/AOh14Gi4wfCuo_NJT2C0JTe2p3mU-XITI80n8F0YvaxHpNI=s64",
      "userId": "00577626419227892200"
     },
     "user_tz": -420
    },
    "id": "bNyt-5OiJpKm"
   },
   "outputs": [],
   "source": [
    "# Make logits into numpy type predict result\n",
    "# The predict result contain each token's all tags predict result\n",
    "predict_results = logits.detach().cpu().numpy()"
   ]
  },
  {
   "cell_type": "code",
   "execution_count": 93,
   "metadata": {
    "colab": {
     "base_uri": "https://localhost:8080/"
    },
    "executionInfo": {
     "elapsed": 25,
     "status": "ok",
     "timestamp": 1645457109543,
     "user": {
      "displayName": "Yến Ngọc Vũ",
      "photoUrl": "https://lh3.googleusercontent.com/a-/AOh14Gi4wfCuo_NJT2C0JTe2p3mU-XITI80n8F0YvaxHpNI=s64",
      "userId": "00577626419227892200"
     },
     "user_tz": -420
    },
    "id": "1JXgTod5JpKm",
    "outputId": "567b9d75-f2d9-469c-85c9-3c2fe8854add"
   },
   "outputs": [
    {
     "data": {
      "text/plain": [
       "(1, 256, 13)"
      ]
     },
     "execution_count": 93,
     "metadata": {},
     "output_type": "execute_result"
    }
   ],
   "source": [
    "predict_results.shape"
   ]
  },
  {
   "cell_type": "code",
   "execution_count": 93,
   "metadata": {
    "executionInfo": {
     "elapsed": 12,
     "status": "ok",
     "timestamp": 1645457109543,
     "user": {
      "displayName": "Yến Ngọc Vũ",
      "photoUrl": "https://lh3.googleusercontent.com/a-/AOh14Gi4wfCuo_NJT2C0JTe2p3mU-XITI80n8F0YvaxHpNI=s64",
      "userId": "00577626419227892200"
     },
     "user_tz": -420
    },
    "id": "-7t-vGbKJpKm"
   },
   "outputs": [],
   "source": []
  },
  {
   "cell_type": "markdown",
   "metadata": {
    "id": "CgTgU3eFJpKn"
   },
   "source": [
    "**Make each token predict result into softmax mode**"
   ]
  },
  {
   "cell_type": "code",
   "execution_count": 94,
   "metadata": {
    "executionInfo": {
     "elapsed": 12,
     "status": "ok",
     "timestamp": 1645457109543,
     "user": {
      "displayName": "Yến Ngọc Vũ",
      "photoUrl": "https://lh3.googleusercontent.com/a-/AOh14Gi4wfCuo_NJT2C0JTe2p3mU-XITI80n8F0YvaxHpNI=s64",
      "userId": "00577626419227892200"
     },
     "user_tz": -420
    },
    "id": "J4KaV4WVJpKn"
   },
   "outputs": [],
   "source": [
    "from scipy.special import softmax"
   ]
  },
  {
   "cell_type": "code",
   "execution_count": 95,
   "metadata": {
    "executionInfo": {
     "elapsed": 12,
     "status": "ok",
     "timestamp": 1645457109544,
     "user": {
      "displayName": "Yến Ngọc Vũ",
      "photoUrl": "https://lh3.googleusercontent.com/a-/AOh14Gi4wfCuo_NJT2C0JTe2p3mU-XITI80n8F0YvaxHpNI=s64",
      "userId": "00577626419227892200"
     },
     "user_tz": -420
    },
    "id": "-njH5cNOJpKn"
   },
   "outputs": [],
   "source": [
    "result_arrays_soft = softmax(predict_results[0])"
   ]
  },
  {
   "cell_type": "code",
   "execution_count": 96,
   "metadata": {
    "colab": {
     "base_uri": "https://localhost:8080/"
    },
    "executionInfo": {
     "elapsed": 11,
     "status": "ok",
     "timestamp": 1645457109544,
     "user": {
      "displayName": "Yến Ngọc Vũ",
      "photoUrl": "https://lh3.googleusercontent.com/a-/AOh14Gi4wfCuo_NJT2C0JTe2p3mU-XITI80n8F0YvaxHpNI=s64",
      "userId": "00577626419227892200"
     },
     "user_tz": -420
    },
    "id": "mYpBWvbSJpKn",
    "outputId": "464b1ca6-11d0-4dc7-bf45-8dde3a5ecbaa"
   },
   "outputs": [
    {
     "data": {
      "text/plain": [
       "array([2.4042924e-07, 1.0769975e-07, 1.3200545e-07, 1.6438264e-07,\n",
       "       1.2599112e-07, 8.3529883e-08, 2.2506875e-07, 1.9202211e-07,\n",
       "       1.1202163e-07, 1.8057138e-07, 1.8076022e-07, 7.0821261e-07,\n",
       "       4.8970641e-03], dtype=float32)"
      ]
     },
     "execution_count": 96,
     "metadata": {},
     "output_type": "execute_result"
    }
   ],
   "source": [
    "result_arrays_soft[0]"
   ]
  },
  {
   "cell_type": "code",
   "execution_count": 97,
   "metadata": {
    "executionInfo": {
     "elapsed": 5,
     "status": "ok",
     "timestamp": 1645457109544,
     "user": {
      "displayName": "Yến Ngọc Vũ",
      "photoUrl": "https://lh3.googleusercontent.com/a-/AOh14Gi4wfCuo_NJT2C0JTe2p3mU-XITI80n8F0YvaxHpNI=s64",
      "userId": "00577626419227892200"
     },
     "user_tz": -420
    },
    "id": "_JUgzHboJpKn"
   },
   "outputs": [],
   "source": [
    "result_array = result_arrays_soft"
   ]
  },
  {
   "cell_type": "code",
   "execution_count": 98,
   "metadata": {
    "colab": {
     "base_uri": "https://localhost:8080/"
    },
    "executionInfo": {
     "elapsed": 649,
     "status": "ok",
     "timestamp": 1645457110188,
     "user": {
      "displayName": "Yến Ngọc Vũ",
      "photoUrl": "https://lh3.googleusercontent.com/a-/AOh14Gi4wfCuo_NJT2C0JTe2p3mU-XITI80n8F0YvaxHpNI=s64",
      "userId": "00577626419227892200"
     },
     "user_tz": -420
    },
    "id": "AXYhlMHlJpKn",
    "outputId": "c8bf1a14-fe9e-4382-e992-7eb874e45f1a"
   },
   "outputs": [
    {
     "data": {
      "text/plain": [
       "(256, 13)"
      ]
     },
     "execution_count": 98,
     "metadata": {},
     "output_type": "execute_result"
    }
   ],
   "source": [
    "len(result_array),len(result_array[0])"
   ]
  },
  {
   "cell_type": "code",
   "execution_count": 98,
   "metadata": {
    "executionInfo": {
     "elapsed": 16,
     "status": "ok",
     "timestamp": 1645457110189,
     "user": {
      "displayName": "Yến Ngọc Vũ",
      "photoUrl": "https://lh3.googleusercontent.com/a-/AOh14Gi4wfCuo_NJT2C0JTe2p3mU-XITI80n8F0YvaxHpNI=s64",
      "userId": "00577626419227892200"
     },
     "user_tz": -420
    },
    "id": "h9bgbc04JpKn"
   },
   "outputs": [],
   "source": []
  },
  {
   "cell_type": "markdown",
   "metadata": {
    "id": "Iwg4Vx4CJpKn"
   },
   "source": [
    "### Parser result"
   ]
  },
  {
   "cell_type": "markdown",
   "metadata": {
    "id": "ch52_-jsJpKn"
   },
   "source": [
    "Make the predict array into readable result "
   ]
  },
  {
   "cell_type": "code",
   "execution_count": 99,
   "metadata": {
    "executionInfo": {
     "elapsed": 15,
     "status": "ok",
     "timestamp": 1645457110189,
     "user": {
      "displayName": "Yến Ngọc Vũ",
      "photoUrl": "https://lh3.googleusercontent.com/a-/AOh14Gi4wfCuo_NJT2C0JTe2p3mU-XITI80n8F0YvaxHpNI=s64",
      "userId": "00577626419227892200"
     },
     "user_tz": -420
    },
    "id": "vjmSwn3yJpKo"
   },
   "outputs": [],
   "source": [
    "# Get each token final predict tag index result\n",
    "result_list = np.argmax(result_array,axis=-1)"
   ]
  },
  {
   "cell_type": "code",
   "execution_count": 100,
   "metadata": {
    "colab": {
     "base_uri": "https://localhost:8080/"
    },
    "executionInfo": {
     "elapsed": 15,
     "status": "ok",
     "timestamp": 1645457110189,
     "user": {
      "displayName": "Yến Ngọc Vũ",
      "photoUrl": "https://lh3.googleusercontent.com/a-/AOh14Gi4wfCuo_NJT2C0JTe2p3mU-XITI80n8F0YvaxHpNI=s64",
      "userId": "00577626419227892200"
     },
     "user_tz": -420
    },
    "id": "OWOfQaa-JpKo",
    "outputId": "01a97a99-7af0-4d88-aa41-de85f83b67a3"
   },
   "outputs": [
    {
     "data": {
      "text/plain": [
       "array([12, 11, 11, 11, 11, 11, 11,  2,  7, 11, 11, 11, 11, 11, 11, 11, 11,\n",
       "        5, 10, 10, 11, 11, 11, 11, 11, 11, 11, 11, 11, 11, 11, 11,  5, 10,\n",
       "       11, 11, 11, 11, 11, 11, 11, 11, 11, 11, 11, 11, 11, 11,  2, 11,  2,\n",
       "        7, 11, 11,  2,  7,  7, 11, 11, 11, 11, 11,  0, 11, 11, 11, 11, 11,\n",
       "       11, 11, 11, 11, 11, 11, 11, 11, 11, 11, 11, 11, 11, 11, 11, 11, 11,\n",
       "       11, 11, 11, 11, 11, 11, 11, 11, 11, 11, 11, 11, 11, 11, 11, 11, 11,\n",
       "       11, 11, 11, 11, 11, 11, 11, 11, 11, 11, 11, 11, 11, 11, 11, 11, 11,\n",
       "       11, 11, 11, 11, 11, 11, 11, 11, 11, 11, 11, 11, 11, 11, 11, 11, 11,\n",
       "       11, 11, 11, 11, 11, 11, 11, 11, 11, 11, 11, 11, 11, 11, 11, 11, 11,\n",
       "       11, 11, 11, 11, 11, 11, 11, 11, 11, 11, 11, 11, 11, 11, 11, 11, 11,\n",
       "       11, 11, 11, 11, 11, 11, 11, 11, 11, 11, 11, 11, 11, 11, 11, 11, 11,\n",
       "       11, 11, 11, 11, 11, 11, 11, 11, 11, 11, 11, 11, 11, 11, 11, 11, 11,\n",
       "       11, 11, 11, 11, 11, 11, 11, 11, 11, 11, 11, 11, 11, 11, 11, 11, 11,\n",
       "       11, 11, 11, 11, 11, 11, 11, 11, 11, 11, 11, 11, 11, 11, 11, 11, 11,\n",
       "       11, 11, 11, 11, 11, 11, 11, 11, 11, 11, 11, 11, 11, 11, 11, 11, 11,\n",
       "       11])"
      ]
     },
     "execution_count": 100,
     "metadata": {},
     "output_type": "execute_result"
    }
   ],
   "source": [
    "result_list"
   ]
  },
  {
   "cell_type": "code",
   "execution_count": 100,
   "metadata": {
    "executionInfo": {
     "elapsed": 11,
     "status": "ok",
     "timestamp": 1645457110190,
     "user": {
      "displayName": "Yến Ngọc Vũ",
      "photoUrl": "https://lh3.googleusercontent.com/a-/AOh14Gi4wfCuo_NJT2C0JTe2p3mU-XITI80n8F0YvaxHpNI=s64",
      "userId": "00577626419227892200"
     },
     "user_tz": -420
    },
    "id": "zgQeGjb7JpKo"
   },
   "outputs": [],
   "source": []
  },
  {
   "cell_type": "markdown",
   "metadata": {
    "id": "iUafsICpJpKo"
   },
   "source": [
    "**Get token predict tag**"
   ]
  },
  {
   "cell_type": "code",
   "execution_count": 101,
   "metadata": {
    "colab": {
     "base_uri": "https://localhost:8080/"
    },
    "executionInfo": {
     "elapsed": 11,
     "status": "ok",
     "timestamp": 1645457110190,
     "user": {
      "displayName": "Yến Ngọc Vũ",
      "photoUrl": "https://lh3.googleusercontent.com/a-/AOh14Gi4wfCuo_NJT2C0JTe2p3mU-XITI80n8F0YvaxHpNI=s64",
      "userId": "00577626419227892200"
     },
     "user_tz": -420
    },
    "id": "lTONbKcOJpKo",
    "outputId": "2578b828-5dd9-42ad-f4e2-f13d993cd5bf"
   },
   "outputs": [
    {
     "name": "stdout",
     "output_type": "stream",
     "text": [
      "Token:[CLS]\n",
      "Predict_Tag:[CLS]\n",
      "\n",
      "Token:you\n",
      "Predict_Tag:O\n",
      "\n",
      "Token:can\n",
      "Predict_Tag:O\n",
      "\n",
      "Token:start\n",
      "Predict_Tag:O\n",
      "\n",
      "Token:creating\n",
      "Predict_Tag:O\n",
      "\n",
      "Token:your\n",
      "Predict_Tag:O\n",
      "\n",
      "Token:own\n",
      "Predict_Tag:O\n",
      "\n",
      "Token:data\n",
      "Predict_Tag:B-KNOW\n",
      "\n",
      "Token:science\n",
      "Predict_Tag:I-KNOW\n",
      "\n",
      "Token:projects\n",
      "Predict_Tag:O\n",
      "\n",
      "Token:and\n",
      "Predict_Tag:O\n",
      "\n",
      "Token:collaborating\n",
      "Predict_Tag:O\n",
      "\n",
      "Token:with\n",
      "Predict_Tag:O\n",
      "\n",
      "Token:other\n",
      "Predict_Tag:O\n",
      "\n",
      "Token:data\n",
      "Predict_Tag:O\n",
      "\n",
      "Token:scientists\n",
      "Predict_Tag:O\n",
      "\n",
      "Token:using\n",
      "Predict_Tag:O\n",
      "\n",
      "Token:ibm\n",
      "Predict_Tag:B-TOOL\n",
      "\n",
      "Token:watson\n",
      "Predict_Tag:I-TOOL\n",
      "\n",
      "Token:studio\n",
      "Predict_Tag:I-TOOL\n",
      "\n",
      "Token:.\n",
      "Predict_Tag:O\n",
      "\n",
      "Token:when\n",
      "Predict_Tag:O\n",
      "\n",
      "Token:you\n",
      "Predict_Tag:O\n",
      "\n",
      "Token:sign\n",
      "Predict_Tag:O\n",
      "\n",
      "Token:up\n",
      "Predict_Tag:O\n",
      "\n",
      "Token:,\n",
      "Predict_Tag:O\n",
      "\n",
      "Token:you\n",
      "Predict_Tag:O\n",
      "\n",
      "Token:will\n",
      "Predict_Tag:O\n",
      "\n",
      "Token:receive\n",
      "Predict_Tag:O\n",
      "\n",
      "Token:free\n",
      "Predict_Tag:O\n",
      "\n",
      "Token:access\n",
      "Predict_Tag:O\n",
      "\n",
      "Token:to\n",
      "Predict_Tag:O\n",
      "\n",
      "Token:watson\n",
      "Predict_Tag:B-TOOL\n",
      "\n",
      "Token:studio\n",
      "Predict_Tag:I-TOOL\n",
      "\n",
      "Token:.\n",
      "Predict_Tag:O\n",
      "\n",
      "Token:start\n",
      "Predict_Tag:O\n",
      "\n",
      "Token:now\n",
      "Predict_Tag:O\n",
      "\n",
      "Token:and\n",
      "Predict_Tag:O\n",
      "\n",
      "Token:take\n",
      "Predict_Tag:O\n",
      "\n",
      "Token:advantage\n",
      "Predict_Tag:O\n",
      "\n",
      "Token:of\n",
      "Predict_Tag:O\n",
      "\n",
      "Token:this\n",
      "Predict_Tag:O\n",
      "\n",
      "Token:platform\n",
      "Predict_Tag:O\n",
      "\n",
      "Token:and\n",
      "Predict_Tag:O\n",
      "\n",
      "Token:learn\n",
      "Predict_Tag:O\n",
      "\n",
      "Token:the\n",
      "Predict_Tag:O\n",
      "\n",
      "Token:basics\n",
      "Predict_Tag:O\n",
      "\n",
      "Token:of\n",
      "Predict_Tag:O\n",
      "\n",
      "Token:programming\n",
      "Predict_Tag:B-KNOW\n",
      "\n",
      "Token:,\n",
      "Predict_Tag:O\n",
      "\n",
      "Token:machine\n",
      "Predict_Tag:B-KNOW\n",
      "\n",
      "Token:learning\n",
      "Predict_Tag:I-KNOW\n",
      "\n",
      "Token:,\n",
      "Predict_Tag:O\n",
      "\n",
      "Token:and\n",
      "Predict_Tag:O\n",
      "\n",
      "Token:data\n",
      "Predict_Tag:B-KNOW\n",
      "\n",
      "Token:visual\n",
      "Predict_Tag:I-KNOW\n",
      "\n",
      "Token:##ization\n",
      "Predict_Tag:I-KNOW\n",
      "\n",
      "Token:with\n",
      "Predict_Tag:O\n",
      "\n",
      "Token:this\n",
      "Predict_Tag:O\n",
      "\n",
      "Token:introductory\n",
      "Predict_Tag:O\n",
      "\n",
      "Token:course\n",
      "Predict_Tag:O\n",
      "\n",
      "Token:.\n",
      "Predict_Tag:O\n",
      "\n",
      "Token:[SEP]\n",
      "Predict_Tag:[SEP]\n",
      "\n"
     ]
    }
   ],
   "source": [
    "for i, mark in enumerate(attention_masks[0]):\n",
    "    if mark>0:\n",
    "        print(\"Token:%s\"%(temp_token[i]))\n",
    "#         print(\"Tag:%s\"%(result_list[i]))\n",
    "        print(\"Predict_Tag:%s\"%(tag2name[result_list[i]]))\n",
    "        #print(\"Posibility:%f\"%(result_array[i][result_list[i]]))\n",
    "        print()"
   ]
  },
  {
   "cell_type": "code",
   "execution_count": 101,
   "metadata": {
    "executionInfo": {
     "elapsed": 5,
     "status": "ok",
     "timestamp": 1645457110190,
     "user": {
      "displayName": "Yến Ngọc Vũ",
      "photoUrl": "https://lh3.googleusercontent.com/a-/AOh14Gi4wfCuo_NJT2C0JTe2p3mU-XITI80n8F0YvaxHpNI=s64",
      "userId": "00577626419227892200"
     },
     "user_tz": -420
    },
    "id": "PS-aH0NAJpKo"
   },
   "outputs": [],
   "source": []
  }
 ],
 "metadata": {
  "accelerator": "GPU",
  "colab": {
   "collapsed_sections": [],
   "name": "NER_with_BERT.ipynb",
   "provenance": []
  },
  "kernelspec": {
   "display_name": "Python 3 (ipykernel)",
   "language": "python",
   "name": "python3"
  },
  "language_info": {
   "codemirror_mode": {
    "name": "ipython",
    "version": 3
   },
   "file_extension": ".py",
   "mimetype": "text/x-python",
   "name": "python",
   "nbconvert_exporter": "python",
   "pygments_lexer": "ipython3",
   "version": "3.9.12"
  },
  "widgets": {
   "application/vnd.jupyter.widget-state+json": {
    "029eeacf28434aa0907faef7dd26ab2d": {
     "model_module": "@jupyter-widgets/base",
     "model_module_version": "1.2.0",
     "model_name": "LayoutModel",
     "state": {
      "_model_module": "@jupyter-widgets/base",
      "_model_module_version": "1.2.0",
      "_model_name": "LayoutModel",
      "_view_count": null,
      "_view_module": "@jupyter-widgets/base",
      "_view_module_version": "1.2.0",
      "_view_name": "LayoutView",
      "align_content": null,
      "align_items": null,
      "align_self": null,
      "border": null,
      "bottom": null,
      "display": null,
      "flex": null,
      "flex_flow": null,
      "grid_area": null,
      "grid_auto_columns": null,
      "grid_auto_flow": null,
      "grid_auto_rows": null,
      "grid_column": null,
      "grid_gap": null,
      "grid_row": null,
      "grid_template_areas": null,
      "grid_template_columns": null,
      "grid_template_rows": null,
      "height": null,
      "justify_content": null,
      "justify_items": null,
      "left": null,
      "margin": null,
      "max_height": null,
      "max_width": null,
      "min_height": null,
      "min_width": null,
      "object_fit": null,
      "object_position": null,
      "order": null,
      "overflow": null,
      "overflow_x": null,
      "overflow_y": null,
      "padding": null,
      "right": null,
      "top": null,
      "visibility": null,
      "width": null
     }
    },
    "110b09e0cfaf4a1fa85cbde19d2d61a1": {
     "model_module": "@jupyter-widgets/controls",
     "model_module_version": "1.5.0",
     "model_name": "DescriptionStyleModel",
     "state": {
      "_model_module": "@jupyter-widgets/controls",
      "_model_module_version": "1.5.0",
      "_model_name": "DescriptionStyleModel",
      "_view_count": null,
      "_view_module": "@jupyter-widgets/base",
      "_view_module_version": "1.2.0",
      "_view_name": "StyleView",
      "description_width": ""
     }
    },
    "14549aee36ae45a4b6eb2c733bd52ad7": {
     "model_module": "@jupyter-widgets/base",
     "model_module_version": "1.2.0",
     "model_name": "LayoutModel",
     "state": {
      "_model_module": "@jupyter-widgets/base",
      "_model_module_version": "1.2.0",
      "_model_name": "LayoutModel",
      "_view_count": null,
      "_view_module": "@jupyter-widgets/base",
      "_view_module_version": "1.2.0",
      "_view_name": "LayoutView",
      "align_content": null,
      "align_items": null,
      "align_self": null,
      "border": null,
      "bottom": null,
      "display": null,
      "flex": null,
      "flex_flow": null,
      "grid_area": null,
      "grid_auto_columns": null,
      "grid_auto_flow": null,
      "grid_auto_rows": null,
      "grid_column": null,
      "grid_gap": null,
      "grid_row": null,
      "grid_template_areas": null,
      "grid_template_columns": null,
      "grid_template_rows": null,
      "height": null,
      "justify_content": null,
      "justify_items": null,
      "left": null,
      "margin": null,
      "max_height": null,
      "max_width": null,
      "min_height": null,
      "min_width": null,
      "object_fit": null,
      "object_position": null,
      "order": null,
      "overflow": null,
      "overflow_x": null,
      "overflow_y": null,
      "padding": null,
      "right": null,
      "top": null,
      "visibility": null,
      "width": null
     }
    },
    "186e82afec9c4f699d4bb9f9af6d0bcd": {
     "model_module": "@jupyter-widgets/base",
     "model_module_version": "1.2.0",
     "model_name": "LayoutModel",
     "state": {
      "_model_module": "@jupyter-widgets/base",
      "_model_module_version": "1.2.0",
      "_model_name": "LayoutModel",
      "_view_count": null,
      "_view_module": "@jupyter-widgets/base",
      "_view_module_version": "1.2.0",
      "_view_name": "LayoutView",
      "align_content": null,
      "align_items": null,
      "align_self": null,
      "border": null,
      "bottom": null,
      "display": null,
      "flex": null,
      "flex_flow": null,
      "grid_area": null,
      "grid_auto_columns": null,
      "grid_auto_flow": null,
      "grid_auto_rows": null,
      "grid_column": null,
      "grid_gap": null,
      "grid_row": null,
      "grid_template_areas": null,
      "grid_template_columns": null,
      "grid_template_rows": null,
      "height": null,
      "justify_content": null,
      "justify_items": null,
      "left": null,
      "margin": null,
      "max_height": null,
      "max_width": null,
      "min_height": null,
      "min_width": null,
      "object_fit": null,
      "object_position": null,
      "order": null,
      "overflow": null,
      "overflow_x": null,
      "overflow_y": null,
      "padding": null,
      "right": null,
      "top": null,
      "visibility": null,
      "width": null
     }
    },
    "1a2093ddd3f7427590f93cc7fb7f1870": {
     "model_module": "@jupyter-widgets/base",
     "model_module_version": "1.2.0",
     "model_name": "LayoutModel",
     "state": {
      "_model_module": "@jupyter-widgets/base",
      "_model_module_version": "1.2.0",
      "_model_name": "LayoutModel",
      "_view_count": null,
      "_view_module": "@jupyter-widgets/base",
      "_view_module_version": "1.2.0",
      "_view_name": "LayoutView",
      "align_content": null,
      "align_items": null,
      "align_self": null,
      "border": null,
      "bottom": null,
      "display": null,
      "flex": null,
      "flex_flow": null,
      "grid_area": null,
      "grid_auto_columns": null,
      "grid_auto_flow": null,
      "grid_auto_rows": null,
      "grid_column": null,
      "grid_gap": null,
      "grid_row": null,
      "grid_template_areas": null,
      "grid_template_columns": null,
      "grid_template_rows": null,
      "height": null,
      "justify_content": null,
      "justify_items": null,
      "left": null,
      "margin": null,
      "max_height": null,
      "max_width": null,
      "min_height": null,
      "min_width": null,
      "object_fit": null,
      "object_position": null,
      "order": null,
      "overflow": null,
      "overflow_x": null,
      "overflow_y": null,
      "padding": null,
      "right": null,
      "top": null,
      "visibility": null,
      "width": null
     }
    },
    "1b42549d4d6241cd84835b7b7925ba5e": {
     "model_module": "@jupyter-widgets/controls",
     "model_module_version": "1.5.0",
     "model_name": "DescriptionStyleModel",
     "state": {
      "_model_module": "@jupyter-widgets/controls",
      "_model_module_version": "1.5.0",
      "_model_name": "DescriptionStyleModel",
      "_view_count": null,
      "_view_module": "@jupyter-widgets/base",
      "_view_module_version": "1.2.0",
      "_view_name": "StyleView",
      "description_width": ""
     }
    },
    "1ebf58895106414197068a2ae92b1924": {
     "model_module": "@jupyter-widgets/controls",
     "model_module_version": "1.5.0",
     "model_name": "FloatProgressModel",
     "state": {
      "_dom_classes": [],
      "_model_module": "@jupyter-widgets/controls",
      "_model_module_version": "1.5.0",
      "_model_name": "FloatProgressModel",
      "_view_count": null,
      "_view_module": "@jupyter-widgets/controls",
      "_view_module_version": "1.5.0",
      "_view_name": "ProgressView",
      "bar_style": "success",
      "description": "",
      "description_tooltip": null,
      "layout": "IPY_MODEL_ce85e3f39e5f48b1bbe2c09128e4acb9",
      "max": 570,
      "min": 0,
      "orientation": "horizontal",
      "style": "IPY_MODEL_f24421806b464e96bd9a2d49dc9ae5fe",
      "value": 570
     }
    },
    "258f6a653fb04160ab4f1a42049d21ca": {
     "model_module": "@jupyter-widgets/base",
     "model_module_version": "1.2.0",
     "model_name": "LayoutModel",
     "state": {
      "_model_module": "@jupyter-widgets/base",
      "_model_module_version": "1.2.0",
      "_model_name": "LayoutModel",
      "_view_count": null,
      "_view_module": "@jupyter-widgets/base",
      "_view_module_version": "1.2.0",
      "_view_name": "LayoutView",
      "align_content": null,
      "align_items": null,
      "align_self": null,
      "border": null,
      "bottom": null,
      "display": null,
      "flex": null,
      "flex_flow": null,
      "grid_area": null,
      "grid_auto_columns": null,
      "grid_auto_flow": null,
      "grid_auto_rows": null,
      "grid_column": null,
      "grid_gap": null,
      "grid_row": null,
      "grid_template_areas": null,
      "grid_template_columns": null,
      "grid_template_rows": null,
      "height": null,
      "justify_content": null,
      "justify_items": null,
      "left": null,
      "margin": null,
      "max_height": null,
      "max_width": null,
      "min_height": null,
      "min_width": null,
      "object_fit": null,
      "object_position": null,
      "order": null,
      "overflow": null,
      "overflow_x": null,
      "overflow_y": null,
      "padding": null,
      "right": null,
      "top": null,
      "visibility": null,
      "width": null
     }
    },
    "25fad6ac19444145aa3e5a0e19047ad4": {
     "model_module": "@jupyter-widgets/controls",
     "model_module_version": "1.5.0",
     "model_name": "FloatProgressModel",
     "state": {
      "_dom_classes": [],
      "_model_module": "@jupyter-widgets/controls",
      "_model_module_version": "1.5.0",
      "_model_name": "FloatProgressModel",
      "_view_count": null,
      "_view_module": "@jupyter-widgets/controls",
      "_view_module_version": "1.5.0",
      "_view_name": "ProgressView",
      "bar_style": "success",
      "description": "",
      "description_tooltip": null,
      "layout": "IPY_MODEL_14549aee36ae45a4b6eb2c733bd52ad7",
      "max": 440473133,
      "min": 0,
      "orientation": "horizontal",
      "style": "IPY_MODEL_bdb1eec8f01e402c9092a0cc0d3b5be6",
      "value": 440473133
     }
    },
    "26bda47c2228448b949d235a49b9eb6d": {
     "model_module": "@jupyter-widgets/controls",
     "model_module_version": "1.5.0",
     "model_name": "HTMLModel",
     "state": {
      "_dom_classes": [],
      "_model_module": "@jupyter-widgets/controls",
      "_model_module_version": "1.5.0",
      "_model_name": "HTMLModel",
      "_view_count": null,
      "_view_module": "@jupyter-widgets/controls",
      "_view_module_version": "1.5.0",
      "_view_name": "HTMLView",
      "description": "",
      "description_tooltip": null,
      "layout": "IPY_MODEL_1a2093ddd3f7427590f93cc7fb7f1870",
      "placeholder": "​",
      "style": "IPY_MODEL_387be6384104460e97dc6a39a69ae52c",
      "value": "Downloading: 100%"
     }
    },
    "2b589bdd5fb54dd197f1b6e7f9db1ade": {
     "model_module": "@jupyter-widgets/controls",
     "model_module_version": "1.5.0",
     "model_name": "HBoxModel",
     "state": {
      "_dom_classes": [],
      "_model_module": "@jupyter-widgets/controls",
      "_model_module_version": "1.5.0",
      "_model_name": "HBoxModel",
      "_view_count": null,
      "_view_module": "@jupyter-widgets/controls",
      "_view_module_version": "1.5.0",
      "_view_name": "HBoxView",
      "box_style": "",
      "children": [
       "IPY_MODEL_576015cb14f64edaaed186fd45c3182f",
       "IPY_MODEL_1ebf58895106414197068a2ae92b1924",
       "IPY_MODEL_803d7fedce284de3a558d71f3d9b2503"
      ],
      "layout": "IPY_MODEL_5b25f3628f034086bcc25bc29c92dc6d"
     }
    },
    "2c72765e66834863bd2697559e6d7559": {
     "model_module": "@jupyter-widgets/controls",
     "model_module_version": "1.5.0",
     "model_name": "HTMLModel",
     "state": {
      "_dom_classes": [],
      "_model_module": "@jupyter-widgets/controls",
      "_model_module_version": "1.5.0",
      "_model_name": "HTMLModel",
      "_view_count": null,
      "_view_module": "@jupyter-widgets/controls",
      "_view_module_version": "1.5.0",
      "_view_name": "HTMLView",
      "description": "",
      "description_tooltip": null,
      "layout": "IPY_MODEL_2d2b6a470c114aeaa22a6ac0f397c1a6",
      "placeholder": "​",
      "style": "IPY_MODEL_e808681e41ec4001b00959ad5806856e",
      "value": " 420M/420M [00:14&lt;00:00, 31.4MB/s]"
     }
    },
    "2d2b6a470c114aeaa22a6ac0f397c1a6": {
     "model_module": "@jupyter-widgets/base",
     "model_module_version": "1.2.0",
     "model_name": "LayoutModel",
     "state": {
      "_model_module": "@jupyter-widgets/base",
      "_model_module_version": "1.2.0",
      "_model_name": "LayoutModel",
      "_view_count": null,
      "_view_module": "@jupyter-widgets/base",
      "_view_module_version": "1.2.0",
      "_view_name": "LayoutView",
      "align_content": null,
      "align_items": null,
      "align_self": null,
      "border": null,
      "bottom": null,
      "display": null,
      "flex": null,
      "flex_flow": null,
      "grid_area": null,
      "grid_auto_columns": null,
      "grid_auto_flow": null,
      "grid_auto_rows": null,
      "grid_column": null,
      "grid_gap": null,
      "grid_row": null,
      "grid_template_areas": null,
      "grid_template_columns": null,
      "grid_template_rows": null,
      "height": null,
      "justify_content": null,
      "justify_items": null,
      "left": null,
      "margin": null,
      "max_height": null,
      "max_width": null,
      "min_height": null,
      "min_width": null,
      "object_fit": null,
      "object_position": null,
      "order": null,
      "overflow": null,
      "overflow_x": null,
      "overflow_y": null,
      "padding": null,
      "right": null,
      "top": null,
      "visibility": null,
      "width": null
     }
    },
    "2dd9f62e815f4ef79c6a2ba5e4a1a14a": {
     "model_module": "@jupyter-widgets/base",
     "model_module_version": "1.2.0",
     "model_name": "LayoutModel",
     "state": {
      "_model_module": "@jupyter-widgets/base",
      "_model_module_version": "1.2.0",
      "_model_name": "LayoutModel",
      "_view_count": null,
      "_view_module": "@jupyter-widgets/base",
      "_view_module_version": "1.2.0",
      "_view_name": "LayoutView",
      "align_content": null,
      "align_items": null,
      "align_self": null,
      "border": null,
      "bottom": null,
      "display": null,
      "flex": null,
      "flex_flow": null,
      "grid_area": null,
      "grid_auto_columns": null,
      "grid_auto_flow": null,
      "grid_auto_rows": null,
      "grid_column": null,
      "grid_gap": null,
      "grid_row": null,
      "grid_template_areas": null,
      "grid_template_columns": null,
      "grid_template_rows": null,
      "height": null,
      "justify_content": null,
      "justify_items": null,
      "left": null,
      "margin": null,
      "max_height": null,
      "max_width": null,
      "min_height": null,
      "min_width": null,
      "object_fit": null,
      "object_position": null,
      "order": null,
      "overflow": null,
      "overflow_x": null,
      "overflow_y": null,
      "padding": null,
      "right": null,
      "top": null,
      "visibility": null,
      "width": null
     }
    },
    "387be6384104460e97dc6a39a69ae52c": {
     "model_module": "@jupyter-widgets/controls",
     "model_module_version": "1.5.0",
     "model_name": "DescriptionStyleModel",
     "state": {
      "_model_module": "@jupyter-widgets/controls",
      "_model_module_version": "1.5.0",
      "_model_name": "DescriptionStyleModel",
      "_view_count": null,
      "_view_module": "@jupyter-widgets/base",
      "_view_module_version": "1.2.0",
      "_view_name": "StyleView",
      "description_width": ""
     }
    },
    "3deff3116bab45e19d10096f7f4527f9": {
     "model_module": "@jupyter-widgets/controls",
     "model_module_version": "1.5.0",
     "model_name": "ProgressStyleModel",
     "state": {
      "_model_module": "@jupyter-widgets/controls",
      "_model_module_version": "1.5.0",
      "_model_name": "ProgressStyleModel",
      "_view_count": null,
      "_view_module": "@jupyter-widgets/base",
      "_view_module_version": "1.2.0",
      "_view_name": "StyleView",
      "bar_color": null,
      "description_width": ""
     }
    },
    "3f04e93f8dd34afd8b4110bec1989065": {
     "model_module": "@jupyter-widgets/controls",
     "model_module_version": "1.5.0",
     "model_name": "DescriptionStyleModel",
     "state": {
      "_model_module": "@jupyter-widgets/controls",
      "_model_module_version": "1.5.0",
      "_model_name": "DescriptionStyleModel",
      "_view_count": null,
      "_view_module": "@jupyter-widgets/base",
      "_view_module_version": "1.2.0",
      "_view_name": "StyleView",
      "description_width": ""
     }
    },
    "40330176b9054101b9eb328c2792d4fb": {
     "model_module": "@jupyter-widgets/base",
     "model_module_version": "1.2.0",
     "model_name": "LayoutModel",
     "state": {
      "_model_module": "@jupyter-widgets/base",
      "_model_module_version": "1.2.0",
      "_model_name": "LayoutModel",
      "_view_count": null,
      "_view_module": "@jupyter-widgets/base",
      "_view_module_version": "1.2.0",
      "_view_name": "LayoutView",
      "align_content": null,
      "align_items": null,
      "align_self": null,
      "border": null,
      "bottom": null,
      "display": null,
      "flex": null,
      "flex_flow": null,
      "grid_area": null,
      "grid_auto_columns": null,
      "grid_auto_flow": null,
      "grid_auto_rows": null,
      "grid_column": null,
      "grid_gap": null,
      "grid_row": null,
      "grid_template_areas": null,
      "grid_template_columns": null,
      "grid_template_rows": null,
      "height": null,
      "justify_content": null,
      "justify_items": null,
      "left": null,
      "margin": null,
      "max_height": null,
      "max_width": null,
      "min_height": null,
      "min_width": null,
      "object_fit": null,
      "object_position": null,
      "order": null,
      "overflow": null,
      "overflow_x": null,
      "overflow_y": null,
      "padding": null,
      "right": null,
      "top": null,
      "visibility": null,
      "width": null
     }
    },
    "44484c530546490a8d7cb7003eab675f": {
     "model_module": "@jupyter-widgets/base",
     "model_module_version": "1.2.0",
     "model_name": "LayoutModel",
     "state": {
      "_model_module": "@jupyter-widgets/base",
      "_model_module_version": "1.2.0",
      "_model_name": "LayoutModel",
      "_view_count": null,
      "_view_module": "@jupyter-widgets/base",
      "_view_module_version": "1.2.0",
      "_view_name": "LayoutView",
      "align_content": null,
      "align_items": null,
      "align_self": null,
      "border": null,
      "bottom": null,
      "display": null,
      "flex": null,
      "flex_flow": null,
      "grid_area": null,
      "grid_auto_columns": null,
      "grid_auto_flow": null,
      "grid_auto_rows": null,
      "grid_column": null,
      "grid_gap": null,
      "grid_row": null,
      "grid_template_areas": null,
      "grid_template_columns": null,
      "grid_template_rows": null,
      "height": null,
      "justify_content": null,
      "justify_items": null,
      "left": null,
      "margin": null,
      "max_height": null,
      "max_width": null,
      "min_height": null,
      "min_width": null,
      "object_fit": null,
      "object_position": null,
      "order": null,
      "overflow": null,
      "overflow_x": null,
      "overflow_y": null,
      "padding": null,
      "right": null,
      "top": null,
      "visibility": null,
      "width": null
     }
    },
    "46366b764ee5485bb6c7f4a49c3197e1": {
     "model_module": "@jupyter-widgets/base",
     "model_module_version": "1.2.0",
     "model_name": "LayoutModel",
     "state": {
      "_model_module": "@jupyter-widgets/base",
      "_model_module_version": "1.2.0",
      "_model_name": "LayoutModel",
      "_view_count": null,
      "_view_module": "@jupyter-widgets/base",
      "_view_module_version": "1.2.0",
      "_view_name": "LayoutView",
      "align_content": null,
      "align_items": null,
      "align_self": null,
      "border": null,
      "bottom": null,
      "display": null,
      "flex": null,
      "flex_flow": null,
      "grid_area": null,
      "grid_auto_columns": null,
      "grid_auto_flow": null,
      "grid_auto_rows": null,
      "grid_column": null,
      "grid_gap": null,
      "grid_row": null,
      "grid_template_areas": null,
      "grid_template_columns": null,
      "grid_template_rows": null,
      "height": null,
      "justify_content": null,
      "justify_items": null,
      "left": null,
      "margin": null,
      "max_height": null,
      "max_width": null,
      "min_height": null,
      "min_width": null,
      "object_fit": null,
      "object_position": null,
      "order": null,
      "overflow": null,
      "overflow_x": null,
      "overflow_y": null,
      "padding": null,
      "right": null,
      "top": null,
      "visibility": null,
      "width": null
     }
    },
    "4f4e03d33214404ba2cc7bc85cf7550e": {
     "model_module": "@jupyter-widgets/controls",
     "model_module_version": "1.5.0",
     "model_name": "ProgressStyleModel",
     "state": {
      "_model_module": "@jupyter-widgets/controls",
      "_model_module_version": "1.5.0",
      "_model_name": "ProgressStyleModel",
      "_view_count": null,
      "_view_module": "@jupyter-widgets/base",
      "_view_module_version": "1.2.0",
      "_view_name": "StyleView",
      "bar_color": null,
      "description_width": ""
     }
    },
    "52b51373de8c47f9bb2bd5fdbe5a35f9": {
     "model_module": "@jupyter-widgets/controls",
     "model_module_version": "1.5.0",
     "model_name": "FloatProgressModel",
     "state": {
      "_dom_classes": [],
      "_model_module": "@jupyter-widgets/controls",
      "_model_module_version": "1.5.0",
      "_model_name": "FloatProgressModel",
      "_view_count": null,
      "_view_module": "@jupyter-widgets/controls",
      "_view_module_version": "1.5.0",
      "_view_name": "ProgressView",
      "bar_style": "success",
      "description": "",
      "description_tooltip": null,
      "layout": "IPY_MODEL_186e82afec9c4f699d4bb9f9af6d0bcd",
      "max": 28,
      "min": 0,
      "orientation": "horizontal",
      "style": "IPY_MODEL_3deff3116bab45e19d10096f7f4527f9",
      "value": 28
     }
    },
    "576015cb14f64edaaed186fd45c3182f": {
     "model_module": "@jupyter-widgets/controls",
     "model_module_version": "1.5.0",
     "model_name": "HTMLModel",
     "state": {
      "_dom_classes": [],
      "_model_module": "@jupyter-widgets/controls",
      "_model_module_version": "1.5.0",
      "_model_name": "HTMLModel",
      "_view_count": null,
      "_view_module": "@jupyter-widgets/controls",
      "_view_module_version": "1.5.0",
      "_view_name": "HTMLView",
      "description": "",
      "description_tooltip": null,
      "layout": "IPY_MODEL_029eeacf28434aa0907faef7dd26ab2d",
      "placeholder": "​",
      "style": "IPY_MODEL_110b09e0cfaf4a1fa85cbde19d2d61a1",
      "value": "Downloading: 100%"
     }
    },
    "58f64cd56a8745b89a2cb9255cf9361a": {
     "model_module": "@jupyter-widgets/base",
     "model_module_version": "1.2.0",
     "model_name": "LayoutModel",
     "state": {
      "_model_module": "@jupyter-widgets/base",
      "_model_module_version": "1.2.0",
      "_model_name": "LayoutModel",
      "_view_count": null,
      "_view_module": "@jupyter-widgets/base",
      "_view_module_version": "1.2.0",
      "_view_name": "LayoutView",
      "align_content": null,
      "align_items": null,
      "align_self": null,
      "border": null,
      "bottom": null,
      "display": null,
      "flex": null,
      "flex_flow": null,
      "grid_area": null,
      "grid_auto_columns": null,
      "grid_auto_flow": null,
      "grid_auto_rows": null,
      "grid_column": null,
      "grid_gap": null,
      "grid_row": null,
      "grid_template_areas": null,
      "grid_template_columns": null,
      "grid_template_rows": null,
      "height": null,
      "justify_content": null,
      "justify_items": null,
      "left": null,
      "margin": null,
      "max_height": null,
      "max_width": null,
      "min_height": null,
      "min_width": null,
      "object_fit": null,
      "object_position": null,
      "order": null,
      "overflow": null,
      "overflow_x": null,
      "overflow_y": null,
      "padding": null,
      "right": null,
      "top": null,
      "visibility": null,
      "width": null
     }
    },
    "5b25f3628f034086bcc25bc29c92dc6d": {
     "model_module": "@jupyter-widgets/base",
     "model_module_version": "1.2.0",
     "model_name": "LayoutModel",
     "state": {
      "_model_module": "@jupyter-widgets/base",
      "_model_module_version": "1.2.0",
      "_model_name": "LayoutModel",
      "_view_count": null,
      "_view_module": "@jupyter-widgets/base",
      "_view_module_version": "1.2.0",
      "_view_name": "LayoutView",
      "align_content": null,
      "align_items": null,
      "align_self": null,
      "border": null,
      "bottom": null,
      "display": null,
      "flex": null,
      "flex_flow": null,
      "grid_area": null,
      "grid_auto_columns": null,
      "grid_auto_flow": null,
      "grid_auto_rows": null,
      "grid_column": null,
      "grid_gap": null,
      "grid_row": null,
      "grid_template_areas": null,
      "grid_template_columns": null,
      "grid_template_rows": null,
      "height": null,
      "justify_content": null,
      "justify_items": null,
      "left": null,
      "margin": null,
      "max_height": null,
      "max_width": null,
      "min_height": null,
      "min_width": null,
      "object_fit": null,
      "object_position": null,
      "order": null,
      "overflow": null,
      "overflow_x": null,
      "overflow_y": null,
      "padding": null,
      "right": null,
      "top": null,
      "visibility": null,
      "width": null
     }
    },
    "5d4e1e61a2da4607a1e9485be34ea786": {
     "model_module": "@jupyter-widgets/controls",
     "model_module_version": "1.5.0",
     "model_name": "HBoxModel",
     "state": {
      "_dom_classes": [],
      "_model_module": "@jupyter-widgets/controls",
      "_model_module_version": "1.5.0",
      "_model_name": "HBoxModel",
      "_view_count": null,
      "_view_module": "@jupyter-widgets/controls",
      "_view_module_version": "1.5.0",
      "_view_name": "HBoxView",
      "box_style": "",
      "children": [
       "IPY_MODEL_bf4a8a1aa1424e4fa97b4c4749a62c30",
       "IPY_MODEL_52b51373de8c47f9bb2bd5fdbe5a35f9",
       "IPY_MODEL_ab2f04bd2e0743baa4b0eb7247c03cc7"
      ],
      "layout": "IPY_MODEL_40330176b9054101b9eb328c2792d4fb"
     }
    },
    "727490b7c3364e9c85bc3f222f99d2e0": {
     "model_module": "@jupyter-widgets/controls",
     "model_module_version": "1.5.0",
     "model_name": "HTMLModel",
     "state": {
      "_dom_classes": [],
      "_model_module": "@jupyter-widgets/controls",
      "_model_module_version": "1.5.0",
      "_model_name": "HTMLModel",
      "_view_count": null,
      "_view_module": "@jupyter-widgets/controls",
      "_view_module_version": "1.5.0",
      "_view_name": "HTMLView",
      "description": "",
      "description_tooltip": null,
      "layout": "IPY_MODEL_2dd9f62e815f4ef79c6a2ba5e4a1a14a",
      "placeholder": "​",
      "style": "IPY_MODEL_a04c386a88da41ffada570fe53ca85c5",
      "value": " 455k/455k [00:00&lt;00:00, 1.11MB/s]"
     }
    },
    "756f5170f5b94d6090a831a623e3ff14": {
     "model_module": "@jupyter-widgets/controls",
     "model_module_version": "1.5.0",
     "model_name": "DescriptionStyleModel",
     "state": {
      "_model_module": "@jupyter-widgets/controls",
      "_model_module_version": "1.5.0",
      "_model_name": "DescriptionStyleModel",
      "_view_count": null,
      "_view_module": "@jupyter-widgets/base",
      "_view_module_version": "1.2.0",
      "_view_name": "StyleView",
      "description_width": ""
     }
    },
    "77f260e9c60e4e84b7244259839925d9": {
     "model_module": "@jupyter-widgets/controls",
     "model_module_version": "1.5.0",
     "model_name": "HBoxModel",
     "state": {
      "_dom_classes": [],
      "_model_module": "@jupyter-widgets/controls",
      "_model_module_version": "1.5.0",
      "_model_name": "HBoxModel",
      "_view_count": null,
      "_view_module": "@jupyter-widgets/controls",
      "_view_module_version": "1.5.0",
      "_view_name": "HBoxView",
      "box_style": "",
      "children": [
       "IPY_MODEL_ca65b267f64045d18495ca03e98d4d91",
       "IPY_MODEL_7a278ae1f8874bcb861759d92dba8a22",
       "IPY_MODEL_a210b5c4e6d54290b2a30e18bad23fce"
      ],
      "layout": "IPY_MODEL_e2125f13f0b747e59e591b5ce7a7c95f"
     }
    },
    "7935a7b9e6ed4b90b6deb47421aecf9b": {
     "model_module": "@jupyter-widgets/controls",
     "model_module_version": "1.5.0",
     "model_name": "FloatProgressModel",
     "state": {
      "_dom_classes": [],
      "_model_module": "@jupyter-widgets/controls",
      "_model_module_version": "1.5.0",
      "_model_name": "FloatProgressModel",
      "_view_count": null,
      "_view_module": "@jupyter-widgets/controls",
      "_view_module_version": "1.5.0",
      "_view_name": "ProgressView",
      "bar_style": "success",
      "description": "",
      "description_tooltip": null,
      "layout": "IPY_MODEL_46366b764ee5485bb6c7f4a49c3197e1",
      "max": 466062,
      "min": 0,
      "orientation": "horizontal",
      "style": "IPY_MODEL_4f4e03d33214404ba2cc7bc85cf7550e",
      "value": 466062
     }
    },
    "7a278ae1f8874bcb861759d92dba8a22": {
     "model_module": "@jupyter-widgets/controls",
     "model_module_version": "1.5.0",
     "model_name": "FloatProgressModel",
     "state": {
      "_dom_classes": [],
      "_model_module": "@jupyter-widgets/controls",
      "_model_module_version": "1.5.0",
      "_model_name": "FloatProgressModel",
      "_view_count": null,
      "_view_module": "@jupyter-widgets/controls",
      "_view_module_version": "1.5.0",
      "_view_name": "ProgressView",
      "bar_style": "success",
      "description": "",
      "description_tooltip": null,
      "layout": "IPY_MODEL_58f64cd56a8745b89a2cb9255cf9361a",
      "max": 231508,
      "min": 0,
      "orientation": "horizontal",
      "style": "IPY_MODEL_d6c7579cf26046b2b13e78b43142cb52",
      "value": 231508
     }
    },
    "7b899fd968894c6baf2217940db866cf": {
     "model_module": "@jupyter-widgets/base",
     "model_module_version": "1.2.0",
     "model_name": "LayoutModel",
     "state": {
      "_model_module": "@jupyter-widgets/base",
      "_model_module_version": "1.2.0",
      "_model_name": "LayoutModel",
      "_view_count": null,
      "_view_module": "@jupyter-widgets/base",
      "_view_module_version": "1.2.0",
      "_view_name": "LayoutView",
      "align_content": null,
      "align_items": null,
      "align_self": null,
      "border": null,
      "bottom": null,
      "display": null,
      "flex": null,
      "flex_flow": null,
      "grid_area": null,
      "grid_auto_columns": null,
      "grid_auto_flow": null,
      "grid_auto_rows": null,
      "grid_column": null,
      "grid_gap": null,
      "grid_row": null,
      "grid_template_areas": null,
      "grid_template_columns": null,
      "grid_template_rows": null,
      "height": null,
      "justify_content": null,
      "justify_items": null,
      "left": null,
      "margin": null,
      "max_height": null,
      "max_width": null,
      "min_height": null,
      "min_width": null,
      "object_fit": null,
      "object_position": null,
      "order": null,
      "overflow": null,
      "overflow_x": null,
      "overflow_y": null,
      "padding": null,
      "right": null,
      "top": null,
      "visibility": null,
      "width": null
     }
    },
    "7e4741b82a554e72a62d4d6420e610e5": {
     "model_module": "@jupyter-widgets/controls",
     "model_module_version": "1.5.0",
     "model_name": "HTMLModel",
     "state": {
      "_dom_classes": [],
      "_model_module": "@jupyter-widgets/controls",
      "_model_module_version": "1.5.0",
      "_model_name": "HTMLModel",
      "_view_count": null,
      "_view_module": "@jupyter-widgets/controls",
      "_view_module_version": "1.5.0",
      "_view_name": "HTMLView",
      "description": "",
      "description_tooltip": null,
      "layout": "IPY_MODEL_895bfcb698814ec7936093189d1c6eef",
      "placeholder": "​",
      "style": "IPY_MODEL_1b42549d4d6241cd84835b7b7925ba5e",
      "value": "Downloading: 100%"
     }
    },
    "803d7fedce284de3a558d71f3d9b2503": {
     "model_module": "@jupyter-widgets/controls",
     "model_module_version": "1.5.0",
     "model_name": "HTMLModel",
     "state": {
      "_dom_classes": [],
      "_model_module": "@jupyter-widgets/controls",
      "_model_module_version": "1.5.0",
      "_model_name": "HTMLModel",
      "_view_count": null,
      "_view_module": "@jupyter-widgets/controls",
      "_view_module_version": "1.5.0",
      "_view_name": "HTMLView",
      "description": "",
      "description_tooltip": null,
      "layout": "IPY_MODEL_b1e96629699340d695c1bace0919965e",
      "placeholder": "​",
      "style": "IPY_MODEL_f1825940a8ee47c09798c2e9ea3cfa1f",
      "value": " 570/570 [00:00&lt;00:00, 13.6kB/s]"
     }
    },
    "895bfcb698814ec7936093189d1c6eef": {
     "model_module": "@jupyter-widgets/base",
     "model_module_version": "1.2.0",
     "model_name": "LayoutModel",
     "state": {
      "_model_module": "@jupyter-widgets/base",
      "_model_module_version": "1.2.0",
      "_model_name": "LayoutModel",
      "_view_count": null,
      "_view_module": "@jupyter-widgets/base",
      "_view_module_version": "1.2.0",
      "_view_name": "LayoutView",
      "align_content": null,
      "align_items": null,
      "align_self": null,
      "border": null,
      "bottom": null,
      "display": null,
      "flex": null,
      "flex_flow": null,
      "grid_area": null,
      "grid_auto_columns": null,
      "grid_auto_flow": null,
      "grid_auto_rows": null,
      "grid_column": null,
      "grid_gap": null,
      "grid_row": null,
      "grid_template_areas": null,
      "grid_template_columns": null,
      "grid_template_rows": null,
      "height": null,
      "justify_content": null,
      "justify_items": null,
      "left": null,
      "margin": null,
      "max_height": null,
      "max_width": null,
      "min_height": null,
      "min_width": null,
      "object_fit": null,
      "object_position": null,
      "order": null,
      "overflow": null,
      "overflow_x": null,
      "overflow_y": null,
      "padding": null,
      "right": null,
      "top": null,
      "visibility": null,
      "width": null
     }
    },
    "a04c386a88da41ffada570fe53ca85c5": {
     "model_module": "@jupyter-widgets/controls",
     "model_module_version": "1.5.0",
     "model_name": "DescriptionStyleModel",
     "state": {
      "_model_module": "@jupyter-widgets/controls",
      "_model_module_version": "1.5.0",
      "_model_name": "DescriptionStyleModel",
      "_view_count": null,
      "_view_module": "@jupyter-widgets/base",
      "_view_module_version": "1.2.0",
      "_view_name": "StyleView",
      "description_width": ""
     }
    },
    "a210b5c4e6d54290b2a30e18bad23fce": {
     "model_module": "@jupyter-widgets/controls",
     "model_module_version": "1.5.0",
     "model_name": "HTMLModel",
     "state": {
      "_dom_classes": [],
      "_model_module": "@jupyter-widgets/controls",
      "_model_module_version": "1.5.0",
      "_model_name": "HTMLModel",
      "_view_count": null,
      "_view_module": "@jupyter-widgets/controls",
      "_view_module_version": "1.5.0",
      "_view_name": "HTMLView",
      "description": "",
      "description_tooltip": null,
      "layout": "IPY_MODEL_7b899fd968894c6baf2217940db866cf",
      "placeholder": "​",
      "style": "IPY_MODEL_db51ad9a7711429294c1ec85565f99ca",
      "value": " 226k/226k [00:00&lt;00:00, 735kB/s]"
     }
    },
    "a50ce1fafd984738bf2f033a788014f1": {
     "model_module": "@jupyter-widgets/base",
     "model_module_version": "1.2.0",
     "model_name": "LayoutModel",
     "state": {
      "_model_module": "@jupyter-widgets/base",
      "_model_module_version": "1.2.0",
      "_model_name": "LayoutModel",
      "_view_count": null,
      "_view_module": "@jupyter-widgets/base",
      "_view_module_version": "1.2.0",
      "_view_name": "LayoutView",
      "align_content": null,
      "align_items": null,
      "align_self": null,
      "border": null,
      "bottom": null,
      "display": null,
      "flex": null,
      "flex_flow": null,
      "grid_area": null,
      "grid_auto_columns": null,
      "grid_auto_flow": null,
      "grid_auto_rows": null,
      "grid_column": null,
      "grid_gap": null,
      "grid_row": null,
      "grid_template_areas": null,
      "grid_template_columns": null,
      "grid_template_rows": null,
      "height": null,
      "justify_content": null,
      "justify_items": null,
      "left": null,
      "margin": null,
      "max_height": null,
      "max_width": null,
      "min_height": null,
      "min_width": null,
      "object_fit": null,
      "object_position": null,
      "order": null,
      "overflow": null,
      "overflow_x": null,
      "overflow_y": null,
      "padding": null,
      "right": null,
      "top": null,
      "visibility": null,
      "width": null
     }
    },
    "ab2f04bd2e0743baa4b0eb7247c03cc7": {
     "model_module": "@jupyter-widgets/controls",
     "model_module_version": "1.5.0",
     "model_name": "HTMLModel",
     "state": {
      "_dom_classes": [],
      "_model_module": "@jupyter-widgets/controls",
      "_model_module_version": "1.5.0",
      "_model_name": "HTMLModel",
      "_view_count": null,
      "_view_module": "@jupyter-widgets/controls",
      "_view_module_version": "1.5.0",
      "_view_name": "HTMLView",
      "description": "",
      "description_tooltip": null,
      "layout": "IPY_MODEL_ffbc9d43999248ffb9ef3bf94bae01da",
      "placeholder": "​",
      "style": "IPY_MODEL_3f04e93f8dd34afd8b4110bec1989065",
      "value": " 28.0/28.0 [00:00&lt;00:00, 581B/s]"
     }
    },
    "ae3be1c3155447b2a27999b99c66b672": {
     "model_module": "@jupyter-widgets/controls",
     "model_module_version": "1.5.0",
     "model_name": "DescriptionStyleModel",
     "state": {
      "_model_module": "@jupyter-widgets/controls",
      "_model_module_version": "1.5.0",
      "_model_name": "DescriptionStyleModel",
      "_view_count": null,
      "_view_module": "@jupyter-widgets/base",
      "_view_module_version": "1.2.0",
      "_view_name": "StyleView",
      "description_width": ""
     }
    },
    "b1e96629699340d695c1bace0919965e": {
     "model_module": "@jupyter-widgets/base",
     "model_module_version": "1.2.0",
     "model_name": "LayoutModel",
     "state": {
      "_model_module": "@jupyter-widgets/base",
      "_model_module_version": "1.2.0",
      "_model_name": "LayoutModel",
      "_view_count": null,
      "_view_module": "@jupyter-widgets/base",
      "_view_module_version": "1.2.0",
      "_view_name": "LayoutView",
      "align_content": null,
      "align_items": null,
      "align_self": null,
      "border": null,
      "bottom": null,
      "display": null,
      "flex": null,
      "flex_flow": null,
      "grid_area": null,
      "grid_auto_columns": null,
      "grid_auto_flow": null,
      "grid_auto_rows": null,
      "grid_column": null,
      "grid_gap": null,
      "grid_row": null,
      "grid_template_areas": null,
      "grid_template_columns": null,
      "grid_template_rows": null,
      "height": null,
      "justify_content": null,
      "justify_items": null,
      "left": null,
      "margin": null,
      "max_height": null,
      "max_width": null,
      "min_height": null,
      "min_width": null,
      "object_fit": null,
      "object_position": null,
      "order": null,
      "overflow": null,
      "overflow_x": null,
      "overflow_y": null,
      "padding": null,
      "right": null,
      "top": null,
      "visibility": null,
      "width": null
     }
    },
    "b2b38f4ae765485891b12dc2a2859d6f": {
     "model_module": "@jupyter-widgets/controls",
     "model_module_version": "1.5.0",
     "model_name": "HBoxModel",
     "state": {
      "_dom_classes": [],
      "_model_module": "@jupyter-widgets/controls",
      "_model_module_version": "1.5.0",
      "_model_name": "HBoxModel",
      "_view_count": null,
      "_view_module": "@jupyter-widgets/controls",
      "_view_module_version": "1.5.0",
      "_view_name": "HBoxView",
      "box_style": "",
      "children": [
       "IPY_MODEL_26bda47c2228448b949d235a49b9eb6d",
       "IPY_MODEL_7935a7b9e6ed4b90b6deb47421aecf9b",
       "IPY_MODEL_727490b7c3364e9c85bc3f222f99d2e0"
      ],
      "layout": "IPY_MODEL_a50ce1fafd984738bf2f033a788014f1"
     }
    },
    "bdb1eec8f01e402c9092a0cc0d3b5be6": {
     "model_module": "@jupyter-widgets/controls",
     "model_module_version": "1.5.0",
     "model_name": "ProgressStyleModel",
     "state": {
      "_model_module": "@jupyter-widgets/controls",
      "_model_module_version": "1.5.0",
      "_model_name": "ProgressStyleModel",
      "_view_count": null,
      "_view_module": "@jupyter-widgets/base",
      "_view_module_version": "1.2.0",
      "_view_name": "StyleView",
      "bar_color": null,
      "description_width": ""
     }
    },
    "bf4a8a1aa1424e4fa97b4c4749a62c30": {
     "model_module": "@jupyter-widgets/controls",
     "model_module_version": "1.5.0",
     "model_name": "HTMLModel",
     "state": {
      "_dom_classes": [],
      "_model_module": "@jupyter-widgets/controls",
      "_model_module_version": "1.5.0",
      "_model_name": "HTMLModel",
      "_view_count": null,
      "_view_module": "@jupyter-widgets/controls",
      "_view_module_version": "1.5.0",
      "_view_name": "HTMLView",
      "description": "",
      "description_tooltip": null,
      "layout": "IPY_MODEL_258f6a653fb04160ab4f1a42049d21ca",
      "placeholder": "​",
      "style": "IPY_MODEL_ae3be1c3155447b2a27999b99c66b672",
      "value": "Downloading: 100%"
     }
    },
    "ca65b267f64045d18495ca03e98d4d91": {
     "model_module": "@jupyter-widgets/controls",
     "model_module_version": "1.5.0",
     "model_name": "HTMLModel",
     "state": {
      "_dom_classes": [],
      "_model_module": "@jupyter-widgets/controls",
      "_model_module_version": "1.5.0",
      "_model_name": "HTMLModel",
      "_view_count": null,
      "_view_module": "@jupyter-widgets/controls",
      "_view_module_version": "1.5.0",
      "_view_name": "HTMLView",
      "description": "",
      "description_tooltip": null,
      "layout": "IPY_MODEL_44484c530546490a8d7cb7003eab675f",
      "placeholder": "​",
      "style": "IPY_MODEL_756f5170f5b94d6090a831a623e3ff14",
      "value": "Downloading: 100%"
     }
    },
    "ce85e3f39e5f48b1bbe2c09128e4acb9": {
     "model_module": "@jupyter-widgets/base",
     "model_module_version": "1.2.0",
     "model_name": "LayoutModel",
     "state": {
      "_model_module": "@jupyter-widgets/base",
      "_model_module_version": "1.2.0",
      "_model_name": "LayoutModel",
      "_view_count": null,
      "_view_module": "@jupyter-widgets/base",
      "_view_module_version": "1.2.0",
      "_view_name": "LayoutView",
      "align_content": null,
      "align_items": null,
      "align_self": null,
      "border": null,
      "bottom": null,
      "display": null,
      "flex": null,
      "flex_flow": null,
      "grid_area": null,
      "grid_auto_columns": null,
      "grid_auto_flow": null,
      "grid_auto_rows": null,
      "grid_column": null,
      "grid_gap": null,
      "grid_row": null,
      "grid_template_areas": null,
      "grid_template_columns": null,
      "grid_template_rows": null,
      "height": null,
      "justify_content": null,
      "justify_items": null,
      "left": null,
      "margin": null,
      "max_height": null,
      "max_width": null,
      "min_height": null,
      "min_width": null,
      "object_fit": null,
      "object_position": null,
      "order": null,
      "overflow": null,
      "overflow_x": null,
      "overflow_y": null,
      "padding": null,
      "right": null,
      "top": null,
      "visibility": null,
      "width": null
     }
    },
    "d6c7579cf26046b2b13e78b43142cb52": {
     "model_module": "@jupyter-widgets/controls",
     "model_module_version": "1.5.0",
     "model_name": "ProgressStyleModel",
     "state": {
      "_model_module": "@jupyter-widgets/controls",
      "_model_module_version": "1.5.0",
      "_model_name": "ProgressStyleModel",
      "_view_count": null,
      "_view_module": "@jupyter-widgets/base",
      "_view_module_version": "1.2.0",
      "_view_name": "StyleView",
      "bar_color": null,
      "description_width": ""
     }
    },
    "d9c16678762c4ac3913b707dc6e6cdfe": {
     "model_module": "@jupyter-widgets/controls",
     "model_module_version": "1.5.0",
     "model_name": "HBoxModel",
     "state": {
      "_dom_classes": [],
      "_model_module": "@jupyter-widgets/controls",
      "_model_module_version": "1.5.0",
      "_model_name": "HBoxModel",
      "_view_count": null,
      "_view_module": "@jupyter-widgets/controls",
      "_view_module_version": "1.5.0",
      "_view_name": "HBoxView",
      "box_style": "",
      "children": [
       "IPY_MODEL_7e4741b82a554e72a62d4d6420e610e5",
       "IPY_MODEL_25fad6ac19444145aa3e5a0e19047ad4",
       "IPY_MODEL_2c72765e66834863bd2697559e6d7559"
      ],
      "layout": "IPY_MODEL_dac8bafdee2748f69f5e38c01486f19e"
     }
    },
    "dac8bafdee2748f69f5e38c01486f19e": {
     "model_module": "@jupyter-widgets/base",
     "model_module_version": "1.2.0",
     "model_name": "LayoutModel",
     "state": {
      "_model_module": "@jupyter-widgets/base",
      "_model_module_version": "1.2.0",
      "_model_name": "LayoutModel",
      "_view_count": null,
      "_view_module": "@jupyter-widgets/base",
      "_view_module_version": "1.2.0",
      "_view_name": "LayoutView",
      "align_content": null,
      "align_items": null,
      "align_self": null,
      "border": null,
      "bottom": null,
      "display": null,
      "flex": null,
      "flex_flow": null,
      "grid_area": null,
      "grid_auto_columns": null,
      "grid_auto_flow": null,
      "grid_auto_rows": null,
      "grid_column": null,
      "grid_gap": null,
      "grid_row": null,
      "grid_template_areas": null,
      "grid_template_columns": null,
      "grid_template_rows": null,
      "height": null,
      "justify_content": null,
      "justify_items": null,
      "left": null,
      "margin": null,
      "max_height": null,
      "max_width": null,
      "min_height": null,
      "min_width": null,
      "object_fit": null,
      "object_position": null,
      "order": null,
      "overflow": null,
      "overflow_x": null,
      "overflow_y": null,
      "padding": null,
      "right": null,
      "top": null,
      "visibility": null,
      "width": null
     }
    },
    "db51ad9a7711429294c1ec85565f99ca": {
     "model_module": "@jupyter-widgets/controls",
     "model_module_version": "1.5.0",
     "model_name": "DescriptionStyleModel",
     "state": {
      "_model_module": "@jupyter-widgets/controls",
      "_model_module_version": "1.5.0",
      "_model_name": "DescriptionStyleModel",
      "_view_count": null,
      "_view_module": "@jupyter-widgets/base",
      "_view_module_version": "1.2.0",
      "_view_name": "StyleView",
      "description_width": ""
     }
    },
    "e2125f13f0b747e59e591b5ce7a7c95f": {
     "model_module": "@jupyter-widgets/base",
     "model_module_version": "1.2.0",
     "model_name": "LayoutModel",
     "state": {
      "_model_module": "@jupyter-widgets/base",
      "_model_module_version": "1.2.0",
      "_model_name": "LayoutModel",
      "_view_count": null,
      "_view_module": "@jupyter-widgets/base",
      "_view_module_version": "1.2.0",
      "_view_name": "LayoutView",
      "align_content": null,
      "align_items": null,
      "align_self": null,
      "border": null,
      "bottom": null,
      "display": null,
      "flex": null,
      "flex_flow": null,
      "grid_area": null,
      "grid_auto_columns": null,
      "grid_auto_flow": null,
      "grid_auto_rows": null,
      "grid_column": null,
      "grid_gap": null,
      "grid_row": null,
      "grid_template_areas": null,
      "grid_template_columns": null,
      "grid_template_rows": null,
      "height": null,
      "justify_content": null,
      "justify_items": null,
      "left": null,
      "margin": null,
      "max_height": null,
      "max_width": null,
      "min_height": null,
      "min_width": null,
      "object_fit": null,
      "object_position": null,
      "order": null,
      "overflow": null,
      "overflow_x": null,
      "overflow_y": null,
      "padding": null,
      "right": null,
      "top": null,
      "visibility": null,
      "width": null
     }
    },
    "e808681e41ec4001b00959ad5806856e": {
     "model_module": "@jupyter-widgets/controls",
     "model_module_version": "1.5.0",
     "model_name": "DescriptionStyleModel",
     "state": {
      "_model_module": "@jupyter-widgets/controls",
      "_model_module_version": "1.5.0",
      "_model_name": "DescriptionStyleModel",
      "_view_count": null,
      "_view_module": "@jupyter-widgets/base",
      "_view_module_version": "1.2.0",
      "_view_name": "StyleView",
      "description_width": ""
     }
    },
    "f1825940a8ee47c09798c2e9ea3cfa1f": {
     "model_module": "@jupyter-widgets/controls",
     "model_module_version": "1.5.0",
     "model_name": "DescriptionStyleModel",
     "state": {
      "_model_module": "@jupyter-widgets/controls",
      "_model_module_version": "1.5.0",
      "_model_name": "DescriptionStyleModel",
      "_view_count": null,
      "_view_module": "@jupyter-widgets/base",
      "_view_module_version": "1.2.0",
      "_view_name": "StyleView",
      "description_width": ""
     }
    },
    "f24421806b464e96bd9a2d49dc9ae5fe": {
     "model_module": "@jupyter-widgets/controls",
     "model_module_version": "1.5.0",
     "model_name": "ProgressStyleModel",
     "state": {
      "_model_module": "@jupyter-widgets/controls",
      "_model_module_version": "1.5.0",
      "_model_name": "ProgressStyleModel",
      "_view_count": null,
      "_view_module": "@jupyter-widgets/base",
      "_view_module_version": "1.2.0",
      "_view_name": "StyleView",
      "bar_color": null,
      "description_width": ""
     }
    },
    "ffbc9d43999248ffb9ef3bf94bae01da": {
     "model_module": "@jupyter-widgets/base",
     "model_module_version": "1.2.0",
     "model_name": "LayoutModel",
     "state": {
      "_model_module": "@jupyter-widgets/base",
      "_model_module_version": "1.2.0",
      "_model_name": "LayoutModel",
      "_view_count": null,
      "_view_module": "@jupyter-widgets/base",
      "_view_module_version": "1.2.0",
      "_view_name": "LayoutView",
      "align_content": null,
      "align_items": null,
      "align_self": null,
      "border": null,
      "bottom": null,
      "display": null,
      "flex": null,
      "flex_flow": null,
      "grid_area": null,
      "grid_auto_columns": null,
      "grid_auto_flow": null,
      "grid_auto_rows": null,
      "grid_column": null,
      "grid_gap": null,
      "grid_row": null,
      "grid_template_areas": null,
      "grid_template_columns": null,
      "grid_template_rows": null,
      "height": null,
      "justify_content": null,
      "justify_items": null,
      "left": null,
      "margin": null,
      "max_height": null,
      "max_width": null,
      "min_height": null,
      "min_width": null,
      "object_fit": null,
      "object_position": null,
      "order": null,
      "overflow": null,
      "overflow_x": null,
      "overflow_y": null,
      "padding": null,
      "right": null,
      "top": null,
      "visibility": null,
      "width": null
     }
    }
   }
  }
 },
 "nbformat": 4,
 "nbformat_minor": 1
}
