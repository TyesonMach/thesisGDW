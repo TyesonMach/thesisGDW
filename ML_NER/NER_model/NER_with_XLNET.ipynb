{
 "cells": [
  {
   "cell_type": "code",
   "execution_count": 6,
   "metadata": {
    "executionInfo": {
     "elapsed": 3,
     "status": "ok",
     "timestamp": 1645451756337,
     "user": {
      "displayName": "Yến Ngọc Vũ",
      "photoUrl": "https://lh3.googleusercontent.com/a-/AOh14Gi4wfCuo_NJT2C0JTe2p3mU-XITI80n8F0YvaxHpNI=s64",
      "userId": "00577626419227892200"
     },
     "user_tz": -420
    },
    "id": "hu4ugoWUJpKB"
   },
   "outputs": [
    {
     "ename": "ModuleNotFoundError",
     "evalue": "No module named 'matplotlib'",
     "output_type": "error",
     "traceback": [
      "\u001b[0;31m---------------------------------------------------------------------------\u001b[0m",
      "\u001b[0;31mModuleNotFoundError\u001b[0m                       Traceback (most recent call last)",
      "Cell \u001b[0;32mIn [6], line 3\u001b[0m\n\u001b[1;32m      1\u001b[0m get_ipython()\u001b[38;5;241m.\u001b[39mrun_line_magic(\u001b[38;5;124m'\u001b[39m\u001b[38;5;124mreload_ext\u001b[39m\u001b[38;5;124m'\u001b[39m, \u001b[38;5;124m'\u001b[39m\u001b[38;5;124mautoreload\u001b[39m\u001b[38;5;124m'\u001b[39m)\n\u001b[1;32m      2\u001b[0m get_ipython()\u001b[38;5;241m.\u001b[39mrun_line_magic(\u001b[38;5;124m'\u001b[39m\u001b[38;5;124mautoreload\u001b[39m\u001b[38;5;124m'\u001b[39m, \u001b[38;5;124m'\u001b[39m\u001b[38;5;124m2\u001b[39m\u001b[38;5;124m'\u001b[39m)\n\u001b[0;32m----> 3\u001b[0m get_ipython()\u001b[38;5;241m.\u001b[39mrun_line_magic(\u001b[38;5;124m'\u001b[39m\u001b[38;5;124mmatplotlib\u001b[39m\u001b[38;5;124m'\u001b[39m, \u001b[38;5;124m'\u001b[39m\u001b[38;5;124minline\u001b[39m\u001b[38;5;124m'\u001b[39m)\n",
      "File \u001b[0;32m~/miniconda3/lib/python3.9/site-packages/IPython/core/interactiveshell.py:2309\u001b[0m, in \u001b[0;36mInteractiveShell.run_line_magic\u001b[0;34m(self, magic_name, line, _stack_depth)\u001b[0m\n\u001b[1;32m   2307\u001b[0m     kwargs[\u001b[38;5;124m'\u001b[39m\u001b[38;5;124mlocal_ns\u001b[39m\u001b[38;5;124m'\u001b[39m] \u001b[38;5;241m=\u001b[39m \u001b[38;5;28mself\u001b[39m\u001b[38;5;241m.\u001b[39mget_local_scope(stack_depth)\n\u001b[1;32m   2308\u001b[0m \u001b[38;5;28;01mwith\u001b[39;00m \u001b[38;5;28mself\u001b[39m\u001b[38;5;241m.\u001b[39mbuiltin_trap:\n\u001b[0;32m-> 2309\u001b[0m     result \u001b[38;5;241m=\u001b[39m \u001b[43mfn\u001b[49m\u001b[43m(\u001b[49m\u001b[38;5;241;43m*\u001b[39;49m\u001b[43margs\u001b[49m\u001b[43m,\u001b[49m\u001b[43m \u001b[49m\u001b[38;5;241;43m*\u001b[39;49m\u001b[38;5;241;43m*\u001b[39;49m\u001b[43mkwargs\u001b[49m\u001b[43m)\u001b[49m\n\u001b[1;32m   2310\u001b[0m \u001b[38;5;28;01mreturn\u001b[39;00m result\n",
      "File \u001b[0;32m~/miniconda3/lib/python3.9/site-packages/IPython/core/magics/pylab.py:99\u001b[0m, in \u001b[0;36mPylabMagics.matplotlib\u001b[0;34m(self, line)\u001b[0m\n\u001b[1;32m     97\u001b[0m     \u001b[38;5;28mprint\u001b[39m(\u001b[38;5;124m\"\u001b[39m\u001b[38;5;124mAvailable matplotlib backends: \u001b[39m\u001b[38;5;132;01m%s\u001b[39;00m\u001b[38;5;124m\"\u001b[39m \u001b[38;5;241m%\u001b[39m backends_list)\n\u001b[1;32m     98\u001b[0m \u001b[38;5;28;01melse\u001b[39;00m:\n\u001b[0;32m---> 99\u001b[0m     gui, backend \u001b[38;5;241m=\u001b[39m \u001b[38;5;28;43mself\u001b[39;49m\u001b[38;5;241;43m.\u001b[39;49m\u001b[43mshell\u001b[49m\u001b[38;5;241;43m.\u001b[39;49m\u001b[43menable_matplotlib\u001b[49m\u001b[43m(\u001b[49m\u001b[43margs\u001b[49m\u001b[38;5;241;43m.\u001b[39;49m\u001b[43mgui\u001b[49m\u001b[38;5;241;43m.\u001b[39;49m\u001b[43mlower\u001b[49m\u001b[43m(\u001b[49m\u001b[43m)\u001b[49m\u001b[43m \u001b[49m\u001b[38;5;28;43;01mif\u001b[39;49;00m\u001b[43m \u001b[49m\u001b[38;5;28;43misinstance\u001b[39;49m\u001b[43m(\u001b[49m\u001b[43margs\u001b[49m\u001b[38;5;241;43m.\u001b[39;49m\u001b[43mgui\u001b[49m\u001b[43m,\u001b[49m\u001b[43m \u001b[49m\u001b[38;5;28;43mstr\u001b[39;49m\u001b[43m)\u001b[49m\u001b[43m \u001b[49m\u001b[38;5;28;43;01melse\u001b[39;49;00m\u001b[43m \u001b[49m\u001b[43margs\u001b[49m\u001b[38;5;241;43m.\u001b[39;49m\u001b[43mgui\u001b[49m\u001b[43m)\u001b[49m\n\u001b[1;32m    100\u001b[0m     \u001b[38;5;28mself\u001b[39m\u001b[38;5;241m.\u001b[39m_show_matplotlib_backend(args\u001b[38;5;241m.\u001b[39mgui, backend)\n",
      "File \u001b[0;32m~/miniconda3/lib/python3.9/site-packages/IPython/core/interactiveshell.py:3458\u001b[0m, in \u001b[0;36mInteractiveShell.enable_matplotlib\u001b[0;34m(self, gui)\u001b[0m\n\u001b[1;32m   3437\u001b[0m \u001b[38;5;28;01mdef\u001b[39;00m \u001b[38;5;21menable_matplotlib\u001b[39m(\u001b[38;5;28mself\u001b[39m, gui\u001b[38;5;241m=\u001b[39m\u001b[38;5;28;01mNone\u001b[39;00m):\n\u001b[1;32m   3438\u001b[0m     \u001b[38;5;124;03m\"\"\"Enable interactive matplotlib and inline figure support.\u001b[39;00m\n\u001b[1;32m   3439\u001b[0m \n\u001b[1;32m   3440\u001b[0m \u001b[38;5;124;03m    This takes the following steps:\u001b[39;00m\n\u001b[0;32m   (...)\u001b[0m\n\u001b[1;32m   3456\u001b[0m \u001b[38;5;124;03m        display figures inline.\u001b[39;00m\n\u001b[1;32m   3457\u001b[0m \u001b[38;5;124;03m    \"\"\"\u001b[39;00m\n\u001b[0;32m-> 3458\u001b[0m     \u001b[38;5;28;01mfrom\u001b[39;00m \u001b[38;5;21;01mmatplotlib_inline\u001b[39;00m\u001b[38;5;21;01m.\u001b[39;00m\u001b[38;5;21;01mbackend_inline\u001b[39;00m \u001b[38;5;28;01mimport\u001b[39;00m configure_inline_support\n\u001b[1;32m   3460\u001b[0m     \u001b[38;5;28;01mfrom\u001b[39;00m \u001b[38;5;21;01mIPython\u001b[39;00m\u001b[38;5;21;01m.\u001b[39;00m\u001b[38;5;21;01mcore\u001b[39;00m \u001b[38;5;28;01mimport\u001b[39;00m pylabtools \u001b[38;5;28;01mas\u001b[39;00m pt\n\u001b[1;32m   3461\u001b[0m     gui, backend \u001b[38;5;241m=\u001b[39m pt\u001b[38;5;241m.\u001b[39mfind_gui_and_backend(gui, \u001b[38;5;28mself\u001b[39m\u001b[38;5;241m.\u001b[39mpylab_gui_select)\n",
      "File \u001b[0;32m~/miniconda3/lib/python3.9/site-packages/matplotlib_inline/__init__.py:1\u001b[0m\n\u001b[0;32m----> 1\u001b[0m \u001b[38;5;28;01mfrom\u001b[39;00m \u001b[38;5;21;01m.\u001b[39;00m \u001b[38;5;28;01mimport\u001b[39;00m backend_inline, config  \u001b[38;5;66;03m# noqa\u001b[39;00m\n\u001b[1;32m      2\u001b[0m __version__ \u001b[38;5;241m=\u001b[39m \u001b[38;5;124m\"\u001b[39m\u001b[38;5;124m0.1.6\u001b[39m\u001b[38;5;124m\"\u001b[39m\n",
      "File \u001b[0;32m~/miniconda3/lib/python3.9/site-packages/matplotlib_inline/backend_inline.py:6\u001b[0m\n\u001b[1;32m      1\u001b[0m \u001b[38;5;124;03m\"\"\"A matplotlib backend for publishing figures via display_data\"\"\"\u001b[39;00m\n\u001b[1;32m      3\u001b[0m \u001b[38;5;66;03m# Copyright (c) IPython Development Team.\u001b[39;00m\n\u001b[1;32m      4\u001b[0m \u001b[38;5;66;03m# Distributed under the terms of the BSD 3-Clause License.\u001b[39;00m\n\u001b[0;32m----> 6\u001b[0m \u001b[38;5;28;01mimport\u001b[39;00m \u001b[38;5;21;01mmatplotlib\u001b[39;00m\n\u001b[1;32m      7\u001b[0m \u001b[38;5;28;01mfrom\u001b[39;00m \u001b[38;5;21;01mmatplotlib\u001b[39;00m \u001b[38;5;28;01mimport\u001b[39;00m colors\n\u001b[1;32m      8\u001b[0m \u001b[38;5;28;01mfrom\u001b[39;00m \u001b[38;5;21;01mmatplotlib\u001b[39;00m\u001b[38;5;21;01m.\u001b[39;00m\u001b[38;5;21;01mbackends\u001b[39;00m \u001b[38;5;28;01mimport\u001b[39;00m backend_agg\n",
      "\u001b[0;31mModuleNotFoundError\u001b[0m: No module named 'matplotlib'"
     ]
    }
   ],
   "source": [
    "%reload_ext autoreload\n",
    "%autoreload 2\n",
    "%matplotlib inline"
   ]
  },
  {
   "cell_type": "code",
   "execution_count": 12,
   "metadata": {
    "colab": {
     "base_uri": "https://localhost:8080/"
    },
    "executionInfo": {
     "elapsed": 29691,
     "status": "ok",
     "timestamp": 1645451786025,
     "user": {
      "displayName": "Yến Ngọc Vũ",
      "photoUrl": "https://lh3.googleusercontent.com/a-/AOh14Gi4wfCuo_NJT2C0JTe2p3mU-XITI80n8F0YvaxHpNI=s64",
      "userId": "00577626419227892200"
     },
     "user_tz": -420
    },
    "id": "8WnhFbWUKJKR",
    "outputId": "b2389dcd-951c-4254-d435-73c17ff0b5f2"
   },
   "outputs": [
    {
     "name": "stdout",
     "output_type": "stream",
     "text": [
      "Requirement already satisfied: seqeval in /home/tyeson/miniconda3/lib/python3.9/site-packages (1.2.2)\n",
      "Requirement already satisfied: scikit-learn>=0.21.3 in /home/tyeson/miniconda3/lib/python3.9/site-packages (from seqeval) (1.1.2)\n",
      "Requirement already satisfied: numpy>=1.14.0 in /home/tyeson/miniconda3/lib/python3.9/site-packages (from seqeval) (1.23.3)\n",
      "Requirement already satisfied: scipy>=1.3.2 in /home/tyeson/miniconda3/lib/python3.9/site-packages (from scikit-learn>=0.21.3->seqeval) (1.9.1)\n",
      "Requirement already satisfied: threadpoolctl>=2.0.0 in /home/tyeson/miniconda3/lib/python3.9/site-packages (from scikit-learn>=0.21.3->seqeval) (3.1.0)\n",
      "Requirement already satisfied: joblib>=1.0.0 in /home/tyeson/miniconda3/lib/python3.9/site-packages (from scikit-learn>=0.21.3->seqeval) (1.2.0)\n",
      "Requirement already satisfied: transformers in /home/tyeson/miniconda3/lib/python3.9/site-packages (4.22.2)\n",
      "Requirement already satisfied: packaging>=20.0 in /home/tyeson/miniconda3/lib/python3.9/site-packages (from transformers) (21.3)\n",
      "Requirement already satisfied: pyyaml>=5.1 in /home/tyeson/miniconda3/lib/python3.9/site-packages (from transformers) (6.0)\n",
      "Requirement already satisfied: numpy>=1.17 in /home/tyeson/miniconda3/lib/python3.9/site-packages (from transformers) (1.23.3)\n",
      "Requirement already satisfied: requests in /home/tyeson/miniconda3/lib/python3.9/site-packages (from transformers) (2.27.1)\n",
      "Requirement already satisfied: tqdm>=4.27 in /home/tyeson/miniconda3/lib/python3.9/site-packages (from transformers) (4.63.0)\n",
      "Requirement already satisfied: huggingface-hub<1.0,>=0.9.0 in /home/tyeson/miniconda3/lib/python3.9/site-packages (from transformers) (0.10.0)\n",
      "Requirement already satisfied: regex!=2019.12.17 in /home/tyeson/miniconda3/lib/python3.9/site-packages (from transformers) (2022.9.13)\n",
      "Requirement already satisfied: tokenizers!=0.11.3,<0.13,>=0.11.1 in /home/tyeson/miniconda3/lib/python3.9/site-packages (from transformers) (0.12.1)\n",
      "Requirement already satisfied: filelock in /home/tyeson/miniconda3/lib/python3.9/site-packages (from transformers) (3.8.0)\n",
      "Requirement already satisfied: typing-extensions>=3.7.4.3 in /home/tyeson/miniconda3/lib/python3.9/site-packages (from huggingface-hub<1.0,>=0.9.0->transformers) (4.4.0)\n",
      "Requirement already satisfied: pyparsing!=3.0.5,>=2.0.2 in /home/tyeson/miniconda3/lib/python3.9/site-packages (from packaging>=20.0->transformers) (3.0.9)\n",
      "Requirement already satisfied: charset-normalizer~=2.0.0 in /home/tyeson/miniconda3/lib/python3.9/site-packages (from requests->transformers) (2.0.4)\n",
      "Requirement already satisfied: urllib3<1.27,>=1.21.1 in /home/tyeson/miniconda3/lib/python3.9/site-packages (from requests->transformers) (1.26.8)\n",
      "Requirement already satisfied: certifi>=2017.4.17 in /home/tyeson/miniconda3/lib/python3.9/site-packages (from requests->transformers) (2021.10.8)\n",
      "Requirement already satisfied: idna<4,>=2.5 in /home/tyeson/miniconda3/lib/python3.9/site-packages (from requests->transformers) (3.3)\n",
      "Collecting tensorflow\n",
      "  Downloading tensorflow-2.10.0-cp39-cp39-manylinux_2_17_x86_64.manylinux2014_x86_64.whl (578.1 MB)\n",
      "\u001b[K     |████████████████████████████████| 578.1 MB 42 kB/s s eta 0:00:01   |█▎                              | 22.5 MB 3.6 MB/s eta 0:02:36     |████▍                           | 79.6 MB 2.1 MB/s eta 0:04:00     |█████▊                          | 104.4 MB 2.2 MB/s eta 0:03:37\n",
      "\u001b[?25hRequirement already satisfied: numpy>=1.20 in /home/tyeson/miniconda3/lib/python3.9/site-packages (from tensorflow) (1.23.3)\n",
      "Collecting opt-einsum>=2.3.2\n",
      "  Downloading opt_einsum-3.3.0-py3-none-any.whl (65 kB)\n",
      "\u001b[K     |████████████████████████████████| 65 kB 2.0 MB/s eta 0:00:01\n",
      "\u001b[?25hCollecting keras<2.11,>=2.10.0\n",
      "  Downloading keras-2.10.0-py2.py3-none-any.whl (1.7 MB)\n",
      "\u001b[K     |████████████████████████████████| 1.7 MB 10.1 MB/s eta 0:00:01\n",
      "\u001b[?25hCollecting wrapt>=1.11.0\n",
      "  Downloading wrapt-1.14.1-cp39-cp39-manylinux_2_5_x86_64.manylinux1_x86_64.manylinux_2_17_x86_64.manylinux2014_x86_64.whl (77 kB)\n",
      "\u001b[K     |████████████████████████████████| 77 kB 5.4 MB/s eta 0:00:011\n",
      "\u001b[?25hCollecting gast<=0.4.0,>=0.2.1\n",
      "  Downloading gast-0.4.0-py3-none-any.whl (9.8 kB)\n",
      "Collecting protobuf<3.20,>=3.9.2\n",
      "  Downloading protobuf-3.19.6-cp39-cp39-manylinux_2_17_x86_64.manylinux2014_x86_64.whl (1.1 MB)\n",
      "\u001b[K     |████████████████████████████████| 1.1 MB 8.0 MB/s eta 0:00:01\n",
      "\u001b[?25hRequirement already satisfied: setuptools in /home/tyeson/miniconda3/lib/python3.9/site-packages (from tensorflow) (61.2.0)\n",
      "Collecting astunparse>=1.6.0\n",
      "  Downloading astunparse-1.6.3-py2.py3-none-any.whl (12 kB)\n",
      "Collecting tensorflow-estimator<2.11,>=2.10.0\n",
      "  Downloading tensorflow_estimator-2.10.0-py2.py3-none-any.whl (438 kB)\n",
      "\u001b[K     |████████████████████████████████| 438 kB 11.7 MB/s eta 0:00:01\n",
      "\u001b[?25hCollecting grpcio<2.0,>=1.24.3\n",
      "  Downloading grpcio-1.49.1-cp39-cp39-manylinux_2_17_x86_64.manylinux2014_x86_64.whl (4.7 MB)\n",
      "\u001b[K     |████████████████████████████████| 4.7 MB 10.8 MB/s eta 0:00:01     |██████████████▋                 | 2.1 MB 10.8 MB/s eta 0:00:01\n",
      "\u001b[?25hRequirement already satisfied: typing-extensions>=3.6.6 in /home/tyeson/miniconda3/lib/python3.9/site-packages (from tensorflow) (4.4.0)\n",
      "Requirement already satisfied: packaging in /home/tyeson/miniconda3/lib/python3.9/site-packages (from tensorflow) (21.3)\n",
      "Collecting tensorboard<2.11,>=2.10\n",
      "  Downloading tensorboard-2.10.1-py3-none-any.whl (5.9 MB)\n",
      "\u001b[K     |████████████████████████████████| 5.9 MB 1.5 MB/s eta 0:00:01\n",
      "\u001b[?25hCollecting flatbuffers>=2.0\n",
      "  Downloading flatbuffers-22.9.24-py2.py3-none-any.whl (26 kB)\n",
      "Collecting google-pasta>=0.1.1\n",
      "  Downloading google_pasta-0.2.0-py3-none-any.whl (57 kB)\n",
      "\u001b[K     |████████████████████████████████| 57 kB 4.3 MB/s  eta 0:00:01\n",
      "\u001b[?25hRequirement already satisfied: six>=1.12.0 in /home/tyeson/miniconda3/lib/python3.9/site-packages (from tensorflow) (1.16.0)\n",
      "Collecting libclang>=13.0.0\n",
      "  Downloading libclang-14.0.6-py2.py3-none-manylinux2010_x86_64.whl (14.1 MB)\n",
      "\u001b[K     |████████████████████████████████| 14.1 MB 8.3 MB/s eta 0:00:01\n",
      "\u001b[?25hCollecting termcolor>=1.1.0\n",
      "  Downloading termcolor-2.0.1-py3-none-any.whl (5.4 kB)\n",
      "Collecting tensorflow-io-gcs-filesystem>=0.23.1\n",
      "  Downloading tensorflow_io_gcs_filesystem-0.27.0-cp39-cp39-manylinux_2_12_x86_64.manylinux2010_x86_64.whl (2.4 MB)\n",
      "\u001b[K     |████████████████████████████████| 2.4 MB 11.3 MB/s eta 0:00:01\n",
      "\u001b[?25hCollecting absl-py>=1.0.0\n",
      "  Downloading absl_py-1.2.0-py3-none-any.whl (123 kB)\n",
      "\u001b[K     |████████████████████████████████| 123 kB 9.5 MB/s eta 0:00:01\n",
      "\u001b[?25hRequirement already satisfied: keras-preprocessing>=1.1.1 in /home/tyeson/miniconda3/lib/python3.9/site-packages (from tensorflow) (1.1.2)\n",
      "Requirement already satisfied: h5py>=2.9.0 in /home/tyeson/miniconda3/lib/python3.9/site-packages (from tensorflow) (3.7.0)\n",
      "Requirement already satisfied: wheel<1.0,>=0.23.0 in /home/tyeson/miniconda3/lib/python3.9/site-packages (from astunparse>=1.6.0->tensorflow) (0.37.1)\n",
      "Collecting tensorboard-data-server<0.7.0,>=0.6.0\n",
      "  Downloading tensorboard_data_server-0.6.1-py3-none-manylinux2010_x86_64.whl (4.9 MB)\n",
      "\u001b[K     |████████████████████████████████| 4.9 MB 11.0 MB/s eta 0:00:01\n",
      "\u001b[?25hCollecting google-auth<3,>=1.6.3\n",
      "  Downloading google_auth-2.12.0-py2.py3-none-any.whl (169 kB)\n",
      "\u001b[K     |████████████████████████████████| 169 kB 10.1 MB/s eta 0:00:01\n",
      "\u001b[?25hCollecting tensorboard-plugin-wit>=1.6.0\n",
      "  Downloading tensorboard_plugin_wit-1.8.1-py3-none-any.whl (781 kB)\n",
      "\u001b[K     |████████████████████████████████| 781 kB 8.5 MB/s eta 0:00:01\n",
      "\u001b[?25hRequirement already satisfied: requests<3,>=2.21.0 in /home/tyeson/miniconda3/lib/python3.9/site-packages (from tensorboard<2.11,>=2.10->tensorflow) (2.27.1)\n",
      "Collecting markdown>=2.6.8\n",
      "  Downloading Markdown-3.4.1-py3-none-any.whl (93 kB)\n",
      "\u001b[K     |████████████████████████████████| 93 kB 2.0 MB/s  eta 0:00:01\n",
      "\u001b[?25hCollecting google-auth-oauthlib<0.5,>=0.4.1\n",
      "  Downloading google_auth_oauthlib-0.4.6-py2.py3-none-any.whl (18 kB)\n",
      "Collecting werkzeug>=1.0.1\n",
      "  Downloading Werkzeug-2.2.2-py3-none-any.whl (232 kB)\n",
      "\u001b[K     |████████████████████████████████| 232 kB 9.2 MB/s eta 0:00:01\n",
      "\u001b[?25hCollecting pyasn1-modules>=0.2.1\n",
      "  Downloading pyasn1_modules-0.2.8-py2.py3-none-any.whl (155 kB)\n"
     ]
    },
    {
     "name": "stdout",
     "output_type": "stream",
     "text": [
      "\u001b[K     |████████████████████████████████| 155 kB 8.0 MB/s eta 0:00:01\n",
      "\u001b[?25hCollecting rsa<5,>=3.1.4\n",
      "  Downloading rsa-4.9-py3-none-any.whl (34 kB)\n",
      "Collecting cachetools<6.0,>=2.0.0\n",
      "  Downloading cachetools-5.2.0-py3-none-any.whl (9.3 kB)\n",
      "Collecting requests-oauthlib>=0.7.0\n",
      "  Downloading requests_oauthlib-1.3.1-py2.py3-none-any.whl (23 kB)\n",
      "Requirement already satisfied: importlib-metadata>=4.4 in /home/tyeson/miniconda3/lib/python3.9/site-packages (from markdown>=2.6.8->tensorboard<2.11,>=2.10->tensorflow) (5.0.0)\n",
      "Requirement already satisfied: zipp>=0.5 in /home/tyeson/miniconda3/lib/python3.9/site-packages (from importlib-metadata>=4.4->markdown>=2.6.8->tensorboard<2.11,>=2.10->tensorflow) (3.8.1)\n",
      "Collecting pyasn1<0.5.0,>=0.4.6\n",
      "  Downloading pyasn1-0.4.8-py2.py3-none-any.whl (77 kB)\n",
      "\u001b[K     |████████████████████████████████| 77 kB 4.6 MB/s  eta 0:00:01\n",
      "\u001b[?25hRequirement already satisfied: charset-normalizer~=2.0.0 in /home/tyeson/miniconda3/lib/python3.9/site-packages (from requests<3,>=2.21.0->tensorboard<2.11,>=2.10->tensorflow) (2.0.4)\n",
      "Requirement already satisfied: certifi>=2017.4.17 in /home/tyeson/miniconda3/lib/python3.9/site-packages (from requests<3,>=2.21.0->tensorboard<2.11,>=2.10->tensorflow) (2021.10.8)\n",
      "Requirement already satisfied: urllib3<1.27,>=1.21.1 in /home/tyeson/miniconda3/lib/python3.9/site-packages (from requests<3,>=2.21.0->tensorboard<2.11,>=2.10->tensorflow) (1.26.8)\n",
      "Requirement already satisfied: idna<4,>=2.5 in /home/tyeson/miniconda3/lib/python3.9/site-packages (from requests<3,>=2.21.0->tensorboard<2.11,>=2.10->tensorflow) (3.3)\n",
      "Collecting oauthlib>=3.0.0\n",
      "  Downloading oauthlib-3.2.1-py3-none-any.whl (151 kB)\n",
      "\u001b[K     |████████████████████████████████| 151 kB 9.5 MB/s eta 0:00:01\n",
      "\u001b[?25hRequirement already satisfied: MarkupSafe>=2.1.1 in /home/tyeson/miniconda3/lib/python3.9/site-packages (from werkzeug>=1.0.1->tensorboard<2.11,>=2.10->tensorflow) (2.1.1)\n",
      "Requirement already satisfied: pyparsing!=3.0.5,>=2.0.2 in /home/tyeson/miniconda3/lib/python3.9/site-packages (from packaging->tensorflow) (3.0.9)\n",
      "Installing collected packages: pyasn1, rsa, pyasn1-modules, oauthlib, cachetools, requests-oauthlib, google-auth, werkzeug, tensorboard-plugin-wit, tensorboard-data-server, protobuf, markdown, grpcio, google-auth-oauthlib, absl-py, wrapt, termcolor, tensorflow-io-gcs-filesystem, tensorflow-estimator, tensorboard, opt-einsum, libclang, keras, google-pasta, gast, flatbuffers, astunparse, tensorflow\n",
      "  Attempting uninstall: keras\n",
      "    Found existing installation: Keras 2.3.1\n",
      "    Uninstalling Keras-2.3.1:\n",
      "      Successfully uninstalled Keras-2.3.1\n",
      "Successfully installed absl-py-1.2.0 astunparse-1.6.3 cachetools-5.2.0 flatbuffers-22.9.24 gast-0.4.0 google-auth-2.12.0 google-auth-oauthlib-0.4.6 google-pasta-0.2.0 grpcio-1.49.1 keras-2.10.0 libclang-14.0.6 markdown-3.4.1 oauthlib-3.2.1 opt-einsum-3.3.0 protobuf-3.19.6 pyasn1-0.4.8 pyasn1-modules-0.2.8 requests-oauthlib-1.3.1 rsa-4.9 tensorboard-2.10.1 tensorboard-data-server-0.6.1 tensorboard-plugin-wit-1.8.1 tensorflow-2.10.0 tensorflow-estimator-2.10.0 tensorflow-io-gcs-filesystem-0.27.0 termcolor-2.0.1 werkzeug-2.2.2 wrapt-1.14.1\n"
     ]
    }
   ],
   "source": [
    "!pip install seqeval\n",
    "!pip install transformers\n",
    "!pip install tensorflow"
   ]
  },
  {
   "cell_type": "code",
   "execution_count": 3,
   "metadata": {
    "colab": {
     "base_uri": "https://localhost:8080/",
     "height": 1000
    },
    "executionInfo": {
     "elapsed": 91419,
     "status": "ok",
     "timestamp": 1645451877433,
     "user": {
      "displayName": "Yến Ngọc Vũ",
      "photoUrl": "https://lh3.googleusercontent.com/a-/AOh14Gi4wfCuo_NJT2C0JTe2p3mU-XITI80n8F0YvaxHpNI=s64",
      "userId": "00577626419227892200"
     },
     "user_tz": -420
    },
    "id": "2Zg8mxTKKofD",
    "outputId": "f4fe1f99-95cb-4fbb-c48e-abecaaa70c09"
   },
   "outputs": [
    {
     "name": "stdout",
     "output_type": "stream",
     "text": [
      "\u001b[31mERROR: Could not find a version that satisfies the requirement tensorflow==2.2.1 (from versions: 2.5.0, 2.5.1, 2.5.2, 2.5.3, 2.6.0rc0, 2.6.0rc1, 2.6.0rc2, 2.6.0, 2.6.1, 2.6.2, 2.6.3, 2.6.4, 2.6.5, 2.7.0rc0, 2.7.0rc1, 2.7.0, 2.7.1, 2.7.2, 2.7.3, 2.7.4, 2.8.0rc0, 2.8.0rc1, 2.8.0, 2.8.1, 2.8.2, 2.8.3, 2.9.0rc0, 2.9.0rc1, 2.9.0rc2, 2.9.0, 2.9.1, 2.9.2, 2.10.0rc0, 2.10.0rc1, 2.10.0rc2, 2.10.0rc3, 2.10.0)\u001b[0m\n",
      "\u001b[31mERROR: No matching distribution found for tensorflow==2.2.1\u001b[0m\n",
      "Collecting keras==2.3.1\n",
      "  Downloading Keras-2.3.1-py2.py3-none-any.whl (377 kB)\n",
      "\u001b[K     |████████████████████████████████| 377 kB 710 kB/s eta 0:00:01\n",
      "\u001b[?25hCollecting keras-preprocessing>=1.0.5\n",
      "  Downloading Keras_Preprocessing-1.1.2-py2.py3-none-any.whl (42 kB)\n",
      "\u001b[K     |████████████████████████████████| 42 kB 651 kB/s eta 0:00:01\n",
      "\u001b[?25hCollecting h5py\n",
      "  Downloading h5py-3.7.0-cp39-cp39-manylinux_2_12_x86_64.manylinux2010_x86_64.whl (4.5 MB)\n",
      "\u001b[K     |████████████████████████████████| 4.5 MB 1.6 MB/s eta 0:00:01\n",
      "\u001b[?25hCollecting keras-applications>=1.0.6\n",
      "  Downloading Keras_Applications-1.0.8-py3-none-any.whl (50 kB)\n",
      "\u001b[K     |████████████████████████████████| 50 kB 3.3 MB/s eta 0:00:011\n",
      "\u001b[?25hRequirement already satisfied: scipy>=0.14 in /home/tyeson/miniconda3/lib/python3.9/site-packages (from keras==2.3.1) (1.9.1)\n",
      "Requirement already satisfied: numpy>=1.9.1 in /home/tyeson/miniconda3/lib/python3.9/site-packages (from keras==2.3.1) (1.23.3)\n",
      "Requirement already satisfied: six>=1.9.0 in /home/tyeson/miniconda3/lib/python3.9/site-packages (from keras==2.3.1) (1.16.0)\n",
      "Requirement already satisfied: pyyaml in /home/tyeson/miniconda3/lib/python3.9/site-packages (from keras==2.3.1) (6.0)\n",
      "Installing collected packages: h5py, keras-preprocessing, keras-applications, keras\n",
      "Successfully installed h5py-3.7.0 keras-2.3.1 keras-applications-1.0.8 keras-preprocessing-1.1.2\n"
     ]
    }
   ],
   "source": [
    "!pip install tensorflow==2.2.1\n",
    "!pip install keras==2.3.1"
   ]
  },
  {
   "cell_type": "code",
   "execution_count": 4,
   "metadata": {
    "colab": {
     "base_uri": "https://localhost:8080/"
    },
    "executionInfo": {
     "elapsed": 579,
     "status": "ok",
     "timestamp": 1645451877992,
     "user": {
      "displayName": "Yến Ngọc Vũ",
      "photoUrl": "https://lh3.googleusercontent.com/a-/AOh14Gi4wfCuo_NJT2C0JTe2p3mU-XITI80n8F0YvaxHpNI=s64",
      "userId": "00577626419227892200"
     },
     "user_tz": -420
    },
    "id": "52rQme34JpKH",
    "outputId": "f4579fa6-83cd-499f-ecac-cc105be53b25"
   },
   "outputs": [
    {
     "name": "stderr",
     "output_type": "stream",
     "text": [
      "[autoreload of numpy.core.multiarray failed: Traceback (most recent call last):\n",
      "  File \"/usr/local/lib/python3.7/dist-packages/IPython/extensions/autoreload.py\", line 247, in check\n",
      "    superreload(m, reload, self.old_objects)\n",
      "RuntimeError: empty_like method already has a different docstring\n",
      "]\n",
      "[autoreload of numpy.core.overrides failed: Traceback (most recent call last):\n",
      "  File \"/usr/local/lib/python3.7/dist-packages/IPython/extensions/autoreload.py\", line 247, in check\n",
      "    superreload(m, reload, self.old_objects)\n",
      "RuntimeError: implement_array_function method already has a different docstring\n",
      "]\n",
      "[autoreload of numpy.core.numerictypes failed: Traceback (most recent call last):\n",
      "  File \"/usr/local/lib/python3.7/dist-packages/IPython/extensions/autoreload.py\", line 247, in check\n",
      "    superreload(m, reload, self.old_objects)\n",
      "ImportError: cannot import name 'sctypeNA' from 'numpy.core._type_aliases' (/usr/local/lib/python3.7/dist-packages/numpy/core/_type_aliases.py)\n",
      "]\n",
      "[autoreload of numpy.core.numeric failed: Traceback (most recent call last):\n",
      "  File \"/usr/local/lib/python3.7/dist-packages/IPython/extensions/autoreload.py\", line 247, in check\n",
      "    superreload(m, reload, self.old_objects)\n",
      "ImportError: cannot import name 'int_asbuffer' from 'numpy.core.multiarray' (/usr/local/lib/python3.7/dist-packages/numpy/core/multiarray.py)\n",
      "]\n",
      "[autoreload of numpy.core.fromnumeric failed: Traceback (most recent call last):\n",
      "  File \"/usr/local/lib/python3.7/dist-packages/IPython/extensions/autoreload.py\", line 247, in check\n",
      "    superreload(m, reload, self.old_objects)\n",
      "ImportError: cannot import name 'asarray' from 'numpy.core._asarray' (/usr/local/lib/python3.7/dist-packages/numpy/core/_asarray.py)\n",
      "]\n",
      "[autoreload of numpy.lib failed: Traceback (most recent call last):\n",
      "  File \"/usr/local/lib/python3.7/dist-packages/IPython/extensions/autoreload.py\", line 247, in check\n",
      "    superreload(m, reload, self.old_objects)\n",
      "NameError: name 'type_check' is not defined\n",
      "]\n",
      "[autoreload of numpy.matrixlib failed: Traceback (most recent call last):\n",
      "  File \"/usr/local/lib/python3.7/dist-packages/IPython/extensions/autoreload.py\", line 247, in check\n",
      "    superreload(m, reload, self.old_objects)\n",
      "NameError: name 'defmatrix' is not defined\n",
      "]\n",
      "[autoreload of numpy.linalg.linalg failed: Traceback (most recent call last):\n",
      "  File \"/usr/local/lib/python3.7/dist-packages/IPython/extensions/autoreload.py\", line 247, in check\n",
      "    superreload(m, reload, self.old_objects)\n",
      "ValueError: Only callable can be used as callback\n",
      "]\n"
     ]
    },
    {
     "name": "stdout",
     "output_type": "stream",
     "text": [
      "Keras                         2.3.1\n",
      "Keras-Applications            1.0.8\n",
      "Keras-Preprocessing           1.1.2\n",
      "torch                         1.10.0+cu111\n",
      "torchaudio                    0.10.0+cu111\n",
      "torchsummary                  1.5.1\n",
      "torchtext                     0.11.0\n",
      "torchvision                   0.11.1+cu111\n",
      "transformers                  4.16.2\n"
     ]
    }
   ],
   "source": [
    "# Check library version\n",
    "!pip list | grep -E 'transformers|torch|Keras'"
   ]
  },
  {
   "cell_type": "code",
   "execution_count": 51,
   "metadata": {
    "executionInfo": {
     "elapsed": 6620,
     "status": "ok",
     "timestamp": 1645451939293,
     "user": {
      "displayName": "Yến Ngọc Vũ",
      "photoUrl": "https://lh3.googleusercontent.com/a-/AOh14Gi4wfCuo_NJT2C0JTe2p3mU-XITI80n8F0YvaxHpNI=s64",
      "userId": "00577626419227892200"
     },
     "user_tz": -420
    },
    "id": "9oHUvRU_JpKF"
   },
   "outputs": [],
   "source": [
    "import pandas as pd\n",
    "import math\n",
    "import numpy as np\n",
    "from seqeval.metrics import f1_score\n",
    "from seqeval.metrics import classification_report,accuracy_score,f1_score\n",
    "import torch.nn.functional as F"
   ]
  },
  {
   "cell_type": "code",
   "execution_count": 52,
   "metadata": {
    "executionInfo": {
     "elapsed": 2651,
     "status": "ok",
     "timestamp": 1645451946255,
     "user": {
      "displayName": "Yến Ngọc Vũ",
      "photoUrl": "https://lh3.googleusercontent.com/a-/AOh14Gi4wfCuo_NJT2C0JTe2p3mU-XITI80n8F0YvaxHpNI=s64",
      "userId": "00577626419227892200"
     },
     "user_tz": -420
    },
    "id": "DHR_PTA6JpKG"
   },
   "outputs": [],
   "source": [
    "import torch\n",
    "import os\n",
    "from tqdm import tqdm,trange\n",
    "from torch.optim import Adam\n",
    "from torch.utils.data import TensorDataset, DataLoader, RandomSampler, SequentialSampler\n",
    "from tensorflow.keras.preprocessing.sequence import pad_sequences\n",
    "from sklearn.model_selection import train_test_split\n",
    "from transformers import BertTokenizer, BertConfig\n",
    "from transformers import BertForTokenClassification, AdamW"
   ]
  },
  {
   "cell_type": "markdown",
   "metadata": {
    "id": "xiApfB2aJpKH"
   },
   "source": [
    "This notebook work with env:"
   ]
  },
  {
   "cell_type": "markdown",
   "metadata": {
    "id": "DBOlhGAzJpKJ"
   },
   "source": [
    "- Keras                2.3.1                 \n",
    "- torch                1.1.0                 \n",
    "- transformers         2.5.1      "
   ]
  },
  {
   "cell_type": "markdown",
   "metadata": {
    "id": "0OGI72nhJpKJ"
   },
   "source": [
    "# Introduction"
   ]
  },
  {
   "cell_type": "markdown",
   "metadata": {
    "id": "t0BqLNaMJpKK"
   },
   "source": [
    "In this notebook, will introduce how to do NER with BERT, including:"
   ]
  },
  {
   "cell_type": "markdown",
   "metadata": {
    "id": "PAYT2ZkYJpKK"
   },
   "source": [
    "- Load and preprocess data\n",
    "- Parser data\n",
    "- Make training data\n",
    "- Train model\n",
    "- Evaluate result\n",
    "- **Inference**"
   ]
  },
  {
   "cell_type": "code",
   "execution_count": null,
   "metadata": {
    "executionInfo": {
     "elapsed": 594,
     "status": "aborted",
     "timestamp": 1645451879137,
     "user": {
      "displayName": "Yến Ngọc Vũ",
      "photoUrl": "https://lh3.googleusercontent.com/a-/AOh14Gi4wfCuo_NJT2C0JTe2p3mU-XITI80n8F0YvaxHpNI=s64",
      "userId": "00577626419227892200"
     },
     "user_tz": -420
    },
    "id": "EIwnXzXYJpKM"
   },
   "outputs": [],
   "source": []
  },
  {
   "cell_type": "markdown",
   "metadata": {
    "id": "x8TgfbopJpKM"
   },
   "source": [
    "## Load data"
   ]
  },
  {
   "cell_type": "code",
   "execution_count": null,
   "metadata": {
    "executionInfo": {
     "elapsed": 593,
     "status": "aborted",
     "timestamp": 1645451879137,
     "user": {
      "displayName": "Yến Ngọc Vũ",
      "photoUrl": "https://lh3.googleusercontent.com/a-/AOh14Gi4wfCuo_NJT2C0JTe2p3mU-XITI80n8F0YvaxHpNI=s64",
      "userId": "00577626419227892200"
     },
     "user_tz": -420
    },
    "id": "3KCICFVlhsqD"
   },
   "outputs": [],
   "source": [
    "# connect ggdrive\n",
    "from google.colab import drive\n",
    "drive.mount('/content/drive')"
   ]
  },
  {
   "cell_type": "code",
   "execution_count": 53,
   "metadata": {
    "executionInfo": {
     "elapsed": 593,
     "status": "aborted",
     "timestamp": 1645451879137,
     "user": {
      "displayName": "Yến Ngọc Vũ",
      "photoUrl": "https://lh3.googleusercontent.com/a-/AOh14Gi4wfCuo_NJT2C0JTe2p3mU-XITI80n8F0YvaxHpNI=s64",
      "userId": "00577626419227892200"
     },
     "user_tz": -420
    },
    "id": "M7SxiW1hJpKN"
   },
   "outputs": [],
   "source": [
    "#path=\"/content/drive/MyDrive/LUẬN VĂN-K18_CQ/02. Bình-Ngọc/Data/Dataset/conll/simple/\"\n",
    "path= '/home/tyeson/Desktop/ML_NER/Train_Dataset/'"
   ]
  },
  {
   "cell_type": "code",
   "execution_count": 54,
   "metadata": {
    "executionInfo": {
     "elapsed": 595,
     "status": "aborted",
     "timestamp": 1645451879139,
     "user": {
      "displayName": "Yến Ngọc Vũ",
      "photoUrl": "https://lh3.googleusercontent.com/a-/AOh14Gi4wfCuo_NJT2C0JTe2p3mU-XITI80n8F0YvaxHpNI=s64",
      "userId": "00577626419227892200"
     },
     "user_tz": -420
    },
    "id": "z-un8ZU3JpKN"
   },
   "outputs": [
    {
     "name": "stdout",
     "output_type": "stream",
     "text": [
      "35270\n",
      "136130\n"
     ]
    },
    {
     "data": {
      "text/plain": [
       "'\\nf1 = open(path+\\'pro7.conll\\', \\'r\\', encoding=\"utf-8\")\\nfor i in f1:\\n    l = i.split(\\' \\')\\n    #print(l)\\n    if (i == \\'\\n\\'):\\n        count+=1\\n        continue\\n    if l[0] == \\'-DOCSTART-\\':\\n        continue\\n    sentences.append((count,l[0], l[3].strip(\\'\\n\\')))\\nprint(len(sentences))\\n'"
      ]
     },
     "execution_count": 54,
     "metadata": {},
     "output_type": "execute_result"
    }
   ],
   "source": [
    "# add dataset\n",
    "sentences = []\n",
    "count=0\n",
    "'''\n",
    "f1 = open(path+'csr.conll', 'r', encoding=\"utf-8\")\n",
    "for i in f1:\n",
    "    l = i.split(' ')\n",
    "    #print(l)\n",
    "    if (i == '\\n'):\n",
    "        count+=1\n",
    "        continue\n",
    "    if l[0] == '-DOCSTART-':\n",
    "        continue\n",
    "    sentences.append((count,l[0], l[3].strip('\\n')))\n",
    "f1.close()\n",
    "print(len(sentences))\n",
    "'''\n",
    "f1 = open(path+'udemy_data.conll', 'r', encoding=\"utf-8\")\n",
    "for i in f1:\n",
    "    l = i.split(' ')\n",
    "    if (i == '\\n'):\n",
    "        count+=1\n",
    "        continue\n",
    "    if l[0] == '-DOCSTART-':\n",
    "        continue\n",
    "    sentences.append((count,l[0], l[3].strip('\\n')))\n",
    "f1.close()\n",
    "print(len(sentences));\n",
    "\n",
    "f1 = open(path+'udemy1.conll', 'r', encoding=\"utf-8\")\n",
    "for i in f1:\n",
    "    l = i.split(' ')\n",
    "    #print(l)\n",
    "    if (i == '\\n'):\n",
    "        count+=1\n",
    "        continue\n",
    "    if l[0] == '-DOCSTART-':\n",
    "        continue\n",
    "    sentences.append((count,l[0], l[3].strip('\\n')))\n",
    "print(len(sentences))\n",
    "'''\n",
    "f1 = open(path+'udemy2.conll', 'r', encoding=\"utf-8\")\n",
    "for i in f1:\n",
    "    l = i.split(' ')\n",
    "    #print(l)\n",
    "    if (i == '\\n'):\n",
    "        count+=1\n",
    "        continue\n",
    "    if l[0] == '-DOCSTART-':\n",
    "        continue\n",
    "    sentences.append((count,l[0], l[3].strip('\\n')))\n",
    "print(len(sentences))\n",
    "'''\n",
    "'''\n",
    "f1 = open(path+'pro7.conll', 'r', encoding=\"utf-8\")\n",
    "for i in f1:\n",
    "    l = i.split(' ')\n",
    "    #print(l)\n",
    "    if (i == '\\n'):\n",
    "        count+=1\n",
    "        continue\n",
    "    if l[0] == '-DOCSTART-':\n",
    "        continue\n",
    "    sentences.append((count,l[0], l[3].strip('\\n')))\n",
    "print(len(sentences))\n",
    "'''"
   ]
  },
  {
   "cell_type": "code",
   "execution_count": 55,
   "metadata": {
    "executionInfo": {
     "elapsed": 597,
     "status": "aborted",
     "timestamp": 1645451879142,
     "user": {
      "displayName": "Yến Ngọc Vũ",
      "photoUrl": "https://lh3.googleusercontent.com/a-/AOh14Gi4wfCuo_NJT2C0JTe2p3mU-XITI80n8F0YvaxHpNI=s64",
      "userId": "00577626419227892200"
     },
     "user_tz": -420
    },
    "id": "QcZAddwtJpKO"
   },
   "outputs": [],
   "source": [
    "df_data = pd.DataFrame(sentences, columns=['Sentence #', 'Word', 'Tag'])"
   ]
  },
  {
   "cell_type": "code",
   "execution_count": 56,
   "metadata": {
    "executionInfo": {
     "elapsed": 599,
     "status": "aborted",
     "timestamp": 1645451879144,
     "user": {
      "displayName": "Yến Ngọc Vũ",
      "photoUrl": "https://lh3.googleusercontent.com/a-/AOh14Gi4wfCuo_NJT2C0JTe2p3mU-XITI80n8F0YvaxHpNI=s64",
      "userId": "00577626419227892200"
     },
     "user_tz": -420
    },
    "id": "I9pJJdPpJpKO"
   },
   "outputs": [
    {
     "data": {
      "text/html": [
       "<div>\n",
       "<style scoped>\n",
       "    .dataframe tbody tr th:only-of-type {\n",
       "        vertical-align: middle;\n",
       "    }\n",
       "\n",
       "    .dataframe tbody tr th {\n",
       "        vertical-align: top;\n",
       "    }\n",
       "\n",
       "    .dataframe thead th {\n",
       "        text-align: right;\n",
       "    }\n",
       "</style>\n",
       "<table border=\"1\" class=\"dataframe\">\n",
       "  <thead>\n",
       "    <tr style=\"text-align: right;\">\n",
       "      <th></th>\n",
       "      <th>Sentence #</th>\n",
       "      <th>Word</th>\n",
       "      <th>Tag</th>\n",
       "    </tr>\n",
       "  </thead>\n",
       "  <tbody>\n",
       "    <tr>\n",
       "      <th>0</th>\n",
       "      <td>0</td>\n",
       "      <td>OLAP</td>\n",
       "      <td>B-KNOW</td>\n",
       "    </tr>\n",
       "    <tr>\n",
       "      <th>1</th>\n",
       "      <td>0</td>\n",
       "      <td>vs</td>\n",
       "      <td>O</td>\n",
       "    </tr>\n",
       "    <tr>\n",
       "      <th>2</th>\n",
       "      <td>0</td>\n",
       "      <td>OLTP</td>\n",
       "      <td>B-KNOW</td>\n",
       "    </tr>\n",
       "    <tr>\n",
       "      <th>3</th>\n",
       "      <td>0</td>\n",
       "      <td>databases</td>\n",
       "      <td>B-KNOW</td>\n",
       "    </tr>\n",
       "    <tr>\n",
       "      <th>4</th>\n",
       "      <td>0</td>\n",
       "      <td>.</td>\n",
       "      <td>O</td>\n",
       "    </tr>\n",
       "    <tr>\n",
       "      <th>5</th>\n",
       "      <td>1</td>\n",
       "      <td>Cloud</td>\n",
       "      <td>B-KNOW</td>\n",
       "    </tr>\n",
       "    <tr>\n",
       "      <th>6</th>\n",
       "      <td>1</td>\n",
       "      <td>Storage</td>\n",
       "      <td>I-KNOW</td>\n",
       "    </tr>\n",
       "    <tr>\n",
       "      <th>7</th>\n",
       "      <td>1</td>\n",
       "      <td>.</td>\n",
       "      <td>O</td>\n",
       "    </tr>\n",
       "    <tr>\n",
       "      <th>8</th>\n",
       "      <td>2</td>\n",
       "      <td>Big</td>\n",
       "      <td>B-PLAT</td>\n",
       "    </tr>\n",
       "    <tr>\n",
       "      <th>9</th>\n",
       "      <td>2</td>\n",
       "      <td>Query</td>\n",
       "      <td>I-PLAT</td>\n",
       "    </tr>\n",
       "    <tr>\n",
       "      <th>10</th>\n",
       "      <td>2</td>\n",
       "      <td>.</td>\n",
       "      <td>O</td>\n",
       "    </tr>\n",
       "    <tr>\n",
       "      <th>11</th>\n",
       "      <td>3</td>\n",
       "      <td>Update</td>\n",
       "      <td>O</td>\n",
       "    </tr>\n",
       "    <tr>\n",
       "      <th>12</th>\n",
       "      <td>3</td>\n",
       "      <td>of</td>\n",
       "      <td>O</td>\n",
       "    </tr>\n",
       "    <tr>\n",
       "      <th>13</th>\n",
       "      <td>3</td>\n",
       "      <td>Big</td>\n",
       "      <td>B-PLAT</td>\n",
       "    </tr>\n",
       "    <tr>\n",
       "      <th>14</th>\n",
       "      <td>3</td>\n",
       "      <td>Query</td>\n",
       "      <td>I-PLAT</td>\n",
       "    </tr>\n",
       "    <tr>\n",
       "      <th>15</th>\n",
       "      <td>3</td>\n",
       "      <td>practicals</td>\n",
       "      <td>O</td>\n",
       "    </tr>\n",
       "    <tr>\n",
       "      <th>16</th>\n",
       "      <td>3</td>\n",
       "      <td>including</td>\n",
       "      <td>O</td>\n",
       "    </tr>\n",
       "    <tr>\n",
       "      <th>17</th>\n",
       "      <td>3</td>\n",
       "      <td>authorised</td>\n",
       "      <td>O</td>\n",
       "    </tr>\n",
       "    <tr>\n",
       "      <th>18</th>\n",
       "      <td>3</td>\n",
       "      <td>views</td>\n",
       "      <td>O</td>\n",
       "    </tr>\n",
       "    <tr>\n",
       "      <th>19</th>\n",
       "      <td>3</td>\n",
       "      <td>in</td>\n",
       "      <td>O</td>\n",
       "    </tr>\n",
       "  </tbody>\n",
       "</table>\n",
       "</div>"
      ],
      "text/plain": [
       "    Sentence #        Word     Tag\n",
       "0            0        OLAP  B-KNOW\n",
       "1            0          vs       O\n",
       "2            0        OLTP  B-KNOW\n",
       "3            0   databases  B-KNOW\n",
       "4            0           .       O\n",
       "5            1       Cloud  B-KNOW\n",
       "6            1     Storage  I-KNOW\n",
       "7            1           .       O\n",
       "8            2         Big  B-PLAT\n",
       "9            2       Query  I-PLAT\n",
       "10           2           .       O\n",
       "11           3      Update       O\n",
       "12           3          of       O\n",
       "13           3         Big  B-PLAT\n",
       "14           3       Query  I-PLAT\n",
       "15           3  practicals       O\n",
       "16           3   including       O\n",
       "17           3  authorised       O\n",
       "18           3       views       O\n",
       "19           3          in       O"
      ]
     },
     "execution_count": 56,
     "metadata": {},
     "output_type": "execute_result"
    }
   ],
   "source": [
    "df_data.head(n=20)"
   ]
  },
  {
   "cell_type": "markdown",
   "metadata": {
    "id": "Oy9SdCUKJpKP"
   },
   "source": [
    "**Have a look TAG cat**"
   ]
  },
  {
   "cell_type": "code",
   "execution_count": 57,
   "metadata": {
    "executionInfo": {
     "elapsed": 601,
     "status": "aborted",
     "timestamp": 1645451879146,
     "user": {
      "displayName": "Yến Ngọc Vũ",
      "photoUrl": "https://lh3.googleusercontent.com/a-/AOh14Gi4wfCuo_NJT2C0JTe2p3mU-XITI80n8F0YvaxHpNI=s64",
      "userId": "00577626419227892200"
     },
     "user_tz": -420
    },
    "id": "PiFhpHWyJpKP"
   },
   "outputs": [
    {
     "data": {
      "text/plain": [
       "array(['B-KNOW', 'O', 'I-KNOW', 'B-PLAT', 'I-PLAT', 'B-FRAM', 'I-FRAM',\n",
       "       'B-LANG', 'B-TOOL', 'I-TOOL', 'I-LANG'], dtype=object)"
      ]
     },
     "execution_count": 57,
     "metadata": {},
     "output_type": "execute_result"
    }
   ],
   "source": [
    "df_data.Tag.unique()"
   ]
  },
  {
   "cell_type": "code",
   "execution_count": 58,
   "metadata": {
    "executionInfo": {
     "elapsed": 602,
     "status": "aborted",
     "timestamp": 1645451879148,
     "user": {
      "displayName": "Yến Ngọc Vũ",
      "photoUrl": "https://lh3.googleusercontent.com/a-/AOh14Gi4wfCuo_NJT2C0JTe2p3mU-XITI80n8F0YvaxHpNI=s64",
      "userId": "00577626419227892200"
     },
     "user_tz": -420
    },
    "id": "jr9nR8EnJpKP"
   },
   "outputs": [
    {
     "data": {
      "text/plain": [
       "(8316, 11638, 11)"
      ]
     },
     "execution_count": 58,
     "metadata": {},
     "output_type": "execute_result"
    }
   ],
   "source": [
    "# Analyse summary of data\n",
    "df_data['Sentence #'].nunique(), df_data.Word.nunique(), df_data.Tag.nunique()"
   ]
  },
  {
   "cell_type": "code",
   "execution_count": 59,
   "metadata": {
    "executionInfo": {
     "elapsed": 603,
     "status": "aborted",
     "timestamp": 1645451879149,
     "user": {
      "displayName": "Yến Ngọc Vũ",
      "photoUrl": "https://lh3.googleusercontent.com/a-/AOh14Gi4wfCuo_NJT2C0JTe2p3mU-XITI80n8F0YvaxHpNI=s64",
      "userId": "00577626419227892200"
     },
     "user_tz": -420
    },
    "id": "D9b-DLJFh8jl"
   },
   "outputs": [],
   "source": [
    "word_counts = df_data.groupby(\"Sentence #\")[\"Word\"].agg([\"count\"])\n",
    "word_counts = word_counts.rename(columns={\"count\": \"Word count\"})\n",
    "#word_counts.hist(bins=50, figsize=(8,6));\n",
    "#word_counts.hist(bins=3, figsize=(8,6));"
   ]
  },
  {
   "cell_type": "code",
   "execution_count": 60,
   "metadata": {
    "executionInfo": {
     "elapsed": 603,
     "status": "aborted",
     "timestamp": 1645451879150,
     "user": {
      "displayName": "Yến Ngọc Vũ",
      "photoUrl": "https://lh3.googleusercontent.com/a-/AOh14Gi4wfCuo_NJT2C0JTe2p3mU-XITI80n8F0YvaxHpNI=s64",
      "userId": "00577626419227892200"
     },
     "user_tz": -420
    },
    "id": "kaQp2Xw3h28I"
   },
   "outputs": [
    {
     "name": "stdout",
     "output_type": "stream",
     "text": [
      "Longest sentence in the corpus contains 157 words.\n"
     ]
    }
   ],
   "source": [
    "MAX_SENTENCE = word_counts.max()[0]\n",
    "print(\"Longest sentence in the corpus contains {} words.\".format(MAX_SENTENCE))"
   ]
  },
  {
   "cell_type": "code",
   "execution_count": 61,
   "metadata": {
    "executionInfo": {
     "elapsed": 604,
     "status": "aborted",
     "timestamp": 1645451879151,
     "user": {
      "displayName": "Yến Ngọc Vũ",
      "photoUrl": "https://lh3.googleusercontent.com/a-/AOh14Gi4wfCuo_NJT2C0JTe2p3mU-XITI80n8F0YvaxHpNI=s64",
      "userId": "00577626419227892200"
     },
     "user_tz": -420
    },
    "id": "7uZWj7sMJpKQ"
   },
   "outputs": [
    {
     "data": {
      "text/plain": [
       "O         121892\n",
       "B-KNOW      4888\n",
       "I-KNOW      4350\n",
       "B-TOOL      1326\n",
       "B-LANG      1316\n",
       "B-FRAM       719\n",
       "B-PLAT       615\n",
       "I-TOOL       545\n",
       "I-PLAT       254\n",
       "I-FRAM       186\n",
       "I-LANG        39\n",
       "Name: Tag, dtype: int64"
      ]
     },
     "execution_count": 61,
     "metadata": {},
     "output_type": "execute_result"
    }
   ],
   "source": [
    "# Analyse the Tag distribution\n",
    "df_data.Tag.value_counts()"
   ]
  },
  {
   "cell_type": "code",
   "execution_count": null,
   "metadata": {
    "executionInfo": {
     "elapsed": 605,
     "status": "aborted",
     "timestamp": 1645451879152,
     "user": {
      "displayName": "Yến Ngọc Vũ",
      "photoUrl": "https://lh3.googleusercontent.com/a-/AOh14Gi4wfCuo_NJT2C0JTe2p3mU-XITI80n8F0YvaxHpNI=s64",
      "userId": "00577626419227892200"
     },
     "user_tz": -420
    },
    "id": "kbQ89nwGJpKQ"
   },
   "outputs": [],
   "source": []
  },
  {
   "cell_type": "markdown",
   "metadata": {
    "id": "YpGhCd1eJpKQ"
   },
   "source": [
    "## Parser data"
   ]
  },
  {
   "cell_type": "markdown",
   "metadata": {
    "id": "FCqlp-YJJpKQ"
   },
   "source": [
    "**Parser data into document structure**"
   ]
  },
  {
   "cell_type": "code",
   "execution_count": 62,
   "metadata": {
    "executionInfo": {
     "elapsed": 605,
     "status": "aborted",
     "timestamp": 1645451879153,
     "user": {
      "displayName": "Yến Ngọc Vũ",
      "photoUrl": "https://lh3.googleusercontent.com/a-/AOh14Gi4wfCuo_NJT2C0JTe2p3mU-XITI80n8F0YvaxHpNI=s64",
      "userId": "00577626419227892200"
     },
     "user_tz": -420
    },
    "id": "PNR_EucCJpKR"
   },
   "outputs": [],
   "source": [
    "class SentenceGetter(object):\n",
    "    \n",
    "    def __init__(self, data):\n",
    "        self.n_sent = 1\n",
    "        self.data = data\n",
    "        self.empty = False\n",
    "        agg_func = lambda s: [(w, t) for w, t in zip(s[\"Word\"].values.tolist(),\n",
    "                                                           #s[\"POS\"].values.tolist(),\n",
    "                                                           s[\"Tag\"].values.tolist())]\n",
    "        self.grouped = self.data.groupby(\"Sentence #\").apply(agg_func)\n",
    "        self.sentences = [s for s in self.grouped]\n",
    "    \n",
    "    def get_next(self):\n",
    "        try:\n",
    "            s = self.grouped[\"Sentence: {}\".format(self.n_sent)]\n",
    "            self.n_sent += 1\n",
    "            return s\n",
    "        except:\n",
    "            return None"
   ]
  },
  {
   "cell_type": "code",
   "execution_count": 63,
   "metadata": {
    "executionInfo": {
     "elapsed": 606,
     "status": "aborted",
     "timestamp": 1645451879154,
     "user": {
      "displayName": "Yến Ngọc Vũ",
      "photoUrl": "https://lh3.googleusercontent.com/a-/AOh14Gi4wfCuo_NJT2C0JTe2p3mU-XITI80n8F0YvaxHpNI=s64",
      "userId": "00577626419227892200"
     },
     "user_tz": -420
    },
    "id": "9ac1gdynJpKR"
   },
   "outputs": [],
   "source": [
    "# Get full document data struce\n",
    "getter = SentenceGetter(df_data)"
   ]
  },
  {
   "cell_type": "code",
   "execution_count": 64,
   "metadata": {
    "executionInfo": {
     "elapsed": 607,
     "status": "aborted",
     "timestamp": 1645451879155,
     "user": {
      "displayName": "Yến Ngọc Vũ",
      "photoUrl": "https://lh3.googleusercontent.com/a-/AOh14Gi4wfCuo_NJT2C0JTe2p3mU-XITI80n8F0YvaxHpNI=s64",
      "userId": "00577626419227892200"
     },
     "user_tz": -420
    },
    "id": "Xehyd9wtJpKR"
   },
   "outputs": [
    {
     "data": {
      "text/plain": [
       "['OLAP', 'vs', 'OLTP', 'databases', '.']"
      ]
     },
     "execution_count": 64,
     "metadata": {},
     "output_type": "execute_result"
    }
   ],
   "source": [
    "# Get sentence data\n",
    "sentences = [[s[0] for s in sent] for sent in getter.sentences]\n",
    "sentences[0]"
   ]
  },
  {
   "cell_type": "code",
   "execution_count": 65,
   "metadata": {
    "executionInfo": {
     "elapsed": 607,
     "status": "aborted",
     "timestamp": 1645451879156,
     "user": {
      "displayName": "Yến Ngọc Vũ",
      "photoUrl": "https://lh3.googleusercontent.com/a-/AOh14Gi4wfCuo_NJT2C0JTe2p3mU-XITI80n8F0YvaxHpNI=s64",
      "userId": "00577626419227892200"
     },
     "user_tz": -420
    },
    "id": "KrBcPsRVJpKR"
   },
   "outputs": [
    {
     "name": "stdout",
     "output_type": "stream",
     "text": [
      "['B-KNOW', 'O', 'B-KNOW', 'B-KNOW', 'O']\n"
     ]
    }
   ],
   "source": [
    "# Get pos data\n",
    "poses = [[s[1] for s in sent] for sent in getter.sentences]\n",
    "print(poses[0])"
   ]
  },
  {
   "cell_type": "code",
   "execution_count": 66,
   "metadata": {
    "executionInfo": {
     "elapsed": 608,
     "status": "aborted",
     "timestamp": 1645451879157,
     "user": {
      "displayName": "Yến Ngọc Vũ",
      "photoUrl": "https://lh3.googleusercontent.com/a-/AOh14Gi4wfCuo_NJT2C0JTe2p3mU-XITI80n8F0YvaxHpNI=s64",
      "userId": "00577626419227892200"
     },
     "user_tz": -420
    },
    "id": "xvy3AQKtJpKS"
   },
   "outputs": [
    {
     "name": "stdout",
     "output_type": "stream",
     "text": [
      "['B-KNOW', 'O', 'B-KNOW', 'B-KNOW', 'O']\n"
     ]
    }
   ],
   "source": [
    "# Get tag labels data\n",
    "labels = [[s[1] for s in sent] for sent in getter.sentences]\n",
    "print(labels[0])"
   ]
  },
  {
   "cell_type": "code",
   "execution_count": null,
   "metadata": {
    "executionInfo": {
     "elapsed": 608,
     "status": "aborted",
     "timestamp": 1645451879157,
     "user": {
      "displayName": "Yến Ngọc Vũ",
      "photoUrl": "https://lh3.googleusercontent.com/a-/AOh14Gi4wfCuo_NJT2C0JTe2p3mU-XITI80n8F0YvaxHpNI=s64",
      "userId": "00577626419227892200"
     },
     "user_tz": -420
    },
    "id": "1HvggxTJJpKS"
   },
   "outputs": [],
   "source": []
  },
  {
   "cell_type": "markdown",
   "metadata": {
    "id": "l9gJnT9qJpKS"
   },
   "source": [
    "**Make TAG name into index for training**"
   ]
  },
  {
   "cell_type": "code",
   "execution_count": 67,
   "metadata": {
    "executionInfo": {
     "elapsed": 608,
     "status": "aborted",
     "timestamp": 1645451879158,
     "user": {
      "displayName": "Yến Ngọc Vũ",
      "photoUrl": "https://lh3.googleusercontent.com/a-/AOh14Gi4wfCuo_NJT2C0JTe2p3mU-XITI80n8F0YvaxHpNI=s64",
      "userId": "00577626419227892200"
     },
     "user_tz": -420
    },
    "id": "WdswQ4SxJpKS"
   },
   "outputs": [],
   "source": [
    "tags_vals = list(set(df_data[\"Tag\"].values))"
   ]
  },
  {
   "cell_type": "code",
   "execution_count": 68,
   "metadata": {
    "executionInfo": {
     "elapsed": 611,
     "status": "aborted",
     "timestamp": 1645451879161,
     "user": {
      "displayName": "Yến Ngọc Vũ",
      "photoUrl": "https://lh3.googleusercontent.com/a-/AOh14Gi4wfCuo_NJT2C0JTe2p3mU-XITI80n8F0YvaxHpNI=s64",
      "userId": "00577626419227892200"
     },
     "user_tz": -420
    },
    "id": "xT5H0F3pJpKS"
   },
   "outputs": [],
   "source": [
    "# Add X  label for word piece support\n",
    "# Add [CLS] and [SEP] as BERT need\n",
    "#tags_vals.append('X')\n",
    "tags_vals.append('[CLS]')\n",
    "tags_vals.append('[SEP]')"
   ]
  },
  {
   "cell_type": "code",
   "execution_count": 69,
   "metadata": {
    "executionInfo": {
     "elapsed": 611,
     "status": "aborted",
     "timestamp": 1645451879161,
     "user": {
      "displayName": "Yến Ngọc Vũ",
      "photoUrl": "https://lh3.googleusercontent.com/a-/AOh14Gi4wfCuo_NJT2C0JTe2p3mU-XITI80n8F0YvaxHpNI=s64",
      "userId": "00577626419227892200"
     },
     "user_tz": -420
    },
    "id": "ElgSCMqkJpKT"
   },
   "outputs": [],
   "source": [
    "tags_vals = set(tags_vals)"
   ]
  },
  {
   "cell_type": "code",
   "execution_count": 70,
   "metadata": {
    "executionInfo": {
     "elapsed": 612,
     "status": "aborted",
     "timestamp": 1645451879162,
     "user": {
      "displayName": "Yến Ngọc Vũ",
      "photoUrl": "https://lh3.googleusercontent.com/a-/AOh14Gi4wfCuo_NJT2C0JTe2p3mU-XITI80n8F0YvaxHpNI=s64",
      "userId": "00577626419227892200"
     },
     "user_tz": -420
    },
    "id": "0V2G2kqVJpKT"
   },
   "outputs": [
    {
     "data": {
      "text/plain": [
       "{'B-FRAM',\n",
       " 'B-KNOW',\n",
       " 'B-LANG',\n",
       " 'B-PLAT',\n",
       " 'B-TOOL',\n",
       " 'I-FRAM',\n",
       " 'I-KNOW',\n",
       " 'I-LANG',\n",
       " 'I-PLAT',\n",
       " 'I-TOOL',\n",
       " 'O',\n",
       " '[CLS]',\n",
       " '[SEP]'}"
      ]
     },
     "execution_count": 70,
     "metadata": {},
     "output_type": "execute_result"
    }
   ],
   "source": [
    "tags_vals"
   ]
  },
  {
   "cell_type": "code",
   "execution_count": 71,
   "metadata": {
    "executionInfo": {
     "elapsed": 612,
     "status": "aborted",
     "timestamp": 1645451879163,
     "user": {
      "displayName": "Yến Ngọc Vũ",
      "photoUrl": "https://lh3.googleusercontent.com/a-/AOh14Gi4wfCuo_NJT2C0JTe2p3mU-XITI80n8F0YvaxHpNI=s64",
      "userId": "00577626419227892200"
     },
     "user_tz": -420
    },
    "id": "bsHrn-xEJpKT"
   },
   "outputs": [],
   "source": [
    "# Set a dict for mapping id to tag name\n",
    "#tag2idx = {t: i for i, t in enumerate(tags_vals)}\n",
    "tag2idx= {#'B-CERTIFICATION': 14,\n",
    " 'B-FRAM': 1,\n",
    " 'B-KNOW': 2,\n",
    " 'B-LANG': 3,\n",
    " 'B-PLAT': 4,\n",
    " 'B-TOOL': 5,\n",
    " #'I-CERTIFICATION': 4,\n",
    " 'I-FRAM': 6,\n",
    " 'I-KNOW': 7,\n",
    " 'I-LANG': 8,\n",
    " 'I-PLAT': 9,\n",
    " 'I-TOOL': 10,\n",
    " 'O': 11,\n",
    " #'X': 6,\n",
    " '[CLS]': 12,\n",
    " '[SEP]': 0}"
   ]
  },
  {
   "cell_type": "code",
   "execution_count": 72,
   "metadata": {
    "executionInfo": {
     "elapsed": 612,
     "status": "aborted",
     "timestamp": 1645451879163,
     "user": {
      "displayName": "Yến Ngọc Vũ",
      "photoUrl": "https://lh3.googleusercontent.com/a-/AOh14Gi4wfCuo_NJT2C0JTe2p3mU-XITI80n8F0YvaxHpNI=s64",
      "userId": "00577626419227892200"
     },
     "user_tz": -420
    },
    "id": "Ai-3v9cFJpKT"
   },
   "outputs": [
    {
     "data": {
      "text/plain": [
       "{'B-FRAM': 1,\n",
       " 'B-KNOW': 2,\n",
       " 'B-LANG': 3,\n",
       " 'B-PLAT': 4,\n",
       " 'B-TOOL': 5,\n",
       " 'I-FRAM': 6,\n",
       " 'I-KNOW': 7,\n",
       " 'I-LANG': 8,\n",
       " 'I-PLAT': 9,\n",
       " 'I-TOOL': 10,\n",
       " 'O': 11,\n",
       " '[CLS]': 12,\n",
       " '[SEP]': 0}"
      ]
     },
     "execution_count": 72,
     "metadata": {},
     "output_type": "execute_result"
    }
   ],
   "source": [
    "tag2idx"
   ]
  },
  {
   "cell_type": "code",
   "execution_count": 73,
   "metadata": {
    "executionInfo": {
     "elapsed": 611,
     "status": "aborted",
     "timestamp": 1645451879164,
     "user": {
      "displayName": "Yến Ngọc Vũ",
      "photoUrl": "https://lh3.googleusercontent.com/a-/AOh14Gi4wfCuo_NJT2C0JTe2p3mU-XITI80n8F0YvaxHpNI=s64",
      "userId": "00577626419227892200"
     },
     "user_tz": -420
    },
    "id": "O7-67wElJpKT"
   },
   "outputs": [],
   "source": [
    "# Mapping index to name\n",
    "tag2name={tag2idx[key] : key for key in tag2idx.keys()}"
   ]
  },
  {
   "cell_type": "code",
   "execution_count": null,
   "metadata": {
    "executionInfo": {
     "elapsed": 611,
     "status": "aborted",
     "timestamp": 1645451879164,
     "user": {
      "displayName": "Yến Ngọc Vũ",
      "photoUrl": "https://lh3.googleusercontent.com/a-/AOh14Gi4wfCuo_NJT2C0JTe2p3mU-XITI80n8F0YvaxHpNI=s64",
      "userId": "00577626419227892200"
     },
     "user_tz": -420
    },
    "id": "MMAvxw_eJpKU"
   },
   "outputs": [],
   "source": []
  },
  {
   "cell_type": "markdown",
   "metadata": {
    "id": "sUkNb-oXJpKU"
   },
   "source": [
    "## Make training data"
   ]
  },
  {
   "cell_type": "markdown",
   "metadata": {
    "id": "NYCFPfT0JpKU"
   },
   "source": [
    "- Set gpu environment\n",
    "- Load tokenizer and tokenize\n",
    "- Set 3 embedding, token embedding, mask word embedding, segmentation embedding\n",
    "- Split data set into train and validate, then send them to dataloader"
   ]
  },
  {
   "cell_type": "code",
   "execution_count": null,
   "metadata": {
    "executionInfo": {
     "elapsed": 611,
     "status": "aborted",
     "timestamp": 1645451879165,
     "user": {
      "displayName": "Yến Ngọc Vũ",
      "photoUrl": "https://lh3.googleusercontent.com/a-/AOh14Gi4wfCuo_NJT2C0JTe2p3mU-XITI80n8F0YvaxHpNI=s64",
      "userId": "00577626419227892200"
     },
     "user_tz": -420
    },
    "id": "veYGcE-bJpKU"
   },
   "outputs": [],
   "source": []
  },
  {
   "cell_type": "markdown",
   "metadata": {
    "id": "W_3yiivtJpKU"
   },
   "source": [
    "**Set up gpu environment**"
   ]
  },
  {
   "cell_type": "code",
   "execution_count": 74,
   "metadata": {
    "executionInfo": {
     "elapsed": 611,
     "status": "aborted",
     "timestamp": 1645451879165,
     "user": {
      "displayName": "Yến Ngọc Vũ",
      "photoUrl": "https://lh3.googleusercontent.com/a-/AOh14Gi4wfCuo_NJT2C0JTe2p3mU-XITI80n8F0YvaxHpNI=s64",
      "userId": "00577626419227892200"
     },
     "user_tz": -420
    },
    "id": "2Wqae_tXJpKU"
   },
   "outputs": [],
   "source": [
    "device = torch.device(\"cuda\" if torch.cuda.is_available() else \"cpu\")\n",
    "n_gpu = torch.cuda.device_count()"
   ]
  },
  {
   "cell_type": "code",
   "execution_count": 75,
   "metadata": {
    "executionInfo": {
     "elapsed": 611,
     "status": "aborted",
     "timestamp": 1645451879165,
     "user": {
      "displayName": "Yến Ngọc Vũ",
      "photoUrl": "https://lh3.googleusercontent.com/a-/AOh14Gi4wfCuo_NJT2C0JTe2p3mU-XITI80n8F0YvaxHpNI=s64",
      "userId": "00577626419227892200"
     },
     "user_tz": -420
    },
    "id": "VT8CKJyBJpKV"
   },
   "outputs": [
    {
     "data": {
      "text/plain": [
       "1"
      ]
     },
     "execution_count": 75,
     "metadata": {},
     "output_type": "execute_result"
    }
   ],
   "source": [
    "n_gpu"
   ]
  },
  {
   "cell_type": "markdown",
   "metadata": {
    "id": "C1hImXMGJpKV"
   },
   "source": [
    "### Load tokenizer"
   ]
  },
  {
   "cell_type": "code",
   "execution_count": 76,
   "metadata": {
    "executionInfo": {
     "elapsed": 612,
     "status": "aborted",
     "timestamp": 1645451879166,
     "user": {
      "displayName": "Yến Ngọc Vũ",
      "photoUrl": "https://lh3.googleusercontent.com/a-/AOh14Gi4wfCuo_NJT2C0JTe2p3mU-XITI80n8F0YvaxHpNI=s64",
      "userId": "00577626419227892200"
     },
     "user_tz": -420
    },
    "id": "Bs1QgqWsJpKV"
   },
   "outputs": [],
   "source": [
    "# Len of the sentence must be not bigger than the training model\n",
    "# See model's 'max_position_embeddings' = 512\n",
    "max_len  = 256"
   ]
  },
  {
   "cell_type": "code",
   "execution_count": 77,
   "metadata": {
    "executionInfo": {
     "elapsed": 611,
     "status": "aborted",
     "timestamp": 1645451879166,
     "user": {
      "displayName": "Yến Ngọc Vũ",
      "photoUrl": "https://lh3.googleusercontent.com/a-/AOh14Gi4wfCuo_NJT2C0JTe2p3mU-XITI80n8F0YvaxHpNI=s64",
      "userId": "00577626419227892200"
     },
     "user_tz": -420
    },
    "id": "mRteqfdYMrpn"
   },
   "outputs": [],
   "source": [
    "model_cp=\"bert-base-uncased\""
   ]
  },
  {
   "cell_type": "code",
   "execution_count": 78,
   "metadata": {
    "executionInfo": {
     "elapsed": 612,
     "status": "aborted",
     "timestamp": 1645451879167,
     "user": {
      "displayName": "Yến Ngọc Vũ",
      "photoUrl": "https://lh3.googleusercontent.com/a-/AOh14Gi4wfCuo_NJT2C0JTe2p3mU-XITI80n8F0YvaxHpNI=s64",
      "userId": "00577626419227892200"
     },
     "user_tz": -420
    },
    "id": "yuzvAXUSJpKV"
   },
   "outputs": [],
   "source": [
    "# load tokenizer\n",
    "tokenizer=BertTokenizer.from_pretrained(model_cp)"
   ]
  },
  {
   "cell_type": "code",
   "execution_count": null,
   "metadata": {
    "executionInfo": {
     "elapsed": 614,
     "status": "aborted",
     "timestamp": 1645451879169,
     "user": {
      "displayName": "Yến Ngọc Vũ",
      "photoUrl": "https://lh3.googleusercontent.com/a-/AOh14Gi4wfCuo_NJT2C0JTe2p3mU-XITI80n8F0YvaxHpNI=s64",
      "userId": "00577626419227892200"
     },
     "user_tz": -420
    },
    "id": "KbHH_asUJpKW"
   },
   "outputs": [],
   "source": []
  },
  {
   "cell_type": "code",
   "execution_count": null,
   "metadata": {
    "executionInfo": {
     "elapsed": 615,
     "status": "aborted",
     "timestamp": 1645451879170,
     "user": {
      "displayName": "Yến Ngọc Vũ",
      "photoUrl": "https://lh3.googleusercontent.com/a-/AOh14Gi4wfCuo_NJT2C0JTe2p3mU-XITI80n8F0YvaxHpNI=s64",
      "userId": "00577626419227892200"
     },
     "user_tz": -420
    },
    "id": "aDkXS4YdJpKW"
   },
   "outputs": [],
   "source": []
  },
  {
   "cell_type": "markdown",
   "metadata": {
    "id": "kfDdusRSJpKW"
   },
   "source": [
    "**Tokenizer text**"
   ]
  },
  {
   "cell_type": "code",
   "execution_count": 84,
   "metadata": {
    "executionInfo": {
     "elapsed": 615,
     "status": "aborted",
     "timestamp": 1645451879170,
     "user": {
      "displayName": "Yến Ngọc Vũ",
      "photoUrl": "https://lh3.googleusercontent.com/a-/AOh14Gi4wfCuo_NJT2C0JTe2p3mU-XITI80n8F0YvaxHpNI=s64",
      "userId": "00577626419227892200"
     },
     "user_tz": -420
    },
    "id": "GCYQ6sMwJpKW"
   },
   "outputs": [
    {
     "name": "stdout",
     "output_type": "stream",
     "text": [
      "No.0,len:9\n",
      "texts:[CLS] ol ##ap vs ol ##tp databases . [SEP]\n",
      "No.0,len:9\n",
      "lables:[CLS] B-KNOW I-KNOW O B-KNOW I-KNOW B-KNOW O [SEP]\n",
      "No.1,len:5\n",
      "texts:[CLS] cloud storage . [SEP]\n",
      "No.1,len:5\n",
      "lables:[CLS] B-KNOW I-KNOW O [SEP]\n",
      "No.2,len:5\n",
      "texts:[CLS] big query . [SEP]\n",
      "No.2,len:5\n",
      "lables:[CLS] B-PLAT I-PLAT O [SEP]\n",
      "No.3,len:18\n",
      "texts:[CLS] update of big query practical ##s including authorised views in the new b ##q ui . [SEP]\n",
      "No.3,len:18\n",
      "lables:[CLS] O O B-PLAT I-PLAT O O O O O O O O O O O O [SEP]\n",
      "No.4,len:5\n",
      "texts:[CLS] big ##table . [SEP]\n",
      "No.4,len:5\n",
      "lables:[CLS] B-KNOW I-KNOW O [SEP]\n"
     ]
    }
   ],
   "source": [
    "tokenized_texts = []\n",
    "word_piece_labels = []\n",
    "i_inc = 0\n",
    "for word_list,label in (zip(sentences,labels)):\n",
    "    temp_lable = []\n",
    "    temp_token = []\n",
    "    \n",
    "    # Add [CLS] at the front \n",
    "    temp_lable.append('[CLS]')\n",
    "    temp_token.append('[CLS]')\n",
    "    \n",
    "    for word,lab in zip(word_list,label):\n",
    "        token_list = tokenizer.tokenize(word)\n",
    "        for m,token in enumerate(token_list):\n",
    "            temp_token.append(token)\n",
    "            if m==0:\n",
    "                temp_lable.append(lab)\n",
    "            else:\n",
    "                if lab != 'O':\n",
    "                  temp_lable.append('I-'+lab[2:])\n",
    "                else:\n",
    "                  temp_lable.append('O') \n",
    "                \n",
    "    # Add [SEP] at the end\n",
    "    temp_lable.append('[SEP]')\n",
    "    temp_token.append('[SEP]')\n",
    "    \n",
    "    tokenized_texts.append(temp_token)\n",
    "    word_piece_labels.append(temp_lable)\n",
    "    \n",
    "    if 5 > i_inc:\n",
    "        print(\"No.%d,len:%d\"%(i_inc,len(temp_token)))\n",
    "        print(\"texts:%s\"%(\" \".join(temp_token)))\n",
    "        print(\"No.%d,len:%d\"%(i_inc,len(temp_lable)))\n",
    "        print(\"lables:%s\"%(\" \".join(temp_lable)))\n",
    "    i_inc +=1\n",
    "    \n",
    "    \n",
    "    "
   ]
  },
  {
   "cell_type": "code",
   "execution_count": null,
   "metadata": {
    "executionInfo": {
     "elapsed": 616,
     "status": "aborted",
     "timestamp": 1645451879171,
     "user": {
      "displayName": "Yến Ngọc Vũ",
      "photoUrl": "https://lh3.googleusercontent.com/a-/AOh14Gi4wfCuo_NJT2C0JTe2p3mU-XITI80n8F0YvaxHpNI=s64",
      "userId": "00577626419227892200"
     },
     "user_tz": -420
    },
    "id": "3kIh4aNBJpKW"
   },
   "outputs": [],
   "source": []
  },
  {
   "cell_type": "code",
   "execution_count": null,
   "metadata": {
    "executionInfo": {
     "elapsed": 619,
     "status": "aborted",
     "timestamp": 1645451879175,
     "user": {
      "displayName": "Yến Ngọc Vũ",
      "photoUrl": "https://lh3.googleusercontent.com/a-/AOh14Gi4wfCuo_NJT2C0JTe2p3mU-XITI80n8F0YvaxHpNI=s64",
      "userId": "00577626419227892200"
     },
     "user_tz": -420
    },
    "id": "lpiXQQDiJpKW"
   },
   "outputs": [],
   "source": []
  },
  {
   "cell_type": "code",
   "execution_count": null,
   "metadata": {
    "executionInfo": {
     "elapsed": 621,
     "status": "aborted",
     "timestamp": 1645451879177,
     "user": {
      "displayName": "Yến Ngọc Vũ",
      "photoUrl": "https://lh3.googleusercontent.com/a-/AOh14Gi4wfCuo_NJT2C0JTe2p3mU-XITI80n8F0YvaxHpNI=s64",
      "userId": "00577626419227892200"
     },
     "user_tz": -420
    },
    "id": "fXuJaW5FJpKW"
   },
   "outputs": [],
   "source": []
  },
  {
   "cell_type": "markdown",
   "metadata": {
    "id": "qGzYe6KTJpKX"
   },
   "source": [
    "### Set token embedding"
   ]
  },
  {
   "cell_type": "code",
   "execution_count": 85,
   "metadata": {
    "executionInfo": {
     "elapsed": 621,
     "status": "aborted",
     "timestamp": 1645451879177,
     "user": {
      "displayName": "Yến Ngọc Vũ",
      "photoUrl": "https://lh3.googleusercontent.com/a-/AOh14Gi4wfCuo_NJT2C0JTe2p3mU-XITI80n8F0YvaxHpNI=s64",
      "userId": "00577626419227892200"
     },
     "user_tz": -420
    },
    "id": "6rmg3GeRJpKX"
   },
   "outputs": [
    {
     "name": "stdout",
     "output_type": "stream",
     "text": [
      "[  101 19330  9331  5443 19330 25856 17881  1012   102     0     0     0\n",
      "     0     0     0     0     0     0     0     0     0     0     0     0\n",
      "     0     0     0     0     0     0     0     0     0     0     0     0\n",
      "     0     0     0     0     0     0     0     0     0     0     0     0\n",
      "     0     0     0     0     0     0     0     0     0     0     0     0\n",
      "     0     0     0     0     0     0     0     0     0     0     0     0\n",
      "     0     0     0     0     0     0     0     0     0     0     0     0\n",
      "     0     0     0     0     0     0     0     0     0     0     0     0\n",
      "     0     0     0     0     0     0     0     0     0     0     0     0\n",
      "     0     0     0     0     0     0     0     0     0     0     0     0\n",
      "     0     0     0     0     0     0     0     0     0     0     0     0\n",
      "     0     0     0     0     0     0     0     0     0     0     0     0\n",
      "     0     0     0     0     0     0     0     0     0     0     0     0\n",
      "     0     0     0     0     0     0     0     0     0     0     0     0\n",
      "     0     0     0     0     0     0     0     0     0     0     0     0\n",
      "     0     0     0     0     0     0     0     0     0     0     0     0\n",
      "     0     0     0     0     0     0     0     0     0     0     0     0\n",
      "     0     0     0     0     0     0     0     0     0     0     0     0\n",
      "     0     0     0     0     0     0     0     0     0     0     0     0\n",
      "     0     0     0     0     0     0     0     0     0     0     0     0\n",
      "     0     0     0     0     0     0     0     0     0     0     0     0\n",
      "     0     0     0     0]\n"
     ]
    }
   ],
   "source": [
    "# Make text token into id\n",
    "input_ids = pad_sequences([tokenizer.convert_tokens_to_ids(txt) for txt in tokenized_texts],\n",
    "                          maxlen=max_len, dtype=\"long\", truncating=\"post\", padding=\"post\")\n",
    "print(input_ids[0])"
   ]
  },
  {
   "cell_type": "code",
   "execution_count": 86,
   "metadata": {
    "executionInfo": {
     "elapsed": 621,
     "status": "aborted",
     "timestamp": 1645451879177,
     "user": {
      "displayName": "Yến Ngọc Vũ",
      "photoUrl": "https://lh3.googleusercontent.com/a-/AOh14Gi4wfCuo_NJT2C0JTe2p3mU-XITI80n8F0YvaxHpNI=s64",
      "userId": "00577626419227892200"
     },
     "user_tz": -420
    },
    "id": "nPaJeTPDJpKX"
   },
   "outputs": [
    {
     "name": "stdout",
     "output_type": "stream",
     "text": [
      "[12  2  7 11  2  7  2 11  0 11 11 11 11 11 11 11 11 11 11 11 11 11 11 11\n",
      " 11 11 11 11 11 11 11 11 11 11 11 11 11 11 11 11 11 11 11 11 11 11 11 11\n",
      " 11 11 11 11 11 11 11 11 11 11 11 11 11 11 11 11 11 11 11 11 11 11 11 11\n",
      " 11 11 11 11 11 11 11 11 11 11 11 11 11 11 11 11 11 11 11 11 11 11 11 11\n",
      " 11 11 11 11 11 11 11 11 11 11 11 11 11 11 11 11 11 11 11 11 11 11 11 11\n",
      " 11 11 11 11 11 11 11 11 11 11 11 11 11 11 11 11 11 11 11 11 11 11 11 11\n",
      " 11 11 11 11 11 11 11 11 11 11 11 11 11 11 11 11 11 11 11 11 11 11 11 11\n",
      " 11 11 11 11 11 11 11 11 11 11 11 11 11 11 11 11 11 11 11 11 11 11 11 11\n",
      " 11 11 11 11 11 11 11 11 11 11 11 11 11 11 11 11 11 11 11 11 11 11 11 11\n",
      " 11 11 11 11 11 11 11 11 11 11 11 11 11 11 11 11 11 11 11 11 11 11 11 11\n",
      " 11 11 11 11 11 11 11 11 11 11 11 11 11 11 11 11]\n"
     ]
    }
   ],
   "source": [
    "# Make label into id, pad with \"O\" meaning others\n",
    "tags = pad_sequences([[tag2idx.get(l) for l in lab] for lab in word_piece_labels],\n",
    "                     maxlen=max_len, value=tag2idx[\"O\"], padding=\"post\",\n",
    "                     dtype=\"long\", truncating=\"post\")\n",
    "print(tags[0])"
   ]
  },
  {
   "cell_type": "code",
   "execution_count": null,
   "metadata": {
    "executionInfo": {
     "elapsed": 622,
     "status": "aborted",
     "timestamp": 1645451879178,
     "user": {
      "displayName": "Yến Ngọc Vũ",
      "photoUrl": "https://lh3.googleusercontent.com/a-/AOh14Gi4wfCuo_NJT2C0JTe2p3mU-XITI80n8F0YvaxHpNI=s64",
      "userId": "00577626419227892200"
     },
     "user_tz": -420
    },
    "id": "wcV3vh6PJpKX"
   },
   "outputs": [],
   "source": []
  },
  {
   "cell_type": "markdown",
   "metadata": {
    "id": "aDsu60zfJpKX"
   },
   "source": [
    "### Set mask word embedding"
   ]
  },
  {
   "cell_type": "code",
   "execution_count": 87,
   "metadata": {
    "executionInfo": {
     "elapsed": 625,
     "status": "aborted",
     "timestamp": 1645451879181,
     "user": {
      "displayName": "Yến Ngọc Vũ",
      "photoUrl": "https://lh3.googleusercontent.com/a-/AOh14Gi4wfCuo_NJT2C0JTe2p3mU-XITI80n8F0YvaxHpNI=s64",
      "userId": "00577626419227892200"
     },
     "user_tz": -420
    },
    "id": "ZpQBpkDtJpKX"
   },
   "outputs": [],
   "source": [
    "# For fine tune of predict, with token mask is 1,pad token is 0\n",
    "attention_masks = [[int(i>0) for i in ii] for ii in input_ids]\n",
    "attention_masks[0];"
   ]
  },
  {
   "cell_type": "markdown",
   "metadata": {
    "id": "pV7nwQzuJpKY"
   },
   "source": [
    "### Set segment embedding(Seem like for sequance tagging task, it's not necessary to make this embedding)"
   ]
  },
  {
   "cell_type": "code",
   "execution_count": 88,
   "metadata": {
    "executionInfo": {
     "elapsed": 625,
     "status": "aborted",
     "timestamp": 1645451879182,
     "user": {
      "displayName": "Yến Ngọc Vũ",
      "photoUrl": "https://lh3.googleusercontent.com/a-/AOh14Gi4wfCuo_NJT2C0JTe2p3mU-XITI80n8F0YvaxHpNI=s64",
      "userId": "00577626419227892200"
     },
     "user_tz": -420
    },
    "id": "NxpjL7DmJpKY"
   },
   "outputs": [],
   "source": [
    "# Since only one sentence, all the segment set to 0\n",
    "segment_ids = [[0] * len(input_id) for input_id in input_ids]\n",
    "segment_ids[0];"
   ]
  },
  {
   "cell_type": "code",
   "execution_count": null,
   "metadata": {
    "executionInfo": {
     "elapsed": 626,
     "status": "aborted",
     "timestamp": 1645451879183,
     "user": {
      "displayName": "Yến Ngọc Vũ",
      "photoUrl": "https://lh3.googleusercontent.com/a-/AOh14Gi4wfCuo_NJT2C0JTe2p3mU-XITI80n8F0YvaxHpNI=s64",
      "userId": "00577626419227892200"
     },
     "user_tz": -420
    },
    "id": "ZAcqQ0N2JpKY"
   },
   "outputs": [],
   "source": []
  },
  {
   "cell_type": "markdown",
   "metadata": {
    "id": "33sG-g5FJpKY"
   },
   "source": [
    "## Split data into train and validate"
   ]
  },
  {
   "cell_type": "markdown",
   "metadata": {
    "id": "VzeSqtV-JpKY"
   },
   "source": [
    "70% for training, 30% for validation"
   ]
  },
  {
   "cell_type": "markdown",
   "metadata": {
    "id": "VtULjdiBJpKY"
   },
   "source": [
    "**Split all data**"
   ]
  },
  {
   "cell_type": "code",
   "execution_count": 89,
   "metadata": {
    "executionInfo": {
     "elapsed": 626,
     "status": "aborted",
     "timestamp": 1645451879183,
     "user": {
      "displayName": "Yến Ngọc Vũ",
      "photoUrl": "https://lh3.googleusercontent.com/a-/AOh14Gi4wfCuo_NJT2C0JTe2p3mU-XITI80n8F0YvaxHpNI=s64",
      "userId": "00577626419227892200"
     },
     "user_tz": -420
    },
    "id": "4Ne2dSpkJpKY"
   },
   "outputs": [],
   "source": [
    "tr_inputs, val_inputs, tr_tags, val_tags,tr_masks, val_masks,tr_segs, val_segs = train_test_split(input_ids, tags,attention_masks,segment_ids, \n",
    "                                                            random_state=4, test_size=0.2)"
   ]
  },
  {
   "cell_type": "code",
   "execution_count": 90,
   "metadata": {
    "executionInfo": {
     "elapsed": 627,
     "status": "aborted",
     "timestamp": 1645451879184,
     "user": {
      "displayName": "Yến Ngọc Vũ",
      "photoUrl": "https://lh3.googleusercontent.com/a-/AOh14Gi4wfCuo_NJT2C0JTe2p3mU-XITI80n8F0YvaxHpNI=s64",
      "userId": "00577626419227892200"
     },
     "user_tz": -420
    },
    "id": "cavo976sJpKY"
   },
   "outputs": [
    {
     "data": {
      "text/plain": [
       "(6652, 1664, 6652, 1664)"
      ]
     },
     "execution_count": 90,
     "metadata": {},
     "output_type": "execute_result"
    }
   ],
   "source": [
    "len(tr_inputs),len(val_inputs),len(tr_segs),len(val_segs)"
   ]
  },
  {
   "cell_type": "code",
   "execution_count": null,
   "metadata": {
    "executionInfo": {
     "elapsed": 628,
     "status": "aborted",
     "timestamp": 1645451879185,
     "user": {
      "displayName": "Yến Ngọc Vũ",
      "photoUrl": "https://lh3.googleusercontent.com/a-/AOh14Gi4wfCuo_NJT2C0JTe2p3mU-XITI80n8F0YvaxHpNI=s64",
      "userId": "00577626419227892200"
     },
     "user_tz": -420
    },
    "id": "_UoKmCBdJpKZ"
   },
   "outputs": [],
   "source": []
  },
  {
   "cell_type": "markdown",
   "metadata": {
    "id": "IM1zBWtNJpKZ"
   },
   "source": [
    "**Set data into tensor**"
   ]
  },
  {
   "cell_type": "markdown",
   "metadata": {
    "id": "r2SL18tvJpKZ"
   },
   "source": [
    "Not recommend tensor.to(device) at this process, since it will run out of GPU memory"
   ]
  },
  {
   "cell_type": "code",
   "execution_count": 91,
   "metadata": {
    "executionInfo": {
     "elapsed": 629,
     "status": "aborted",
     "timestamp": 1645451879186,
     "user": {
      "displayName": "Yến Ngọc Vũ",
      "photoUrl": "https://lh3.googleusercontent.com/a-/AOh14Gi4wfCuo_NJT2C0JTe2p3mU-XITI80n8F0YvaxHpNI=s64",
      "userId": "00577626419227892200"
     },
     "user_tz": -420
    },
    "id": "YVpBiATZJpKZ"
   },
   "outputs": [],
   "source": [
    "tr_inputs = torch.tensor(tr_inputs)\n",
    "val_inputs = torch.tensor(val_inputs)\n",
    "tr_tags = torch.tensor(tr_tags)\n",
    "val_tags = torch.tensor(val_tags)\n",
    "tr_masks = torch.tensor(tr_masks)\n",
    "val_masks = torch.tensor(val_masks)\n",
    "tr_segs = torch.tensor(tr_segs)\n",
    "val_segs = torch.tensor(val_segs)"
   ]
  },
  {
   "cell_type": "code",
   "execution_count": null,
   "metadata": {
    "executionInfo": {
     "elapsed": 79,
     "status": "aborted",
     "timestamp": 1645451879191,
     "user": {
      "displayName": "Yến Ngọc Vũ",
      "photoUrl": "https://lh3.googleusercontent.com/a-/AOh14Gi4wfCuo_NJT2C0JTe2p3mU-XITI80n8F0YvaxHpNI=s64",
      "userId": "00577626419227892200"
     },
     "user_tz": -420
    },
    "id": "xDyJ7OQWJpKZ"
   },
   "outputs": [],
   "source": []
  },
  {
   "cell_type": "markdown",
   "metadata": {
    "id": "r7mIVlfbJpKZ"
   },
   "source": [
    "**Put data into data loader**"
   ]
  },
  {
   "cell_type": "code",
   "execution_count": 92,
   "metadata": {
    "executionInfo": {
     "elapsed": 80,
     "status": "aborted",
     "timestamp": 1645451879192,
     "user": {
      "displayName": "Yến Ngọc Vũ",
      "photoUrl": "https://lh3.googleusercontent.com/a-/AOh14Gi4wfCuo_NJT2C0JTe2p3mU-XITI80n8F0YvaxHpNI=s64",
      "userId": "00577626419227892200"
     },
     "user_tz": -420
    },
    "id": "_UCiNRiLJpKZ"
   },
   "outputs": [],
   "source": [
    "# Set batch num\n",
    "batch_num = 32"
   ]
  },
  {
   "cell_type": "code",
   "execution_count": 93,
   "metadata": {
    "executionInfo": {
     "elapsed": 80,
     "status": "aborted",
     "timestamp": 1645451879192,
     "user": {
      "displayName": "Yến Ngọc Vũ",
      "photoUrl": "https://lh3.googleusercontent.com/a-/AOh14Gi4wfCuo_NJT2C0JTe2p3mU-XITI80n8F0YvaxHpNI=s64",
      "userId": "00577626419227892200"
     },
     "user_tz": -420
    },
    "id": "Va_PtvrzJpKZ"
   },
   "outputs": [],
   "source": [
    "# Only set token embedding, attention embedding, no segment embedding\n",
    "train_data = TensorDataset(tr_inputs, tr_masks, tr_tags)\n",
    "train_sampler = RandomSampler(train_data)\n",
    "# Drop last can make batch training better for the last one\n",
    "train_dataloader = DataLoader(train_data, sampler=train_sampler, batch_size=batch_num,drop_last=True)\n",
    "\n",
    "valid_data = TensorDataset(val_inputs, val_masks, val_tags)\n",
    "valid_sampler = SequentialSampler(valid_data)\n",
    "valid_dataloader = DataLoader(valid_data, sampler=valid_sampler, batch_size=batch_num)"
   ]
  },
  {
   "cell_type": "code",
   "execution_count": null,
   "metadata": {
    "executionInfo": {
     "elapsed": 81,
     "status": "aborted",
     "timestamp": 1645451879193,
     "user": {
      "displayName": "Yến Ngọc Vũ",
      "photoUrl": "https://lh3.googleusercontent.com/a-/AOh14Gi4wfCuo_NJT2C0JTe2p3mU-XITI80n8F0YvaxHpNI=s64",
      "userId": "00577626419227892200"
     },
     "user_tz": -420
    },
    "id": "vDvfzampJpKa"
   },
   "outputs": [],
   "source": []
  },
  {
   "cell_type": "markdown",
   "metadata": {
    "id": "4vPC3alLJpKa"
   },
   "source": [
    "## Train model"
   ]
  },
  {
   "cell_type": "markdown",
   "metadata": {
    "id": "iugiI5aCJpKa"
   },
   "source": [
    "**Load BERT model**"
   ]
  },
  {
   "cell_type": "code",
   "execution_count": 94,
   "metadata": {
    "executionInfo": {
     "elapsed": 80,
     "status": "aborted",
     "timestamp": 1645451879193,
     "user": {
      "displayName": "Yến Ngọc Vũ",
      "photoUrl": "https://lh3.googleusercontent.com/a-/AOh14Gi4wfCuo_NJT2C0JTe2p3mU-XITI80n8F0YvaxHpNI=s64",
      "userId": "00577626419227892200"
     },
     "user_tz": -420
    },
    "id": "C9gCG-enifoI"
   },
   "outputs": [],
   "source": [
    "from transformers import XLNetTokenizer, XLNetForTokenClassification"
   ]
  },
  {
   "cell_type": "code",
   "execution_count": 95,
   "metadata": {
    "executionInfo": {
     "elapsed": 81,
     "status": "aborted",
     "timestamp": 1645451879194,
     "user": {
      "displayName": "Yến Ngọc Vũ",
      "photoUrl": "https://lh3.googleusercontent.com/a-/AOh14Gi4wfCuo_NJT2C0JTe2p3mU-XITI80n8F0YvaxHpNI=s64",
      "userId": "00577626419227892200"
     },
     "user_tz": -420
    },
    "id": "_Z4BP-roJpKa"
   },
   "outputs": [],
   "source": [
    "# In this folder, contain model confg(json) and model weight(bin) files\n",
    "model_file_address = 'xlnet-base-cased'"
   ]
  },
  {
   "cell_type": "code",
   "execution_count": 96,
   "metadata": {
    "executionInfo": {
     "elapsed": 82,
     "status": "aborted",
     "timestamp": 1645451879195,
     "user": {
      "displayName": "Yến Ngọc Vũ",
      "photoUrl": "https://lh3.googleusercontent.com/a-/AOh14Gi4wfCuo_NJT2C0JTe2p3mU-XITI80n8F0YvaxHpNI=s64",
      "userId": "00577626419227892200"
     },
     "user_tz": -420
    },
    "id": "8Z-UCUucJpKa"
   },
   "outputs": [
    {
     "name": "stderr",
     "output_type": "stream",
     "text": [
      "Some weights of the model checkpoint at xlnet-base-cased were not used when initializing XLNetForTokenClassification: ['lm_loss.weight', 'lm_loss.bias']\n",
      "- This IS expected if you are initializing XLNetForTokenClassification from the checkpoint of a model trained on another task or with another architecture (e.g. initializing a BertForSequenceClassification model from a BertForPreTraining model).\n",
      "- This IS NOT expected if you are initializing XLNetForTokenClassification from the checkpoint of a model that you expect to be exactly identical (initializing a BertForSequenceClassification model from a BertForSequenceClassification model).\n",
      "Some weights of XLNetForTokenClassification were not initialized from the model checkpoint at xlnet-base-cased and are newly initialized: ['classifier.bias', 'classifier.weight']\n",
      "You should probably TRAIN this model on a down-stream task to be able to use it for predictions and inference.\n"
     ]
    }
   ],
   "source": [
    "# Will load config and weight with from_pretrained()\n",
    "model = XLNetForTokenClassification.from_pretrained(model_file_address,num_labels=len(tag2idx))"
   ]
  },
  {
   "cell_type": "code",
   "execution_count": 97,
   "metadata": {
    "executionInfo": {
     "elapsed": 82,
     "status": "aborted",
     "timestamp": 1645451879195,
     "user": {
      "displayName": "Yến Ngọc Vũ",
      "photoUrl": "https://lh3.googleusercontent.com/a-/AOh14Gi4wfCuo_NJT2C0JTe2p3mU-XITI80n8F0YvaxHpNI=s64",
      "userId": "00577626419227892200"
     },
     "user_tz": -420
    },
    "id": "jvYvC9XIJpKa"
   },
   "outputs": [],
   "source": [
    "model;"
   ]
  },
  {
   "cell_type": "code",
   "execution_count": 58,
   "metadata": {
    "executionInfo": {
     "elapsed": 83,
     "status": "aborted",
     "timestamp": 1645451879196,
     "user": {
      "displayName": "Yến Ngọc Vũ",
      "photoUrl": "https://lh3.googleusercontent.com/a-/AOh14Gi4wfCuo_NJT2C0JTe2p3mU-XITI80n8F0YvaxHpNI=s64",
      "userId": "00577626419227892200"
     },
     "user_tz": -420
    },
    "id": "Y2fAvY-8JpKa"
   },
   "outputs": [
    {
     "ename": "RuntimeError",
     "evalue": "The NVIDIA driver on your system is too old (found version 10010). Please update your GPU driver by downloading and installing a new version from the URL: http://www.nvidia.com/Download/index.aspx Alternatively, go to: https://pytorch.org to install a PyTorch version that has been compiled with your version of the CUDA driver.",
     "output_type": "error",
     "traceback": [
      "\u001b[0;31m---------------------------------------------------------------------------\u001b[0m",
      "\u001b[0;31mRuntimeError\u001b[0m                              Traceback (most recent call last)",
      "Cell \u001b[0;32mIn [58], line 2\u001b[0m\n\u001b[1;32m      1\u001b[0m \u001b[38;5;66;03m# Set model to GPU,if you are using GPU machine\u001b[39;00m\n\u001b[0;32m----> 2\u001b[0m model\u001b[38;5;241m.\u001b[39mcuda()\n",
      "File \u001b[0;32m~/miniconda3/lib/python3.9/site-packages/torch/nn/modules/module.py:689\u001b[0m, in \u001b[0;36mModule.cuda\u001b[0;34m(self, device)\u001b[0m\n\u001b[1;32m    672\u001b[0m \u001b[38;5;28;01mdef\u001b[39;00m \u001b[38;5;21mcuda\u001b[39m(\u001b[38;5;28mself\u001b[39m: T, device: Optional[Union[\u001b[38;5;28mint\u001b[39m, device]] \u001b[38;5;241m=\u001b[39m \u001b[38;5;28;01mNone\u001b[39;00m) \u001b[38;5;241m-\u001b[39m\u001b[38;5;241m>\u001b[39m T:\n\u001b[1;32m    673\u001b[0m     \u001b[38;5;124mr\u001b[39m\u001b[38;5;124;03m\"\"\"Moves all model parameters and buffers to the GPU.\u001b[39;00m\n\u001b[1;32m    674\u001b[0m \n\u001b[1;32m    675\u001b[0m \u001b[38;5;124;03m    This also makes associated parameters and buffers different objects. So\u001b[39;00m\n\u001b[0;32m   (...)\u001b[0m\n\u001b[1;32m    687\u001b[0m \u001b[38;5;124;03m        Module: self\u001b[39;00m\n\u001b[1;32m    688\u001b[0m \u001b[38;5;124;03m    \"\"\"\u001b[39;00m\n\u001b[0;32m--> 689\u001b[0m     \u001b[38;5;28;01mreturn\u001b[39;00m \u001b[38;5;28;43mself\u001b[39;49m\u001b[38;5;241;43m.\u001b[39;49m\u001b[43m_apply\u001b[49m\u001b[43m(\u001b[49m\u001b[38;5;28;43;01mlambda\u001b[39;49;00m\u001b[43m \u001b[49m\u001b[43mt\u001b[49m\u001b[43m:\u001b[49m\u001b[43m \u001b[49m\u001b[43mt\u001b[49m\u001b[38;5;241;43m.\u001b[39;49m\u001b[43mcuda\u001b[49m\u001b[43m(\u001b[49m\u001b[43mdevice\u001b[49m\u001b[43m)\u001b[49m\u001b[43m)\u001b[49m\n",
      "File \u001b[0;32m~/miniconda3/lib/python3.9/site-packages/torch/nn/modules/module.py:579\u001b[0m, in \u001b[0;36mModule._apply\u001b[0;34m(self, fn)\u001b[0m\n\u001b[1;32m    577\u001b[0m \u001b[38;5;28;01mdef\u001b[39;00m \u001b[38;5;21m_apply\u001b[39m(\u001b[38;5;28mself\u001b[39m, fn):\n\u001b[1;32m    578\u001b[0m     \u001b[38;5;28;01mfor\u001b[39;00m module \u001b[38;5;129;01min\u001b[39;00m \u001b[38;5;28mself\u001b[39m\u001b[38;5;241m.\u001b[39mchildren():\n\u001b[0;32m--> 579\u001b[0m         \u001b[43mmodule\u001b[49m\u001b[38;5;241;43m.\u001b[39;49m\u001b[43m_apply\u001b[49m\u001b[43m(\u001b[49m\u001b[43mfn\u001b[49m\u001b[43m)\u001b[49m\n\u001b[1;32m    581\u001b[0m     \u001b[38;5;28;01mdef\u001b[39;00m \u001b[38;5;21mcompute_should_use_set_data\u001b[39m(tensor, tensor_applied):\n\u001b[1;32m    582\u001b[0m         \u001b[38;5;28;01mif\u001b[39;00m torch\u001b[38;5;241m.\u001b[39m_has_compatible_shallow_copy_type(tensor, tensor_applied):\n\u001b[1;32m    583\u001b[0m             \u001b[38;5;66;03m# If the new tensor has compatible tensor type as the existing tensor,\u001b[39;00m\n\u001b[1;32m    584\u001b[0m             \u001b[38;5;66;03m# the current behavior is to change the tensor in-place using `.data =`,\u001b[39;00m\n\u001b[0;32m   (...)\u001b[0m\n\u001b[1;32m    589\u001b[0m             \u001b[38;5;66;03m# global flag to let the user control whether they want the future\u001b[39;00m\n\u001b[1;32m    590\u001b[0m             \u001b[38;5;66;03m# behavior of overwriting the existing tensor or not.\u001b[39;00m\n",
      "File \u001b[0;32m~/miniconda3/lib/python3.9/site-packages/torch/nn/modules/module.py:579\u001b[0m, in \u001b[0;36mModule._apply\u001b[0;34m(self, fn)\u001b[0m\n\u001b[1;32m    577\u001b[0m \u001b[38;5;28;01mdef\u001b[39;00m \u001b[38;5;21m_apply\u001b[39m(\u001b[38;5;28mself\u001b[39m, fn):\n\u001b[1;32m    578\u001b[0m     \u001b[38;5;28;01mfor\u001b[39;00m module \u001b[38;5;129;01min\u001b[39;00m \u001b[38;5;28mself\u001b[39m\u001b[38;5;241m.\u001b[39mchildren():\n\u001b[0;32m--> 579\u001b[0m         \u001b[43mmodule\u001b[49m\u001b[38;5;241;43m.\u001b[39;49m\u001b[43m_apply\u001b[49m\u001b[43m(\u001b[49m\u001b[43mfn\u001b[49m\u001b[43m)\u001b[49m\n\u001b[1;32m    581\u001b[0m     \u001b[38;5;28;01mdef\u001b[39;00m \u001b[38;5;21mcompute_should_use_set_data\u001b[39m(tensor, tensor_applied):\n\u001b[1;32m    582\u001b[0m         \u001b[38;5;28;01mif\u001b[39;00m torch\u001b[38;5;241m.\u001b[39m_has_compatible_shallow_copy_type(tensor, tensor_applied):\n\u001b[1;32m    583\u001b[0m             \u001b[38;5;66;03m# If the new tensor has compatible tensor type as the existing tensor,\u001b[39;00m\n\u001b[1;32m    584\u001b[0m             \u001b[38;5;66;03m# the current behavior is to change the tensor in-place using `.data =`,\u001b[39;00m\n\u001b[0;32m   (...)\u001b[0m\n\u001b[1;32m    589\u001b[0m             \u001b[38;5;66;03m# global flag to let the user control whether they want the future\u001b[39;00m\n\u001b[1;32m    590\u001b[0m             \u001b[38;5;66;03m# behavior of overwriting the existing tensor or not.\u001b[39;00m\n",
      "File \u001b[0;32m~/miniconda3/lib/python3.9/site-packages/torch/nn/modules/module.py:602\u001b[0m, in \u001b[0;36mModule._apply\u001b[0;34m(self, fn)\u001b[0m\n\u001b[1;32m    598\u001b[0m \u001b[38;5;66;03m# Tensors stored in modules are graph leaves, and we don't want to\u001b[39;00m\n\u001b[1;32m    599\u001b[0m \u001b[38;5;66;03m# track autograd history of `param_applied`, so we have to use\u001b[39;00m\n\u001b[1;32m    600\u001b[0m \u001b[38;5;66;03m# `with torch.no_grad():`\u001b[39;00m\n\u001b[1;32m    601\u001b[0m \u001b[38;5;28;01mwith\u001b[39;00m torch\u001b[38;5;241m.\u001b[39mno_grad():\n\u001b[0;32m--> 602\u001b[0m     param_applied \u001b[38;5;241m=\u001b[39m \u001b[43mfn\u001b[49m\u001b[43m(\u001b[49m\u001b[43mparam\u001b[49m\u001b[43m)\u001b[49m\n\u001b[1;32m    603\u001b[0m should_use_set_data \u001b[38;5;241m=\u001b[39m compute_should_use_set_data(param, param_applied)\n\u001b[1;32m    604\u001b[0m \u001b[38;5;28;01mif\u001b[39;00m should_use_set_data:\n",
      "File \u001b[0;32m~/miniconda3/lib/python3.9/site-packages/torch/nn/modules/module.py:689\u001b[0m, in \u001b[0;36mModule.cuda.<locals>.<lambda>\u001b[0;34m(t)\u001b[0m\n\u001b[1;32m    672\u001b[0m \u001b[38;5;28;01mdef\u001b[39;00m \u001b[38;5;21mcuda\u001b[39m(\u001b[38;5;28mself\u001b[39m: T, device: Optional[Union[\u001b[38;5;28mint\u001b[39m, device]] \u001b[38;5;241m=\u001b[39m \u001b[38;5;28;01mNone\u001b[39;00m) \u001b[38;5;241m-\u001b[39m\u001b[38;5;241m>\u001b[39m T:\n\u001b[1;32m    673\u001b[0m     \u001b[38;5;124mr\u001b[39m\u001b[38;5;124;03m\"\"\"Moves all model parameters and buffers to the GPU.\u001b[39;00m\n\u001b[1;32m    674\u001b[0m \n\u001b[1;32m    675\u001b[0m \u001b[38;5;124;03m    This also makes associated parameters and buffers different objects. So\u001b[39;00m\n\u001b[0;32m   (...)\u001b[0m\n\u001b[1;32m    687\u001b[0m \u001b[38;5;124;03m        Module: self\u001b[39;00m\n\u001b[1;32m    688\u001b[0m \u001b[38;5;124;03m    \"\"\"\u001b[39;00m\n\u001b[0;32m--> 689\u001b[0m     \u001b[38;5;28;01mreturn\u001b[39;00m \u001b[38;5;28mself\u001b[39m\u001b[38;5;241m.\u001b[39m_apply(\u001b[38;5;28;01mlambda\u001b[39;00m t: \u001b[43mt\u001b[49m\u001b[38;5;241;43m.\u001b[39;49m\u001b[43mcuda\u001b[49m\u001b[43m(\u001b[49m\u001b[43mdevice\u001b[49m\u001b[43m)\u001b[49m)\n",
      "File \u001b[0;32m~/miniconda3/lib/python3.9/site-packages/torch/cuda/__init__.py:217\u001b[0m, in \u001b[0;36m_lazy_init\u001b[0;34m()\u001b[0m\n\u001b[1;32m    213\u001b[0m     \u001b[38;5;28;01mraise\u001b[39;00m \u001b[38;5;167;01mAssertionError\u001b[39;00m(\n\u001b[1;32m    214\u001b[0m         \u001b[38;5;124m\"\u001b[39m\u001b[38;5;124mlibcudart functions unavailable. It looks like you have a broken build?\u001b[39m\u001b[38;5;124m\"\u001b[39m)\n\u001b[1;32m    215\u001b[0m \u001b[38;5;66;03m# This function throws if there's a driver initialization error, no GPUs\u001b[39;00m\n\u001b[1;32m    216\u001b[0m \u001b[38;5;66;03m# are found or any other error occurs\u001b[39;00m\n\u001b[0;32m--> 217\u001b[0m \u001b[43mtorch\u001b[49m\u001b[38;5;241;43m.\u001b[39;49m\u001b[43m_C\u001b[49m\u001b[38;5;241;43m.\u001b[39;49m\u001b[43m_cuda_init\u001b[49m\u001b[43m(\u001b[49m\u001b[43m)\u001b[49m\n\u001b[1;32m    218\u001b[0m \u001b[38;5;66;03m# Some of the queued calls may reentrantly call _lazy_init();\u001b[39;00m\n\u001b[1;32m    219\u001b[0m \u001b[38;5;66;03m# we need to just return without initializing in that case.\u001b[39;00m\n\u001b[1;32m    220\u001b[0m \u001b[38;5;66;03m# However, we must not let any *other* threads in!\u001b[39;00m\n\u001b[1;32m    221\u001b[0m _tls\u001b[38;5;241m.\u001b[39mis_initializing \u001b[38;5;241m=\u001b[39m \u001b[38;5;28;01mTrue\u001b[39;00m\n",
      "\u001b[0;31mRuntimeError\u001b[0m: The NVIDIA driver on your system is too old (found version 10010). Please update your GPU driver by downloading and installing a new version from the URL: http://www.nvidia.com/Download/index.aspx Alternatively, go to: https://pytorch.org to install a PyTorch version that has been compiled with your version of the CUDA driver."
     ]
    }
   ],
   "source": [
    "# Set model to GPU,if you are using GPU machine\n",
    "model.cuda();"
   ]
  },
  {
   "cell_type": "code",
   "execution_count": 98,
   "metadata": {
    "executionInfo": {
     "elapsed": 83,
     "status": "aborted",
     "timestamp": 1645451879196,
     "user": {
      "displayName": "Yến Ngọc Vũ",
      "photoUrl": "https://lh3.googleusercontent.com/a-/AOh14Gi4wfCuo_NJT2C0JTe2p3mU-XITI80n8F0YvaxHpNI=s64",
      "userId": "00577626419227892200"
     },
     "user_tz": -420
    },
    "id": "lQxjOsx5JpKb"
   },
   "outputs": [],
   "source": [
    "# Add multi GPU support\n",
    "if n_gpu >1:\n",
    "    model = torch.nn.DataParallel(model)"
   ]
  },
  {
   "cell_type": "code",
   "execution_count": 99,
   "metadata": {
    "executionInfo": {
     "elapsed": 84,
     "status": "aborted",
     "timestamp": 1645451879197,
     "user": {
      "displayName": "Yến Ngọc Vũ",
      "photoUrl": "https://lh3.googleusercontent.com/a-/AOh14Gi4wfCuo_NJT2C0JTe2p3mU-XITI80n8F0YvaxHpNI=s64",
      "userId": "00577626419227892200"
     },
     "user_tz": -420
    },
    "id": "vLnAw02eJpKb"
   },
   "outputs": [],
   "source": [
    "# Set epoch and grad max num\n",
    "epochs = 5\n",
    "max_grad_norm = 1.0"
   ]
  },
  {
   "cell_type": "code",
   "execution_count": 100,
   "metadata": {
    "executionInfo": {
     "elapsed": 84,
     "status": "aborted",
     "timestamp": 1645451879197,
     "user": {
      "displayName": "Yến Ngọc Vũ",
      "photoUrl": "https://lh3.googleusercontent.com/a-/AOh14Gi4wfCuo_NJT2C0JTe2p3mU-XITI80n8F0YvaxHpNI=s64",
      "userId": "00577626419227892200"
     },
     "user_tz": -420
    },
    "id": "2sGskkGzJpKb"
   },
   "outputs": [],
   "source": [
    "# Cacluate train optimiazaion num\n",
    "num_train_optimization_steps = int( math.ceil(len(tr_inputs) / batch_num) / 1) * epochs"
   ]
  },
  {
   "cell_type": "code",
   "execution_count": null,
   "metadata": {
    "executionInfo": {
     "elapsed": 85,
     "status": "aborted",
     "timestamp": 1645451879198,
     "user": {
      "displayName": "Yến Ngọc Vũ",
      "photoUrl": "https://lh3.googleusercontent.com/a-/AOh14Gi4wfCuo_NJT2C0JTe2p3mU-XITI80n8F0YvaxHpNI=s64",
      "userId": "00577626419227892200"
     },
     "user_tz": -420
    },
    "id": "IXFYtnrLJpKb"
   },
   "outputs": [],
   "source": []
  },
  {
   "cell_type": "markdown",
   "metadata": {
    "id": "wpPd1d8rJpKb"
   },
   "source": [
    "### Set fine tuning method"
   ]
  },
  {
   "cell_type": "markdown",
   "metadata": {
    "id": "M_4YeLLvJpKb"
   },
   "source": [
    "**Manual optimizer**"
   ]
  },
  {
   "cell_type": "code",
   "execution_count": 101,
   "metadata": {
    "executionInfo": {
     "elapsed": 85,
     "status": "aborted",
     "timestamp": 1645451879198,
     "user": {
      "displayName": "Yến Ngọc Vũ",
      "photoUrl": "https://lh3.googleusercontent.com/a-/AOh14Gi4wfCuo_NJT2C0JTe2p3mU-XITI80n8F0YvaxHpNI=s64",
      "userId": "00577626419227892200"
     },
     "user_tz": -420
    },
    "id": "z18Sx3T9JpKb"
   },
   "outputs": [],
   "source": [
    "# True: fine tuning all the layers \n",
    "# False: only fine tuning the classifier layers\n",
    "FULL_FINETUNING = True"
   ]
  },
  {
   "cell_type": "code",
   "execution_count": 102,
   "metadata": {
    "executionInfo": {
     "elapsed": 86,
     "status": "aborted",
     "timestamp": 1645451879199,
     "user": {
      "displayName": "Yến Ngọc Vũ",
      "photoUrl": "https://lh3.googleusercontent.com/a-/AOh14Gi4wfCuo_NJT2C0JTe2p3mU-XITI80n8F0YvaxHpNI=s64",
      "userId": "00577626419227892200"
     },
     "user_tz": -420
    },
    "id": "DOVfyub1JpKb"
   },
   "outputs": [
    {
     "name": "stderr",
     "output_type": "stream",
     "text": [
      "/home/tyeson/miniconda3/lib/python3.9/site-packages/transformers/optimization.py:306: FutureWarning: This implementation of AdamW is deprecated and will be removed in a future version. Use the PyTorch implementation torch.optim.AdamW instead, or set `no_deprecation_warning=True` to disable this warning\n",
      "  warnings.warn(\n"
     ]
    }
   ],
   "source": [
    "if FULL_FINETUNING:\n",
    "    # Fine tune model all layer parameters\n",
    "    param_optimizer = list(model.named_parameters())\n",
    "    no_decay = ['bias', 'gamma', 'beta']\n",
    "    optimizer_grouped_parameters = [\n",
    "        {'params': [p for n, p in param_optimizer if not any(nd in n for nd in no_decay)],\n",
    "         'weight_decay_rate': 0.01},\n",
    "        {'params': [p for n, p in param_optimizer if any(nd in n for nd in no_decay)],\n",
    "         'weight_decay_rate': 0.0}\n",
    "    ]\n",
    "else:\n",
    "    # Only fine tune classifier parameters\n",
    "    param_optimizer = list(model.classifier.named_parameters()) \n",
    "    optimizer_grouped_parameters = [{\"params\": [p for n, p in param_optimizer]}]\n",
    "optimizer = AdamW(optimizer_grouped_parameters, lr=5e-5)"
   ]
  },
  {
   "cell_type": "code",
   "execution_count": null,
   "metadata": {
    "executionInfo": {
     "elapsed": 86,
     "status": "aborted",
     "timestamp": 1645451879199,
     "user": {
      "displayName": "Yến Ngọc Vũ",
      "photoUrl": "https://lh3.googleusercontent.com/a-/AOh14Gi4wfCuo_NJT2C0JTe2p3mU-XITI80n8F0YvaxHpNI=s64",
      "userId": "00577626419227892200"
     },
     "user_tz": -420
    },
    "id": "JL7eh8OmJpKc"
   },
   "outputs": [],
   "source": []
  },
  {
   "cell_type": "code",
   "execution_count": null,
   "metadata": {
    "executionInfo": {
     "elapsed": 85,
     "status": "aborted",
     "timestamp": 1645451879200,
     "user": {
      "displayName": "Yến Ngọc Vũ",
      "photoUrl": "https://lh3.googleusercontent.com/a-/AOh14Gi4wfCuo_NJT2C0JTe2p3mU-XITI80n8F0YvaxHpNI=s64",
      "userId": "00577626419227892200"
     },
     "user_tz": -420
    },
    "id": "1zAwUiP-JpKc"
   },
   "outputs": [],
   "source": []
  },
  {
   "cell_type": "markdown",
   "metadata": {
    "id": "mZE5uCSrJpKc"
   },
   "source": [
    "### Fine-tuning model"
   ]
  },
  {
   "cell_type": "code",
   "execution_count": 103,
   "metadata": {
    "executionInfo": {
     "elapsed": 87,
     "status": "aborted",
     "timestamp": 1645451879202,
     "user": {
      "displayName": "Yến Ngọc Vũ",
      "photoUrl": "https://lh3.googleusercontent.com/a-/AOh14Gi4wfCuo_NJT2C0JTe2p3mU-XITI80n8F0YvaxHpNI=s64",
      "userId": "00577626419227892200"
     },
     "user_tz": -420
    },
    "id": "N2ZIJnm3JpKc",
    "scrolled": false
   },
   "outputs": [
    {
     "name": "stdout",
     "output_type": "stream",
     "text": [
      "***** Running training *****\n",
      "  Num examples = 6652\n",
      "  Batch size = 32\n",
      "  Num steps = 1040\n"
     ]
    },
    {
     "name": "stderr",
     "output_type": "stream",
     "text": [
      "Epoch:   0%|                                              | 0/5 [00:00<?, ?it/s]\n"
     ]
    },
    {
     "ename": "RuntimeError",
     "evalue": "Expected all tensors to be on the same device, but found at least two devices, cpu and cuda:0! (when checking argument for argument index in method wrapper__index_select)",
     "output_type": "error",
     "traceback": [
      "\u001b[0;31m---------------------------------------------------------------------------\u001b[0m",
      "\u001b[0;31mRuntimeError\u001b[0m                              Traceback (most recent call last)",
      "Cell \u001b[0;32mIn [103], line 22\u001b[0m\n\u001b[1;32m     19\u001b[0m b_input_ids, b_input_mask, b_labels \u001b[38;5;241m=\u001b[39m batch\n\u001b[1;32m     21\u001b[0m \u001b[38;5;66;03m# forward pass\u001b[39;00m\n\u001b[0;32m---> 22\u001b[0m outputs \u001b[38;5;241m=\u001b[39m model(b_input_ids, token_type_ids\u001b[38;5;241m=\u001b[39m\u001b[38;5;28;01mNone\u001b[39;00m,\n\u001b[1;32m     23\u001b[0m attention_mask\u001b[38;5;241m=\u001b[39mb_input_mask, labels\u001b[38;5;241m=\u001b[39mb_labels)\n\u001b[1;32m     24\u001b[0m loss, scores \u001b[38;5;241m=\u001b[39m outputs[:\u001b[38;5;241m2\u001b[39m]\n\u001b[1;32m     25\u001b[0m \u001b[38;5;28;01mif\u001b[39;00m n_gpu\u001b[38;5;241m>\u001b[39m\u001b[38;5;241m1\u001b[39m:\n\u001b[1;32m     26\u001b[0m     \u001b[38;5;66;03m# When multi gpu, average it\u001b[39;00m\n",
      "File \u001b[0;32m~/miniconda3/lib/python3.9/site-packages/torch/nn/modules/module.py:1130\u001b[0m, in \u001b[0;36mModule._call_impl\u001b[0;34m(self, *input, **kwargs)\u001b[0m\n\u001b[1;32m   1126\u001b[0m \u001b[38;5;66;03m# If we don't have any hooks, we want to skip the rest of the logic in\u001b[39;00m\n\u001b[1;32m   1127\u001b[0m \u001b[38;5;66;03m# this function, and just call forward.\u001b[39;00m\n\u001b[1;32m   1128\u001b[0m \u001b[38;5;28;01mif\u001b[39;00m \u001b[38;5;129;01mnot\u001b[39;00m (\u001b[38;5;28mself\u001b[39m\u001b[38;5;241m.\u001b[39m_backward_hooks \u001b[38;5;129;01mor\u001b[39;00m \u001b[38;5;28mself\u001b[39m\u001b[38;5;241m.\u001b[39m_forward_hooks \u001b[38;5;129;01mor\u001b[39;00m \u001b[38;5;28mself\u001b[39m\u001b[38;5;241m.\u001b[39m_forward_pre_hooks \u001b[38;5;129;01mor\u001b[39;00m _global_backward_hooks\n\u001b[1;32m   1129\u001b[0m         \u001b[38;5;129;01mor\u001b[39;00m _global_forward_hooks \u001b[38;5;129;01mor\u001b[39;00m _global_forward_pre_hooks):\n\u001b[0;32m-> 1130\u001b[0m     \u001b[38;5;28;01mreturn\u001b[39;00m \u001b[43mforward_call\u001b[49m\u001b[43m(\u001b[49m\u001b[38;5;241;43m*\u001b[39;49m\u001b[38;5;28;43minput\u001b[39;49m\u001b[43m,\u001b[49m\u001b[43m \u001b[49m\u001b[38;5;241;43m*\u001b[39;49m\u001b[38;5;241;43m*\u001b[39;49m\u001b[43mkwargs\u001b[49m\u001b[43m)\u001b[49m\n\u001b[1;32m   1131\u001b[0m \u001b[38;5;66;03m# Do not call functions when jit is used\u001b[39;00m\n\u001b[1;32m   1132\u001b[0m full_backward_hooks, non_full_backward_hooks \u001b[38;5;241m=\u001b[39m [], []\n",
      "File \u001b[0;32m~/miniconda3/lib/python3.9/site-packages/transformers/models/xlnet/modeling_xlnet.py:1655\u001b[0m, in \u001b[0;36mXLNetForTokenClassification.forward\u001b[0;34m(self, input_ids, attention_mask, mems, perm_mask, target_mapping, token_type_ids, input_mask, head_mask, inputs_embeds, labels, use_mems, output_attentions, output_hidden_states, return_dict, **kwargs)\u001b[0m\n\u001b[1;32m   1648\u001b[0m \u001b[38;5;124mr\u001b[39m\u001b[38;5;124;03m\"\"\"\u001b[39;00m\n\u001b[1;32m   1649\u001b[0m \u001b[38;5;124;03mlabels (`torch.LongTensor` of shape `(batch_size,)`, *optional*):\u001b[39;00m\n\u001b[1;32m   1650\u001b[0m \u001b[38;5;124;03m    Labels for computing the multiple choice classification loss. Indices should be in `[0, ..., num_choices]`\u001b[39;00m\n\u001b[1;32m   1651\u001b[0m \u001b[38;5;124;03m    where *num_choices* is the size of the second dimension of the input tensors. (see *input_ids* above)\u001b[39;00m\n\u001b[1;32m   1652\u001b[0m \u001b[38;5;124;03m\"\"\"\u001b[39;00m\n\u001b[1;32m   1653\u001b[0m return_dict \u001b[38;5;241m=\u001b[39m return_dict \u001b[38;5;28;01mif\u001b[39;00m return_dict \u001b[38;5;129;01mis\u001b[39;00m \u001b[38;5;129;01mnot\u001b[39;00m \u001b[38;5;28;01mNone\u001b[39;00m \u001b[38;5;28;01melse\u001b[39;00m \u001b[38;5;28mself\u001b[39m\u001b[38;5;241m.\u001b[39mconfig\u001b[38;5;241m.\u001b[39muse_return_dict\n\u001b[0;32m-> 1655\u001b[0m outputs \u001b[38;5;241m=\u001b[39m \u001b[38;5;28;43mself\u001b[39;49m\u001b[38;5;241;43m.\u001b[39;49m\u001b[43mtransformer\u001b[49m\u001b[43m(\u001b[49m\n\u001b[1;32m   1656\u001b[0m \u001b[43m    \u001b[49m\u001b[43minput_ids\u001b[49m\u001b[43m,\u001b[49m\n\u001b[1;32m   1657\u001b[0m \u001b[43m    \u001b[49m\u001b[43mattention_mask\u001b[49m\u001b[38;5;241;43m=\u001b[39;49m\u001b[43mattention_mask\u001b[49m\u001b[43m,\u001b[49m\n\u001b[1;32m   1658\u001b[0m \u001b[43m    \u001b[49m\u001b[43mmems\u001b[49m\u001b[38;5;241;43m=\u001b[39;49m\u001b[43mmems\u001b[49m\u001b[43m,\u001b[49m\n\u001b[1;32m   1659\u001b[0m \u001b[43m    \u001b[49m\u001b[43mperm_mask\u001b[49m\u001b[38;5;241;43m=\u001b[39;49m\u001b[43mperm_mask\u001b[49m\u001b[43m,\u001b[49m\n\u001b[1;32m   1660\u001b[0m \u001b[43m    \u001b[49m\u001b[43mtarget_mapping\u001b[49m\u001b[38;5;241;43m=\u001b[39;49m\u001b[43mtarget_mapping\u001b[49m\u001b[43m,\u001b[49m\n\u001b[1;32m   1661\u001b[0m \u001b[43m    \u001b[49m\u001b[43mtoken_type_ids\u001b[49m\u001b[38;5;241;43m=\u001b[39;49m\u001b[43mtoken_type_ids\u001b[49m\u001b[43m,\u001b[49m\n\u001b[1;32m   1662\u001b[0m \u001b[43m    \u001b[49m\u001b[43minput_mask\u001b[49m\u001b[38;5;241;43m=\u001b[39;49m\u001b[43minput_mask\u001b[49m\u001b[43m,\u001b[49m\n\u001b[1;32m   1663\u001b[0m \u001b[43m    \u001b[49m\u001b[43mhead_mask\u001b[49m\u001b[38;5;241;43m=\u001b[39;49m\u001b[43mhead_mask\u001b[49m\u001b[43m,\u001b[49m\n\u001b[1;32m   1664\u001b[0m \u001b[43m    \u001b[49m\u001b[43minputs_embeds\u001b[49m\u001b[38;5;241;43m=\u001b[39;49m\u001b[43minputs_embeds\u001b[49m\u001b[43m,\u001b[49m\n\u001b[1;32m   1665\u001b[0m \u001b[43m    \u001b[49m\u001b[43muse_mems\u001b[49m\u001b[38;5;241;43m=\u001b[39;49m\u001b[43muse_mems\u001b[49m\u001b[43m,\u001b[49m\n\u001b[1;32m   1666\u001b[0m \u001b[43m    \u001b[49m\u001b[43moutput_attentions\u001b[49m\u001b[38;5;241;43m=\u001b[39;49m\u001b[43moutput_attentions\u001b[49m\u001b[43m,\u001b[49m\n\u001b[1;32m   1667\u001b[0m \u001b[43m    \u001b[49m\u001b[43moutput_hidden_states\u001b[49m\u001b[38;5;241;43m=\u001b[39;49m\u001b[43moutput_hidden_states\u001b[49m\u001b[43m,\u001b[49m\n\u001b[1;32m   1668\u001b[0m \u001b[43m    \u001b[49m\u001b[43mreturn_dict\u001b[49m\u001b[38;5;241;43m=\u001b[39;49m\u001b[43mreturn_dict\u001b[49m\u001b[43m,\u001b[49m\n\u001b[1;32m   1669\u001b[0m \u001b[43m\u001b[49m\u001b[43m)\u001b[49m\n\u001b[1;32m   1671\u001b[0m sequence_output \u001b[38;5;241m=\u001b[39m outputs[\u001b[38;5;241m0\u001b[39m]\n\u001b[1;32m   1673\u001b[0m logits \u001b[38;5;241m=\u001b[39m \u001b[38;5;28mself\u001b[39m\u001b[38;5;241m.\u001b[39mclassifier(sequence_output)\n",
      "File \u001b[0;32m~/miniconda3/lib/python3.9/site-packages/torch/nn/modules/module.py:1130\u001b[0m, in \u001b[0;36mModule._call_impl\u001b[0;34m(self, *input, **kwargs)\u001b[0m\n\u001b[1;32m   1126\u001b[0m \u001b[38;5;66;03m# If we don't have any hooks, we want to skip the rest of the logic in\u001b[39;00m\n\u001b[1;32m   1127\u001b[0m \u001b[38;5;66;03m# this function, and just call forward.\u001b[39;00m\n\u001b[1;32m   1128\u001b[0m \u001b[38;5;28;01mif\u001b[39;00m \u001b[38;5;129;01mnot\u001b[39;00m (\u001b[38;5;28mself\u001b[39m\u001b[38;5;241m.\u001b[39m_backward_hooks \u001b[38;5;129;01mor\u001b[39;00m \u001b[38;5;28mself\u001b[39m\u001b[38;5;241m.\u001b[39m_forward_hooks \u001b[38;5;129;01mor\u001b[39;00m \u001b[38;5;28mself\u001b[39m\u001b[38;5;241m.\u001b[39m_forward_pre_hooks \u001b[38;5;129;01mor\u001b[39;00m _global_backward_hooks\n\u001b[1;32m   1129\u001b[0m         \u001b[38;5;129;01mor\u001b[39;00m _global_forward_hooks \u001b[38;5;129;01mor\u001b[39;00m _global_forward_pre_hooks):\n\u001b[0;32m-> 1130\u001b[0m     \u001b[38;5;28;01mreturn\u001b[39;00m \u001b[43mforward_call\u001b[49m\u001b[43m(\u001b[49m\u001b[38;5;241;43m*\u001b[39;49m\u001b[38;5;28;43minput\u001b[39;49m\u001b[43m,\u001b[49m\u001b[43m \u001b[49m\u001b[38;5;241;43m*\u001b[39;49m\u001b[38;5;241;43m*\u001b[39;49m\u001b[43mkwargs\u001b[49m\u001b[43m)\u001b[49m\n\u001b[1;32m   1131\u001b[0m \u001b[38;5;66;03m# Do not call functions when jit is used\u001b[39;00m\n\u001b[1;32m   1132\u001b[0m full_backward_hooks, non_full_backward_hooks \u001b[38;5;241m=\u001b[39m [], []\n",
      "File \u001b[0;32m~/miniconda3/lib/python3.9/site-packages/transformers/models/xlnet/modeling_xlnet.py:1180\u001b[0m, in \u001b[0;36mXLNetModel.forward\u001b[0;34m(self, input_ids, attention_mask, mems, perm_mask, target_mapping, token_type_ids, input_mask, head_mask, inputs_embeds, use_mems, output_attentions, output_hidden_states, return_dict, **kwargs)\u001b[0m\n\u001b[1;32m   1178\u001b[0m     word_emb_k \u001b[38;5;241m=\u001b[39m inputs_embeds\n\u001b[1;32m   1179\u001b[0m \u001b[38;5;28;01melse\u001b[39;00m:\n\u001b[0;32m-> 1180\u001b[0m     word_emb_k \u001b[38;5;241m=\u001b[39m \u001b[38;5;28;43mself\u001b[39;49m\u001b[38;5;241;43m.\u001b[39;49m\u001b[43mword_embedding\u001b[49m\u001b[43m(\u001b[49m\u001b[43minput_ids\u001b[49m\u001b[43m)\u001b[49m\n\u001b[1;32m   1181\u001b[0m output_h \u001b[38;5;241m=\u001b[39m \u001b[38;5;28mself\u001b[39m\u001b[38;5;241m.\u001b[39mdropout(word_emb_k)\n\u001b[1;32m   1182\u001b[0m \u001b[38;5;28;01mif\u001b[39;00m target_mapping \u001b[38;5;129;01mis\u001b[39;00m \u001b[38;5;129;01mnot\u001b[39;00m \u001b[38;5;28;01mNone\u001b[39;00m:\n",
      "File \u001b[0;32m~/miniconda3/lib/python3.9/site-packages/torch/nn/modules/module.py:1130\u001b[0m, in \u001b[0;36mModule._call_impl\u001b[0;34m(self, *input, **kwargs)\u001b[0m\n\u001b[1;32m   1126\u001b[0m \u001b[38;5;66;03m# If we don't have any hooks, we want to skip the rest of the logic in\u001b[39;00m\n\u001b[1;32m   1127\u001b[0m \u001b[38;5;66;03m# this function, and just call forward.\u001b[39;00m\n\u001b[1;32m   1128\u001b[0m \u001b[38;5;28;01mif\u001b[39;00m \u001b[38;5;129;01mnot\u001b[39;00m (\u001b[38;5;28mself\u001b[39m\u001b[38;5;241m.\u001b[39m_backward_hooks \u001b[38;5;129;01mor\u001b[39;00m \u001b[38;5;28mself\u001b[39m\u001b[38;5;241m.\u001b[39m_forward_hooks \u001b[38;5;129;01mor\u001b[39;00m \u001b[38;5;28mself\u001b[39m\u001b[38;5;241m.\u001b[39m_forward_pre_hooks \u001b[38;5;129;01mor\u001b[39;00m _global_backward_hooks\n\u001b[1;32m   1129\u001b[0m         \u001b[38;5;129;01mor\u001b[39;00m _global_forward_hooks \u001b[38;5;129;01mor\u001b[39;00m _global_forward_pre_hooks):\n\u001b[0;32m-> 1130\u001b[0m     \u001b[38;5;28;01mreturn\u001b[39;00m \u001b[43mforward_call\u001b[49m\u001b[43m(\u001b[49m\u001b[38;5;241;43m*\u001b[39;49m\u001b[38;5;28;43minput\u001b[39;49m\u001b[43m,\u001b[49m\u001b[43m \u001b[49m\u001b[38;5;241;43m*\u001b[39;49m\u001b[38;5;241;43m*\u001b[39;49m\u001b[43mkwargs\u001b[49m\u001b[43m)\u001b[49m\n\u001b[1;32m   1131\u001b[0m \u001b[38;5;66;03m# Do not call functions when jit is used\u001b[39;00m\n\u001b[1;32m   1132\u001b[0m full_backward_hooks, non_full_backward_hooks \u001b[38;5;241m=\u001b[39m [], []\n",
      "File \u001b[0;32m~/miniconda3/lib/python3.9/site-packages/torch/nn/modules/sparse.py:158\u001b[0m, in \u001b[0;36mEmbedding.forward\u001b[0;34m(self, input)\u001b[0m\n\u001b[1;32m    157\u001b[0m \u001b[38;5;28;01mdef\u001b[39;00m \u001b[38;5;21mforward\u001b[39m(\u001b[38;5;28mself\u001b[39m, \u001b[38;5;28minput\u001b[39m: Tensor) \u001b[38;5;241m-\u001b[39m\u001b[38;5;241m>\u001b[39m Tensor:\n\u001b[0;32m--> 158\u001b[0m     \u001b[38;5;28;01mreturn\u001b[39;00m \u001b[43mF\u001b[49m\u001b[38;5;241;43m.\u001b[39;49m\u001b[43membedding\u001b[49m\u001b[43m(\u001b[49m\n\u001b[1;32m    159\u001b[0m \u001b[43m        \u001b[49m\u001b[38;5;28;43minput\u001b[39;49m\u001b[43m,\u001b[49m\u001b[43m \u001b[49m\u001b[38;5;28;43mself\u001b[39;49m\u001b[38;5;241;43m.\u001b[39;49m\u001b[43mweight\u001b[49m\u001b[43m,\u001b[49m\u001b[43m \u001b[49m\u001b[38;5;28;43mself\u001b[39;49m\u001b[38;5;241;43m.\u001b[39;49m\u001b[43mpadding_idx\u001b[49m\u001b[43m,\u001b[49m\u001b[43m \u001b[49m\u001b[38;5;28;43mself\u001b[39;49m\u001b[38;5;241;43m.\u001b[39;49m\u001b[43mmax_norm\u001b[49m\u001b[43m,\u001b[49m\n\u001b[1;32m    160\u001b[0m \u001b[43m        \u001b[49m\u001b[38;5;28;43mself\u001b[39;49m\u001b[38;5;241;43m.\u001b[39;49m\u001b[43mnorm_type\u001b[49m\u001b[43m,\u001b[49m\u001b[43m \u001b[49m\u001b[38;5;28;43mself\u001b[39;49m\u001b[38;5;241;43m.\u001b[39;49m\u001b[43mscale_grad_by_freq\u001b[49m\u001b[43m,\u001b[49m\u001b[43m \u001b[49m\u001b[38;5;28;43mself\u001b[39;49m\u001b[38;5;241;43m.\u001b[39;49m\u001b[43msparse\u001b[49m\u001b[43m)\u001b[49m\n",
      "File \u001b[0;32m~/miniconda3/lib/python3.9/site-packages/torch/nn/functional.py:2199\u001b[0m, in \u001b[0;36membedding\u001b[0;34m(input, weight, padding_idx, max_norm, norm_type, scale_grad_by_freq, sparse)\u001b[0m\n\u001b[1;32m   2193\u001b[0m     \u001b[38;5;66;03m# Note [embedding_renorm set_grad_enabled]\u001b[39;00m\n\u001b[1;32m   2194\u001b[0m     \u001b[38;5;66;03m# XXX: equivalent to\u001b[39;00m\n\u001b[1;32m   2195\u001b[0m     \u001b[38;5;66;03m# with torch.no_grad():\u001b[39;00m\n\u001b[1;32m   2196\u001b[0m     \u001b[38;5;66;03m#   torch.embedding_renorm_\u001b[39;00m\n\u001b[1;32m   2197\u001b[0m     \u001b[38;5;66;03m# remove once script supports set_grad_enabled\u001b[39;00m\n\u001b[1;32m   2198\u001b[0m     _no_grad_embedding_renorm_(weight, \u001b[38;5;28minput\u001b[39m, max_norm, norm_type)\n\u001b[0;32m-> 2199\u001b[0m \u001b[38;5;28;01mreturn\u001b[39;00m \u001b[43mtorch\u001b[49m\u001b[38;5;241;43m.\u001b[39;49m\u001b[43membedding\u001b[49m\u001b[43m(\u001b[49m\u001b[43mweight\u001b[49m\u001b[43m,\u001b[49m\u001b[43m \u001b[49m\u001b[38;5;28;43minput\u001b[39;49m\u001b[43m,\u001b[49m\u001b[43m \u001b[49m\u001b[43mpadding_idx\u001b[49m\u001b[43m,\u001b[49m\u001b[43m \u001b[49m\u001b[43mscale_grad_by_freq\u001b[49m\u001b[43m,\u001b[49m\u001b[43m \u001b[49m\u001b[43msparse\u001b[49m\u001b[43m)\u001b[49m\n",
      "\u001b[0;31mRuntimeError\u001b[0m: Expected all tensors to be on the same device, but found at least two devices, cpu and cuda:0! (when checking argument for argument index in method wrapper__index_select)"
     ]
    }
   ],
   "source": [
    "print(\"***** Running training *****\")\n",
    "print(\"  Num examples = %d\"%(len(tr_inputs)))\n",
    "print(\"  Batch size = %d\"%(batch_num))\n",
    "print(\"  Num steps = %d\"%(num_train_optimization_steps))\n",
    "loss_values = []\n",
    "model.train();\n",
    "#validation_loss_values = []\n",
    "\n",
    "for _ in trange(epochs,desc=\"Epoch\"):\n",
    "    # ========================================\n",
    "    #               Training\n",
    "    # ========================================\n",
    "    \n",
    "    tr_loss = 0\n",
    "    nb_tr_examples, nb_tr_steps = 0, 0\n",
    "    for step, batch in enumerate(train_dataloader):\n",
    "        # add batch to gpu\n",
    "        batch = tuple(t.to(device) for t in batch)\n",
    "        b_input_ids, b_input_mask, b_labels = batch\n",
    "        \n",
    "        # forward pass\n",
    "        outputs = model(b_input_ids, token_type_ids=None,\n",
    "        attention_mask=b_input_mask, labels=b_labels)\n",
    "        loss, scores = outputs[:2]\n",
    "        if n_gpu>1:\n",
    "            # When multi gpu, average it\n",
    "            loss = loss.mean()\n",
    "        \n",
    "        # backward pass\n",
    "        loss.backward()\n",
    "        \n",
    "        # track train loss\n",
    "        tr_loss += loss.item()\n",
    "        nb_tr_examples += b_input_ids.size(0)\n",
    "        nb_tr_steps += 1\n",
    "        \n",
    "        # gradient clipping\n",
    "        torch.nn.utils.clip_grad_norm_(parameters=model.parameters(), max_norm=max_grad_norm)\n",
    "        \n",
    "        # update parameters\n",
    "        optimizer.step()\n",
    "        optimizer.zero_grad()\n",
    "        \n",
    "    # print train loss per epoch\n",
    "    avg_train_loss= tr_loss/nb_tr_steps \n",
    "    print(\"Train loss: {}\".format(avg_train_loss))\n",
    "     \n",
    "    # Store the loss value for plotting the learning curve.\n",
    "    loss_values.append(avg_train_loss)"
   ]
  },
  {
   "cell_type": "code",
   "execution_count": 50,
   "metadata": {
    "executionInfo": {
     "elapsed": 88,
     "status": "aborted",
     "timestamp": 1645451879203,
     "user": {
      "displayName": "Yến Ngọc Vũ",
      "photoUrl": "https://lh3.googleusercontent.com/a-/AOh14Gi4wfCuo_NJT2C0JTe2p3mU-XITI80n8F0YvaxHpNI=s64",
      "userId": "00577626419227892200"
     },
     "user_tz": -420
    },
    "id": "rZoSQ2CDJpKc"
   },
   "outputs": [
    {
     "data": {
      "image/png": "[encoded data removed]",
      "text/plain": [
       "<Figure size 640x480 with 1 Axes>"
      ]
     },
     "metadata": {},
     "output_type": "display_data"
    }
   ],
   "source": [
    "import matplotlib.pyplot as plt\n",
    "%matplotlib inline\n",
    "# Plot the learning curve.\n",
    "plt.plot(loss_values, 'b-o', label=\"training loss\")\n",
    "#plt.plot(validation_loss_values, 'r-o', label=\"validation loss\")\n",
    "\n",
    "# Label the plot.\n",
    "plt.title(\"Learning curve\")\n",
    "plt.xlabel(\"Epoch\")\n",
    "plt.ylabel(\"Loss\")\n",
    "plt.legend() \n",
    "\n",
    "plt.show()"
   ]
  },
  {
   "cell_type": "markdown",
   "metadata": {
    "id": "nQGPCcBxJpKd"
   },
   "source": [
    "## Save model "
   ]
  },
  {
   "cell_type": "code",
   "execution_count": null,
   "metadata": {
    "executionInfo": {
     "elapsed": 89,
     "status": "aborted",
     "timestamp": 1645451879204,
     "user": {
      "displayName": "Yến Ngọc Vũ",
      "photoUrl": "https://lh3.googleusercontent.com/a-/AOh14Gi4wfCuo_NJT2C0JTe2p3mU-XITI80n8F0YvaxHpNI=s64",
      "userId": "00577626419227892200"
     },
     "user_tz": -420
    },
    "id": "g5p6NSuqJpKd"
   },
   "outputs": [],
   "source": [
    "#bert_out_address = '/content/models/bert_out_model/en09'\n",
    "#bert_out_address =\"/content/drive/MyDrive/LUẬN VĂN-K18_CQ/02. Bình-Ngọc/Data/Dataset/conll/b_simp\"\n",
    "bert_out_address = '/home/tyeson/Desktop/ML_NER/Test_Train_Dataset/'"
   ]
  },
  {
   "cell_type": "code",
   "execution_count": null,
   "metadata": {
    "executionInfo": {
     "elapsed": 89,
     "status": "aborted",
     "timestamp": 1645451879204,
     "user": {
      "displayName": "Yến Ngọc Vũ",
      "photoUrl": "https://lh3.googleusercontent.com/a-/AOh14Gi4wfCuo_NJT2C0JTe2p3mU-XITI80n8F0YvaxHpNI=s64",
      "userId": "00577626419227892200"
     },
     "user_tz": -420
    },
    "id": "tyuK5q98JpKd"
   },
   "outputs": [],
   "source": [
    "# Make dir if not exits\n",
    "if not os.path.exists(bert_out_address):\n",
    "        os.makedirs(bert_out_address)"
   ]
  },
  {
   "cell_type": "code",
   "execution_count": null,
   "metadata": {
    "executionInfo": {
     "elapsed": 89,
     "status": "aborted",
     "timestamp": 1645451879204,
     "user": {
      "displayName": "Yến Ngọc Vũ",
      "photoUrl": "https://lh3.googleusercontent.com/a-/AOh14Gi4wfCuo_NJT2C0JTe2p3mU-XITI80n8F0YvaxHpNI=s64",
      "userId": "00577626419227892200"
     },
     "user_tz": -420
    },
    "id": "UqDNnBBEJpKd"
   },
   "outputs": [],
   "source": [
    "# Save a trained model, configuration and tokenizer\n",
    "model_to_save = model.module if hasattr(model, 'module') else model  # Only save the model it-self"
   ]
  },
  {
   "cell_type": "code",
   "execution_count": null,
   "metadata": {
    "executionInfo": {
     "elapsed": 90,
     "status": "aborted",
     "timestamp": 1645451879205,
     "user": {
      "displayName": "Yến Ngọc Vũ",
      "photoUrl": "https://lh3.googleusercontent.com/a-/AOh14Gi4wfCuo_NJT2C0JTe2p3mU-XITI80n8F0YvaxHpNI=s64",
      "userId": "00577626419227892200"
     },
     "user_tz": -420
    },
    "id": "dfSuKWfpJpKd"
   },
   "outputs": [],
   "source": [
    "# If we save using the predefined names, we can load using `from_pretrained`\n",
    "output_model_file = os.path.join(bert_out_address, \"pytorch_model.bin\")\n",
    "output_config_file = os.path.join(bert_out_address, \"config.json\")"
   ]
  },
  {
   "cell_type": "code",
   "execution_count": null,
   "metadata": {
    "executionInfo": {
     "elapsed": 89,
     "status": "aborted",
     "timestamp": 1645451879205,
     "user": {
      "displayName": "Yến Ngọc Vũ",
      "photoUrl": "https://lh3.googleusercontent.com/a-/AOh14Gi4wfCuo_NJT2C0JTe2p3mU-XITI80n8F0YvaxHpNI=s64",
      "userId": "00577626419227892200"
     },
     "user_tz": -420
    },
    "id": "Zt5fT8SzJpKd",
    "scrolled": false
   },
   "outputs": [],
   "source": [
    "# Save model into file\n",
    "torch.save(model_to_save.state_dict(), output_model_file)\n",
    "model_to_save.config.to_json_file(output_config_file)\n",
    "tokenizer.save_vocabulary(bert_out_address)"
   ]
  },
  {
   "cell_type": "code",
   "execution_count": null,
   "metadata": {
    "executionInfo": {
     "elapsed": 90,
     "status": "aborted",
     "timestamp": 1645451879206,
     "user": {
      "displayName": "Yến Ngọc Vũ",
      "photoUrl": "https://lh3.googleusercontent.com/a-/AOh14Gi4wfCuo_NJT2C0JTe2p3mU-XITI80n8F0YvaxHpNI=s64",
      "userId": "00577626419227892200"
     },
     "user_tz": -420
    },
    "id": "M9EUHfMJJpKe"
   },
   "outputs": [],
   "source": []
  },
  {
   "cell_type": "code",
   "execution_count": null,
   "metadata": {
    "executionInfo": {
     "elapsed": 90,
     "status": "aborted",
     "timestamp": 1645451879206,
     "user": {
      "displayName": "Yến Ngọc Vũ",
      "photoUrl": "https://lh3.googleusercontent.com/a-/AOh14Gi4wfCuo_NJT2C0JTe2p3mU-XITI80n8F0YvaxHpNI=s64",
      "userId": "00577626419227892200"
     },
     "user_tz": -420
    },
    "id": "m1voUUkYJpKe"
   },
   "outputs": [],
   "source": []
  },
  {
   "cell_type": "markdown",
   "metadata": {
    "id": "TquWjwNMJpKe"
   },
   "source": [
    "## Load model"
   ]
  },
  {
   "cell_type": "code",
   "execution_count": null,
   "metadata": {
    "executionInfo": {
     "elapsed": 91,
     "status": "aborted",
     "timestamp": 1645451879207,
     "user": {
      "displayName": "Yến Ngọc Vũ",
      "photoUrl": "https://lh3.googleusercontent.com/a-/AOh14Gi4wfCuo_NJT2C0JTe2p3mU-XITI80n8F0YvaxHpNI=s64",
      "userId": "00577626419227892200"
     },
     "user_tz": -420
    },
    "id": "W8qol3OnJpKe"
   },
   "outputs": [],
   "source": [
    "model = XLNetForTokenClassification.from_pretrained(bert_out_address,num_labels=len(tag2idx))"
   ]
  },
  {
   "cell_type": "code",
   "execution_count": null,
   "metadata": {
    "executionInfo": {
     "elapsed": 91,
     "status": "aborted",
     "timestamp": 1645451879207,
     "user": {
      "displayName": "Yến Ngọc Vũ",
      "photoUrl": "https://lh3.googleusercontent.com/a-/AOh14Gi4wfCuo_NJT2C0JTe2p3mU-XITI80n8F0YvaxHpNI=s64",
      "userId": "00577626419227892200"
     },
     "user_tz": -420
    },
    "id": "76G2GFk8JpKe"
   },
   "outputs": [],
   "source": [
    "# Set model to GPU\n",
    "model.cuda();"
   ]
  },
  {
   "cell_type": "code",
   "execution_count": null,
   "metadata": {
    "executionInfo": {
     "elapsed": 92,
     "status": "aborted",
     "timestamp": 1645451879208,
     "user": {
      "displayName": "Yến Ngọc Vũ",
      "photoUrl": "https://lh3.googleusercontent.com/a-/AOh14Gi4wfCuo_NJT2C0JTe2p3mU-XITI80n8F0YvaxHpNI=s64",
      "userId": "00577626419227892200"
     },
     "user_tz": -420
    },
    "id": "7ZhLRoGCJpKe"
   },
   "outputs": [],
   "source": [
    "if n_gpu >1:\n",
    "    model = torch.nn.DataParallel(model)"
   ]
  },
  {
   "cell_type": "code",
   "execution_count": null,
   "metadata": {
    "executionInfo": {
     "elapsed": 92,
     "status": "aborted",
     "timestamp": 1645451879208,
     "user": {
      "displayName": "Yến Ngọc Vũ",
      "photoUrl": "https://lh3.googleusercontent.com/a-/AOh14Gi4wfCuo_NJT2C0JTe2p3mU-XITI80n8F0YvaxHpNI=s64",
      "userId": "00577626419227892200"
     },
     "user_tz": -420
    },
    "id": "q7RSndkRJpKe"
   },
   "outputs": [],
   "source": []
  },
  {
   "cell_type": "code",
   "execution_count": null,
   "metadata": {
    "executionInfo": {
     "elapsed": 91,
     "status": "aborted",
     "timestamp": 1645451879208,
     "user": {
      "displayName": "Yến Ngọc Vũ",
      "photoUrl": "https://lh3.googleusercontent.com/a-/AOh14Gi4wfCuo_NJT2C0JTe2p3mU-XITI80n8F0YvaxHpNI=s64",
      "userId": "00577626419227892200"
     },
     "user_tz": -420
    },
    "id": "A-3MIqz8JpKe"
   },
   "outputs": [],
   "source": []
  },
  {
   "cell_type": "markdown",
   "metadata": {
    "id": "PUzTb2aGJpKf"
   },
   "source": [
    "## Eval model"
   ]
  },
  {
   "cell_type": "code",
   "execution_count": null,
   "metadata": {
    "executionInfo": {
     "elapsed": 92,
     "status": "aborted",
     "timestamp": 1645451879209,
     "user": {
      "displayName": "Yến Ngọc Vũ",
      "photoUrl": "https://lh3.googleusercontent.com/a-/AOh14Gi4wfCuo_NJT2C0JTe2p3mU-XITI80n8F0YvaxHpNI=s64",
      "userId": "00577626419227892200"
     },
     "user_tz": -420
    },
    "id": "aMfD5FYpJpKf"
   },
   "outputs": [],
   "source": [
    "# Evalue loop\n",
    "model.eval();"
   ]
  },
  {
   "cell_type": "code",
   "execution_count": null,
   "metadata": {
    "executionInfo": {
     "elapsed": 92,
     "status": "aborted",
     "timestamp": 1645451879209,
     "user": {
      "displayName": "Yến Ngọc Vũ",
      "photoUrl": "https://lh3.googleusercontent.com/a-/AOh14Gi4wfCuo_NJT2C0JTe2p3mU-XITI80n8F0YvaxHpNI=s64",
      "userId": "00577626419227892200"
     },
     "user_tz": -420
    },
    "id": "y1ttH9fOJpKf"
   },
   "outputs": [],
   "source": [
    "eval_loss, eval_accuracy = 0, 0\n",
    "nb_eval_steps, nb_eval_examples = 0, 0\n",
    "y_true = []\n",
    "y_pred = []\n",
    "\n",
    "print(\"***** Running evaluation *****\")\n",
    "print(\"  Num examples ={}\".format(len(val_inputs)))\n",
    "print(\"  Batch size = {}\".format(batch_num))\n",
    "for step, batch in enumerate(valid_dataloader):\n",
    "    batch = tuple(t.to(device) for t in batch)\n",
    "    input_ids, input_mask, label_ids = batch\n",
    "    \n",
    "#     if step > 2:\n",
    "#         break\n",
    "    \n",
    "    with torch.no_grad():\n",
    "        outputs = model(input_ids, token_type_ids=None,\n",
    "        attention_mask=input_mask,)\n",
    "        # For eval mode, the first result of outputs is logits\n",
    "        logits = outputs[0] \n",
    "    \n",
    "    # Get NER predict result\n",
    "    logits = torch.argmax(F.log_softmax(logits,dim=2),dim=2)\n",
    "    logits = logits.detach().cpu().numpy()\n",
    "    \n",
    "    \n",
    "    # Get NER true result\n",
    "    label_ids = label_ids.to('cpu').numpy()\n",
    "    \n",
    "    \n",
    "    # Only predict the real word, mark=0, will not calculate\n",
    "    input_mask = input_mask.to('cpu').numpy()\n",
    "    \n",
    "    # Compare the valuable predict result\n",
    "    for i,mask in enumerate(input_mask):\n",
    "        # Real one\n",
    "        temp_1 = []\n",
    "        # Predict one\n",
    "        temp_2 = []\n",
    "        \n",
    "        for j, m in enumerate(mask):\n",
    "            # Mark=0, meaning its a pad word, dont compare\n",
    "            if m:\n",
    "                if tag2name[label_ids[i][j]] != \"\" and tag2name[label_ids[i][j]] != \"X\" and tag2name[label_ids[i][j]] != \"[CLS]\" and tag2name[label_ids[i][j]] != \"[SEP]\" : # Exclude the X label\n",
    "                    temp_1.append(tag2name[label_ids[i][j]])\n",
    "                    temp_2.append(tag2name[logits[i][j]])\n",
    "            else:\n",
    "                break\n",
    "        \n",
    "        y_true.append(temp_1)\n",
    "        y_pred.append(temp_2)\n",
    "print(len(y_true))\n",
    "print(len(y_pred))\n",
    "        \n",
    "print(\"f1 socre: %f\"%(f1_score(y_true, y_pred)))\n",
    "print(\"Accuracy score: %f\"%(accuracy_score(y_true, y_pred)))\n",
    "\n",
    "# Get acc , recall, F1 result report\n",
    "report = classification_report(y_true, y_pred,digits=4)\n",
    "print(report)\n"
   ]
  },
  {
   "cell_type": "code",
   "execution_count": null,
   "metadata": {
    "executionInfo": {
     "elapsed": 93,
     "status": "aborted",
     "timestamp": 1645451879210,
     "user": {
      "displayName": "Yến Ngọc Vũ",
      "photoUrl": "https://lh3.googleusercontent.com/a-/AOh14Gi4wfCuo_NJT2C0JTe2p3mU-XITI80n8F0YvaxHpNI=s64",
      "userId": "00577626419227892200"
     },
     "user_tz": -420
    },
    "id": "myi3emKvgAMf"
   },
   "outputs": [],
   "source": [
    "print(\"f1 socre: %f\"%(f1_score(y_true, y_pred)))"
   ]
  },
  {
   "cell_type": "code",
   "execution_count": null,
   "metadata": {
    "executionInfo": {
     "elapsed": 93,
     "status": "aborted",
     "timestamp": 1645451879210,
     "user": {
      "displayName": "Yến Ngọc Vũ",
      "photoUrl": "https://lh3.googleusercontent.com/a-/AOh14Gi4wfCuo_NJT2C0JTe2p3mU-XITI80n8F0YvaxHpNI=s64",
      "userId": "00577626419227892200"
     },
     "user_tz": -420
    },
    "id": "CNP2Oc4qJpKf"
   },
   "outputs": [],
   "source": [
    "# Debug =))\n",
    "ele= [j for i in y_true for j in i]\n",
    "myset = set(ele)\n",
    "print(myset)\n"
   ]
  },
  {
   "cell_type": "code",
   "execution_count": null,
   "metadata": {
    "executionInfo": {
     "elapsed": 95,
     "status": "aborted",
     "timestamp": 1645451879212,
     "user": {
      "displayName": "Yến Ngọc Vũ",
      "photoUrl": "https://lh3.googleusercontent.com/a-/AOh14Gi4wfCuo_NJT2C0JTe2p3mU-XITI80n8F0YvaxHpNI=s64",
      "userId": "00577626419227892200"
     },
     "user_tz": -420
    },
    "id": "RVGMyaCBJpKf"
   },
   "outputs": [],
   "source": [
    "# Save the report into file\n",
    "output_eval_file = os.path.join(bert_out_address, \"eval_results.txt\")\n",
    "with open(output_eval_file, \"w\") as writer:\n",
    "    print(\"***** Eval results *****\")\n",
    "    print(\"\\n%s\"%(report))\n",
    "    print(\"f1 socre: %f\"%(f1_score(y_true, y_pred)))\n",
    "    print(\"Accuracy score: %f\"%(accuracy_score(y_true, y_pred)))\n",
    "    \n",
    "    writer.write(\"f1 socre:\\n\")\n",
    "    writer.write(str(f1_score(y_true, y_pred)))\n",
    "    writer.write(\"\\n\\nAccuracy score:\\n\")\n",
    "    writer.write(str(accuracy_score(y_true, y_pred)))\n",
    "    writer.write(\"\\n\\n\")  \n",
    "    writer.write(report)"
   ]
  },
  {
   "cell_type": "markdown",
   "metadata": {
    "id": "Of40o5lAJpKf"
   },
   "source": [
    "## Inference"
   ]
  },
  {
   "cell_type": "markdown",
   "metadata": {
    "id": "7MblRvlHJpKf"
   },
   "source": [
    "After we trained a model, we can make it into service ---- sending a new sentence to the model,then get the prediction."
   ]
  },
  {
   "cell_type": "markdown",
   "metadata": {
    "id": "sj_XFJPkJpKg"
   },
   "source": [
    "The process contains:"
   ]
  },
  {
   "cell_type": "markdown",
   "metadata": {
    "id": "XqGmttSRJpKg"
   },
   "source": [
    "- Load model\n",
    "- Load tokenizer\n",
    "- Set test query\n",
    "- Make query into embedding\n",
    "- Predict with model\n",
    "- Parser result"
   ]
  },
  {
   "cell_type": "code",
   "execution_count": null,
   "metadata": {
    "executionInfo": {
     "elapsed": 95,
     "status": "aborted",
     "timestamp": 1645451879213,
     "user": {
      "displayName": "Yến Ngọc Vũ",
      "photoUrl": "https://lh3.googleusercontent.com/a-/AOh14Gi4wfCuo_NJT2C0JTe2p3mU-XITI80n8F0YvaxHpNI=s64",
      "userId": "00577626419227892200"
     },
     "user_tz": -420
    },
    "id": "qBWewODCJpKg"
   },
   "outputs": [],
   "source": []
  },
  {
   "cell_type": "markdown",
   "metadata": {
    "id": "emMs8sSnJpKg"
   },
   "source": [
    "### Set tag index"
   ]
  },
  {
   "cell_type": "code",
   "execution_count": null,
   "metadata": {
    "executionInfo": {
     "elapsed": 95,
     "status": "aborted",
     "timestamp": 1645451879213,
     "user": {
      "displayName": "Yến Ngọc Vũ",
      "photoUrl": "https://lh3.googleusercontent.com/a-/AOh14Gi4wfCuo_NJT2C0JTe2p3mU-XITI80n8F0YvaxHpNI=s64",
      "userId": "00577626419227892200"
     },
     "user_tz": -420
    },
    "id": "YbIas1tkJpKg"
   },
   "outputs": [],
   "source": [
    "# Tag to index, must be the same as we training\n",
    "#tag2idx={}"
   ]
  },
  {
   "cell_type": "code",
   "execution_count": null,
   "metadata": {
    "executionInfo": {
     "elapsed": 96,
     "status": "aborted",
     "timestamp": 1645451879214,
     "user": {
      "displayName": "Yến Ngọc Vũ",
      "photoUrl": "https://lh3.googleusercontent.com/a-/AOh14Gi4wfCuo_NJT2C0JTe2p3mU-XITI80n8F0YvaxHpNI=s64",
      "userId": "00577626419227892200"
     },
     "user_tz": -420
    },
    "id": "2YCHbkLgJpKg"
   },
   "outputs": [],
   "source": [
    "# Mapping index to name\n",
    "#tag2name={tag2idx[key] : key for key in tag2idx.keys()}"
   ]
  },
  {
   "cell_type": "code",
   "execution_count": null,
   "metadata": {
    "executionInfo": {
     "elapsed": 96,
     "status": "aborted",
     "timestamp": 1645451879214,
     "user": {
      "displayName": "Yến Ngọc Vũ",
      "photoUrl": "https://lh3.googleusercontent.com/a-/AOh14Gi4wfCuo_NJT2C0JTe2p3mU-XITI80n8F0YvaxHpNI=s64",
      "userId": "00577626419227892200"
     },
     "user_tz": -420
    },
    "id": "fGOIht46JpKh"
   },
   "outputs": [],
   "source": []
  },
  {
   "cell_type": "markdown",
   "metadata": {
    "id": "rB98rTqDJpKh"
   },
   "source": [
    "### Load model"
   ]
  },
  {
   "cell_type": "code",
   "execution_count": null,
   "metadata": {
    "executionInfo": {
     "elapsed": 97,
     "status": "aborted",
     "timestamp": 1645451879215,
     "user": {
      "displayName": "Yến Ngọc Vũ",
      "photoUrl": "https://lh3.googleusercontent.com/a-/AOh14Gi4wfCuo_NJT2C0JTe2p3mU-XITI80n8F0YvaxHpNI=s64",
      "userId": "00577626419227892200"
     },
     "user_tz": -420
    },
    "id": "ZdeGVRsJJpKh"
   },
   "outputs": [],
   "source": [
    "# Model we trained before, the dir containing pytorch_model.bin and vocab.txt\n",
    "#save_model_address = 'models/bert_out_model/en09'\n",
    "#save_model_address =\"/content/drive/MyDrive/LUẬN VĂN-K18_CQ/02. Bình-Ngọc/Data/Dataset/conll/b_simp\"\n",
    "save_model_address = '/home/tyeson/Desktop/ML_NER/Test_Train_Dataset/'"
   ]
  },
  {
   "cell_type": "code",
   "execution_count": null,
   "metadata": {
    "executionInfo": {
     "elapsed": 96,
     "status": "aborted",
     "timestamp": 1645451879215,
     "user": {
      "displayName": "Yến Ngọc Vũ",
      "photoUrl": "https://lh3.googleusercontent.com/a-/AOh14Gi4wfCuo_NJT2C0JTe2p3mU-XITI80n8F0YvaxHpNI=s64",
      "userId": "00577626419227892200"
     },
     "user_tz": -420
    },
    "id": "nYHWmBDGpAbv"
   },
   "outputs": [],
   "source": [
    "tag2idx"
   ]
  },
  {
   "cell_type": "code",
   "execution_count": null,
   "metadata": {
    "executionInfo": {
     "elapsed": 97,
     "status": "aborted",
     "timestamp": 1645451879216,
     "user": {
      "displayName": "Yến Ngọc Vũ",
      "photoUrl": "https://lh3.googleusercontent.com/a-/AOh14Gi4wfCuo_NJT2C0JTe2p3mU-XITI80n8F0YvaxHpNI=s64",
      "userId": "00577626419227892200"
     },
     "user_tz": -420
    },
    "id": "UesWl_3YJpKh"
   },
   "outputs": [],
   "source": [
    "save_model = BertForTokenClassification.from_pretrained(save_model_address,num_labels=len(tag2idx))"
   ]
  },
  {
   "cell_type": "code",
   "execution_count": null,
   "metadata": {
    "executionInfo": {
     "elapsed": 97,
     "status": "aborted",
     "timestamp": 1645451879216,
     "user": {
      "displayName": "Yến Ngọc Vũ",
      "photoUrl": "https://lh3.googleusercontent.com/a-/AOh14Gi4wfCuo_NJT2C0JTe2p3mU-XITI80n8F0YvaxHpNI=s64",
      "userId": "00577626419227892200"
     },
     "user_tz": -420
    },
    "id": "oA79BM_9JpKh"
   },
   "outputs": [],
   "source": []
  },
  {
   "cell_type": "markdown",
   "metadata": {
    "id": "t4k2UKwSJpKh"
   },
   "source": [
    "### Load Tokenizer"
   ]
  },
  {
   "cell_type": "code",
   "execution_count": null,
   "metadata": {
    "executionInfo": {
     "elapsed": 97,
     "status": "aborted",
     "timestamp": 1645451879216,
     "user": {
      "displayName": "Yến Ngọc Vũ",
      "photoUrl": "https://lh3.googleusercontent.com/a-/AOh14Gi4wfCuo_NJT2C0JTe2p3mU-XITI80n8F0YvaxHpNI=s64",
      "userId": "00577626419227892200"
     },
     "user_tz": -420
    },
    "id": "1kOEfyHpJpKh"
   },
   "outputs": [],
   "source": [
    "# Here, our save model address containing pytorch_model.bin and vocab.txt\n",
    "# So, we can load the tokenzier from the same dir as the save model address\n",
    "tokenizer = BertTokenizer.from_pretrained(save_model_address,do_lower_case=True)"
   ]
  },
  {
   "cell_type": "code",
   "execution_count": null,
   "metadata": {
    "executionInfo": {
     "elapsed": 96,
     "status": "aborted",
     "timestamp": 1645451879216,
     "user": {
      "displayName": "Yến Ngọc Vũ",
      "photoUrl": "https://lh3.googleusercontent.com/a-/AOh14Gi4wfCuo_NJT2C0JTe2p3mU-XITI80n8F0YvaxHpNI=s64",
      "userId": "00577626419227892200"
     },
     "user_tz": -420
    },
    "id": "s7qvPBVwJpKh"
   },
   "outputs": [],
   "source": [
    "# Set max sentence length, must be the same as our training process\n",
    "max_len  = 256"
   ]
  },
  {
   "cell_type": "code",
   "execution_count": null,
   "metadata": {
    "executionInfo": {
     "elapsed": 97,
     "status": "aborted",
     "timestamp": 1645451879217,
     "user": {
      "displayName": "Yến Ngọc Vũ",
      "photoUrl": "https://lh3.googleusercontent.com/a-/AOh14Gi4wfCuo_NJT2C0JTe2p3mU-XITI80n8F0YvaxHpNI=s64",
      "userId": "00577626419227892200"
     },
     "user_tz": -420
    },
    "id": "hyh5YhhxJpKi"
   },
   "outputs": [],
   "source": []
  },
  {
   "cell_type": "markdown",
   "metadata": {
    "id": "MJsonOCeJpKi"
   },
   "source": [
    "### Set test query"
   ]
  },
  {
   "cell_type": "code",
   "execution_count": null,
   "metadata": {
    "executionInfo": {
     "elapsed": 97,
     "status": "aborted",
     "timestamp": 1645451879217,
     "user": {
      "displayName": "Yến Ngọc Vũ",
      "photoUrl": "https://lh3.googleusercontent.com/a-/AOh14Gi4wfCuo_NJT2C0JTe2p3mU-XITI80n8F0YvaxHpNI=s64",
      "userId": "00577626419227892200"
     },
     "user_tz": -420
    },
    "id": "xvxKCwXFJpKi"
   },
   "outputs": [],
   "source": [
    "test_query = 'You can start creating your own data science projects and collaborating with other data scientists using IBM Watson Studio. When you sign up, you will receive free access to Watson Studio. Start now and take advantage of this platform and learn the basics of programming, machine learning, and data visualization with this introductory course.'"
   ]
  },
  {
   "cell_type": "code",
   "execution_count": null,
   "metadata": {
    "executionInfo": {
     "elapsed": 96,
     "status": "aborted",
     "timestamp": 1645451879217,
     "user": {
      "displayName": "Yến Ngọc Vũ",
      "photoUrl": "https://lh3.googleusercontent.com/a-/AOh14Gi4wfCuo_NJT2C0JTe2p3mU-XITI80n8F0YvaxHpNI=s64",
      "userId": "00577626419227892200"
     },
     "user_tz": -420
    },
    "id": "wnjUi1QqJpKi"
   },
   "outputs": [],
   "source": []
  },
  {
   "cell_type": "markdown",
   "metadata": {
    "id": "bdiW7AblJpKi"
   },
   "source": [
    "### Make query into embeddings"
   ]
  },
  {
   "cell_type": "markdown",
   "metadata": {
    "id": "g_bF5F2eJpKi"
   },
   "source": [
    "- token id embedding, need to tokenize first\n",
    "- mask word embedding\n",
    "- segmentation embedding"
   ]
  },
  {
   "cell_type": "code",
   "execution_count": null,
   "metadata": {
    "executionInfo": {
     "elapsed": 96,
     "status": "aborted",
     "timestamp": 1645451879217,
     "user": {
      "displayName": "Yến Ngọc Vũ",
      "photoUrl": "https://lh3.googleusercontent.com/a-/AOh14Gi4wfCuo_NJT2C0JTe2p3mU-XITI80n8F0YvaxHpNI=s64",
      "userId": "00577626419227892200"
     },
     "user_tz": -420
    },
    "id": "DFiqEfu3JpKi"
   },
   "outputs": [],
   "source": [
    "tokenized_texts = []"
   ]
  },
  {
   "cell_type": "code",
   "execution_count": null,
   "metadata": {
    "executionInfo": {
     "elapsed": 95,
     "status": "aborted",
     "timestamp": 1645451879218,
     "user": {
      "displayName": "Yến Ngọc Vũ",
      "photoUrl": "https://lh3.googleusercontent.com/a-/AOh14Gi4wfCuo_NJT2C0JTe2p3mU-XITI80n8F0YvaxHpNI=s64",
      "userId": "00577626419227892200"
     },
     "user_tz": -420
    },
    "id": "ZgbTcaa_JpKi"
   },
   "outputs": [],
   "source": [
    "temp_token = []"
   ]
  },
  {
   "cell_type": "code",
   "execution_count": null,
   "metadata": {
    "executionInfo": {
     "elapsed": 95,
     "status": "aborted",
     "timestamp": 1645451879218,
     "user": {
      "displayName": "Yến Ngọc Vũ",
      "photoUrl": "https://lh3.googleusercontent.com/a-/AOh14Gi4wfCuo_NJT2C0JTe2p3mU-XITI80n8F0YvaxHpNI=s64",
      "userId": "00577626419227892200"
     },
     "user_tz": -420
    },
    "id": "cR7nbWIHJpKj"
   },
   "outputs": [],
   "source": [
    "# Add [CLS] at the front \n",
    "temp_token.append('[CLS]')"
   ]
  },
  {
   "cell_type": "code",
   "execution_count": null,
   "metadata": {
    "executionInfo": {
     "elapsed": 95,
     "status": "aborted",
     "timestamp": 1645451879218,
     "user": {
      "displayName": "Yến Ngọc Vũ",
      "photoUrl": "https://lh3.googleusercontent.com/a-/AOh14Gi4wfCuo_NJT2C0JTe2p3mU-XITI80n8F0YvaxHpNI=s64",
      "userId": "00577626419227892200"
     },
     "user_tz": -420
    },
    "id": "hQrz3_d_JpKj"
   },
   "outputs": [],
   "source": [
    "token_list = tokenizer.tokenize(test_query)"
   ]
  },
  {
   "cell_type": "code",
   "execution_count": null,
   "metadata": {
    "executionInfo": {
     "elapsed": 95,
     "status": "aborted",
     "timestamp": 1645451879219,
     "user": {
      "displayName": "Yến Ngọc Vũ",
      "photoUrl": "https://lh3.googleusercontent.com/a-/AOh14Gi4wfCuo_NJT2C0JTe2p3mU-XITI80n8F0YvaxHpNI=s64",
      "userId": "00577626419227892200"
     },
     "user_tz": -420
    },
    "id": "cl-Y5g1WJpKj"
   },
   "outputs": [],
   "source": [
    "token_list"
   ]
  },
  {
   "cell_type": "code",
   "execution_count": null,
   "metadata": {
    "executionInfo": {
     "elapsed": 95,
     "status": "aborted",
     "timestamp": 1645451879219,
     "user": {
      "displayName": "Yến Ngọc Vũ",
      "photoUrl": "https://lh3.googleusercontent.com/a-/AOh14Gi4wfCuo_NJT2C0JTe2p3mU-XITI80n8F0YvaxHpNI=s64",
      "userId": "00577626419227892200"
     },
     "user_tz": -420
    },
    "id": "XzjQROv7JpKj"
   },
   "outputs": [],
   "source": [
    "for m,token in enumerate(token_list):\n",
    "    temp_token.append(token)"
   ]
  },
  {
   "cell_type": "code",
   "execution_count": null,
   "metadata": {
    "executionInfo": {
     "elapsed": 95,
     "status": "aborted",
     "timestamp": 1645451879219,
     "user": {
      "displayName": "Yến Ngọc Vũ",
      "photoUrl": "https://lh3.googleusercontent.com/a-/AOh14Gi4wfCuo_NJT2C0JTe2p3mU-XITI80n8F0YvaxHpNI=s64",
      "userId": "00577626419227892200"
     },
     "user_tz": -420
    },
    "id": "30aQ6wkbJpKj"
   },
   "outputs": [],
   "source": [
    "# Trim the token to fit the length requirement\n",
    "if len(temp_token) > max_len-1:\n",
    "    temp_token= temp_token[:max_len-1]"
   ]
  },
  {
   "cell_type": "code",
   "execution_count": null,
   "metadata": {
    "executionInfo": {
     "elapsed": 95,
     "status": "aborted",
     "timestamp": 1645451879219,
     "user": {
      "displayName": "Yến Ngọc Vũ",
      "photoUrl": "https://lh3.googleusercontent.com/a-/AOh14Gi4wfCuo_NJT2C0JTe2p3mU-XITI80n8F0YvaxHpNI=s64",
      "userId": "00577626419227892200"
     },
     "user_tz": -420
    },
    "id": "Pzwgg0JjJpKj"
   },
   "outputs": [],
   "source": [
    "# Add [SEP] at the end\n",
    "temp_token.append('[SEP]')"
   ]
  },
  {
   "cell_type": "code",
   "execution_count": null,
   "metadata": {
    "executionInfo": {
     "elapsed": 96,
     "status": "aborted",
     "timestamp": 1645451879220,
     "user": {
      "displayName": "Yến Ngọc Vũ",
      "photoUrl": "https://lh3.googleusercontent.com/a-/AOh14Gi4wfCuo_NJT2C0JTe2p3mU-XITI80n8F0YvaxHpNI=s64",
      "userId": "00577626419227892200"
     },
     "user_tz": -420
    },
    "id": "m8VUoNARJpKj"
   },
   "outputs": [],
   "source": [
    "temp_token"
   ]
  },
  {
   "cell_type": "code",
   "execution_count": null,
   "metadata": {
    "executionInfo": {
     "elapsed": 125165,
     "status": "aborted",
     "timestamp": 1645451879220,
     "user": {
      "displayName": "Yến Ngọc Vũ",
      "photoUrl": "https://lh3.googleusercontent.com/a-/AOh14Gi4wfCuo_NJT2C0JTe2p3mU-XITI80n8F0YvaxHpNI=s64",
      "userId": "00577626419227892200"
     },
     "user_tz": -420
    },
    "id": "ef9Fe0foJpKk"
   },
   "outputs": [],
   "source": [
    "tokenized_texts.append(temp_token)"
   ]
  },
  {
   "cell_type": "code",
   "execution_count": null,
   "metadata": {
    "executionInfo": {
     "elapsed": 125161,
     "status": "aborted",
     "timestamp": 1645451879221,
     "user": {
      "displayName": "Yến Ngọc Vũ",
      "photoUrl": "https://lh3.googleusercontent.com/a-/AOh14Gi4wfCuo_NJT2C0JTe2p3mU-XITI80n8F0YvaxHpNI=s64",
      "userId": "00577626419227892200"
     },
     "user_tz": -420
    },
    "id": "s1HgI0CPJpKk"
   },
   "outputs": [],
   "source": []
  },
  {
   "cell_type": "markdown",
   "metadata": {
    "id": "V1lgcWHjJpKk"
   },
   "source": [
    "**Make id embedding**"
   ]
  },
  {
   "cell_type": "code",
   "execution_count": null,
   "metadata": {
    "executionInfo": {
     "elapsed": 125156,
     "status": "aborted",
     "timestamp": 1645451879221,
     "user": {
      "displayName": "Yến Ngọc Vũ",
      "photoUrl": "https://lh3.googleusercontent.com/a-/AOh14Gi4wfCuo_NJT2C0JTe2p3mU-XITI80n8F0YvaxHpNI=s64",
      "userId": "00577626419227892200"
     },
     "user_tz": -420
    },
    "id": "WuB6qWH4JpKk"
   },
   "outputs": [],
   "source": [
    "# Make text token into id\n",
    "input_ids = pad_sequences([tokenizer.convert_tokens_to_ids(txt) for txt in tokenized_texts],\n",
    "                          maxlen=max_len, dtype=\"long\", truncating=\"post\", padding=\"post\")\n",
    "print(input_ids[0])"
   ]
  },
  {
   "cell_type": "code",
   "execution_count": null,
   "metadata": {
    "executionInfo": {
     "elapsed": 125151,
     "status": "aborted",
     "timestamp": 1645451879221,
     "user": {
      "displayName": "Yến Ngọc Vũ",
      "photoUrl": "https://lh3.googleusercontent.com/a-/AOh14Gi4wfCuo_NJT2C0JTe2p3mU-XITI80n8F0YvaxHpNI=s64",
      "userId": "00577626419227892200"
     },
     "user_tz": -420
    },
    "id": "5JvaOobPJpKk"
   },
   "outputs": [],
   "source": []
  },
  {
   "cell_type": "markdown",
   "metadata": {
    "id": "uezsJzg8JpKk"
   },
   "source": [
    "**Make mask embedding**"
   ]
  },
  {
   "cell_type": "code",
   "execution_count": null,
   "metadata": {
    "executionInfo": {
     "elapsed": 125147,
     "status": "aborted",
     "timestamp": 1645451879222,
     "user": {
      "displayName": "Yến Ngọc Vũ",
      "photoUrl": "https://lh3.googleusercontent.com/a-/AOh14Gi4wfCuo_NJT2C0JTe2p3mU-XITI80n8F0YvaxHpNI=s64",
      "userId": "00577626419227892200"
     },
     "user_tz": -420
    },
    "id": "rI6C23AAJpKl"
   },
   "outputs": [],
   "source": [
    "# For fine tune of predict, with token mask is 1,pad token is 0\n",
    "attention_masks = [[int(i>0) for i in ii] for ii in input_ids]\n",
    "attention_masks[0];"
   ]
  },
  {
   "cell_type": "code",
   "execution_count": null,
   "metadata": {
    "executionInfo": {
     "elapsed": 125142,
     "status": "aborted",
     "timestamp": 1645451879222,
     "user": {
      "displayName": "Yến Ngọc Vũ",
      "photoUrl": "https://lh3.googleusercontent.com/a-/AOh14Gi4wfCuo_NJT2C0JTe2p3mU-XITI80n8F0YvaxHpNI=s64",
      "userId": "00577626419227892200"
     },
     "user_tz": -420
    },
    "id": "To1EzX_uJpKl"
   },
   "outputs": [],
   "source": []
  },
  {
   "cell_type": "markdown",
   "metadata": {
    "id": "PIcaCjx2JpKl"
   },
   "source": [
    "**Make segmention type embedding**"
   ]
  },
  {
   "cell_type": "code",
   "execution_count": null,
   "metadata": {
    "executionInfo": {
     "elapsed": 125134,
     "status": "aborted",
     "timestamp": 1645451879222,
     "user": {
      "displayName": "Yến Ngọc Vũ",
      "photoUrl": "https://lh3.googleusercontent.com/a-/AOh14Gi4wfCuo_NJT2C0JTe2p3mU-XITI80n8F0YvaxHpNI=s64",
      "userId": "00577626419227892200"
     },
     "user_tz": -420
    },
    "id": "Zz0JisiDJpKl"
   },
   "outputs": [],
   "source": [
    "segment_ids = [[0] * len(input_id) for input_id in input_ids]\n",
    "segment_ids[0];"
   ]
  },
  {
   "cell_type": "code",
   "execution_count": null,
   "metadata": {
    "executionInfo": {
     "elapsed": 125130,
     "status": "aborted",
     "timestamp": 1645451879223,
     "user": {
      "displayName": "Yến Ngọc Vũ",
      "photoUrl": "https://lh3.googleusercontent.com/a-/AOh14Gi4wfCuo_NJT2C0JTe2p3mU-XITI80n8F0YvaxHpNI=s64",
      "userId": "00577626419227892200"
     },
     "user_tz": -420
    },
    "id": "x2JgftCCJpKl"
   },
   "outputs": [],
   "source": []
  },
  {
   "cell_type": "markdown",
   "metadata": {
    "id": "qttfvmGMJpKl"
   },
   "source": [
    "**Make embeddings into torch tensor**"
   ]
  },
  {
   "cell_type": "code",
   "execution_count": null,
   "metadata": {
    "executionInfo": {
     "elapsed": 125126,
     "status": "aborted",
     "timestamp": 1645451879224,
     "user": {
      "displayName": "Yến Ngọc Vũ",
      "photoUrl": "https://lh3.googleusercontent.com/a-/AOh14Gi4wfCuo_NJT2C0JTe2p3mU-XITI80n8F0YvaxHpNI=s64",
      "userId": "00577626419227892200"
     },
     "user_tz": -420
    },
    "id": "Q21Dwg--JpKl"
   },
   "outputs": [],
   "source": [
    "input_ids = torch.tensor(input_ids)\n",
    "attention_masks = torch.tensor(attention_masks)\n",
    "segment_ids = torch.tensor(segment_ids)"
   ]
  },
  {
   "cell_type": "code",
   "execution_count": null,
   "metadata": {
    "executionInfo": {
     "elapsed": 125122,
     "status": "aborted",
     "timestamp": 1645451879225,
     "user": {
      "displayName": "Yến Ngọc Vũ",
      "photoUrl": "https://lh3.googleusercontent.com/a-/AOh14Gi4wfCuo_NJT2C0JTe2p3mU-XITI80n8F0YvaxHpNI=s64",
      "userId": "00577626419227892200"
     },
     "user_tz": -420
    },
    "id": "tt2HEzisJpKl"
   },
   "outputs": [],
   "source": []
  },
  {
   "cell_type": "code",
   "execution_count": null,
   "metadata": {
    "executionInfo": {
     "elapsed": 125118,
     "status": "aborted",
     "timestamp": 1645451879226,
     "user": {
      "displayName": "Yến Ngọc Vũ",
      "photoUrl": "https://lh3.googleusercontent.com/a-/AOh14Gi4wfCuo_NJT2C0JTe2p3mU-XITI80n8F0YvaxHpNI=s64",
      "userId": "00577626419227892200"
     },
     "user_tz": -420
    },
    "id": "8quHx9TRJpKm"
   },
   "outputs": [],
   "source": []
  },
  {
   "cell_type": "markdown",
   "metadata": {
    "id": "z93WXkRIJpKm"
   },
   "source": [
    "### Predict with model"
   ]
  },
  {
   "cell_type": "markdown",
   "metadata": {
    "id": "PcmCngNyJpKm"
   },
   "source": [
    "We only send input_ids embedding to model"
   ]
  },
  {
   "cell_type": "code",
   "execution_count": null,
   "metadata": {
    "executionInfo": {
     "elapsed": 125113,
     "status": "aborted",
     "timestamp": 1645451879226,
     "user": {
      "displayName": "Yến Ngọc Vũ",
      "photoUrl": "https://lh3.googleusercontent.com/a-/AOh14Gi4wfCuo_NJT2C0JTe2p3mU-XITI80n8F0YvaxHpNI=s64",
      "userId": "00577626419227892200"
     },
     "user_tz": -420
    },
    "id": "-SQKIwShJpKm"
   },
   "outputs": [],
   "source": [
    "# Set save model to Evalue loop\n",
    "save_model.eval();"
   ]
  },
  {
   "cell_type": "code",
   "execution_count": null,
   "metadata": {
    "executionInfo": {
     "elapsed": 125109,
     "status": "aborted",
     "timestamp": 1645451879227,
     "user": {
      "displayName": "Yến Ngọc Vũ",
      "photoUrl": "https://lh3.googleusercontent.com/a-/AOh14Gi4wfCuo_NJT2C0JTe2p3mU-XITI80n8F0YvaxHpNI=s64",
      "userId": "00577626419227892200"
     },
     "user_tz": -420
    },
    "id": "xwZMKGppJpKm"
   },
   "outputs": [],
   "source": [
    "# Get model predict result\n",
    "with torch.no_grad():\n",
    "        outputs = save_model(input_ids, token_type_ids=None,\n",
    "        attention_mask=None,)\n",
    "        # For eval mode, the first result of outputs is logits\n",
    "        logits = outputs[0] "
   ]
  },
  {
   "cell_type": "code",
   "execution_count": null,
   "metadata": {
    "executionInfo": {
     "elapsed": 125104,
     "status": "aborted",
     "timestamp": 1645451879227,
     "user": {
      "displayName": "Yến Ngọc Vũ",
      "photoUrl": "https://lh3.googleusercontent.com/a-/AOh14Gi4wfCuo_NJT2C0JTe2p3mU-XITI80n8F0YvaxHpNI=s64",
      "userId": "00577626419227892200"
     },
     "user_tz": -420
    },
    "id": "bNyt-5OiJpKm"
   },
   "outputs": [],
   "source": [
    "# Make logits into numpy type predict result\n",
    "# The predict result contain each token's all tags predict result\n",
    "predict_results = logits.detach().cpu().numpy()"
   ]
  },
  {
   "cell_type": "code",
   "execution_count": null,
   "metadata": {
    "executionInfo": {
     "elapsed": 125100,
     "status": "aborted",
     "timestamp": 1645451879228,
     "user": {
      "displayName": "Yến Ngọc Vũ",
      "photoUrl": "https://lh3.googleusercontent.com/a-/AOh14Gi4wfCuo_NJT2C0JTe2p3mU-XITI80n8F0YvaxHpNI=s64",
      "userId": "00577626419227892200"
     },
     "user_tz": -420
    },
    "id": "1JXgTod5JpKm"
   },
   "outputs": [],
   "source": [
    "predict_results.shape"
   ]
  },
  {
   "cell_type": "code",
   "execution_count": null,
   "metadata": {
    "executionInfo": {
     "elapsed": 125095,
     "status": "aborted",
     "timestamp": 1645451879228,
     "user": {
      "displayName": "Yến Ngọc Vũ",
      "photoUrl": "https://lh3.googleusercontent.com/a-/AOh14Gi4wfCuo_NJT2C0JTe2p3mU-XITI80n8F0YvaxHpNI=s64",
      "userId": "00577626419227892200"
     },
     "user_tz": -420
    },
    "id": "-7t-vGbKJpKm"
   },
   "outputs": [],
   "source": []
  },
  {
   "cell_type": "markdown",
   "metadata": {
    "id": "CgTgU3eFJpKn"
   },
   "source": [
    "**Make each token predict result into softmax mode**"
   ]
  },
  {
   "cell_type": "code",
   "execution_count": null,
   "metadata": {
    "executionInfo": {
     "elapsed": 125090,
     "status": "aborted",
     "timestamp": 1645451879228,
     "user": {
      "displayName": "Yến Ngọc Vũ",
      "photoUrl": "https://lh3.googleusercontent.com/a-/AOh14Gi4wfCuo_NJT2C0JTe2p3mU-XITI80n8F0YvaxHpNI=s64",
      "userId": "00577626419227892200"
     },
     "user_tz": -420
    },
    "id": "J4KaV4WVJpKn"
   },
   "outputs": [],
   "source": [
    "from scipy.special import softmax"
   ]
  },
  {
   "cell_type": "code",
   "execution_count": null,
   "metadata": {
    "executionInfo": {
     "elapsed": 125087,
     "status": "aborted",
     "timestamp": 1645451879229,
     "user": {
      "displayName": "Yến Ngọc Vũ",
      "photoUrl": "https://lh3.googleusercontent.com/a-/AOh14Gi4wfCuo_NJT2C0JTe2p3mU-XITI80n8F0YvaxHpNI=s64",
      "userId": "00577626419227892200"
     },
     "user_tz": -420
    },
    "id": "-njH5cNOJpKn"
   },
   "outputs": [],
   "source": [
    "result_arrays_soft = softmax(predict_results[0])"
   ]
  },
  {
   "cell_type": "code",
   "execution_count": null,
   "metadata": {
    "executionInfo": {
     "elapsed": 125083,
     "status": "aborted",
     "timestamp": 1645451879230,
     "user": {
      "displayName": "Yến Ngọc Vũ",
      "photoUrl": "https://lh3.googleusercontent.com/a-/AOh14Gi4wfCuo_NJT2C0JTe2p3mU-XITI80n8F0YvaxHpNI=s64",
      "userId": "00577626419227892200"
     },
     "user_tz": -420
    },
    "id": "mYpBWvbSJpKn"
   },
   "outputs": [],
   "source": [
    "result_arrays_soft[0]"
   ]
  },
  {
   "cell_type": "code",
   "execution_count": null,
   "metadata": {
    "executionInfo": {
     "elapsed": 125078,
     "status": "aborted",
     "timestamp": 1645451879230,
     "user": {
      "displayName": "Yến Ngọc Vũ",
      "photoUrl": "https://lh3.googleusercontent.com/a-/AOh14Gi4wfCuo_NJT2C0JTe2p3mU-XITI80n8F0YvaxHpNI=s64",
      "userId": "00577626419227892200"
     },
     "user_tz": -420
    },
    "id": "_JUgzHboJpKn"
   },
   "outputs": [],
   "source": [
    "result_array = result_arrays_soft"
   ]
  },
  {
   "cell_type": "code",
   "execution_count": null,
   "metadata": {
    "executionInfo": {
     "elapsed": 125074,
     "status": "aborted",
     "timestamp": 1645451879231,
     "user": {
      "displayName": "Yến Ngọc Vũ",
      "photoUrl": "https://lh3.googleusercontent.com/a-/AOh14Gi4wfCuo_NJT2C0JTe2p3mU-XITI80n8F0YvaxHpNI=s64",
      "userId": "00577626419227892200"
     },
     "user_tz": -420
    },
    "id": "AXYhlMHlJpKn"
   },
   "outputs": [],
   "source": [
    "len(result_array),len(result_array[0])"
   ]
  },
  {
   "cell_type": "code",
   "execution_count": null,
   "metadata": {
    "executionInfo": {
     "elapsed": 125069,
     "status": "aborted",
     "timestamp": 1645451879231,
     "user": {
      "displayName": "Yến Ngọc Vũ",
      "photoUrl": "https://lh3.googleusercontent.com/a-/AOh14Gi4wfCuo_NJT2C0JTe2p3mU-XITI80n8F0YvaxHpNI=s64",
      "userId": "00577626419227892200"
     },
     "user_tz": -420
    },
    "id": "h9bgbc04JpKn"
   },
   "outputs": [],
   "source": []
  },
  {
   "cell_type": "markdown",
   "metadata": {
    "id": "Iwg4Vx4CJpKn"
   },
   "source": [
    "### Parser result"
   ]
  },
  {
   "cell_type": "markdown",
   "metadata": {
    "id": "ch52_-jsJpKn"
   },
   "source": [
    "Make the predict array into readable result "
   ]
  },
  {
   "cell_type": "code",
   "execution_count": null,
   "metadata": {
    "executionInfo": {
     "elapsed": 125064,
     "status": "aborted",
     "timestamp": 1645451879232,
     "user": {
      "displayName": "Yến Ngọc Vũ",
      "photoUrl": "https://lh3.googleusercontent.com/a-/AOh14Gi4wfCuo_NJT2C0JTe2p3mU-XITI80n8F0YvaxHpNI=s64",
      "userId": "00577626419227892200"
     },
     "user_tz": -420
    },
    "id": "vjmSwn3yJpKo"
   },
   "outputs": [],
   "source": [
    "# Get each token final predict tag index result\n",
    "result_list = np.argmax(result_array,axis=-1)"
   ]
  },
  {
   "cell_type": "code",
   "execution_count": null,
   "metadata": {
    "executionInfo": {
     "elapsed": 125060,
     "status": "aborted",
     "timestamp": 1645451879232,
     "user": {
      "displayName": "Yến Ngọc Vũ",
      "photoUrl": "https://lh3.googleusercontent.com/a-/AOh14Gi4wfCuo_NJT2C0JTe2p3mU-XITI80n8F0YvaxHpNI=s64",
      "userId": "00577626419227892200"
     },
     "user_tz": -420
    },
    "id": "OWOfQaa-JpKo"
   },
   "outputs": [],
   "source": [
    "result_list"
   ]
  },
  {
   "cell_type": "code",
   "execution_count": null,
   "metadata": {
    "executionInfo": {
     "elapsed": 125056,
     "status": "aborted",
     "timestamp": 1645451879233,
     "user": {
      "displayName": "Yến Ngọc Vũ",
      "photoUrl": "https://lh3.googleusercontent.com/a-/AOh14Gi4wfCuo_NJT2C0JTe2p3mU-XITI80n8F0YvaxHpNI=s64",
      "userId": "00577626419227892200"
     },
     "user_tz": -420
    },
    "id": "zgQeGjb7JpKo"
   },
   "outputs": [],
   "source": []
  },
  {
   "cell_type": "markdown",
   "metadata": {
    "id": "iUafsICpJpKo"
   },
   "source": [
    "**Get token predict tag**"
   ]
  },
  {
   "cell_type": "code",
   "execution_count": null,
   "metadata": {
    "executionInfo": {
     "elapsed": 125051,
     "status": "aborted",
     "timestamp": 1645451879233,
     "user": {
      "displayName": "Yến Ngọc Vũ",
      "photoUrl": "https://lh3.googleusercontent.com/a-/AOh14Gi4wfCuo_NJT2C0JTe2p3mU-XITI80n8F0YvaxHpNI=s64",
      "userId": "00577626419227892200"
     },
     "user_tz": -420
    },
    "id": "lTONbKcOJpKo"
   },
   "outputs": [],
   "source": [
    "for i, mark in enumerate(attention_masks[0]):\n",
    "    if mark>0:\n",
    "        print(\"Token:%s\"%(temp_token[i]))\n",
    "#         print(\"Tag:%s\"%(result_list[i]))\n",
    "        print(\"Predict_Tag:%s\"%(tag2name[result_list[i]]))\n",
    "        #print(\"Posibility:%f\"%(result_array[i][result_list[i]]))\n",
    "        print()"
   ]
  },
  {
   "cell_type": "code",
   "execution_count": null,
   "metadata": {
    "executionInfo": {
     "elapsed": 125046,
     "status": "aborted",
     "timestamp": 1645451879233,
     "user": {
      "displayName": "Yến Ngọc Vũ",
      "photoUrl": "https://lh3.googleusercontent.com/a-/AOh14Gi4wfCuo_NJT2C0JTe2p3mU-XITI80n8F0YvaxHpNI=s64",
      "userId": "00577626419227892200"
     },
     "user_tz": -420
    },
    "id": "PS-aH0NAJpKo"
   },
   "outputs": [],
   "source": []
  }
 ],
 "metadata": {
  "accelerator": "GPU",
  "colab": {
   "collapsed_sections": [],
   "name": "NER_with_XLNET.ipynb",
   "provenance": [
    {
     "file_id": "1-7SDMI6VJYLf3_dWC7wnJyWHqp32jPFo",
     "timestamp": 1642945196834
    }
   ]
  },
  "kernelspec": {
   "display_name": "Python 3.8.10 64-bit",
   "language": "python",
   "name": "python3"
  },
  "language_info": {
   "codemirror_mode": {
    "name": "ipython",
    "version": 3
   },
   "file_extension": ".py",
   "mimetype": "text/x-python",
   "name": "python",
   "nbconvert_exporter": "python",
   "pygments_lexer": "ipython3",
   "version": "3.8.10"
  },
  "vscode": {
   "interpreter": {
    "hash": "916dbcbb3f70747c44a77c7bcd40155683ae19c65e1c03b4aa3499c5328201f1"
   }
  }
 },
 "nbformat": 4,
 "nbformat_minor": 1
}
