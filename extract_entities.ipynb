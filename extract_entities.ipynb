{
  "nbformat": 4,
  "nbformat_minor": 0,
  "metadata": {
    "colab": {
      "provenance": []
    },
    "kernelspec": {
      "name": "python3",
      "display_name": "Python 3"
    },
    "language_info": {
      "name": "python"
    }
  },
  "cells": [
    {
      "cell_type": "code",
      "execution_count": 1,
      "metadata": {
        "colab": {
          "base_uri": "https://localhost:8080/"
        },
        "id": "gdXPK1ylRXRT",
        "outputId": "2e2bfbab-f8e8-4c6d-bd8a-24a21a0912b6"
      },
      "outputs": [
        {
          "output_type": "stream",
          "name": "stdout",
          "text": [
            "\u001b[2K     \u001b[90m━━━━━━━━━━━━━━━━━━━━━━━━━━━━━━━━━━━━━━━━\u001b[0m \u001b[32m5.8/5.8 MB\u001b[0m \u001b[31m27.1 MB/s\u001b[0m eta \u001b[36m0:00:00\u001b[0m\n",
            "\u001b[2K     \u001b[90m━━━━━━━━━━━━━━━━━━━━━━━━━━━━━━━━━━━━━━━\u001b[0m \u001b[32m588.3/588.3 MB\u001b[0m \u001b[31m2.1 MB/s\u001b[0m eta \u001b[36m0:00:00\u001b[0m\n",
            "\u001b[2K     \u001b[90m━━━━━━━━━━━━━━━━━━━━━━━━━━━━━━━━━━━━━━━\u001b[0m \u001b[32m190.3/190.3 KB\u001b[0m \u001b[31m6.2 MB/s\u001b[0m eta \u001b[36m0:00:00\u001b[0m\n",
            "\u001b[2K     \u001b[90m━━━━━━━━━━━━━━━━━━━━━━━━━━━━━━━━━━━━━━━━\u001b[0m \u001b[32m7.6/7.6 MB\u001b[0m \u001b[31m56.1 MB/s\u001b[0m eta \u001b[36m0:00:00\u001b[0m\n",
            "\u001b[2K     \u001b[90m━━━━━━━━━━━━━━━━━━━━━━━━━━━━━━━━━━━━━━━━\u001b[0m \u001b[32m6.0/6.0 MB\u001b[0m \u001b[31m54.2 MB/s\u001b[0m eta \u001b[36m0:00:00\u001b[0m\n",
            "\u001b[2K     \u001b[90m━━━━━━━━━━━━━━━━━━━━━━━━━━━━━━━━━━━━━━\u001b[0m \u001b[32m439.2/439.2 KB\u001b[0m \u001b[31m22.8 MB/s\u001b[0m eta \u001b[36m0:00:00\u001b[0m\n",
            "\u001b[2K     \u001b[90m━━━━━━━━━━━━━━━━━━━━━━━━━━━━━━━━━━━━━━━━\u001b[0m \u001b[32m1.7/1.7 MB\u001b[0m \u001b[31m52.6 MB/s\u001b[0m eta \u001b[36m0:00:00\u001b[0m\n",
            "\u001b[?25h"
          ]
        }
      ],
      "source": [
        "!pip install -q transformers==4.25.1 tensorflow==2.11.0"
      ]
    },
    {
      "cell_type": "code",
      "source": [
        "!pip install ftfy"
      ],
      "metadata": {
        "colab": {
          "base_uri": "https://localhost:8080/"
        },
        "id": "JxlvBy6zRYvx",
        "outputId": "c90b5478-d234-47ba-9a5c-abe2069dfae2"
      },
      "execution_count": 2,
      "outputs": [
        {
          "output_type": "stream",
          "name": "stdout",
          "text": [
            "Looking in indexes: https://pypi.org/simple, https://us-python.pkg.dev/colab-wheels/public/simple/\n",
            "Collecting ftfy\n",
            "  Downloading ftfy-6.1.1-py3-none-any.whl (53 kB)\n",
            "\u001b[2K     \u001b[90m━━━━━━━━━━━━━━━━━━━━━━━━━━━━━━━━━━━━━━━━\u001b[0m \u001b[32m53.1/53.1 KB\u001b[0m \u001b[31m5.4 MB/s\u001b[0m eta \u001b[36m0:00:00\u001b[0m\n",
            "\u001b[?25hRequirement already satisfied: wcwidth>=0.2.5 in /usr/local/lib/python3.8/dist-packages (from ftfy) (0.2.5)\n",
            "Installing collected packages: ftfy\n",
            "Successfully installed ftfy-6.1.1\n"
          ]
        }
      ]
    },
    {
      "cell_type": "code",
      "source": [
        "# connect ggdrive\n",
        "from google.colab import drive\n",
        "drive.mount('/content/drive')"
      ],
      "metadata": {
        "colab": {
          "base_uri": "https://localhost:8080/"
        },
        "id": "63bELNDsRafb",
        "outputId": "c262f9f2-db58-41fe-b3b3-37b8cf84a1be"
      },
      "execution_count": 3,
      "outputs": [
        {
          "output_type": "stream",
          "name": "stdout",
          "text": [
            "Mounted at /content/drive\n"
          ]
        }
      ]
    },
    {
      "cell_type": "code",
      "source": [
        "! wget -q http://setup.johnsnowlabs.com/colab.sh -O - | bash"
      ],
      "metadata": {
        "colab": {
          "base_uri": "https://localhost:8080/"
        },
        "id": "_k1-scgJRbmg",
        "outputId": "4e0cd887-83dd-4fde-8d20-56557b9379a7"
      },
      "execution_count": 4,
      "outputs": [
        {
          "output_type": "stream",
          "name": "stdout",
          "text": [
            "Installing PySpark 3.2.3 and Spark NLP 4.2.8\n",
            "setup Colab for PySpark 3.2.3 and Spark NLP 4.2.8\n",
            "\u001b[2K     \u001b[90m━━━━━━━━━━━━━━━━━━━━━━━━━━━━━━━━━━━━━━━\u001b[0m \u001b[32m281.5/281.5 MB\u001b[0m \u001b[31m4.0 MB/s\u001b[0m eta \u001b[36m0:00:00\u001b[0m\n",
            "\u001b[?25h  Preparing metadata (setup.py) ... \u001b[?25l\u001b[?25hdone\n",
            "\u001b[2K     \u001b[90m━━━━━━━━━━━━━━━━━━━━━━━━━━━━━━━━━━━━━━\u001b[0m \u001b[32m453.8/453.8 KB\u001b[0m \u001b[31m33.8 MB/s\u001b[0m eta \u001b[36m0:00:00\u001b[0m\n",
            "\u001b[2K     \u001b[90m━━━━━━━━━━━━━━━━━━━━━━━━━━━━━━━━━━━━━━\u001b[0m \u001b[32m199.7/199.7 KB\u001b[0m \u001b[31m15.7 MB/s\u001b[0m eta \u001b[36m0:00:00\u001b[0m\n",
            "\u001b[?25h  Building wheel for pyspark (setup.py) ... \u001b[?25l\u001b[?25hdone\n"
          ]
        }
      ]
    },
    {
      "cell_type": "code",
      "source": [
        "import sparknlp\n",
        "# let's start Spark with Spark NLP\n",
        "spark = sparknlp.start()"
      ],
      "metadata": {
        "id": "UOUcyCUsRrAd"
      },
      "execution_count": 5,
      "outputs": []
    },
    {
      "cell_type": "code",
      "source": [
        "from transformers import BertTokenizer, BertForTokenClassification\n",
        "#from transformers import AutoTokenizer, AutoModelForTokenClassification, TFAutoModelForTokenClassification"
      ],
      "metadata": {
        "id": "ov0EzRrJRsIq"
      },
      "execution_count": 6,
      "outputs": []
    },
    {
      "cell_type": "code",
      "source": [
        "from sparknlp.annotator import *\n",
        "\n",
        "MODEL_NAME = '/content/drive/MyDrive/Data_Science/thesis/ML_NER/NERModel_config'\n",
        "bert = BertForTokenClassification.loadSavedModel(\n",
        "     '{}/converting/saved_model/1'.format(MODEL_NAME),\n",
        "     spark\n",
        " )\\\n",
        " .setInputCols([\"document\",'token'])\\\n",
        " .setOutputCol(\"ner\")\\\n",
        " .setCaseSensitive(True)\\\n",
        " .setMaxSentenceLength(128)"
      ],
      "metadata": {
        "id": "7cU2RBNYRt44"
      },
      "execution_count": 7,
      "outputs": []
    },
    {
      "cell_type": "code",
      "source": [
        "bert.write().overwrite().save(\"./{}\".format(MODEL_NAME))"
      ],
      "metadata": {
        "id": "x6gkF6m4Ru_U"
      },
      "execution_count": 9,
      "outputs": []
    },
    {
      "cell_type": "code",
      "source": [
        "tokenClassifier_loaded = BertForTokenClassification.load(\"./{}\".format(MODEL_NAME))\\\n",
        "  .setInputCols([\"document\",'token'])\\\n",
        "  .setOutputCol(\"ner\")"
      ],
      "metadata": {
        "id": "PXQK7vNJRzct"
      },
      "execution_count": 10,
      "outputs": []
    },
    {
      "cell_type": "code",
      "source": [
        "tokenClassifier_loaded.getClasses()"
      ],
      "metadata": {
        "colab": {
          "base_uri": "https://localhost:8080/"
        },
        "id": "v0eqvAtRR3Wn",
        "outputId": "cf68fdea-2e37-4126-d83f-b9028ef2c944"
      },
      "execution_count": 11,
      "outputs": [
        {
          "output_type": "execute_result",
          "data": {
            "text/plain": [
              "['I-TOOL',\n",
              " 'B-TOOL',\n",
              " 'I-KNOW',\n",
              " '[SEP]',\n",
              " 'B-LANG',\n",
              " 'I-LANG',\n",
              " 'B-FRAM',\n",
              " 'I-FRAM',\n",
              " 'B-KNOW',\n",
              " 'I-PLAT',\n",
              " '[CLS]',\n",
              " 'O',\n",
              " 'B-PLAT']"
            ]
          },
          "metadata": {},
          "execution_count": 11
        }
      ]
    },
    {
      "cell_type": "code",
      "source": [
        "from sparknlp.base import *\n",
        "document_assembler = DocumentAssembler() \\\n",
        "    .setInputCol('description') \\\n",
        "    .setOutputCol('document')\n",
        "\n",
        "tokenizer = Tokenizer() \\\n",
        "    .setInputCols(['document']) \\\n",
        "    .setOutputCol('token')\n",
        "\n",
        "pipeline = Pipeline(stages=[\n",
        "    document_assembler, \n",
        "    tokenizer,\n",
        "    tokenClassifier_loaded    \n",
        "])"
      ],
      "metadata": {
        "id": "FTAhJB5iR4kY"
      },
      "execution_count": 28,
      "outputs": []
    },
    {
      "cell_type": "code",
      "source": [
        "df = spark.read.option('header','true').csv('/content/drive/MyDrive/Data_Science/thesis/K18/File K18/sample_crawl_dataset/Coursera_DataScience.csv',inferSchema=True)"
      ],
      "metadata": {
        "id": "AbrNhNs6V7Oa"
      },
      "execution_count": 47,
      "outputs": []
    },
    {
      "cell_type": "code",
      "source": [
        "from pyspark.sql.functions import lower, col\n",
        "df = df.select(df.SkillWillLearn.alias('description'))\n",
        "df = df.withColumn('description', lower(col('description')))\n",
        "\n",
        "df.show()"
      ],
      "metadata": {
        "colab": {
          "base_uri": "https://localhost:8080/"
        },
        "id": "2wV0avMXXJ1z",
        "outputId": "21758965-b72e-454b-8bac-57287d23923a"
      },
      "execution_count": 48,
      "outputs": [
        {
          "output_type": "stream",
          "name": "stdout",
          "text": [
            "+--------------------+\n",
            "|         description|\n",
            "+--------------------+\n",
            "|machine learning ...|\n",
            "|\"in an age now dr...|\n",
            "|in this course, y...|\n",
            "|explain the princ...|\n",
            "|in the first cour...|\n",
            "|define data scien...|\n",
            "|this mooc – a joi...|\n",
            "|describe the use ...|\n",
            "|while telling sto...|\n",
            "|in this course, y...|\n",
            "|properly identify...|\n",
            "|development of an...|\n",
            "|describe differen...|\n",
            "|distinguish betwe...|\n",
            "|apply tidyverse f...|\n",
            "|describe differen...|\n",
            "|articulate differ...|\n",
            "|build an investme...|\n",
            "|in this course yo...|\n",
            "|the capstone proj...|\n",
            "+--------------------+\n",
            "only showing top 20 rows\n",
            "\n"
          ]
        }
      ]
    },
    {
      "cell_type": "code",
      "source": [
        "# couple of simple examples\n",
        "#example = spark.createDataFrame([[\"Learn and Master software testing Quickly from the experts - GUARANTEED! THE IN-DEPTH software testing TRAINING - By SoftwareTestingHelp Team. on Udemy in the software testing category!\"], ['My name is Clara and I live in Berkeley, California.']]).toDF(\"text\")\n",
        "\n",
        "result = pipeline.fit(df).transform(df)\n",
        "\n",
        "# result is a DataFrame\n",
        "result.select(\"description\", \"ner.result\").show()\n",
        "\n"
      ],
      "metadata": {
        "colab": {
          "base_uri": "https://localhost:8080/"
        },
        "id": "rEqqd-U9R6w4",
        "outputId": "f2a00fea-1749-4749-cf73-df540c7254fb"
      },
      "execution_count": 49,
      "outputs": [
        {
          "output_type": "stream",
          "name": "stdout",
          "text": [
            "+--------------------+--------------------+\n",
            "|         description|              result|\n",
            "+--------------------+--------------------+\n",
            "|machine learning ...|[B-KNOW, I-KNOW, ...|\n",
            "|\"in an age now dr...|[O, O, O, O, O, O...|\n",
            "|in this course, y...|[O, O, O, O, O, O...|\n",
            "|explain the princ...|[O, O, O, O, B-KN...|\n",
            "|in the first cour...|[O, O, O, O, O, O...|\n",
            "|define data scien...|[O, B-KNOW, I-KNO...|\n",
            "|this mooc – a joi...|[O, O, O, O, O, O...|\n",
            "|describe the use ...|[O, O, O, O, B-KN...|\n",
            "|while telling sto...|[O, B-KNOW, I-KNO...|\n",
            "|in this course, y...|[O, O, O, O, O, O...|\n",
            "|properly identify...|[O, O, O, O, O, O...|\n",
            "|development of an...|[O, O, O, O, O, O...|\n",
            "|describe differen...|[O, O, O, O, O, O...|\n",
            "|distinguish betwe...|[O, O, O, O, O, O...|\n",
            "|apply tidyverse f...|[O, B-FRAM, O, O,...|\n",
            "|describe differen...|[O, O, O, O, B-KN...|\n",
            "|articulate differ...|[O, O, O, O, O, O...|\n",
            "|build an investme...|[O, O, O, O, O, O...|\n",
            "|in this course yo...|[O, O, O, O, O, O...|\n",
            "|the capstone proj...|[O, O, O, O, O, O...|\n",
            "+--------------------+--------------------+\n",
            "only showing top 20 rows\n",
            "\n"
          ]
        }
      ]
    },
    {
      "cell_type": "code",
      "source": [
        "result = result.select(\"description\", \"result\")\n",
        "result = result.withColumn(\"result\", col(\"result\").cast(\"string\"))"
      ],
      "metadata": {
        "id": "2hnPmnjKvC7r"
      },
      "execution_count": 53,
      "outputs": []
    },
    {
      "cell_type": "code",
      "source": [
        "result.show()"
      ],
      "metadata": {
        "colab": {
          "base_uri": "https://localhost:8080/"
        },
        "id": "0u5VsxUxfDxQ",
        "outputId": "a88b8585-3d9a-4bba-bead-9ab8e84e2b1c"
      },
      "execution_count": 35,
      "outputs": [
        {
          "output_type": "stream",
          "name": "stdout",
          "text": [
            "+--------------------+--------------------+--------------------+--------------------+\n",
            "|         description|            document|               token|                 ner|\n",
            "+--------------------+--------------------+--------------------+--------------------+\n",
            "|Machine learning ...|[{document, 0, 17...|[{token, 0, 6, Ma...|[{named_entity, 0...|\n",
            "|\"In an age now dr...|[{document, 0, 36...|[{token, 0, 0, \",...|[{named_entity, 0...|\n",
            "|In this course, y...|[{document, 0, 93...|[{token, 0, 1, In...|[{named_entity, 0...|\n",
            "|Explain the princ...|[{document, 0, 25...|[{token, 0, 6, Ex...|[{named_entity, 0...|\n",
            "|In the first cour...|[{document, 0, 88...|[{token, 0, 1, In...|[{named_entity, 0...|\n",
            "|Define data scien...|[{document, 0, 32...|[{token, 0, 5, De...|[{named_entity, 0...|\n",
            "|This MOOC – a joi...|[{document, 0, 19...|[{token, 0, 3, Th...|[{named_entity, 0...|\n",
            "|Describe the use ...|[{document, 0, 33...|[{token, 0, 7, De...|[{named_entity, 0...|\n",
            "|While telling sto...|[{document, 0, 10...|[{token, 0, 4, Wh...|[{named_entity, 0...|\n",
            "|In this course, y...|[{document, 0, 22...|[{token, 0, 1, In...|[{named_entity, 0...|\n",
            "|Properly identify...|[{document, 0, 30...|[{token, 0, 7, Pr...|[{named_entity, 0...|\n",
            "|Development of an...|[{document, 0, 29...|[{token, 0, 10, D...|[{named_entity, 0...|\n",
            "|Describe differen...|[{document, 0, 12...|[{token, 0, 7, De...|[{named_entity, 0...|\n",
            "|Distinguish betwe...|[{document, 0, 19...|[{token, 0, 10, D...|[{named_entity, 0...|\n",
            "|Apply Tidyverse f...|[{document, 0, 13...|[{token, 0, 4, Ap...|[{named_entity, 0...|\n",
            "|Describe differen...|[{document, 0, 23...|[{token, 0, 7, De...|[{named_entity, 0...|\n",
            "|Articulate differ...|[{document, 0, 23...|[{token, 0, 9, Ar...|[{named_entity, 0...|\n",
            "|Build an investme...|[{document, 0, 15...|[{token, 0, 4, Bu...|[{named_entity, 0...|\n",
            "|In this course yo...|[{document, 0, 24...|[{token, 0, 1, In...|[{named_entity, 0...|\n",
            "|The Capstone Proj...|[{document, 0, 75...|[{token, 0, 2, Th...|[{named_entity, 0...|\n",
            "+--------------------+--------------------+--------------------+--------------------+\n",
            "only showing top 20 rows\n",
            "\n"
          ]
        }
      ]
    },
    {
      "cell_type": "code",
      "source": [
        "from pyspark.sql.functions import col\n",
        "from pyspark.sql.types import StringType\n",
        "\n",
        "result = result.withColumn(\"token\", col(\"token\").cast(\"string\")).withColumn(\"ner\", col(\"ner\").cast(\"string\")).withColumn(\"document\", col(\"document\").cast(\"string\"))\n",
        "\n"
      ],
      "metadata": {
        "id": "VzrcEOCumFlZ"
      },
      "execution_count": 42,
      "outputs": []
    },
    {
      "cell_type": "code",
      "source": [
        "result.show()"
      ],
      "metadata": {
        "colab": {
          "base_uri": "https://localhost:8080/"
        },
        "id": "zwhIMtSPp5NP",
        "outputId": "9d8eb83b-a226-42c2-80d8-7f50e2923d4e"
      },
      "execution_count": 43,
      "outputs": [
        {
          "output_type": "stream",
          "name": "stdout",
          "text": [
            "+--------------------+--------------------+--------------------+--------------------+\n",
            "|         description|            document|               token|                 ner|\n",
            "+--------------------+--------------------+--------------------+--------------------+\n",
            "|Machine learning ...|[{document, 0, 17...|[{token, 0, 6, Ma...|[{named_entity, 0...|\n",
            "|\"In an age now dr...|[{document, 0, 36...|[{token, 0, 0, \",...|[{named_entity, 0...|\n",
            "|In this course, y...|[{document, 0, 93...|[{token, 0, 1, In...|[{named_entity, 0...|\n",
            "|Explain the princ...|[{document, 0, 25...|[{token, 0, 6, Ex...|[{named_entity, 0...|\n",
            "|In the first cour...|[{document, 0, 88...|[{token, 0, 1, In...|[{named_entity, 0...|\n",
            "|Define data scien...|[{document, 0, 32...|[{token, 0, 5, De...|[{named_entity, 0...|\n",
            "|This MOOC – a joi...|[{document, 0, 19...|[{token, 0, 3, Th...|[{named_entity, 0...|\n",
            "|Describe the use ...|[{document, 0, 33...|[{token, 0, 7, De...|[{named_entity, 0...|\n",
            "|While telling sto...|[{document, 0, 10...|[{token, 0, 4, Wh...|[{named_entity, 0...|\n",
            "|In this course, y...|[{document, 0, 22...|[{token, 0, 1, In...|[{named_entity, 0...|\n",
            "|Properly identify...|[{document, 0, 30...|[{token, 0, 7, Pr...|[{named_entity, 0...|\n",
            "|Development of an...|[{document, 0, 29...|[{token, 0, 10, D...|[{named_entity, 0...|\n",
            "|Describe differen...|[{document, 0, 12...|[{token, 0, 7, De...|[{named_entity, 0...|\n",
            "|Distinguish betwe...|[{document, 0, 19...|[{token, 0, 10, D...|[{named_entity, 0...|\n",
            "|Apply Tidyverse f...|[{document, 0, 13...|[{token, 0, 4, Ap...|[{named_entity, 0...|\n",
            "|Describe differen...|[{document, 0, 23...|[{token, 0, 7, De...|[{named_entity, 0...|\n",
            "|Articulate differ...|[{document, 0, 23...|[{token, 0, 9, Ar...|[{named_entity, 0...|\n",
            "|Build an investme...|[{document, 0, 15...|[{token, 0, 4, Bu...|[{named_entity, 0...|\n",
            "|In this course yo...|[{document, 0, 24...|[{token, 0, 1, In...|[{named_entity, 0...|\n",
            "|The Capstone Proj...|[{document, 0, 75...|[{token, 0, 2, Th...|[{named_entity, 0...|\n",
            "+--------------------+--------------------+--------------------+--------------------+\n",
            "only showing top 20 rows\n",
            "\n"
          ]
        }
      ]
    },
    {
      "cell_type": "code",
      "source": [
        "result.write.options(header='True', delimiter=',') \\\n",
        " .csv(\"/content/drive/MyDrive/Data_Science/thesis/ML_NER/result\")"
      ],
      "metadata": {
        "id": "Lj7GzclYjcC4"
      },
      "execution_count": 54,
      "outputs": []
    },
    {
      "cell_type": "code",
      "source": [],
      "metadata": {
        "id": "udAV56efmFGZ"
      },
      "execution_count": null,
      "outputs": []
    }
  ]
}